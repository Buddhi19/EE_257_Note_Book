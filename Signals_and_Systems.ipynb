{
  "nbformat": 4,
  "nbformat_minor": 0,
  "metadata": {
    "colab": {
      "provenance": [],
      "collapsed_sections": [
        "Rs_poxGowMlE",
        "ea4TIOz3wzvv"
      ]
    },
    "kernelspec": {
      "name": "python3",
      "display_name": "Python 3"
    },
    "language_info": {
      "name": "python"
    }
  },
  "cells": [
    {
      "cell_type": "markdown",
      "source": [
        "#Content"
      ],
      "metadata": {
        "id": "Rs_poxGowMlE"
      }
    },
    {
      "cell_type": "markdown",
      "source": [
        "## Signals"
      ],
      "metadata": {
        "id": "mV_buCRO0Ntf"
      }
    },
    {
      "cell_type": "markdown",
      "source": [
        "###1.0 Introduction"
      ],
      "metadata": {
        "id": "2L4zQFHK4ZJn"
      }
    },
    {
      "cell_type": "markdown",
      "source": [
        "\n",
        "  1.1 Classification of Signals\n",
        "\n",
        "\n",
        "*  Continuous and Descrete time signals\n",
        "*   Continuos and Descrete valued signals\n",
        "* Deterministic and Random Signals\n",
        "* Energy and Power signals\n",
        "*Odd and Even signals\n",
        "*Periodic and Aperiodic Signals\n",
        "\n",
        "1.2 Special Signals\n",
        "\n",
        "\n",
        "*   Complex Exponential Signals\n",
        "*   Impulse\n",
        "*Unit Step\n",
        "\n",
        "1.3 Continuous and Descerete time Systems\n",
        "\n",
        "> 1.3.1 Inter Connections Between Systems\n",
        "\n",
        "   \n",
        "*   Cascaded\n",
        "* Parallel\n",
        "*Series - Parallel\n",
        "*Feedback\n",
        "\n",
        "\n",
        "\n",
        "> 1.3.2 System Properties\n",
        "\n",
        "\n",
        "\n",
        "*   System with or without memory\n",
        "*   Inverse Systems\n",
        "*Time Invariance\n",
        "*Linearity\n",
        "*Causility\n",
        "\n",
        "1.4 Operations On signals\n",
        "\n",
        "\n",
        "*   Time Delay\n",
        "*   Time Scaling\n",
        "*Negation\n",
        "\n",
        "1.5 Linear Time Invarient Systems\n",
        "\n",
        "\n",
        "> 1.5.1 Convolution For Descrete LTI system\n",
        "\n",
        "> 1.5.2 Convolution For Continous LTI system\n",
        "\n",
        "1.6 Properties of Convolution\n",
        "\n",
        "\n",
        "\n",
        "*   $x(t) * \\delta(t) = x(t)$\n",
        "*   $x(t) * \\delta(t-T) = x(t-T)$\n",
        "*Commutativity\n",
        "*Distributivity\n",
        "*Condition for Inverse\n",
        "* Laplace Transform of Convolution\n",
        "\n",
        "\n",
        "\n",
        "\n",
        "\n",
        "\n",
        "\n",
        "\n"
      ],
      "metadata": {
        "id": "zft0FnwG0HN9"
      }
    },
    {
      "cell_type": "markdown",
      "source": [
        "### 2.0 Fourier Series"
      ],
      "metadata": {
        "id": "m_9KyI9B4UNo"
      }
    },
    {
      "cell_type": "markdown",
      "source": [
        "\n",
        "2.1 Introduction\n",
        "\n",
        "> 2.1.1 Inter-domain Analysis\n",
        "\n",
        "> 2.1.2 Periodic Signals\n",
        "\n",
        "> 2.1.3 Vector Space \n",
        "\n",
        "2.2 Fourier Series\n",
        ">2.2.1 Introduction\n",
        "\n",
        ">2.2.2 Coefficients of Fourier Series\n",
        "\n",
        "2.3 Properties of Fourier Series\n",
        "> 2.3.1 Linearity\n",
        "\n",
        "> 2.3.2 Time shifting\n",
        "\n",
        "> 2.3.3 Time Reverse\n",
        "\n",
        "> 2.3.4 Time Scaling\n",
        "\n",
        "> 2.3.5 Properties For Real Signals\n",
        ">> * Real and Even\n",
        ">> * Real and Odd\n",
        "\n",
        "> 2.3.6 Differentiation and Integration\n",
        "\n",
        ">2.3.7 Fourier Series of an Impulse \n",
        "\n",
        "2.4 Trignometric Fourier Series\n",
        "\n",
        "2.5 Power of a periodic signal\n",
        "\n",
        "\n",
        "*   Parseval's Theorem\n",
        "2.6 Periodic Signal through LTI system\n",
        "\n"
      ],
      "metadata": {
        "id": "rw9gMu8W2btd"
      }
    },
    {
      "cell_type": "markdown",
      "source": [
        "### 3.0 Fourier Transform"
      ],
      "metadata": {
        "id": "KS8lPsht43XK"
      }
    },
    {
      "cell_type": "markdown",
      "source": [],
      "metadata": {
        "id": "2n5aCeEH47XL"
      }
    },
    {
      "cell_type": "markdown",
      "source": [
        "# Libraries"
      ],
      "metadata": {
        "id": "ea4TIOz3wzvv"
      }
    },
    {
      "cell_type": "code",
      "source": [
        "# include the libraries that are used\n",
        "import numpy as np\n",
        "import matplotlib.pyplot as plt\n",
        "import sympy as sp"
      ],
      "metadata": {
        "id": "RUCRY3hq4m7Z"
      },
      "execution_count": null,
      "outputs": []
    },
    {
      "cell_type": "markdown",
      "source": [
        "# 2.3 Properties of Fourier Series\n"
      ],
      "metadata": {
        "id": "VVZeuu2Keuht"
      }
    },
    {
      "cell_type": "markdown",
      "source": [
        "## 2.3.1 Linearity\n",
        "\n",
        "Consider a periodic signal $x(t)$ with a fundermental frequency $\\omega_0$ and $k^{th}$ Fourier series coefficient is given by $X_k$.\\\n",
        "Consider another periodic signal $y(t)$ with $\\textbf{the same fundermental frequency $\\omega_0$}$ and $k^{th}$ Fourier Series coefficient is given by $Y_k$.\\\n",
        "\\\n",
        "\\begin{align}\n",
        "x(t)&⟶ X_k\\\\\n",
        "y(t)&⟶ Y_k\\\\\n",
        "Ax(t)+By(t)&⟶AX_k + BY_k\\\\\n",
        "\\end{align}\n"
      ],
      "metadata": {
        "id": "5wvjDek9JiO_"
      }
    },
    {
      "cell_type": "code",
      "source": [
        "##Example"
      ],
      "metadata": {
        "id": "PCFcg5Iravk4"
      },
      "execution_count": null,
      "outputs": []
    },
    {
      "cell_type": "markdown",
      "source": [
        "\n",
        "### 2.3.2 Time Shifting\n",
        "\n",
        "If Fourier Series coefficient of the periodic signal $x(t)$ is $X_k$.\n",
        "\\\n",
        "\\begin{align}\n",
        "x(t)&⟶X_k\\\\\n",
        "x(t)&=\\sum_{k}X_ke^{jk\\omega_0t}\\\\\n",
        "\\end{align}\n",
        "\n",
        "Apply $t \\Rightarrow t-t_0$;\n",
        "\n",
        "\\begin{align}\n",
        "x(t-t_0)&=\\sum_{k}X_ke^{jk\\omega_0(t-t_0)}\\\\\n",
        "x(t-t_0)&=\\sum_{k}(X_ke^{-jkw_0t_0})e^{jk\\omega_0t}\\\\\n",
        "\\end{align}\n",
        "\\\n",
        "Let $X'_k=X_ke^{-jkw_0t_0}$\n",
        "\n",
        "\\begin{align}\n",
        "|X'_k|&=|X_k|\\\\\n",
        "\\angle{X'_k}&=\\angle{X_k}-\\angle{k\\omega_0t_0}\n",
        "\\end{align}\n",
        "\\\n",
        "Degree of change of phase angle of higher harmonics is higher.\n"
      ],
      "metadata": {
        "id": "vCAVEmk_atjg"
      }
    },
    {
      "cell_type": "code",
      "source": [
        "## Example"
      ],
      "metadata": {
        "id": "RNpTbdpPSS0P"
      },
      "execution_count": null,
      "outputs": []
    },
    {
      "cell_type": "markdown",
      "source": [
        "## 2.3.3 Time Reverse\n",
        "If Fourier Series coefficient of the periodic signal $x(t)$ is $X_k$.\n",
        "\\\n",
        "\\begin{align}\n",
        "x(t)&⟶X_k\\\\\n",
        "x(-t)&⟶X'_k\\\\\n",
        "x(t)&=\\sum_{k}X_ke^{jk\\omega_0t}\\\\\n",
        "\\end{align}\n",
        "Apply $t⇒-t$\n",
        "\\begin{align}\n",
        "x(-t)&=\\sum_{k}X_ke^{-jk\\omega_0t}\\\\\n",
        "\\end{align}\n",
        "\\\n",
        "Inoder to obtain a simillar equation like in Fourier Series,\\\n",
        "\\\n",
        "Apply $k⇒-k$\n",
        "\\begin{align}\n",
        "x(-t)&=\\sum_{k}X_{-k}e^{jk\\omega_0t}\\\\\n",
        "\\end{align}\n",
        "Thus,\n",
        "\\begin{align}\n",
        "X'_k&=X_{-k}\n",
        "\\end{align}\n"
      ],
      "metadata": {
        "id": "9qVsS1G0SVsL"
      }
    },
    {
      "cell_type": "code",
      "source": [
        "##Example"
      ],
      "metadata": {
        "id": "i_5S6uxta4Zm"
      },
      "execution_count": null,
      "outputs": []
    },
    {
      "cell_type": "markdown",
      "source": [
        "\n",
        "## 2.3.4 Time Scaling\n",
        "\n",
        "If Fourier Series coefficient of the periodic signal $x(t)$ is $X_k$.\n",
        "\\\n",
        "\\begin{align}\n",
        "x(t)&⟶X_k\\\\\n",
        "x(t)&=\\sum_{k}X_ke^{jk\\omega_0t}\\\\\n",
        "\\end{align}\n",
        "Let $t⇒\\alpha t$\n",
        "\\begin{align}\n",
        "x(\\alpha t)&=\\sum_{k}X_ke^{jk\\omega_0\\alpha t}\n",
        "\\end{align}\n",
        "New fundermental frequency  $\\omega'_0=\\alpha \\omega_0$"
      ],
      "metadata": {
        "id": "Voa72O58a1g9"
      }
    },
    {
      "cell_type": "code",
      "source": [
        "# If alpha>1,\n",
        "## 4graphs"
      ],
      "metadata": {
        "id": "x_uQsgrjU7BK"
      },
      "execution_count": null,
      "outputs": []
    },
    {
      "cell_type": "markdown",
      "source": [
        "## 2.3.5 Properties For Real Signals\n",
        "\\begin{align}\n",
        "x(t)&=\\sum_{k}X_ke^{jk\\omega_0t}\\\\\n",
        "x^{*}(t)&=\\sum_{k}X_k^{*}e^{-jk\\omega_0t}\\\\\n",
        "\\end{align}\n",
        "Apply $k⇒-k$,\n",
        "\\begin{align}\n",
        "x^{*}(t)&=\\sum_{k}X_{-k}^{*}e^{jk\\omega_0t}\\\\\n",
        "\\end{align}\n",
        "Since $x(t)=x^{*}(t)$,\n",
        "\\begin{align}\n",
        "\\sum_{k}X_ke^{jk\\omega_0t}&=\\sum_{k}X_{-k}^{*}e^{jk\\omega_0t}\\\\\n",
        "\\end{align}\n",
        "\\\n",
        "Therefore,\n",
        "\\begin{align}\n",
        "X_k&=X^{*}_{-k}\\\\\n",
        "X_{-k}&=X^{*}_{k}\n",
        "\\end{align}\n",
        "This is known as Conjugate Symmetry.\\\n",
        "Consequence of this,\n",
        "\\begin{align}\n",
        "|X_k|&=|X_{-k}|\\\\\n",
        "\\angle X_k&=-\\angle X_{-k}\\\\\n",
        "\\end{align}\n",
        "\n",
        "### Real and Even Signals\n",
        "As $x(t)$ is real,\n",
        "\\begin{align}\n",
        "X_k&=X^{*}_{-k}\\\\\n",
        "\\end{align}\n",
        "However, as x(t) is even,\n",
        "\\begin{align}\n",
        "x(t)&=x(-t)\n",
        "\\end{align}\n",
        "Therefore from the time reversal property,\n",
        "\\begin{align}\n",
        "X_k&=X_{-k}\\\\\n",
        "\\end{align}\n",
        "Then,\n",
        "\\begin{align}\n",
        "X_k=X_{-k}=X^{*}_k\\\\\n",
        "\\end{align}\n",
        "Thus,\n",
        "\\begin{align}\n",
        "X_k=X^{*}_k\\\\\n",
        "\\end{align}\n",
        "Therefore, if $x(t)$ is real and even, $X_k$ is real and even.\n"
      ],
      "metadata": {
        "id": "dHVTsCzpVE6m"
      }
    },
    {
      "cell_type": "code",
      "source": [
        "##Example"
      ],
      "metadata": {
        "id": "J9HsoYrZbC6S"
      },
      "execution_count": null,
      "outputs": []
    },
    {
      "cell_type": "markdown",
      "source": [
        "\n",
        "### Real and Odd\n",
        "\n",
        "As $x(t)$ is real,\n",
        "\\begin{align}\n",
        "X_k=X^{*}_{-k}\\\\\n",
        "\\end{align}\n",
        "However, as $x(t)$ is odd,\n",
        "\\begin{align}\n",
        "x(t)&=-x(-t)\n",
        "\\end{align}\n",
        "Therefore, from time reversal property,\n",
        "\\begin{align}\n",
        "X_k&=-X_{-k}\\\\\n",
        "\\end{align}\n",
        "This yeilds,\n",
        "\\begin{align}\n",
        "X_k=-X_{-k}=-X^{*}_k\\\\\n",
        "\\end{align}\n",
        "\\begin{align}\n",
        "X_k=-X^{*}_k\n",
        "\\end{align}\n",
        "Therefore, if $x(t)$ is real and odd, $X_k$ is imaginary and odd.\n"
      ],
      "metadata": {
        "id": "eKaP-jPMbBUF"
      }
    },
    {
      "cell_type": "code",
      "source": [
        "##Example"
      ],
      "metadata": {
        "id": "Wm-ZPBA-bIWV"
      },
      "execution_count": null,
      "outputs": []
    },
    {
      "cell_type": "markdown",
      "source": [
        "\n",
        "## 2.3.6 Differentiation and Integration\n",
        "\n",
        "### Differentiation\n",
        "\\begin{align}\n",
        "x(t)=X_0 + \\sum_{\\forall k\\neq 0}X_ke^{jk\\omega_0t}\\\\\n",
        "x'(t)=\\frac{dx(t)}{dt}=\\sum_{\\forall k\\neq 0}(X_kjk\\omega_0)e^{jk\\omega_0t}\n",
        "\\end{align}\n",
        "\\\n",
        "\\begin{align}\n",
        "X'_k=jk\\omega_0X_k \\:\\:\\:\\:\\: ;k\\neq 0\n",
        "\\end{align}\n",
        "\\\n",
        "Differentiation is a high pass process / sharpning process.\n",
        "\n",
        "\\begin{align}\n",
        "X_k=\\frac{X'_k}{jk\\omega_0}\\:\\:\\:\\:\\: ;k\\neq 0\n",
        "\\end{align}\n",
        "### Integration\n",
        "\\begin{align}\n",
        "x(t)=X_0 + \\sum_{\\forall k\\neq 0}X_ke^{jk\\omega_0t}\\\\\n",
        "x'(t)=\\int x(t)dt=\\sum_{\\forall k\\neq 0}\\:\\:\\frac{X_k}{jk\\omega_0}\\:e^{jk\\omega_0t}\n",
        "\\end{align}\n",
        "\\\n",
        "\\\n",
        "\\begin{align}\n",
        "X'_k=\\frac{X_k}{jk\\omega_0}\\:\\:\\:\\:\\: ;k\\neq 0\n",
        "\\end{align}\n",
        "Integration is a low pass process / smoothing process.\n",
        "\\begin{align}\n",
        "X_k=jk\\omega_0X'_k \\:\\:\\:\\:\\: ;k\\neq 0\n",
        "\\end{align}"
      ],
      "metadata": {
        "id": "1eu25sg_bGqu"
      }
    },
    {
      "cell_type": "code",
      "source": [
        "##Example"
      ],
      "metadata": {
        "id": "jo91UMn4bLSR"
      },
      "execution_count": null,
      "outputs": []
    },
    {
      "cell_type": "markdown",
      "source": [
        "## 2.3.7 Fourier Series of an Impulse"
      ],
      "metadata": {
        "id": "IgG1LX0gm2tP"
      }
    },
    {
      "cell_type": "markdown",
      "source": [
        "\\begin{align}\n",
        "x(t)&=\\sum_{k=-∞}^{∞} \\delta(t-kT_0)\\\\\n",
        "X_0&=\\frac{1}{T_0}\\int_{T_0}x(t)dt\\\\\n",
        "&=\\frac{1}{T_0}\\int_{\\frac{-T_0}{2}}^{\\frac{T_0}{2}}\\delta(t)dt\\\\\n",
        "&=\\frac{1}{T_0}\n",
        "\\\\\n",
        "X_k&=\\frac{1}{T_0} \\int_{T_0}e^{-jk\\omega_0t}dt\\\\\n",
        "&=\\frac{1}{T_0}\\int_{\\frac{-T_0}{2}}^{\\frac{T_0}{2}} \\delta (t) e^{-jk\\omega_0t}dt\n",
        "\\end{align}"
      ],
      "metadata": {
        "id": "Os6wJjZWnyME"
      }
    },
    {
      "cell_type": "code",
      "source": [
        "#Example"
      ],
      "metadata": {
        "id": "tlmWsaXL6OV-"
      },
      "execution_count": null,
      "outputs": []
    },
    {
      "cell_type": "markdown",
      "source": [
        "\\begin{align}\n",
        "X_k&=\\frac{1}{T_0}\\int_{-\\frac{T_0}{2}}^{\\frac{T_0}{2}}\\delta (t)e^{-jk\\omega_0 \\times 0}dt\\\\\n",
        "&=\\frac{1}{T_0}\n",
        "\\end{align}\n",
        "This yeilds,\n",
        "\\begin{align}\n",
        "x(t)=\\sum_{\\forall k}\\delta (t-kT_0)=\\sum_{\\forall k}\\frac{1}{T_0}e^{jk\\omega_0t}\n",
        "\\end{align}"
      ],
      "metadata": {
        "id": "Tf9tQnbS6XMo"
      }
    },
    {
      "cell_type": "code",
      "source": [
        "#Example"
      ],
      "metadata": {
        "id": "WvP0GK8o7l4m"
      },
      "execution_count": null,
      "outputs": []
    }
  ]
}