{
 "cells": [
  {
   "cell_type": "code",
   "execution_count": 1,
   "metadata": {},
   "outputs": [],
   "source": [
    "\n",
    "import numpy as np\n",
    "from signalLib.Graph import (Graphic,RealTimeFunction,\n",
    "                             ComplexTimePoint,ClearComplexPoint,\n",
    "                             ComplexPointChain,VerticalRealTimeFunction)\n"
   ]
  },
  {
   "cell_type": "code",
   "execution_count": 2,
   "metadata": {},
   "outputs": [
    {
     "data": {
      "application/vnd.jupyter.widget-view+json": {
       "model_id": "77156ca369b54cc09dcc75f245a916af",
       "version_major": 2,
       "version_minor": 0
      },
      "text/plain": [
       "Output()"
      ]
     },
     "metadata": {},
     "output_type": "display_data"
    },
    {
     "data": {
      "application/vnd.jupyter.widget-view+json": {
       "model_id": "7389047fc5154f1489d89ff5b56b8dfe",
       "version_major": 2,
       "version_minor": 0
      },
      "text/plain": [
       "FloatSlider(value=0.0, description='delay: ', max=10.0, min=-10.0)"
      ]
     },
     "metadata": {},
     "output_type": "display_data"
    }
   ],
   "source": [
    "graphic1 = Graphic()\n",
    "delay = graphic1.get_slider_variable(0,-10,10,0.1,\"delay\")\n",
    "def x(t):\n",
    "    return np.sin(t)\n",
    "\n",
    "def y(t):\n",
    "    return np.sin(t-delay())\n",
    "X = RealTimeFunction(x,(-10.0,10.0),name='x(t)')\n",
    "Y = RealTimeFunction(y,(-10.0,10.0),name='y(t)')\n",
    "graphic1.add_drawable(X)\n",
    "graphic1.add_drawable(Y)\n",
    "graphic1.show()"
   ]
  },
  {
   "cell_type": "code",
   "execution_count": 3,
   "metadata": {},
   "outputs": [
    {
     "data": {
      "application/vnd.jupyter.widget-view+json": {
       "model_id": "bbeea14646614eeaa2bc1d9f449b21b1",
       "version_major": 2,
       "version_minor": 0
      },
      "text/plain": [
       "Output()"
      ]
     },
     "metadata": {},
     "output_type": "display_data"
    },
    {
     "data": {
      "application/vnd.jupyter.widget-view+json": {
       "model_id": "d1be078c3dc44f96a4884b9ed08f2ca1",
       "version_major": 2,
       "version_minor": 0
      },
      "text/plain": [
       "Play(value=0, description='Press play', interval=10, max=628)"
      ]
     },
     "metadata": {},
     "output_type": "display_data"
    },
    {
     "data": {
      "application/vnd.jupyter.widget-view+json": {
       "model_id": "14fa80c188a34eba9f0d1d7d49855eb3",
       "version_major": 2,
       "version_minor": 0
      },
      "text/plain": [
       "FloatSlider(value=0.0, description='time: ', max=6.283185307179586, step=0.01)"
      ]
     },
     "metadata": {},
     "output_type": "display_data"
    },
    {
     "data": {
      "application/vnd.jupyter.widget-view+json": {
       "model_id": "227fd2112fe949cfacea0c464f1e24a2",
       "version_major": 2,
       "version_minor": 0
      },
      "text/plain": [
       "FloatSlider(value=1.0, description='omega: ', max=5.0, min=0.25)"
      ]
     },
     "metadata": {},
     "output_type": "display_data"
    }
   ],
   "source": [
    "\n",
    "graphic2 = Graphic()\n",
    "time1 = graphic2.animated_slider(0,0,2*np.pi,0.01,\"time\")\n",
    "omega1 = graphic2.get_slider_variable(1,0.25,5,0.1,\"omega\",lazy=True)\n",
    "def cexp():\n",
    "    return np.exp((0+1j)*omega1()*time1())\n",
    "\n",
    "graphic2.set_limits(-2,2,-2,2)\n",
    "X = ClearComplexPoint(cexp,name=f'exp')\n",
    "graphic2.add_drawable(X)\n",
    "graphic2.show()"
   ]
  },
  {
   "cell_type": "code",
   "execution_count": 4,
   "metadata": {},
   "outputs": [
    {
     "data": {
      "application/vnd.jupyter.widget-view+json": {
       "model_id": "e1be36f0038847ebbbf8a4709acdbdce",
       "version_major": 2,
       "version_minor": 0
      },
      "text/plain": [
       "Output()"
      ]
     },
     "metadata": {},
     "output_type": "display_data"
    },
    {
     "data": {
      "application/vnd.jupyter.widget-view+json": {
       "model_id": "ee257b1ed7e0416e9e431b528f127ae8",
       "version_major": 2,
       "version_minor": 0
      },
      "text/plain": [
       "Play(value=0, description='Press play', interval=10, max=628)"
      ]
     },
     "metadata": {},
     "output_type": "display_data"
    },
    {
     "data": {
      "application/vnd.jupyter.widget-view+json": {
       "model_id": "223caf80a4a84cedb5eba2db4c944637",
       "version_major": 2,
       "version_minor": 0
      },
      "text/plain": [
       "FloatSlider(value=0.0, description='time: ', max=6.283185307179586, step=0.01)"
      ]
     },
     "metadata": {},
     "output_type": "display_data"
    }
   ],
   "source": [
    "\n",
    "graphic3 = Graphic()\n",
    "slider_min = 0\n",
    "slider_max = 2*np.pi\n",
    "time2 = graphic3.animated_slider(0,slider_min,slider_max,0.01,\"time\")\n",
    "omega = 1\n",
    "def exp1():\n",
    "    return (-2j)*np.exp((0+1j)*1*omega*time2())\n",
    "\n",
    "def exp2():\n",
    "    return (2j)*np.exp((0+1j)*-1*omega*time2())\n",
    "\n",
    "def exp3():\n",
    "    return (-2j/3)*np.exp((0+1j)*3*omega*time2())\n",
    "def exp4():\n",
    "    return (2j/3)*np.exp((0+1j)*-3*omega*time2())\n",
    "\n",
    "\n",
    "\n",
    "def func(t):\n",
    "    return 4*np.sin(omega*t)+4/3*np.sin(3*omega*t)\n",
    "\n",
    "def time_delayed_signal(t):\n",
    "    return func(t + time2())\n",
    "\n",
    "graphic3.set_limits(-6,6,-6,6)\n",
    "\n",
    "point_chain = ComplexPointChain([exp1,exp2,exp3,exp4],name='x')\n",
    "final_point = ComplexTimePoint(point_chain,name=\"final_point\",size=10) #type:ignore\n",
    "signal = VerticalRealTimeFunction(time_delayed_signal,(-slider_max,slider_max),name='signal')\n",
    "\n",
    "\n",
    "\n",
    "graphic3.add_drawable(point_chain)\n",
    "graphic3.add_drawable(final_point)\n",
    "graphic3.add_drawable(signal)\n",
    "graphic3.show()"
   ]
  },
  {
   "cell_type": "code",
   "execution_count": null,
   "metadata": {},
   "outputs": [],
   "source": []
  }
 ],
 "metadata": {
  "kernelspec": {
   "display_name": "Python 3 (ipykernel)",
   "language": "python",
   "name": "python3"
  },
  "language_info": {
   "codemirror_mode": {
    "name": "ipython",
    "version": 3
   },
   "file_extension": ".py",
   "mimetype": "text/x-python",
   "name": "python",
   "nbconvert_exporter": "python",
   "pygments_lexer": "ipython3",
   "version": "3.9.6"
  }
 },
 "nbformat": 4,
 "nbformat_minor": 4
}
