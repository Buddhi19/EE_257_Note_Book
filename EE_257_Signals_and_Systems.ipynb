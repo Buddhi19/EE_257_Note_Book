{
  "nbformat": 4,
  "nbformat_minor": 0,
  "metadata": {
    "colab": {
      "provenance": [],
      "collapsed_sections": [
        "Rs_poxGowMlE",
        "2L4zQFHK4ZJn",
        "m_9KyI9B4UNo",
        "KS8lPsht43XK",
        "ea4TIOz3wzvv",
        "VVZeuu2Keuht"
      ],
      "include_colab_link": true
    },
    "kernelspec": {
      "name": "python3",
      "display_name": "Python 3"
    },
    "language_info": {
      "name": "python"
    }
  },
  "cells": [
    {
      "cell_type": "markdown",
      "metadata": {
        "id": "view-in-github",
        "colab_type": "text"
      },
      "source": [
        "<a href=\"https://colab.research.google.com/github/athulya24453/EE_257_Note_Book/blob/main/EE_257_Signals_and_Systems.ipynb\" target=\"_parent\"><img src=\"https://colab.research.google.com/assets/colab-badge.svg\" alt=\"Open In Colab\"/></a>"
      ]
    },
    {
      "cell_type": "markdown",
      "source": [
        "#Content"
      ],
      "metadata": {
        "id": "Rs_poxGowMlE"
      }
    },
    {
      "cell_type": "markdown",
      "source": [
        "## Signals"
      ],
      "metadata": {
        "id": "mV_buCRO0Ntf"
      }
    },
    {
      "cell_type": "markdown",
      "source": [
        "###1.0 Introduction"
      ],
      "metadata": {
        "id": "2L4zQFHK4ZJn"
      }
    },
    {
      "cell_type": "markdown",
      "source": [
        "\n",
        "  1.1 Classification of Signals\n",
        "\n",
        "\n",
        "*  Continuous and Descrete time signals\n",
        "*   Continuos and Descrete valued signals\n",
        "* Deterministic and Random Signals\n",
        "* Energy and Power signals\n",
        "*Odd and Even signals\n",
        "*Periodic and Aperiodic Signals\n",
        "\n",
        "1.2 Special Signals\n",
        "\n",
        "\n",
        "*   Complex Exponential Signals\n",
        "*   Impulse\n",
        "*Unit Step\n",
        "\n",
        "1.3 Continuous and Descerete time Systems\n",
        "\n",
        "> 1.3.1 Inter Connections Between Systems\n",
        "\n",
        "   \n",
        "*   Cascaded\n",
        "* Parallel\n",
        "*Series - Parallel\n",
        "*Feedback\n",
        "\n",
        "\n",
        "\n",
        "> 1.3.2 System Properties\n",
        "\n",
        "\n",
        "\n",
        "*   System with or without memory\n",
        "*   Inverse Systems\n",
        "*Time Invariance\n",
        "*Linearity\n",
        "*Causility\n",
        "\n",
        "1.4 Operations On signals\n",
        "\n",
        "\n",
        "*   Time Delay\n",
        "*   Time Scaling\n",
        "*Negation\n",
        "\n",
        "1.5 Linear Time Invarient Systems\n",
        "\n",
        "\n",
        "> 1.5.1 Convolution For Descrete LTI system\n",
        "\n",
        "> 1.5.2 Convolution For Continous LTI system\n",
        "\n",
        "1.6 Properties of Convolution\n",
        "\n",
        "\n",
        "\n",
        "*   $x(t) * \\delta(t) = x(t)$\n",
        "*   $x(t) * \\delta(t-T) = x(t-T)$\n",
        "*Commutativity\n",
        "*Distributivity\n",
        "*Condition for Inverse\n",
        "* Laplace Transform of Convolution\n",
        "\n",
        "\n",
        "\n",
        "\n",
        "\n",
        "\n",
        "\n",
        "\n"
      ],
      "metadata": {
        "id": "zft0FnwG0HN9"
      }
    },
    {
      "cell_type": "markdown",
      "source": [
        "### 2.0 Fourier Series"
      ],
      "metadata": {
        "id": "m_9KyI9B4UNo"
      }
    },
    {
      "cell_type": "markdown",
      "source": [
        "\n",
        "2.1 Introduction\n",
        "\n",
        "> 2.1.1 Inter-domain Analysis\n",
        "\n",
        "> 2.1.2 Periodic Signals\n",
        "\n",
        "> 2.1.3 Vector Space \n",
        "\n",
        "2.2 Fourier Series\n",
        ">2.2.1 Introduction\n",
        "\n",
        ">2.2.2 Coefficients of Fourier Series\n",
        "\n",
        "2.3 Properties of Fourier Series\n",
        "> 2.3.1 Linearity\n",
        "\n",
        "> 2.3.2 Time shifting\n",
        "\n",
        "> 2.3.3 Time Reverse\n",
        "\n",
        "> 2.3.4 Time Scaling\n",
        "\n",
        "> 2.3.5 Properties For Real Signals\n",
        ">> * Real and Even\n",
        ">> * Real and Odd\n",
        "\n",
        "> 2.3.6 Differentiation and Integration\n",
        "\n",
        ">2.3.7 Fourier Series of an Impulse \n",
        "\n",
        "2.4 Trignometric Fourier Series\n",
        "\n",
        "2.5 Power of a periodic signal\n",
        "\n",
        "\n",
        "*   Parseval's Theorem\n",
        "2.6 Periodic Signal through LTI system\n",
        "\n"
      ],
      "metadata": {
        "id": "rw9gMu8W2btd"
      }
    },
    {
      "cell_type": "markdown",
      "source": [
        "### 3.0 Fourier Transform"
      ],
      "metadata": {
        "id": "KS8lPsht43XK"
      }
    },
    {
      "cell_type": "markdown",
      "source": [
        "3.1 Introduction\n",
        "\n",
        "\n",
        "> 3.1.1 Complex Valued Functions\n",
        "\n",
        "> 3.1.2 From F.S. to F.T.\n",
        "\n",
        "> 3.1.3 Fouries Transform and Inverse F.T.\n",
        "\n",
        "> 3.1.4 F.T. and L.T.\n",
        "\n",
        "3.2 Fouries Transforms of Signals\n",
        ">3.2.1 $x(t) = e^{-at}u(t)$ and $x(t) = e^{-|a|t}$\n",
        "\n",
        ">3.2.2 Delta Function $δ(t)$\n",
        "\n",
        ">3.2.3 Square Pulse\n",
        "\n",
        ">3.2.4 Unit Step Function $u(t)$\n",
        "\n",
        "3.3 Properties of F.T.\n",
        ">3.3.1 Linearity\n",
        "\n",
        ">3.3.2 Time Shifting\n",
        "\n",
        ">3.3.3 Modulation / Shifting in Frequency\n",
        "\n",
        "> 3.3.4 Differentiation and Integratino\n",
        "\n",
        ">3.3.5 Time Scaling\n",
        "\n",
        ">3.3.6 Time Reversal\n",
        "\n",
        ">3.3.7 Uses of Properties (examples of derivations)\n",
        "\n",
        "\n",
        "\n",
        ">*   $\\mathcal{F}^{-1}[δ(ω))]$\n",
        ">*   F.T. of Periodic Signals\n",
        "\n",
        ">* $\\mathcal{F}[u(t)]$\n",
        "\n",
        "3.4 F.T. properties of real signals\n",
        "\n",
        "\n",
        "*   Real signals\n",
        "*   Real even signals\n",
        "* Real Odd signals\n",
        "\n",
        "3.5 Duality\n",
        "\n",
        "3.6 Energy of the signal\n",
        "*   Parseval's Theorem\n",
        "\n",
        "3.6 Modulation\n",
        "\n",
        "3.7 L.T.I. systems and F.T.\n",
        ">3.7.1 Frequency response\n",
        "\n",
        ">3.7.2 Convolution Property\n",
        "\n",
        ">3.7.3 Differentiation Property\n",
        "\n",
        "\n",
        "\n",
        "\n",
        "\n",
        "\n",
        "\n",
        "\n",
        "\n"
      ],
      "metadata": {
        "id": "2n5aCeEH47XL"
      }
    },
    {
      "cell_type": "markdown",
      "source": [
        "# Libraries"
      ],
      "metadata": {
        "id": "ea4TIOz3wzvv"
      }
    },
    {
      "cell_type": "code",
      "source": [
        "####################### include the libraries that are used ######################\n",
        "import numpy as np\n",
        "import matplotlib.pyplot as plt\n",
        "from sympy import *\n",
        "from scipy import signal\n",
        "from matplotlib import style"
      ],
      "metadata": {
        "id": "RUCRY3hq4m7Z"
      },
      "execution_count": 2,
      "outputs": []
    },
    {
      "cell_type": "code",
      "source": [
        "class Waves:\n",
        "  def square_pulse(self,periodic_time,title,x_axis_label,y_axis_label,horizontal_shift,pulse_height):\n",
        "    t = np.linspace(-3.9, 3.9, 1000, endpoint=True)\n",
        "    arr=[((1+num)//2)*pulse_height for num in signal.square(periodic_time/4 * np.pi * 1 * (t-horizontal_shift))]\n",
        "    plt.style.context('fast')\n",
        "    plt.figure(figsize=(10, 3))\n",
        "    plt.grid(color = 'black', linestyle = '--', linewidth = 0.1)\n",
        "    plt.plot(t, arr)\n",
        "    plt.title(f'{title}')\n",
        "    plt.xlabel(x_axis_label)\n",
        "    plt.ylabel(y_axis_label)\n",
        "    plt.axhline(y=0, color='black',linewidth = 0.5)\n",
        "    plt.axvline(x=0, color='black',linewidth = 0.5)\n",
        "    plt.ylim(-0.4,pulse_height+0.4)\n",
        "    plt.xlim(-4,4)\n",
        "    plt.show()\n",
        "\n",
        "    \"\"\"To form a square pulse\"\"\"\n",
        "\n",
        "    #   wave=Waves()\n",
        "    #   wave.square_pulse(Enter periodic time,Enter Title,Enter X axis label,Enter Y axis label,Enter horizontal shift,Enter pulse height)"
      ],
      "metadata": {
        "id": "EzpJ1Gh8DmC-"
      },
      "execution_count": 3,
      "outputs": []
    },
    {
      "cell_type": "markdown",
      "source": [
        "#1.0 Introduction"
      ],
      "metadata": {
        "id": "nJUBF99ViX2i"
      }
    },
    {
      "cell_type": "markdown",
      "source": [
        "Example 01: \n",
        "$$\n",
        "y[n]=\\sum_{k=-\\infty}^{\\infty} x[k]\\,h[n-k]\n",
        "$$"
      ],
      "metadata": {
        "id": "2M0SosMCidNx"
      }
    },
    {
      "cell_type": "code",
      "source": [
        "def delta(n):\n",
        "    \"\"\"Discrete-time delta function\"\"\"\n",
        "    d = np.zeros(len(n))\n",
        "    d[np.where(n == 0)] = 1\n",
        "    d[np.where(n == 1)] = 1\n",
        "    d[np.where(n == 2)] = 1\n",
        "    return d\n",
        "\n",
        "# Example usage\n",
        "n = np.arange(-5, 6)\n",
        "d = delta(n)\n",
        "\n",
        "# Plot delta[n]\n",
        "plt.stem(n, d)\n",
        "plt.xlabel('n')\n",
        "plt.ylabel('$h[n]$')\n",
        "plt.title('$h[n]$')\n",
        "plt.show()\n",
        "\n",
        "def x(n):\n",
        "    \"\"\"Discrete-time delta function\"\"\"\n",
        "    d = np.zeros(len(n))\n",
        "    d[np.where(n == 0)] = 2\n",
        "    d[np.where(n == 1)] = 0.5\n",
        "    return d\n",
        "\n",
        "# Example usage\n",
        "n = np.arange(-5, 6)\n",
        "d = x(n)\n",
        "\n",
        "# Plot delta[n]\n",
        "plt.stem(n, d)\n",
        "plt.xlabel('n')\n",
        "plt.ylabel('$x[n]$')\n",
        "plt.title('$x[n]$')\n",
        "plt.show()"
      ],
      "metadata": {
        "colab": {
          "base_uri": "https://localhost:8080/",
          "height": 929
        },
        "id": "xxr8aoaAMUjT",
        "outputId": "0fad2929-fa58-4c86-dfac-135b20cbaafd"
      },
      "execution_count": 11,
      "outputs": [
        {
          "output_type": "display_data",
          "data": {
            "text/plain": [
              "<Figure size 640x480 with 1 Axes>"
            ],
            "image/png": "[encoded data removed]"
          },
          "metadata": {}
        },
        {
          "output_type": "display_data",
          "data": {
            "text/plain": [
              "<Figure size 640x480 with 1 Axes>"
            ],
            "image/png": "[encoded data removed]"
          },
          "metadata": {}
        }
      ]
    },
    {
      "cell_type": "markdown",
      "source": [],
      "metadata": {
        "id": "7I06VoFMMWnr"
      }
    },
    {
      "cell_type": "markdown",
      "source": [
        "for $y=0$ ;\n",
        "$$\n",
        "y[0]=\\sum_{k=-\\infty}^{\\infty} x[k]\\,h[-k]\n",
        "$$"
      ],
      "metadata": {
        "id": "aE1BpTUbN-51"
      }
    },
    {
      "cell_type": "code",
      "source": [
        "def h0(n):\n",
        "    d = np.zeros(len(n))\n",
        "    d[np.where(n == 0)] = 1\n",
        "    d[np.where(n == -1)] = 1\n",
        "    d[np.where(n == -2)] = 1\n",
        "    return d\n",
        "\n",
        "# Example usage\n",
        "n = np.arange(-5, 6)\n",
        "d = h0(n)\n",
        "\n",
        "# Plot delta[n]\n",
        "plt.stem(n, d)\n",
        "plt.xlabel('k')\n",
        "plt.ylabel('$h[-k]$')\n",
        "plt.title('$h[-k]$')\n",
        "plt.show()"
      ],
      "metadata": {
        "colab": {
          "base_uri": "https://localhost:8080/",
          "height": 473
        },
        "id": "Uz5OwYRbOWFh",
        "outputId": "99aadb93-57a5-460e-f4b5-ac2fbeaff631"
      },
      "execution_count": 25,
      "outputs": [
        {
          "output_type": "display_data",
          "data": {
            "text/plain": [
              "<Figure size 640x480 with 1 Axes>"
            ],
            "image/png": "[encoded data removed]"
          },
          "metadata": {}
        }
      ]
    },
    {
      "cell_type": "markdown",
      "source": [
        "$$\n",
        "\\begin{align}\n",
        "y[0]&=\\dots\\,0+0+0+2+0+0+0+\\,\\dots \\\\\n",
        "&=2\n",
        "\\end{align}\n",
        "$$"
      ],
      "metadata": {
        "id": "V80MCOW1OpVU"
      }
    },
    {
      "cell_type": "markdown",
      "source": [
        "for $y=1$ ;\n",
        "$$\n",
        "y[1]=\\sum_{k=-\\infty}^{\\infty} x[k]\\,h[1-k]\n",
        "$$"
      ],
      "metadata": {
        "id": "bWkN67OMQU9s"
      }
    },
    {
      "cell_type": "code",
      "source": [
        "def h0(n):\n",
        "    d = np.zeros(len(n))\n",
        "    d[np.where(n == 0)] = 1\n",
        "    d[np.where(n == -1)] = 1\n",
        "    d[np.where(n == 1)] = 1\n",
        "    return d\n",
        "\n",
        "# Example usage\n",
        "n = np.arange(-5, 6)\n",
        "d = h0(n)\n",
        "\n",
        "# Plot delta[n]\n",
        "plt.stem(n, d)\n",
        "plt.xlabel('k')\n",
        "plt.ylabel('$h[-k]$')\n",
        "plt.title('$h[-k]$')\n",
        "plt.show()"
      ],
      "metadata": {
        "colab": {
          "base_uri": "https://localhost:8080/",
          "height": 473
        },
        "id": "9W8XCbJjQns8",
        "outputId": "931d3f62-c010-4913-89f4-b605374d47e6"
      },
      "execution_count": 24,
      "outputs": [
        {
          "output_type": "display_data",
          "data": {
            "text/plain": [
              "<Figure size 640x480 with 1 Axes>"
            ],
            "image/png": "[encoded data removed]"
          },
          "metadata": {}
        }
      ]
    },
    {
      "cell_type": "markdown",
      "source": [
        "$$\n",
        "\\begin{align}\n",
        "y[1]&=\\dots\\,0+0+0+2+0.5+0+0+\\,\\dots \\\\\n",
        "&=2.5\n",
        "\\end{align}\n",
        "$$"
      ],
      "metadata": {
        "id": "l6mdOoX0QtSL"
      }
    },
    {
      "cell_type": "markdown",
      "source": [
        "Likewise,\n",
        "\n",
        "$$\n",
        "\\begin{align}\n",
        "y[2]&=2.5 \\\\\n",
        "y[3]&=0.5 \\\\\n",
        "y[4]&=0\n",
        "\\end{align}\n",
        "$$"
      ],
      "metadata": {
        "id": "rnPBbFsMQ9KF"
      }
    },
    {
      "cell_type": "code",
      "source": [
        "def ans_ex01(n):\n",
        "    d = np.zeros(len(n))\n",
        "    d[np.where(n == 0)] = 2\n",
        "    d[np.where(n == 1)] = 2.5\n",
        "    d[np.where(n == 2)] = 2.5\n",
        "    d[np.where(n == 3)] = 0.5\n",
        "    return d\n",
        "\n",
        "# Example usage\n",
        "n = np.arange(-5, 6)\n",
        "d = ans_ex01(n)\n",
        "\n",
        "# Plot delta[n]\n",
        "plt.stem(n, d)\n",
        "plt.xlabel('n')\n",
        "plt.ylabel('$y[n]$')\n",
        "plt.title('$y[n]$')\n",
        "plt.show()"
      ],
      "metadata": {
        "colab": {
          "base_uri": "https://localhost:8080/",
          "height": 474
        },
        "id": "BNal1bcPRjQ_",
        "outputId": "fbc34630-3cd1-42f1-ed79-58e07f548871"
      },
      "execution_count": 18,
      "outputs": [
        {
          "output_type": "display_data",
          "data": {
            "text/plain": [
              "<Figure size 640x480 with 1 Axes>"
            ],
            "image/png": "[encoded data removed]"
          },
          "metadata": {}
        }
      ]
    },
    {
      "cell_type": "code",
      "source": [
        "np.convolve([1,1,1],[2,0.5])"
      ],
      "metadata": {
        "colab": {
          "base_uri": "https://localhost:8080/"
        },
        "id": "UYSQ1TPSR3Pw",
        "outputId": "b2ec535d-ea87-41eb-c6c3-3f514522ddbf"
      },
      "execution_count": 17,
      "outputs": [
        {
          "output_type": "execute_result",
          "data": {
            "text/plain": [
              "array([2. , 2.5, 2.5, 0.5])"
            ]
          },
          "metadata": {},
          "execution_count": 17
        }
      ]
    },
    {
      "cell_type": "markdown",
      "source": [
        "example 02:\n",
        "$$\n",
        "\\begin{align}\n",
        "h[n]&=U[n] \\\\\n",
        "x[n]&=\\alpha^{n}\\,U[n]\n",
        "\\end{align}\n",
        "$$"
      ],
      "metadata": {
        "id": "l_ekzHmLSVus"
      }
    },
    {
      "cell_type": "code",
      "source": [
        "n = np.arange(-5,10) \n",
        "alpha = 0.8 \n",
        "\n",
        "x = 1\n",
        "x = x * (n >= 0)\n",
        "\n",
        "plt.stem(n, x) \n",
        "plt.xlabel('n')\n",
        "plt.ylabel('h[n]]')\n",
        "plt.title('h[n]')\n",
        "plt.show()\n",
        "\n",
        "n = np.arange(-5,10) \n",
        "alpha = 0.8 \n",
        "\n",
        "x = alpha ** n \n",
        "x = x * (n >= 0)\n",
        "\n",
        "plt.stem(n, x) \n",
        "plt.xlabel('n')\n",
        "plt.ylabel('x[n]]')\n",
        "plt.title('x[n]')\n",
        "plt.show()"
      ],
      "metadata": {
        "colab": {
          "base_uri": "https://localhost:8080/",
          "height": 927
        },
        "id": "my5lUM_TTjk7",
        "outputId": "7ac8a02f-8b1b-4acc-de7a-4be6d469cd9e"
      },
      "execution_count": 26,
      "outputs": [
        {
          "output_type": "display_data",
          "data": {
            "text/plain": [
              "<Figure size 640x480 with 1 Axes>"
            ],
            "image/png": "[encoded data removed]"
          },
          "metadata": {}
        },
        {
          "output_type": "display_data",
          "data": {
            "text/plain": [
              "<Figure size 640x480 with 1 Axes>"
            ],
            "image/png": "[encoded data removed]"
          },
          "metadata": {}
        }
      ]
    },
    {
      "cell_type": "markdown",
      "source": [
        "By definition,\n",
        "$$\n",
        "y[n]=\\sum_{k=-\\infty}^{\\infty} x[k]\\,h[n-k]\n",
        "$$"
      ],
      "metadata": {
        "id": "X41T8g2DUgFs"
      }
    },
    {
      "cell_type": "markdown",
      "source": [
        "for $y=0$ ;\n",
        "$$\n",
        "y[0]=\\sum_{k=-\\infty}^{\\infty} x[k]\\,h[-k]\n",
        "$$"
      ],
      "metadata": {
        "id": "-t0TmlJbUu7Y"
      }
    },
    {
      "cell_type": "code",
      "source": [
        "n = np.arange(-10,5) \n",
        "\n",
        "x = 1\n",
        "x = x * (n <= 0)\n",
        "\n",
        "plt.stem(n, x) \n",
        "plt.xlabel('n')\n",
        "plt.ylabel('h[n]]')\n",
        "plt.title('h[n]')\n",
        "plt.show()"
      ],
      "metadata": {
        "colab": {
          "base_uri": "https://localhost:8080/",
          "height": 472
        },
        "id": "noFmLK9fU_B_",
        "outputId": "080c69d6-4998-4c37-db0d-02c20c0d9531"
      },
      "execution_count": 29,
      "outputs": [
        {
          "output_type": "display_data",
          "data": {
            "text/plain": [
              "<Figure size 640x480 with 1 Axes>"
            ],
            "image/png": "[encoded data removed]"
          },
          "metadata": {}
        }
      ]
    },
    {
      "cell_type": "markdown",
      "source": [
        "$$\n",
        "\\begin{align}\n",
        "y[0]&=\\dots\\,0+0+0+\\alpha+0+0+0+\\,\\dots \\\\\n",
        "&=\\alpha\n",
        "\\end{align}\n",
        "$$"
      ],
      "metadata": {
        "id": "A-iWlUPmVR2j"
      }
    },
    {
      "cell_type": "markdown",
      "source": [
        "for $y=1$ ;\n",
        "$$\n",
        "y[1]=\\sum_{k=-\\infty}^{\\infty} x[k]\\,h[1-k]\n",
        "$$"
      ],
      "metadata": {
        "id": "CNtzX1jBV7LT"
      }
    },
    {
      "cell_type": "code",
      "source": [
        "n = np.arange(-10,5) \n",
        "\n",
        "x = 1\n",
        "x = x * (n <= 1)\n",
        "\n",
        "plt.stem(n, x) \n",
        "plt.xlabel('n')\n",
        "plt.ylabel('h[n]]')\n",
        "plt.title('h[n]')\n",
        "plt.show()"
      ],
      "metadata": {
        "colab": {
          "base_uri": "https://localhost:8080/",
          "height": 472
        },
        "id": "ZvWccMueWjAF",
        "outputId": "e0ec4987-a80c-4160-d652-fad3ffc8ab1c"
      },
      "execution_count": 30,
      "outputs": [
        {
          "output_type": "display_data",
          "data": {
            "text/plain": [
              "<Figure size 640x480 with 1 Axes>"
            ],
            "image/png": "[encoded data removed]"
          },
          "metadata": {}
        }
      ]
    },
    {
      "cell_type": "markdown",
      "source": [
        "$$\n",
        "\\begin{align}\n",
        "y[0]&=\\dots\\,0+0+0+\\alpha+\\alpha^2+0+0+\\,\\dots \\\\\n",
        "&=\\alpha+\\alpha^2\n",
        "\\end{align}\n",
        "$$"
      ],
      "metadata": {
        "id": "0ewGq7NLWwfT"
      }
    },
    {
      "cell_type": "markdown",
      "source": [
        "Likewise,\n",
        "$$\n",
        "\\begin{align}\n",
        "y[n]&=\\dots\\,0+0+0+\\alpha+\\alpha^2+\\alpha^3+\\,\\dots \\\\\n",
        "&=\\alpha+\\alpha^2+\\alpha^3\\,\\dots\\,+\\alpha^n \\\\\n",
        "&=\\sum_{k=0}^{n} \\alpha^k \\\\\n",
        "\\alpha y[n]&=\\sum_{k=0}^{n} \\alpha^{k+1} \\\\\n",
        "(\\alpha-1)y[n]&=1-\\alpha^{n+1} \\\\\n",
        "y[n]&=\\frac{1-\\alpha^{n+1}}{1-\\alpha}\n",
        "\\end{align}\n",
        "$$"
      ],
      "metadata": {
        "id": "OfcPQgibW8dz"
      }
    },
    {
      "cell_type": "markdown",
      "source": [
        "Let's consider a linear time invariant (LTI) system."
      ],
      "metadata": {
        "id": "8feWX9epa2Hl"
      }
    },
    {
      "cell_type": "code",
      "source": [
        "##Diagrams"
      ],
      "metadata": {
        "id": "QdrynNBfbSPv"
      },
      "execution_count": null,
      "outputs": []
    },
    {
      "cell_type": "code",
      "source": [
        "Delta = 1.0    # Width of the pulse\n",
        "t = np.linspace(-2, 2, 1000)    # Time axis\n",
        "\n",
        "# Create the pulse signal\n",
        "pulse = np.zeros(len(t))\n",
        "pulse[(t >= -Delta/2) & (t <= Delta/2)] = 1\n",
        "\n",
        "# Plot the signal\n",
        "plt.plot(t, pulse)\n",
        "plt.xlabel('Time')\n",
        "plt.ylabel('Amplitude')\n",
        "plt.title('Square pulse signal')\n",
        "plt.grid(True)\n",
        "\n",
        "# Set the tick locations and labels for the x-axis\n",
        "xtick_locs = [-Delta/2, 0, Delta/2]\n",
        "xtick_labels = [r'$-\\frac{\\Delta}{2}$', '0', r'$\\frac{\\Delta}{2}$']\n",
        "plt.xticks(xtick_locs, xtick_labels)\n",
        "\n",
        "# Set the tick locations and labels for the y-axis\n",
        "ytick_locs = [0, 1/Delta, 1]\n",
        "ytick_labels = ['0', r'$\\frac{1}{\\Delta}$', '1']\n",
        "plt.yticks(ytick_locs, ytick_labels)\n",
        "\n",
        "# Show the plot\n",
        "plt.show()"
      ],
      "metadata": {
        "colab": {
          "base_uri": "https://localhost:8080/",
          "height": 482
        },
        "id": "iMB2LjVubjxX",
        "outputId": "af76a020-0785-4b08-adcf-b351df18df5f"
      },
      "execution_count": 44,
      "outputs": [
        {
          "output_type": "display_data",
          "data": {
            "text/plain": [
              "<Figure size 640x480 with 1 Axes>"
            ],
            "image/png": "[encoded data removed]"
          },
          "metadata": {}
        }
      ]
    },
    {
      "cell_type": "code",
      "source": [
        "Delta = 1.0    # Width of the pulse\n",
        "t = np.linspace(-2, 2, 1000)    # Time axis\n",
        "\n",
        "# Create the pulse signal\n",
        "pulse = np.zeros(len(t))\n",
        "pulse[(t >= -Delta/2) & (t <= Delta/2)] = 1\n",
        "pulse[(t >= Delta/2) & (t <= 3*Delta/2)] = 0.8\n",
        "pulse[(t >= -3*Delta/2) & (t <= -Delta/2)] = 0.7\n",
        "\n",
        "# Plot the signal\n",
        "plt.plot(t, pulse)\n",
        "plt.xlabel('Time')\n",
        "plt.ylabel('Amplitude')\n",
        "plt.title('Square pulse signal')\n",
        "plt.grid(True)\n",
        "\n",
        "# Set the tick locations and labels for the x-axis\n",
        "xtick_locs = [-Delta/2, 0, Delta/2]\n",
        "xtick_labels = [r'$-\\frac{\\Delta}{2}$', '0', r'$\\frac{\\Delta}{2}$']\n",
        "plt.xticks(xtick_locs, xtick_labels)\n",
        "\n",
        "# Set the tick locations and labels for the y-axis\n",
        "ytick_locs = [0, 1/Delta, 1]\n",
        "ytick_labels = ['0', r'$\\frac{1}{\\Delta}$', '1']\n",
        "plt.yticks(ytick_locs, ytick_labels)\n",
        "\n",
        "# Show the plot\n",
        "plt.show()"
      ],
      "metadata": {
        "colab": {
          "base_uri": "https://localhost:8080/",
          "height": 482
        },
        "id": "8cBymq8Oe-eg",
        "outputId": "f55ffe4f-99ec-4d9e-e36a-c215fcd2e127"
      },
      "execution_count": 48,
      "outputs": [
        {
          "output_type": "display_data",
          "data": {
            "text/plain": [
              "<Figure size 640x480 with 1 Axes>"
            ],
            "image/png": "[encoded data removed]"
          },
          "metadata": {}
        }
      ]
    },
    {
      "cell_type": "markdown",
      "source": [
        "$$\n",
        "\\begin{align}\n",
        "\\hat{x}(t)&=\\sum_{k=-\\infty}^{\\infty} x[k\\Delta]\\,\\delta_{\\Delta}(t-k\\Delta) \\Delta \\\\\n",
        "x(t)&=\\lim_{\\Delta \\to 0}\\,\\,\\hat{x}(t) \\\\\n",
        "x(t)&=\\int_{-\\infty}^{\\infty}x(\\tau)\\,\\delta(t-\\tau)\\,d\\tau \\\\\n",
        "x(t)&=x(t)*\\delta(t)\n",
        "\\end{align}\n",
        "$$"
      ],
      "metadata": {
        "id": "bzM3Kv2GfVRk"
      }
    },
    {
      "cell_type": "markdown",
      "source": [
        "$$\n",
        "\\begin{align}\n",
        "\\delta_{\\Delta}(t)&\\to h_{\\Delta}(t) \\,\\,(Impulse Response)\\\\\n",
        "&\\Big\\downarrow\\,\\,\\, (\\because Time Invariance) \\\\\n",
        "\\delta_{\\Delta}(t-k\\Delta)&\\to h_{\\Delta}(t-k\\Delta) \\\\\n",
        "&\\Big\\downarrow\\,\\,\\, Scaling\\,(\\because Linearity) \\\\\n",
        "x(k\\Delta)\\delta_{\\Delta}(t-k\\Delta)&\\to x(k\\Delta)h_{\\Delta}(t-k\\Delta) \\\\\n",
        "&\\Big\\downarrow\\,\\,\\, Additivity\\,(\\because Linearity) \\\\\n",
        "\\sum_{k=-\\infty}^{\\infty} x[k\\Delta]\\,\\delta_{\\Delta}(t-k\\Delta) \\Delta&\\to\\sum_{k=-\\infty}^{\\infty} x[k\\Delta]\\,h_{\\Delta}(t-k\\Delta) \\Delta \\\\\n",
        "&\\Big\\downarrow \\\\\n",
        "\\lim_{\\Delta \\to 0}\\sum_{k=-\\infty}^{\\infty} x[k\\Delta]\\,\\delta_{\\Delta}(t-k\\Delta) \\Delta&\\to\\lim_{\\Delta \\to 0}\\sum_{k=-\\infty}^{\\infty} x[k\\Delta]\\,h_{\\Delta}(t-k\\Delta) \\Delta \\\\\n",
        "&\\Big\\downarrow \\\\\n",
        "x(t)&\\to\\int_{-\\infty}^{\\infty}x(\\tau)\\,h(t-\\tau)\\,d\\tau \\\\\n",
        "&Continuous\\,\\,Convolution\n",
        "\\end{align}\n",
        "$$\n",
        "\n",
        "\n",
        "\n",
        "$$\n",
        "\\begin{align}\n",
        "y(t)\n",
        "\\end{align}\n",
        "$$"
      ],
      "metadata": {
        "id": "cOyUQmcBh6hX"
      }
    },
    {
      "cell_type": "markdown",
      "source": [
        "# 2.0 Fourier Series"
      ],
      "metadata": {
        "id": "0cgU_5SQrl7m"
      }
    },
    {
      "cell_type": "markdown",
      "source": [
        "## 2.2 Fourier Series"
      ],
      "metadata": {
        "id": "-QXTnDHmsC8T"
      }
    },
    {
      "cell_type": "markdown",
      "source": [
        "Consider,\n",
        "\\begin{align}\n",
        "x(t)=11+4sin(5t)+\\frac{4}{3}sin(15t)\n",
        "\\end{align}"
      ],
      "metadata": {
        "id": "0HqqXG0lsIGt"
      }
    },
    {
      "cell_type": "code",
      "source": [
        "## Example"
      ],
      "metadata": {
        "id": "pUt_DCfcsXFp"
      },
      "execution_count": null,
      "outputs": []
    },
    {
      "cell_type": "markdown",
      "source": [
        "\n",
        "<p>Fundermental frequency = frequency of the lowest frequency component</p>\n",
        "Thus,\n",
        "\\begin{align}\n",
        "\\omega_0&=5\\\\\n",
        "T=\\frac{2\\pi}{5} \\:\\:&and\\:\\: f_0=\\frac{5}{2\\pi}\\\\\n",
        "e^{j\\theta}=cos\\theta &+j sin\\theta\\\\\n",
        "\\end{align}\n",
        "This gives,\n",
        "\\begin{align}\n",
        "sin\\theta = \\frac{e^{j\\theta}-e^{-j\\theta}}{2j}\\:\\:\\: and \\:\\:\\: cos\\theta = \\frac{e^{j\\theta}+e^{-j\\theta}}{2}\n",
        "\\end{align}\n",
        "\n",
        "\n",
        "By substituting to $x(t)$,\n",
        "\\begin{align}\n",
        "x(t)&=11+4(\\frac{e^{5jt}-e^{-5jt}}{2j})+\\frac{4}{3}(\\frac{e^{15j}-e^{-15j}}{2j})\\\\\n",
        "x(t)&=[\\frac{2}{3}e^{j\\frac{\\pi}{2}}]e^{(-3)5jt}+[2e^{j\\frac{\\pi}{2}}]e^{(-1)5jt}+[11]e^{(0)5jt}+[2e^{-j\\frac{\\pi}{2}}]e^{(+1)5jt}+[\\frac{2}{3}e^{-j\\frac{\\pi}{2}}]e^{(+3)5jt}\n",
        "\\end{align}\n",
        "This is the Forier Series of $x(t)$"
      ],
      "metadata": {
        "id": "TOIIkLghsZHD"
      }
    },
    {
      "cell_type": "markdown",
      "source": [
        "Here,\\\n",
        "$[\\frac{2}{3}e^{j\\frac{\\pi}{2}}],[2e^{j\\frac{\\pi}{2}}],[11],[2e^{-j\\frac{\\pi}{2}}],[\\frac{2}{3}e^{-j\\frac{\\pi}{2}}]$ are known as **Fourier Coefficients of $x(t)$**.\n",
        "\n",
        "Thus the Fourier Series Expression can be written as,\n",
        "\n",
        "\\begin{align}\n",
        "x(t)=\\sum_{k=-\\infty}^{\\infty} X_k\\:e^{jk\\omega_0t}\\:\\:\\: ; X_k \\in \\mathbb{C}\n",
        "\\end{align}\n",
        "\n",
        "\\begin{align}\n",
        "X_k&=Re[X_k]+jIm[X_k]\\\\\n",
        "\\\\\n",
        "X_k&=|X_k|e^{j.Arg[X_k]}\n",
        "\\end{align}\n"
      ],
      "metadata": {
        "id": "XsnQI7gWxwg7"
      }
    },
    {
      "cell_type": "code",
      "source": [
        "#Plots"
      ],
      "metadata": {
        "id": "njdBNabUzziD"
      },
      "execution_count": null,
      "outputs": []
    },
    {
      "cell_type": "markdown",
      "source": [
        "* Discontinuous signals can be expressed as a collection of continuous signals using fourier series.\n",
        "\n"
      ],
      "metadata": {
        "id": "9pdh_z2hyf9E"
      }
    },
    {
      "cell_type": "markdown",
      "source": [
        "\\begin{align}\n",
        "x(t)&=\\sum_{m} X_me^{jm\\omega_0t}\\\\\n",
        "x(t)&=...+X_{-2}e^{j(-2)\\omega_0t}+X_{-1}e^{j(-1)\\omega_0t}+X_{0}+X_{1}e^{j(1)\\omega_0t}+X_{2}e^{j(2)\\omega_0t}+...\\\\\n",
        "\\end{align}\n",
        "\\\n",
        "Appling Fourier Transform to L.H.S and $m^{th}$ term of R.H.S\n",
        "\\begin{align}\n",
        "\\frac{1}{T_0}\\int_{T_0}x(t)e^{-jk\\omega_0t}dt&=\\frac{1}{T_0}\\int_{T_0}X_me^{jm\\omega_0t}e^{-jk\\omega_0t}\n",
        "\\end{align}"
      ],
      "metadata": {
        "id": "0OHf-Bw9pujl"
      }
    },
    {
      "cell_type": "markdown",
      "source": [
        "\n"
      ],
      "metadata": {
        "id": "XVvUb8yHr8AY"
      }
    },
    {
      "cell_type": "markdown",
      "source": [
        "## 2.3 Properties of Fourier Series\n"
      ],
      "metadata": {
        "id": "VVZeuu2Keuht"
      }
    },
    {
      "cell_type": "markdown",
      "source": [
        "### 2.3.1 Linearity"
      ],
      "metadata": {
        "id": "AwDrJLkjhivx"
      }
    },
    {
      "cell_type": "markdown",
      "source": [
        "\n",
        "\n",
        "Consider a periodic signal $x(t)$ with a fundermental frequency $\\omega_0$ and $k^{th}$ Fourier series coefficient is given by $X_k$.\\\n",
        "Consider another periodic signal $y(t)$ with $\\textbf{the same fundermental frequency $\\omega_0$}$ and $k^{th}$ Fourier Series coefficient is given by $Y_k$.\\\n",
        "\\\n",
        "\\begin{align}\n",
        "x(t)&⟶ X_k\\\\\n",
        "y(t)&⟶ Y_k\\\\\n",
        "Ax(t)+By(t)&⟶AX_k + BY_k\\\\\n",
        "\\end{align}\n"
      ],
      "metadata": {
        "id": "5wvjDek9JiO_"
      }
    },
    {
      "cell_type": "code",
      "source": [
        "##Example"
      ],
      "metadata": {
        "id": "PCFcg5Iravk4"
      },
      "execution_count": null,
      "outputs": []
    },
    {
      "cell_type": "markdown",
      "source": [
        "### 2.3.2 Time Shifting"
      ],
      "metadata": {
        "id": "B0Q3HLokhpcg"
      }
    },
    {
      "cell_type": "markdown",
      "source": [
        "\n",
        "\n",
        "\n",
        "If Fourier Series coefficient of the periodic signal $x(t)$ is $X_k$.\n",
        "\\\n",
        "\\begin{align}\n",
        "x(t)&⟶X_k\\\\\n",
        "x(t)&=\\sum_{k}X_ke^{jk\\omega_0t}\\\\\n",
        "\\end{align}\n",
        "\n",
        "Apply $t \\Rightarrow t-t_0$;\n",
        "\n",
        "\\begin{align}\n",
        "x(t-t_0)&=\\sum_{k}X_ke^{jk\\omega_0(t-t_0)}\\\\\n",
        "x(t-t_0)&=\\sum_{k}(X_ke^{-jkw_0t_0})e^{jk\\omega_0t}\\\\\n",
        "\\end{align}\n",
        "\\\n",
        "Let $X'_k=X_ke^{-jkw_0t_0}$\n",
        "\n",
        "\\begin{align}\n",
        "|X'_k|&=|X_k|\\\\\n",
        "\\angle{X'_k}&=\\angle{X_k}-\\angle{k\\omega_0t_0}\n",
        "\\end{align}\n",
        "\\\n",
        "Degree of change of phase angle of higher harmonics is higher.\n"
      ],
      "metadata": {
        "id": "vCAVEmk_atjg"
      }
    },
    {
      "cell_type": "code",
      "source": [
        "wave=Waves()\n",
        "wave.square_pulse(2,\"a(t)\",\"t\",\"\",-1,1)"
      ],
      "metadata": {
        "id": "RNpTbdpPSS0P",
        "colab": {
          "base_uri": "https://localhost:8080/",
          "height": 331
        },
        "outputId": "eca1a43a-7f48-4654-8586-edb13c8919b5"
      },
      "execution_count": null,
      "outputs": [
        {
          "output_type": "display_data",
          "data": {
            "text/plain": [
              "<Figure size 1000x300 with 1 Axes>"
            ],
            "image/png": "[encoded data removed]"
          },
          "metadata": {}
        }
      ]
    },
    {
      "cell_type": "markdown",
      "source": [
        "Using,\n",
        "\\begin{align}\n",
        "X_k=\\frac{1}{k\\pi}sin(k\\omega_0T_1)\n",
        "\\end{align}\n",
        "Where $T_1=1$\n",
        "\\begin{align}\n",
        "\\omega_0=\\frac{2\\pi}{T_0}=\\frac{2\\pi}{4}=\\frac{\\pi}{2}\n",
        "\\end{align}\n",
        "Thus,\n",
        "\\begin{align}\n",
        "a_k=\\frac{1}{k\\pi}sin(k\\frac{\\pi}{2})\n",
        "\\end{align}\n",
        "\n",
        "\n"
      ],
      "metadata": {
        "id": "V2bHPuqiWN6_"
      }
    },
    {
      "cell_type": "code",
      "source": [
        "wave.square_pulse(2,\"y(t)\",\"t\",\"\",0,1)"
      ],
      "metadata": {
        "id": "doiy1zWfZfcx",
        "outputId": "207681ce-ac72-49fe-a059-9ba1515c4da7",
        "colab": {
          "base_uri": "https://localhost:8080/",
          "height": 331
        }
      },
      "execution_count": null,
      "outputs": [
        {
          "output_type": "display_data",
          "data": {
            "text/plain": [
              "<Figure size 1000x300 with 1 Axes>"
            ],
            "image/png": "[encoded data removed]"
          },
          "metadata": {}
        }
      ]
    },
    {
      "cell_type": "markdown",
      "source": [
        "In the light of above graph,\n",
        "\\begin{align}\n",
        "y(t)&=a(t-1)\\\\\n",
        "Y_k&=a_ke^{-jk\\omega_0t_0}\\\\\n",
        "Y_k&=a_ke^{-jk\\frac{\\pi}{2}}\\\\\n",
        "Y_k&=[\\frac{1}{k\\pi}sin{(k\\frac{\\pi}{2})}]e^{-jk\\frac{\\pi}{2}}\\\\\n",
        "\\end{align}"
      ],
      "metadata": {
        "id": "jASeBseVaHx2"
      }
    },
    {
      "cell_type": "markdown",
      "source": [
        "### 2.3.3 Time Reverse"
      ],
      "metadata": {
        "id": "VN7Lzsq7hscg"
      }
    },
    {
      "cell_type": "markdown",
      "source": [
        "\n",
        "If Fourier Series coefficient of the periodic signal $x(t)$ is $X_k$.\n",
        "\\\n",
        "\\begin{align}\n",
        "x(t)&⟶X_k\\\\\n",
        "x(-t)&⟶X'_k\\\\\n",
        "x(t)&=\\sum_{k}X_ke^{jk\\omega_0t}\\\\\n",
        "\\end{align}\n",
        "Apply $t⇒-t$\n",
        "\\begin{align}\n",
        "x(-t)&=\\sum_{k}X_ke^{-jk\\omega_0t}\\\\\n",
        "\\end{align}\n",
        "\\\n",
        "Inoder to obtain a simillar equation like in Fourier Series,\\\n",
        "\\\n",
        "Apply $k⇒-k$\n",
        "\\begin{align}\n",
        "x(-t)&=\\sum_{k}X_{-k}e^{jk\\omega_0t}\\\\\n",
        "\\end{align}\n",
        "Thus,\n",
        "\\begin{align}\n",
        "X'_k&=X_{-k}\n",
        "\\end{align}\n"
      ],
      "metadata": {
        "id": "9qVsS1G0SVsL"
      }
    },
    {
      "cell_type": "code",
      "source": [
        "##Example"
      ],
      "metadata": {
        "id": "i_5S6uxta4Zm"
      },
      "execution_count": null,
      "outputs": []
    },
    {
      "cell_type": "markdown",
      "source": [
        "### 2.3.4 Time Scaling"
      ],
      "metadata": {
        "id": "8DAy7d2LhyKA"
      }
    },
    {
      "cell_type": "markdown",
      "source": [
        "\n",
        "\n",
        "\n",
        "If Fourier Series coefficient of the periodic signal $x(t)$ is $X_k$.\n",
        "\\\n",
        "\\begin{align}\n",
        "x(t)&⟶X_k\\\\\n",
        "x(t)&=\\sum_{k}X_ke^{jk\\omega_0t}\\\\\n",
        "\\end{align}\n",
        "Let $t⇒\\alpha t$\n",
        "\\begin{align}\n",
        "x(\\alpha t)&=\\sum_{k}X_ke^{jk\\omega_0\\alpha t}\n",
        "\\end{align}\n",
        "New fundermental frequency  $\\omega'_0=\\alpha \\omega_0$"
      ],
      "metadata": {
        "id": "Voa72O58a1g9"
      }
    },
    {
      "cell_type": "code",
      "source": [
        "# If alpha>1,\n",
        "## 4graphs"
      ],
      "metadata": {
        "id": "x_uQsgrjU7BK"
      },
      "execution_count": null,
      "outputs": []
    },
    {
      "cell_type": "code",
      "source": [],
      "metadata": {
        "id": "HgG89qfyh9Ti"
      },
      "execution_count": null,
      "outputs": []
    },
    {
      "cell_type": "markdown",
      "source": [
        "### 2.3.5 Properties For Real Signals"
      ],
      "metadata": {
        "id": "uOuM0wmfiBbT"
      }
    },
    {
      "cell_type": "markdown",
      "source": [
        "\n",
        "\\begin{align}\n",
        "x(t)&=\\sum_{k}X_ke^{jk\\omega_0t}\\\\\n",
        "x^{*}(t)&=\\sum_{k}X_k^{*}e^{-jk\\omega_0t}\\\\\n",
        "\\end{align}\n",
        "Apply $k⇒-k$,\n",
        "\\begin{align}\n",
        "x^{*}(t)&=\\sum_{k}X_{-k}^{*}e^{jk\\omega_0t}\\\\\n",
        "\\end{align}\n",
        "Since $x(t)=x^{*}(t)$,\n",
        "\\begin{align}\n",
        "\\sum_{k}X_ke^{jk\\omega_0t}&=\\sum_{k}X_{-k}^{*}e^{jk\\omega_0t}\\\\\n",
        "\\end{align}\n",
        "\\\n",
        "Therefore,\n",
        "\\begin{align}\n",
        "X_k&=X^{*}_{-k}\\\\\n",
        "X_{-k}&=X^{*}_{k}\n",
        "\\end{align}\n",
        "This is known as Conjugate Symmetry.\\\n",
        "Consequence of this,\n",
        "\\begin{align}\n",
        "|X_k|&=|X_{-k}|\\\\\n",
        "\\angle X_k&=-\\angle X_{-k}\\\\\n",
        "\\end{align}\n",
        "\n",
        "#### Real and Even Signals\n",
        "As $x(t)$ is real,\n",
        "\\begin{align}\n",
        "X_k&=X^{*}_{-k}\\\\\n",
        "\\end{align}\n",
        "However, as x(t) is even,\n",
        "\\begin{align}\n",
        "x(t)&=x(-t)\n",
        "\\end{align}\n",
        "Therefore from the time reversal property,\n",
        "\\begin{align}\n",
        "X_k&=X_{-k}\\\\\n",
        "\\end{align}\n",
        "Then,\n",
        "\\begin{align}\n",
        "X_k=X_{-k}=X^{*}_k\\\\\n",
        "\\end{align}\n",
        "Thus,\n",
        "\\begin{align}\n",
        "X_k=X^{*}_k\\\\\n",
        "\\end{align}\n",
        "Therefore, if $x(t)$ is real and even, $X_k$ is real and even.\n"
      ],
      "metadata": {
        "id": "dHVTsCzpVE6m"
      }
    },
    {
      "cell_type": "code",
      "source": [
        "##Example"
      ],
      "metadata": {
        "id": "J9HsoYrZbC6S"
      },
      "execution_count": null,
      "outputs": []
    },
    {
      "cell_type": "markdown",
      "source": [
        "\n",
        "#### Real and Odd\n",
        "\n",
        "As $x(t)$ is real,\n",
        "\\begin{align}\n",
        "X_k=X^{*}_{-k}\\\\\n",
        "\\end{align}\n",
        "However, as $x(t)$ is odd,\n",
        "\\begin{align}\n",
        "x(t)&=-x(-t)\n",
        "\\end{align}\n",
        "Therefore, from time reversal property,\n",
        "\\begin{align}\n",
        "X_k&=-X_{-k}\\\\\n",
        "\\end{align}\n",
        "This yeilds,\n",
        "\\begin{align}\n",
        "X_k=-X_{-k}=-X^{*}_k\\\\\n",
        "\\end{align}\n",
        "\\begin{align}\n",
        "X_k=-X^{*}_k\n",
        "\\end{align}\n",
        "Therefore, if $x(t)$ is real and odd, $X_k$ is imaginary and odd.\n"
      ],
      "metadata": {
        "id": "eKaP-jPMbBUF"
      }
    },
    {
      "cell_type": "code",
      "source": [
        "##Example"
      ],
      "metadata": {
        "id": "Wm-ZPBA-bIWV"
      },
      "execution_count": null,
      "outputs": []
    },
    {
      "cell_type": "markdown",
      "source": [
        "### 2.3.6 Differentiation and Integration"
      ],
      "metadata": {
        "id": "EomhIfTYiGQr"
      }
    },
    {
      "cell_type": "markdown",
      "source": [
        "\n",
        "\n",
        "\n",
        "#### Differentiation\n",
        "\\begin{align}\n",
        "x(t)=X_0 + \\sum_{\\forall k\\neq 0}X_ke^{jk\\omega_0t}\\\\\n",
        "x'(t)=\\frac{dx(t)}{dt}=\\sum_{\\forall k\\neq 0}(X_kjk\\omega_0)e^{jk\\omega_0t}\n",
        "\\end{align}\n",
        "\\\n",
        "\\begin{align}\n",
        "X'_k=jk\\omega_0X_k \\:\\:\\:\\:\\: ;k\\neq 0\n",
        "\\end{align}\n",
        "\\\n",
        "Differentiation is a high pass process / sharpning process.\n",
        "\n",
        "\\begin{align}\n",
        "X_k=\\frac{X'_k}{jk\\omega_0}\\:\\:\\:\\:\\: ;k\\neq 0\n",
        "\\end{align}\n",
        "#### Integration\n",
        "\\begin{align}\n",
        "x(t)=X_0 + \\sum_{\\forall k\\neq 0}X_ke^{jk\\omega_0t}\\\\\n",
        "x'(t)=\\int x(t)dt=\\sum_{\\forall k\\neq 0}\\:\\:\\frac{X_k}{jk\\omega_0}\\:e^{jk\\omega_0t}\n",
        "\\end{align}\n",
        "\\\n",
        "\\\n",
        "\\begin{align}\n",
        "X'_k=\\frac{X_k}{jk\\omega_0}\\:\\:\\:\\:\\: ;k\\neq 0\n",
        "\\end{align}\n",
        "Integration is a low pass process / smoothing process.\n",
        "\\begin{align}\n",
        "X_k=jk\\omega_0X'_k \\:\\:\\:\\:\\: ;k\\neq 0\n",
        "\\end{align}"
      ],
      "metadata": {
        "id": "1eu25sg_bGqu"
      }
    },
    {
      "cell_type": "code",
      "source": [
        "##Example"
      ],
      "metadata": {
        "id": "jo91UMn4bLSR"
      },
      "execution_count": null,
      "outputs": []
    },
    {
      "cell_type": "markdown",
      "source": [
        "### 2.3.7 Fourier Series of an Impulse"
      ],
      "metadata": {
        "id": "IgG1LX0gm2tP"
      }
    },
    {
      "cell_type": "markdown",
      "source": [
        "\\begin{align}\n",
        "x(t)&=\\sum_{k=-∞}^{∞} \\delta(t-kT_0)\\\\\n",
        "X_0&=\\frac{1}{T_0}\\int_{T_0}x(t)dt\\\\\n",
        "&=\\frac{1}{T_0}\\int_{\\frac{-T_0}{2}}^{\\frac{T_0}{2}}\\delta(t)dt\\\\\n",
        "&=\\frac{1}{T_0}\n",
        "\\\\\n",
        "X_k&=\\frac{1}{T_0} \\int_{T_0}e^{-jk\\omega_0t}dt\\\\\n",
        "&=\\frac{1}{T_0}\\int_{\\frac{-T_0}{2}}^{\\frac{T_0}{2}} \\delta (t) e^{-jk\\omega_0t}dt\n",
        "\\end{align}"
      ],
      "metadata": {
        "id": "Os6wJjZWnyME"
      }
    },
    {
      "cell_type": "code",
      "source": [
        "#Example"
      ],
      "metadata": {
        "id": "tlmWsaXL6OV-"
      },
      "execution_count": null,
      "outputs": []
    },
    {
      "cell_type": "markdown",
      "source": [
        "\\begin{align}\n",
        "X_k&=\\frac{1}{T_0}\\int_{-\\frac{T_0}{2}}^{\\frac{T_0}{2}}\\delta (t)e^{-jk\\omega_0 \\times 0}dt\\\\\n",
        "&=\\frac{1}{T_0}\n",
        "\\end{align}\n",
        "This yeilds,\n",
        "\\begin{align}\n",
        "x(t)=\\sum_{\\forall k}\\delta (t-kT_0)=\\sum_{\\forall k}\\frac{1}{T_0}e^{jk\\omega_0t}\n",
        "\\end{align}"
      ],
      "metadata": {
        "id": "Tf9tQnbS6XMo"
      }
    },
    {
      "cell_type": "code",
      "source": [
        "#Example"
      ],
      "metadata": {
        "id": "WvP0GK8o7l4m"
      },
      "execution_count": null,
      "outputs": []
    },
    {
      "cell_type": "markdown",
      "source": [
        "# 3.0 Fourier Transform"
      ],
      "metadata": {
        "id": "OvHrCgJ_ihEF"
      }
    },
    {
      "cell_type": "markdown",
      "source": [],
      "metadata": {
        "id": "kubMTqXyikuP"
      }
    }
  ]
}