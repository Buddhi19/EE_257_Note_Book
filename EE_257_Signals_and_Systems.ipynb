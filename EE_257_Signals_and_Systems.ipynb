{
  "nbformat": 4,
  "nbformat_minor": 0,
  "metadata": {
    "colab": {
      "provenance": [],
      "collapsed_sections": [
        "Rs_poxGowMlE",
        "2L4zQFHK4ZJn",
        "m_9KyI9B4UNo",
        "KS8lPsht43XK",
        "ea4TIOz3wzvv",
        "VVZeuu2Keuht"
      ],
      "include_colab_link": true
    },
    "kernelspec": {
      "name": "python3",
      "display_name": "Python 3"
    },
    "language_info": {
      "name": "python"
    }
  },
  "cells": [
    {
      "cell_type": "markdown",
      "metadata": {
        "id": "view-in-github",
        "colab_type": "text"
      },
      "source": [
        "<a href=\"https://colab.research.google.com/github/BuwanekaEpakanda/EE_257_Note_Book/blob/Edditing-Note-Book/EE_257_Signals_and_Systems.ipynb\" target=\"_parent\"><img src=\"https://colab.research.google.com/assets/colab-badge.svg\" alt=\"Open In Colab\"/></a>"
      ]
    },
    {
      "cell_type": "markdown",
      "source": [
        "#Content"
      ],
      "metadata": {
        "id": "Rs_poxGowMlE"
      }
    },
    {
      "cell_type": "markdown",
      "source": [
        "## Signals"
      ],
      "metadata": {
        "id": "mV_buCRO0Ntf"
      }
    },
    {
      "cell_type": "markdown",
      "source": [
        "###1.0 Introduction"
      ],
      "metadata": {
        "id": "2L4zQFHK4ZJn"
      }
    },
    {
      "cell_type": "markdown",
      "source": [
        "\n",
        "  1.1 Classification of Signals\n",
        "\n",
        "\n",
        "*  Continuous and Descrete time signals\n",
        "*   Continuos and Descrete valued signals\n",
        "* Deterministic and Random Signals\n",
        "* Energy and Power signals\n",
        "*Odd and Even signals\n",
        "*Periodic and Aperiodic Signals\n",
        "\n",
        "1.2 Special Signals\n",
        "\n",
        "\n",
        "*   Complex Exponential Signals\n",
        "*   Impulse\n",
        "*Unit Step\n",
        "\n",
        "1.3 Continuous and Descerete time Systems\n",
        "\n",
        "> 1.3.1 Inter Connections Between Systems\n",
        "\n",
        "   \n",
        "*   Cascaded\n",
        "* Parallel\n",
        "*Series - Parallel\n",
        "*Feedback\n",
        "\n",
        "\n",
        "\n",
        "> 1.3.2 System Properties\n",
        "\n",
        "\n",
        "\n",
        "*   System with or without memory\n",
        "*   Inverse Systems\n",
        "*Time Invariance\n",
        "*Linearity\n",
        "*Causility\n",
        "\n",
        "1.4 Operations On signals\n",
        "\n",
        "\n",
        "*   Time Delay\n",
        "*   Time Scaling\n",
        "*Negation\n",
        "\n",
        "1.5 Linear Time Invarient Systems\n",
        "\n",
        "\n",
        "> 1.5.1 Convolution For Descrete LTI system\n",
        "\n",
        "> 1.5.2 Convolution For Continous LTI system\n",
        "\n",
        "1.6 Properties of Convolution\n",
        "\n",
        "\n",
        "\n",
        "*   $x(t) * \\delta(t) = x(t)$\n",
        "*   $x(t) * \\delta(t-T) = x(t-T)$\n",
        "*Commutativity\n",
        "*Distributivity\n",
        "*Condition for Inverse\n",
        "* Laplace Transform of Convolution\n",
        "\n",
        "\n",
        "\n",
        "\n",
        "\n",
        "\n",
        "\n",
        "\n"
      ],
      "metadata": {
        "id": "zft0FnwG0HN9"
      }
    },
    {
      "cell_type": "markdown",
      "source": [
        "### 2.0 Fourier Series"
      ],
      "metadata": {
        "id": "m_9KyI9B4UNo"
      }
    },
    {
      "cell_type": "markdown",
      "source": [
        "\n",
        "2.1 Introduction\n",
        "\n",
        "> 2.1.1 Inter-domain Analysis\n",
        "\n",
        "> 2.1.2 Periodic Signals\n",
        "\n",
        "> 2.1.3 Vector Space \n",
        "\n",
        "2.2 Fourier Series\n",
        ">2.2.1 Introduction\n",
        "\n",
        ">2.2.2 Coefficients of Fourier Series\n",
        "\n",
        "2.3 Properties of Fourier Series\n",
        "> 2.3.1 Linearity\n",
        "\n",
        "> 2.3.2 Time shifting\n",
        "\n",
        "> 2.3.3 Time Reverse\n",
        "\n",
        "> 2.3.4 Time Scaling\n",
        "\n",
        "> 2.3.5 Properties For Real Signals\n",
        ">> * Real and Even\n",
        ">> * Real and Odd\n",
        "\n",
        "> 2.3.6 Differentiation and Integration\n",
        "\n",
        ">2.3.7 Fourier Series of an Impulse \n",
        "\n",
        "2.4 Trignometric Fourier Series\n",
        "\n",
        "2.5 Power of a periodic signal\n",
        "\n",
        "\n",
        "*   Parseval's Theorem\n",
        "2.6 Periodic Signal through LTI system\n",
        "\n"
      ],
      "metadata": {
        "id": "rw9gMu8W2btd"
      }
    },
    {
      "cell_type": "markdown",
      "source": [
        "### 3.0 Fourier Transform"
      ],
      "metadata": {
        "id": "KS8lPsht43XK"
      }
    },
    {
      "cell_type": "markdown",
      "source": [
        "3.1 Introduction\n",
        "\n",
        "\n",
        "> 3.1.1 Complex Valued Functions\n",
        "\n",
        "> 3.1.2 From F.S. to F.T.\n",
        "\n",
        "> 3.1.3 Fouries Transform and Inverse F.T.\n",
        "\n",
        "> 3.1.4 F.T. and L.T.\n",
        "\n",
        "3.2 Fouries Transforms of Signals\n",
        ">3.2.1 $x(t) = e^{-at}u(t)$ and $x(t) = e^{-|a|t}$\n",
        "\n",
        ">3.2.2 Delta Function $δ(t)$\n",
        "\n",
        ">3.2.3 Square Pulse\n",
        "\n",
        ">3.2.4 Unit Step Function $u(t)$\n",
        "\n",
        "3.3 Properties of F.T.\n",
        ">3.3.1 Linearity\n",
        "\n",
        ">3.3.2 Time Shifting\n",
        "\n",
        ">3.3.3 Modulation / Shifting in Frequency\n",
        "\n",
        "> 3.3.4 Differentiation and Integratino\n",
        "\n",
        ">3.3.5 Time Scaling\n",
        "\n",
        ">3.3.6 Time Reversal\n",
        "\n",
        ">3.3.7 Uses of Properties (examples of derivations)\n",
        "\n",
        "\n",
        "\n",
        ">*   $\\mathcal{F}^{-1}[δ(ω))]$\n",
        ">*   F.T. of Periodic Signals\n",
        "\n",
        ">* $\\mathcal{F}[u(t)]$\n",
        "\n",
        "3.4 F.T. properties of real signals\n",
        "\n",
        "\n",
        "*   Real signals\n",
        "*   Real even signals\n",
        "* Real Odd signals\n",
        "\n",
        "3.5 Duality\n",
        "\n",
        "3.6 Energy of the signal\n",
        "*   Parseval's Theorem\n",
        "\n",
        "3.6 Modulation\n",
        "\n",
        "3.7 L.T.I. systems and F.T.\n",
        ">3.7.1 Frequency response\n",
        "\n",
        ">3.7.2 Convolution Property\n",
        "\n",
        ">3.7.3 Differentiation Property\n",
        "\n",
        "\n",
        "\n",
        "\n",
        "\n",
        "\n",
        "\n",
        "\n",
        "\n"
      ],
      "metadata": {
        "id": "2n5aCeEH47XL"
      }
    },
    {
      "cell_type": "markdown",
      "source": [
        "# Libraries"
      ],
      "metadata": {
        "id": "ea4TIOz3wzvv"
      }
    },
    {
      "cell_type": "code",
      "source": [
        "####################### include the libraries that are used ######################\n",
        "import numpy as np\n",
        "import matplotlib.pyplot as plt\n",
        "from sympy import *\n",
        "from scipy import signal\n",
        "from matplotlib import style\n",
        "from matplotlib.widgets import Slider, Button\n",
        "import matplotlib.animation as animation\n",
        "from matplotlib.patches import ConnectionPatch"
      ],
      "metadata": {
        "id": "RUCRY3hq4m7Z"
      },
      "execution_count": 33,
      "outputs": []
    },
    {
      "cell_type": "code",
      "source": [
        "class Waves:\n",
        "\n",
        "  def draw_periodic_signals(self,arr,title,x_axis_label,y_axis_label,pulse_height,sampling_rate):\n",
        "    t = np.linspace(-3.9, 3.9, sampling_rate, endpoint=True)\n",
        "    plt.style.context('fast')\n",
        "    plt.figure(figsize=(10, 3))\n",
        "    plt.grid(color = 'black', linestyle = '-', linewidth = 0.1)\n",
        "    plt.plot(t, arr)\n",
        "    plt.title(f'{title}')\n",
        "    plt.xlabel(x_axis_label)\n",
        "    plt.ylabel(y_axis_label)\n",
        "    plt.axhline(y=0, color='black',linewidth = 0.5)\n",
        "    plt.axvline(x=0, color='black',linewidth = 0.5)\n",
        "    plt.ylim(-0.4,pulse_height+0.4)\n",
        "    plt.xlim(-4,4)\n",
        "    plt.show()\n",
        "\n",
        "\n",
        "\n",
        "  def square_pulse(self,periodic_time,title,x_axis_label,y_axis_label,horizontal_shift,pulse_height):\n",
        "    t = np.linspace(-3.9, 3.9, 1000, endpoint=True)\n",
        "    arr=[((1+num)//2)*pulse_height for num in signal.square(1/periodic_time * np.pi * 1 * (t-horizontal_shift))]\n",
        "    self.draw_periodic_signals(arr,title,x_axis_label,y_axis_label,pulse_height,1000)\n",
        "\n",
        "    \"\"\"To form a square pulse\"\"\"\n",
        "\n",
        "    #   wave=Waves()\n",
        "    #   wave.square_pulse(Enter periodic time,Enter Title,Enter X axis label,Enter Y axis label,Enter horizontal shift,Enter pulse height)\n",
        "\n",
        "  def sawtooth_pulse(self,periodic_time,title,x_axis_label,y_axis_label,horizontal_shift,pulse_height):\n",
        "    t = np.linspace(-3.9, 3.9, 500)\n",
        "    arr=[(1+num)*pulse_height/2 for num in signal.sawtooth(2/periodic_time * np.pi * 1 * (t-horizontal_shift))]\n",
        "    self.draw_periodic_signals(arr,title,x_axis_label,y_axis_label,pulse_height,500)\n",
        "  \n",
        "\n",
        "    \"\"\"To form a sawtooth pulse\"\"\"\n",
        "\n",
        "    #   wave=Waves()\n",
        "    #   wave.sawtooth_pulse(Enter periodic time,Enter Title,Enter X axis label,Enter Y axis label,Enter horizontal shift,Enter pulse height)"
      ],
      "metadata": {
        "id": "EzpJ1Gh8DmC-"
      },
      "execution_count": 34,
      "outputs": []
    },
    {
      "cell_type": "markdown",
      "source": [
        "#1.0 Introduction"
      ],
      "metadata": {
        "id": "nJUBF99ViX2i"
      }
    },
    {
      "cell_type": "markdown",
      "source": [],
      "metadata": {
        "id": "2M0SosMCidNx"
      }
    },
    {
      "cell_type": "markdown",
      "source": [
        "# 2.0 Fourier Series"
      ],
      "metadata": {
        "id": "0cgU_5SQrl7m"
      }
    },
    {
      "cell_type": "markdown",
      "source": [
        "##2.1 Introduction"
      ],
      "metadata": {
        "id": "_fpjhxSAiAfa"
      }
    },
    {
      "cell_type": "markdown",
      "source": [
        "###2.1.1 Inter-Domain Analysis"
      ],
      "metadata": {
        "id": "e0XzjtGLiE9I"
      }
    },
    {
      "cell_type": "markdown",
      "source": [
        "The same signal can be represented in different domains. Each domain may be more convenient to analyse the signal rather than in another domain.\n",
        "\n",
        "eg :- \n",
        "\n",
        "*   Time Domain - Frequency Domain\n",
        "\n",
        "\n",
        "\n"
      ],
      "metadata": {
        "id": "pCfj8BdWiJ8T"
      }
    },
    {
      "cell_type": "code",
      "source": [
        "# Code represent different domins for a given signal\n",
        "# eg :- time domain - frequency domain etc.\n",
        "\n",
        "# Inter Domain Analysis\n",
        "\n",
        "# parameters of the signal\n",
        "dt = 0.01 # time step\n",
        "Fs = 1/dt # sampling rate\n",
        "t = np.arange(0 , 10 , dt )\n",
        "w0 = 2*np.pi\n",
        "x = 0.8 * np.sin(w0*t) + 0.6 * np.sin(2*w0*t+0.3) + 0.4 * np.sin(4*w0*t+0.5) + 0.5 * np.sin(20 * w0 * t - 0.8) + 0.3\n",
        "\n",
        "# ploting\n",
        "fig , axs = plt.subplots( nrows = 3 , ncols = 1 , figsize = (7,7))\n",
        "axs[0].set_title(\"Signal\")\n",
        "axs[0].plot(t,x,color = 'C0')\n",
        "axs[0].set_xlabel(\"Time\")\n",
        "axs[0].set_ylabel(\"Amplitude\")\n",
        "\n",
        "axs[1].set_title(\"Magnitude Spectrum\")\n",
        "axs[1].magnitude_spectrum(x, Fs=Fs, color='C1')\n",
        "\n",
        "axs[2].set_title(\"Phase Spectrum \")\n",
        "axs[2].phase_spectrum(x, Fs=Fs, color='C2'  )\n",
        "\n",
        "\n",
        "fig.tight_layout()\n",
        "plt.show()"
      ],
      "metadata": {
        "id": "Xw4AWEiLksBl",
        "colab": {
          "base_uri": "https://localhost:8080/",
          "height": 707
        },
        "outputId": "f9b58c13-999f-4324-e69a-5cb37c49a4bf"
      },
      "execution_count": 35,
      "outputs": [
        {
          "output_type": "display_data",
          "data": {
            "text/plain": [
              "<Figure size 700x700 with 3 Axes>"
            ],
            "image/png": "[encoded data removed]"
          },
          "metadata": {}
        }
      ]
    },
    {
      "cell_type": "markdown",
      "source": [
        "###2.1.2 Periodic Signals"
      ],
      "metadata": {
        "id": "cZSKLiQPiKmL"
      }
    },
    {
      "cell_type": "markdown",
      "source": [
        "For a signal $x(t)$ , if $x(t) = x(t+mT) \\space m∈𝕫 \\space, T > 0$\n",
        "\n",
        "$x(t)$ is periodic.\n",
        "\n",
        "The smallest T for which the above is satisfied is called the **fundamental period** of the periodic signal.\n",
        "\n",
        "Periodic signals are power signals.\n",
        "\n",
        "\n",
        "\n",
        "\n",
        "> Fundamental Period - $T_0$\n",
        "\n",
        ">Fundamental Freaquency - $f_0$\n",
        "\n",
        "> $f_0 = \\frac{1}{T_0}$ Hz\n",
        "\n",
        "> $ω_0 = \\frac{2\\pi}{T_0} \\space \\mathrm{rad \\space s^{-1}}$ \n",
        "\n",
        "\n",
        "\n"
      ],
      "metadata": {
        "id": "bpti2zuRiP1z"
      }
    },
    {
      "cell_type": "markdown",
      "source": [
        "##### Code"
      ],
      "metadata": {
        "id": "BEzaYzo1BUF3"
      }
    },
    {
      "cell_type": "code",
      "source": [
        "# Plot of representing a periodic signal with its periodicity\n",
        "\n",
        "# periodic plots\n",
        "\n",
        "# ---------- The slider doesnt' work in colab -------------------\n",
        "# The parametrized function to be plotted\n",
        "def f(t, n):\n",
        "    w0 = 2*np.pi\n",
        "    T = 2*np.pi/w0\n",
        "    A = 0.8\n",
        "    return A * np.sin(w0*(t + n*T))\n",
        "dt = 0.01\n",
        "t = np.arange(0,4, dt)\n",
        "\n",
        "# Define initial parameters\n",
        "init_n= 0\n",
        "\n",
        "# Create the figure and the line that we will manipulate\n",
        "fig, ax = plt.subplots()\n",
        "line, = ax.plot(t, f(t, init_n), lw=2)\n",
        "ax.scatter(t , f(t, init_n) , s = 0.1 , color = 'green' )\n",
        "ax.set_xlabel('Time [s]')\n",
        "\n",
        "# adjust the main plot to make room for the sliders\n",
        "fig.subplots_adjust(left=0.25, bottom=0.25)\n",
        "\n",
        "# Make a horizontal slider to control the frequency.\n",
        "axShift= fig.add_axes([0.25, 0.1, 0.65, 0.03])\n",
        "shift_slider = Slider(\n",
        "    ax=axShift,\n",
        "    label='n value for $x(t+nT)$',\n",
        "    valmin=0,\n",
        "    valmax=4,\n",
        "    valinit=init_n,\n",
        "    valstep = 0.25\n",
        "    \n",
        ")\n",
        "\n",
        "\n",
        "# The function to be called anytime a slider's value changes\n",
        "def update(val):\n",
        "    line.set_ydata(f(t, shift_slider.val))\n",
        "    fig.canvas.draw_idle()\n",
        "\n",
        "\n",
        "# register the update function with each slider\n",
        "shift_slider.on_changed(update)\n",
        "\n",
        "# Create a `matplotlib.widgets.Button` to reset the sliders to initial values.\n",
        "resetax = fig.add_axes([0.8, 0.025, 0.1, 0.04])\n",
        "button = Button(resetax, 'Reset', hovercolor='0.975')\n",
        "\n",
        "\n",
        "def reset(event):\n",
        "    shift_slider.reset()\n",
        "    \n",
        "button.on_clicked(reset)\n",
        "\n",
        "plt.show()\n",
        "\n"
      ],
      "metadata": {
        "colab": {
          "base_uri": "https://localhost:8080/",
          "height": 0
        },
        "id": "N6T5iyILoZIi",
        "outputId": "ec200871-aecd-4aa3-fb69-8a7177108681"
      },
      "execution_count": 36,
      "outputs": [
        {
          "output_type": "display_data",
          "data": {
            "text/plain": [
              "<Figure size 640x480 with 3 Axes>"
            ],
            "image/png": "[encoded data removed]"
          },
          "metadata": {}
        }
      ]
    },
    {
      "cell_type": "markdown",
      "source": [
        "#### Behavior of $e^{j\\omega_0t}$"
      ],
      "metadata": {
        "id": "7Qd4ycy-KucY"
      }
    },
    {
      "cell_type": "markdown",
      "source": [
        "$Z = e^{j\\omega_0t} = \\text{cos}(\\omega_0t) + j \\space \\text{sin}(\\omega_0t)$\n",
        "\n",
        "$Z$ moves in a circular path on the complex plane with $\\omega_0$ angular speed ,  while $Re[Z]$ and $Im[Z]$ values varies along each axis.\n",
        "\n",
        "The total motion is periodic.\n"
      ],
      "metadata": {
        "id": "8hyBfu6mK1P_"
      }
    },
    {
      "cell_type": "markdown",
      "source": [
        "##### Code"
      ],
      "metadata": {
        "id": "111wZD5mBP_f"
      }
    },
    {
      "cell_type": "code",
      "source": [
        "# code to represent the complex exponent\n",
        "fig, (axl, axr) = plt.subplots(\n",
        "    ncols=2,\n",
        "    sharey=True,\n",
        "    figsize=(6, 2),\n",
        "    gridspec_kw=dict(width_ratios=[1, 3], wspace=0),\n",
        ")\n",
        "axl.set_aspect(1)\n",
        "axl.set_title(\"$e^{j\\omega_0t}$\")\n",
        "axr.set_box_aspect(1 / 3)\n",
        "axr.yaxis.set_visible(False)\n",
        "axr.xaxis.set_ticks([0, np.pi, 2 * np.pi], [\"0\", r\"$\\pi$\", r\"$2\\pi$\"])\n",
        "axr.set_title(\"Imaginery Axis\")\n",
        "# draw circle with initial point in left Axes\n",
        "x = np.linspace(0, 2 * np.pi, 50)\n",
        "axl.plot(np.cos(x), np.sin(x), \"k\", lw=0.3)\n",
        "point, = axl.plot(0, 0, \"o\")\n",
        "\n",
        "# draw full curve to set view limits in right Axes\n",
        "sine, = axr.plot(x, np.sin(x))\n",
        "\n",
        "# draw connecting line between both graphs\n",
        "con = ConnectionPatch(\n",
        "    (1, 0),\n",
        "    (0, 0),\n",
        "    \"data\",\n",
        "    \"data\",\n",
        "    axesA=axl,\n",
        "    axesB=axr,\n",
        "    color=\"C0\",\n",
        "    ls=\"dotted\",\n",
        ")\n",
        "fig.add_artist(con)\n",
        "\n",
        "\n",
        "def animate(i):\n",
        "    x = np.linspace(0, i, int(i * 25 / np.pi))\n",
        "    sine.set_data(x, np.sin(x))\n",
        "    x, y = np.cos(i), np.sin(i)\n",
        "    point.set_data([x], [y])\n",
        "    con.xy1 = x, y\n",
        "    con.xy2 = i, y\n",
        "    return point, sine, con\n",
        "\n",
        "\n",
        "ani = animation.FuncAnimation(\n",
        "    fig,\n",
        "    animate,\n",
        "    interval=50,\n",
        "    blit=False,  # blitting can't be used with Figure artists\n",
        "    frames=x,\n",
        "    repeat_delay=100,\n",
        ")\n",
        "\n",
        "plt.show()"
      ],
      "metadata": {
        "id": "hRJlQxpJK32g",
        "colab": {
          "base_uri": "https://localhost:8080/",
          "height": 0
        },
        "outputId": "ee64537f-6249-4727-b232-54df08e4b5b2"
      },
      "execution_count": 37,
      "outputs": [
        {
          "output_type": "display_data",
          "data": {
            "text/plain": [
              "<Figure size 600x200 with 2 Axes>"
            ],
            "image/png": "[encoded data removed]"
          },
          "metadata": {}
        }
      ]
    },
    {
      "cell_type": "markdown",
      "source": [
        "###2.1.3 Vector Space"
      ],
      "metadata": {
        "id": "JDWQaVmUiQEy"
      }
    },
    {
      "cell_type": "markdown",
      "source": [
        "#### Inner Product"
      ],
      "metadata": {
        "id": "EU4CjGCgoLV6"
      }
    },
    {
      "cell_type": "markdown",
      "source": [
        "Inner product for a periodic function is defined as,\n",
        "\n",
        "$<f(t) , g(t) > = \\frac{1}{T} \\int_{0}^{T}f(t)g^*(t)dt$"
      ],
      "metadata": {
        "id": "bzscCtATo8Un"
      }
    },
    {
      "cell_type": "markdown",
      "source": [
        "Consider the periodic signal , $e^{jn\\omega_0t}$.\n",
        "\n",
        "\\begin{align}\n",
        "<e^{jn\\omega_0t} , e^{jm \\omega_0t}> &= \\frac{1}{T} \\int_{0}^{T}e^{jn\\omega_0t}\\space e^{-jn\\omega_0t}dt\\\\\n",
        "&= \\frac{1}{T} \\int_0^T e^{j(n-m)\\omega_0t}dt\n",
        "\\end{align}\n",
        "\n",
        "\n"
      ],
      "metadata": {
        "id": "kemBw0mOq8BE"
      }
    },
    {
      "cell_type": "markdown",
      "source": [
        "For $n = m$,\n",
        "\n",
        "\\begin{align}\n",
        "<e^{jn\\omega_0t} , e^{jm \\omega_0t}> &= 1 \\\\\n",
        "\\therefore \\space ||e^{jn\\omega_0t}||&= 1\n",
        "\\end{align}\n",
        "\n",
        "For $n\\ne m,$\n",
        "\n",
        "\\begin{align}\n",
        "<e^{jn\\omega_0t} , e^{jm \\omega_0t}> &= 0\n",
        "\\end{align}\n",
        "\n",
        "$\\therefore$ The two vectors are orthigonal.(Corelation is zero)\n",
        "\n",
        "$\\therefore$ These are orthonormal.\n",
        "\n",
        "Hence , this can be used as an orthonormal basis for periodic functions."
      ],
      "metadata": {
        "id": "TqQw7JVbdJt_"
      }
    },
    {
      "cell_type": "markdown",
      "source": [
        "#### Projection"
      ],
      "metadata": {
        "id": "6CI_5IOco8m_"
      }
    },
    {
      "cell_type": "markdown",
      "source": [
        "For two vectors **u** and **v** , the projection is defined as ,\n",
        "\n",
        "Projection of **v** on **u** = $\\frac{<u,v>}{||u||}$\n",
        "\n",
        "Simillarly , the projection of $f(t) \\space \\text{on} \\space e^{jn\\omega_0t}$ can be defined as ,\n",
        "\\begin{align}\n",
        "\\frac{<f(t) , e^{jn\\omega_0t}>}{||e^{jn\\omega_0t}||} = \\frac{1}{T} \\int_0^Tf(t)\\space e^{jn\\omega_0t}dt = F(jn\\omega_0)\\end{align}\n",
        "\n",
        "Hence, the function can be represented as a linear combination of vectors $e^{jn\\omega_0}$\n",
        "\\begin{align}\n",
        "f(t) = \\sum_{-\\infty}^{∞}F(jn\\omega_0)e^{jn\\omega_0}\n",
        "\\end{align}\n",
        "\n"
      ],
      "metadata": {
        "id": "pJvYZGpGpE-5"
      }
    },
    {
      "cell_type": "markdown",
      "source": [
        "#### Norm"
      ],
      "metadata": {
        "id": "5z-UL8tBpFM6"
      }
    },
    {
      "cell_type": "markdown",
      "source": [
        "\\begin{align}\n",
        "||f(t)||^2 &= <f(t),f(t)>\\\\\n",
        "&= \\frac{1}{T} \\int_0^Tf(t)f^*(t)dt\\\\\n",
        "&= \\frac{1}{T} \\int_0^T|f(t)|^2dt\\\\\n",
        "&= \\sum_{n=-\\infty}^{\\infty}F^2(nj\\omega_0)\n",
        "\\end{align}\n",
        "\n",
        "Norm of the signal is same as the squared sum of the F.S. coefficients.\n",
        "This is related with the energy of the signal."
      ],
      "metadata": {
        "id": "bRwjYbeVpNdy"
      }
    },
    {
      "cell_type": "markdown",
      "source": [
        "####Eigen Functions"
      ],
      "metadata": {
        "id": "s0BsfVgRpNuo"
      }
    },
    {
      "cell_type": "markdown",
      "source": [
        "If $\\frac{dx(t)}{dt} = \\lambda x(t) , x(t)$ is an eigen function.\n",
        "\n",
        "For $x(t) = e^{jk\\omega_0t}$ , \n",
        "\n",
        "$\\frac{d (e^{jk\\omega_0t})}{dt} = jk\\omega_0e^{jk\\omega_0t} $\n",
        "\n",
        "$\\therefore e^{jk\\omega_0t}$ is an eigen function.\n",
        "\n",
        "For the vector space, it forms an eigen basis."
      ],
      "metadata": {
        "id": "sI-FAePfpRzQ"
      }
    },
    {
      "cell_type": "markdown",
      "source": [
        "## 2.2 Fourier Series"
      ],
      "metadata": {
        "id": "-QXTnDHmsC8T"
      }
    },
    {
      "cell_type": "markdown",
      "source": [
        "###2.2.1 Introduction"
      ],
      "metadata": {
        "id": "TsHL4gCniXm7"
      }
    },
    {
      "cell_type": "markdown",
      "source": [
        "Consider,\n",
        "\\begin{align}\n",
        "x(t)=11+4sin(5t)+\\frac{4}{3}sin(15t)\n",
        "\\end{align}"
      ],
      "metadata": {
        "id": "0HqqXG0lsIGt"
      }
    },
    {
      "cell_type": "code",
      "source": [
        "dt = 0.01\n",
        "Fs = 1/dt\n",
        "t = np.arange(0,4, dt)\n",
        "w0 = 5\n",
        "xt = 11 + 4 * np.sin(w0*t) + (4/3)*np.sin(3*w0*t)\n",
        "\n",
        "plt.plot(t,xt)\n",
        "plt.show()"
      ],
      "metadata": {
        "id": "pUt_DCfcsXFp",
        "colab": {
          "base_uri": "https://localhost:8080/",
          "height": 430
        },
        "outputId": "058f38b3-57cd-4202-9a14-1948bc41b3bb"
      },
      "execution_count": 38,
      "outputs": [
        {
          "output_type": "display_data",
          "data": {
            "text/plain": [
              "<Figure size 640x480 with 1 Axes>"
            ],
            "image/png": "[encoded data removed]"
          },
          "metadata": {}
        }
      ]
    },
    {
      "cell_type": "markdown",
      "source": [
        "\n",
        "<p>Fundermental frequency = frequency of the lowest frequency component</p>\n",
        "Thus,\n",
        "\\begin{align}\n",
        "\\omega_0&=5\\\\\n",
        "T=\\frac{2\\pi}{5} \\:\\:&and\\:\\: f_0=\\frac{5}{2\\pi}\\\\\n",
        "e^{j\\theta}=cos\\theta &+j sin\\theta\\\\\n",
        "\\end{align}\n",
        "This gives,\n",
        "\\begin{align}\n",
        "sin\\theta = \\frac{e^{j\\theta}-e^{-j\\theta}}{2j}\\:\\:\\: and \\:\\:\\: cos\\theta = \\frac{e^{j\\theta}+e^{-j\\theta}}{2}\n",
        "\\end{align}\n",
        "\n",
        "\n",
        "By substituting to $x(t)$,\n",
        "\\begin{align}\n",
        "x(t)&=11+4(\\frac{e^{5jt}-e^{-5jt}}{2j})+\\frac{4}{3}(\\frac{e^{15j}-e^{-15j}}{2j})\\\\\n",
        "x(t)&=[\\frac{2}{3}e^{j\\frac{\\pi}{2}}]e^{(-3)5jt}+[2e^{j\\frac{\\pi}{2}}]e^{(-1)5jt}+[11]e^{(0)5jt}+[2e^{-j\\frac{\\pi}{2}}]e^{(+1)5jt}+[\\frac{2}{3}e^{-j\\frac{\\pi}{2}}]e^{(+3)5jt}\n",
        "\\end{align}\n",
        "\n",
        "\n",
        "This is the Fourier Series of $x(t)$\n",
        "\n",
        "A linear combination of basis vectors with complex coefficients. Here, the real valued function $x(t)$ is represented as a sum of complex exponents with complex coefficients."
      ],
      "metadata": {
        "id": "TOIIkLghsZHD"
      }
    },
    {
      "cell_type": "markdown",
      "source": [
        "Here,\\\n",
        "$[\\frac{2}{3}e^{j\\frac{\\pi}{2}}],[2e^{j\\frac{\\pi}{2}}],[11],[2e^{-j\\frac{\\pi}{2}}],[\\frac{2}{3}e^{-j\\frac{\\pi}{2}}]$ are known as **Fourier Coefficients of $x(t)$**.\n",
        "\n",
        "Thus the Fourier Series Expression can be written as,\n",
        "\n",
        "\\begin{align}\n",
        "x(t)=\\sum_{k=-\\infty}^{\\infty} X_k\\:e^{jk\\omega_0t}\\:\\:\\: ; X_k \\in \\mathbb{C}\n",
        "\\end{align}\n",
        "\n",
        "\\begin{align}\n",
        "X_k&=Re[X_k]+jIm[X_k]\\\\\n",
        "\\\\\n",
        "X_k&=|X_k|e^{j.Arg[X_k]}\n",
        "\\end{align}\n"
      ],
      "metadata": {
        "id": "XsnQI7gWxwg7"
      }
    },
    {
      "cell_type": "code",
      "source": [
        "# ----------- Doesn't Give the true values for magnitude and phase --------------\n",
        "\n",
        "#Magnitude plot and phase plot\n",
        "fig , axs = plt.subplots( nrows= 1 , ncols=1 ,figsize = (7,7))\n",
        "\n",
        "\n",
        "axs.set_title(\"Magnitude Spectrum\")\n",
        "axs.magnitude_spectrum(xt, Fs=Fs, color='C1' , scale = 'linear' )\n",
        "\n",
        "'''axs[0].set_title(\"Signal\")\n",
        "axs[0].plot(t,x,color = 'C0')\n",
        "axs[0].set_xlabel(\"Time\")\n",
        "axs[0].set_ylabel(\"Amplitude\")'''\n",
        "\n",
        "'''axs[0].set_title(\"Magnitude Spectrum\")\n",
        "axs[0].magnitude_spectrum(xt, Fs=Fs, color='C1' , scale = 'linear' )'''\n",
        "\n",
        "'''axs[1].set_title(\"Phase Spectrum \")\n",
        "axs[1].phase_spectrum(xt, Fs=Fs, color='C2'  )'''\n",
        "'''\n",
        "axs[1].set_title(\"Angle Spectrum\")\n",
        "axs[1].angle_spectrum(xt, Fs=Fs, color='C2' , )'''\n",
        "\n",
        "\n",
        "\n",
        "fig.tight_layout()\n",
        "plt.show()"
      ],
      "metadata": {
        "id": "njdBNabUzziD",
        "colab": {
          "base_uri": "https://localhost:8080/",
          "height": 707
        },
        "outputId": "89f88c57-8201-45f3-cad9-ac22b9519942"
      },
      "execution_count": 39,
      "outputs": [
        {
          "output_type": "display_data",
          "data": {
            "text/plain": [
              "<Figure size 700x700 with 1 Axes>"
            ],
            "image/png": "[encoded data removed]"
          },
          "metadata": {}
        }
      ]
    },
    {
      "cell_type": "markdown",
      "source": [
        "* Discontinuous signals can be expressed as a collection of continuous signals using fourier series.\n",
        "\n"
      ],
      "metadata": {
        "id": "9pdh_z2hyf9E"
      }
    },
    {
      "cell_type": "markdown",
      "source": [
        "\\begin{align}\n",
        "x(t)&=\\sum_{m} X_me^{jm\\omega_0t}\\\\\n",
        "x(t)&=...+X_{-2}e^{j(-2)\\omega_0t}+X_{-1}e^{j(-1)\\omega_0t}+X_{0}+X_{1}e^{j(1)\\omega_0t}+X_{2}e^{j(2)\\omega_0t}+...\\\\\n",
        "\\end{align}\n",
        "\\\n",
        "Appling Fourier Transform to L.H.S and $m^{th}$ term of R.H.S\n",
        "\\begin{align}\n",
        "X_m =\\frac{1}{T_0}\\int_{T_0}x(t)e^{-jk\\omega_0t}dt&=\\frac{1}{T_0}\\int_{T_0}X_me^{jm\\omega_0t}e^{-jk\\omega_0t}dt = X_m \\space (\\because k=m)\n",
        "\\end{align}\n"
      ],
      "metadata": {
        "id": "0OHf-Bw9pujl"
      }
    },
    {
      "cell_type": "markdown",
      "source": [
        "###2.2.2 Coefficients of Fourier Series\n"
      ],
      "metadata": {
        "id": "XVvUb8yHr8AY"
      }
    },
    {
      "cell_type": "markdown",
      "source": [
        "Since a signal $x(t)$ can be represented as a summation of complex exponents with complex coefficients as,\n",
        "\n",
        "$x(t) = \\sum_{k} X_ke^{jk\\omega_0t} $ , \n",
        "\n",
        "The $k^{\\text{th}}$ harmonic coefficient can be obtained as,\n",
        "\n",
        "$X_k = \\frac{1}{T} \\int_{T_0}x(t)e^{-jk\\omega_0t}$\n",
        "\n",
        "This is the projection of $x(t)$  along the vector $e^{jk\\omega_0t}$\n",
        "\n",
        "$X_k$ provides information about the $k^{th} $harmonic component .(The magnitude and the phase)."
      ],
      "metadata": {
        "id": "8FdyHZNOikcJ"
      }
    },
    {
      "cell_type": "markdown",
      "source": [
        "For $k=0$ , \n",
        "\n",
        "$X_0 = \\frac{1}{T_0} \\int_{T_0}x(t)dt$\n",
        "\n",
        "This is the average value (DC value) of the signal $x(t)$."
      ],
      "metadata": {
        "id": "1ZzPiIY6O7_-"
      }
    },
    {
      "cell_type": "markdown",
      "source": [
        "#### Example"
      ],
      "metadata": {
        "id": "v4Szzz8WPmPJ"
      }
    },
    {
      "cell_type": "markdown",
      "source": [
        "\\begin{align}\n",
        "      g(t) = \\left\\{\n",
        "        \\begin{array}{cl}\n",
        "        1 & t \\le |T_1| \\\\\n",
        "        0 & \\text{elsewhere}\n",
        "        \\end{array}\n",
        "        \\right.\n",
        "\\end{align}\n",
        "\n",
        "\\begin{align}\n",
        "x(t) = \\sum_{-\\infty}^{\\infty} g(t-kT_0)\n",
        "\\end{align}\n",
        "\n",
        "Find the fourier series coefficients of the wave form."
      ],
      "metadata": {
        "id": "6TyKbZw1klB8"
      }
    },
    {
      "cell_type": "code",
      "source": [
        "# Example Code\n",
        "dt = 0.01\n",
        "Fs = 1/dt\n",
        "T0 = 2\n",
        "T1 = 0.5\n",
        "t = np.arange(-5*T0 , 5*T0 , dt)-1\n",
        "gt = signal.square(t , duty = 2*T1/T0)\n",
        "plt.plot(t,gt)\n",
        "plt.show()"
      ],
      "metadata": {
        "id": "xB7DCkKsPkNt",
        "colab": {
          "base_uri": "https://localhost:8080/",
          "height": 485
        },
        "outputId": "b0a81900-acf1-46e9-d069-c6be9a70c89e"
      },
      "execution_count": 40,
      "outputs": [
        {
          "output_type": "stream",
          "name": "stderr",
          "text": [
            "/usr/local/lib/python3.10/dist-packages/matplotlib/animation.py:884: UserWarning: Animation was deleted without rendering anything. This is most likely not intended. To prevent deletion, assign the Animation to a variable, e.g. `anim`, that exists until you output the Animation using `plt.show()` or `anim.save()`.\n",
            "  warnings.warn(\n"
          ]
        },
        {
          "output_type": "display_data",
          "data": {
            "text/plain": [
              "<Figure size 640x480 with 1 Axes>"
            ],
            "image/png": "[encoded data removed]"
          },
          "metadata": {}
        }
      ]
    },
    {
      "cell_type": "markdown",
      "source": [
        "##### Solution"
      ],
      "metadata": {
        "id": "u5--FhVewP6j"
      }
    },
    {
      "cell_type": "markdown",
      "source": [
        "Tips :- \n",
        "\n",
        "\n",
        "*   Find the DC component seperately as sometimes it is useful\n",
        "*   choose an easier time period for the integration\n",
        "\n"
      ],
      "metadata": {
        "id": "kdTFi_9ltRnU"
      }
    },
    {
      "cell_type": "markdown",
      "source": [
        "Here, the integration is taken as $\\frac{-T_0}{2} \\le t \\le \\frac{T_0}{2}$\n",
        "\n",
        "DC component ,\n",
        "\\begin{align}\n",
        "X_0 &= \\frac{1}{T_0}\\int_{T_0}x(t)dt \\\\\n",
        "&= \\frac{1}{T_0} \\int_{\\frac{-T_0}{2}}^ {\\frac{T_0}{2}} x(t)dt \\\\\n",
        "&= \\frac{1}{T_0} \\int_{-T_1}^ {T_1} x(t)d \\\\&= \\frac{1}{T_0} \\int_{-T_1}^ {T_1} (1)dt \\\\\n",
        "&= \\frac{2T_1}{T_0}\n",
        "\\end{align}\n",
        "\n",
        "Fourier Series Ccoefficient,\n",
        "\\begin{align}\n",
        "X_k  &= \\frac{1}{T_0} \\int_{T_0}x(t)e^{-jk\\omega_0t}dt \\\\\n",
        "&= \\frac{1}{T_0} \\int_{\\frac{-T_0}{2}}^{\\frac{T_0}{2}}x(t)e^{-jk\\omega_0t}dt \\\\\n",
        "&= \\frac{1}{T_0} \\int_{-T_1}^{T_1}(1)e^{-jk\\omega_0t}dt \\\\\n",
        "&=\\frac{1}{T_0}\\left( \\frac{e^{jk\\omega_0T_1} - e^{-jk\\omega_0T_1}  }{jk\\omega_0}\\right).\\\\\n",
        "&= \\frac{2}{T_0k\\omega_0}\\left( \\frac{e^{jk\\omega_0T_1} - e^{-jk\\omega_0T_1}  }{2j}\\right).\\\\\n",
        "&= \\frac{2}{T_0k\\omega_0}\\mathrm{sin}(k\\omega_0T_1)\\\\\n",
        "&= \\frac{1}{k\\pi}\\mathrm{sin}(k\\omega_0T_1)\n",
        "\\end{align}\n",
        "\n"
      ],
      "metadata": {
        "id": "VpD-p8Nzv3K7"
      }
    },
    {
      "cell_type": "markdown",
      "source": [
        "$\\therefore x(t) = \\frac{2T_1}{T_0} + \\sum_{k\\ne0}\\frac{1}{k\\pi}\\mathrm{sin}(k\\omega_0T_1)e^{-jk\\omega_0t}$"
      ],
      "metadata": {
        "id": "a3ldamWZ-Y23"
      }
    },
    {
      "cell_type": "markdown",
      "source": [
        "##### Key Points"
      ],
      "metadata": {
        "id": "pptLtzVa8-IU"
      }
    },
    {
      "cell_type": "code",
      "source": [
        "#  magnitude and phase spectrum\n",
        "lim = 50\n",
        "k1 = np.arange(-lim , -1  , 1 )\n",
        "k2 = np.arange(1 , lim  , 1 )\n",
        "k = np.concatenate((k1,k2))\n",
        "print(type(k))\n",
        "T1 = 0.5\n",
        "T0 = 2\n",
        "w0 = 2*np.pi/T0\n",
        "Xk = 1/(np.pi*k) * np.sin(k*w0*T1)\n",
        "\n",
        "plt.stem(k,Xk)\n",
        "plt.show()"
      ],
      "metadata": {
        "id": "y14bptne85rl",
        "colab": {
          "base_uri": "https://localhost:8080/",
          "height": 447
        },
        "outputId": "eed9a008-4214-4c67-8eda-6088ddc3ae8b"
      },
      "execution_count": 41,
      "outputs": [
        {
          "output_type": "stream",
          "name": "stdout",
          "text": [
            "<class 'numpy.ndarray'>\n"
          ]
        },
        {
          "output_type": "display_data",
          "data": {
            "text/plain": [
              "<Figure size 640x480 with 1 Axes>"
            ],
            "image/png": "[encoded data removed]"
          },
          "metadata": {}
        }
      ]
    },
    {
      "cell_type": "markdown",
      "source": [
        "Since $X_K = \\frac{1}{k\\pi}\\mathrm{sin}(k\\omega_0T_1)$ , $X_k \\in \\mathbb{R}$\n",
        "\n",
        "The phase plot in either $0$ or $\\pi$\n",
        "\n",
        "The series is infinite as $x(t)$ is discontinuous.\n",
        "\n",
        "Low frequency components have higher amplitude while higher frequency components have lower amplitudes.\n",
        "\n",
        "$\\therefore$ The signal is Low Pass\n",
        "\n"
      ],
      "metadata": {
        "id": "ca5CHKr99DYG"
      }
    },
    {
      "cell_type": "markdown",
      "source": [
        "Sharp edges can be formed using high frequency components."
      ],
      "metadata": {
        "id": "Vu_B57ONAbEb"
      }
    },
    {
      "cell_type": "code",
      "source": [
        "# code to demonstrate high frequency component."
      ],
      "metadata": {
        "id": "u4q8znjrAj5A"
      },
      "execution_count": 42,
      "outputs": []
    },
    {
      "cell_type": "markdown",
      "source": [
        "## 2.3 Properties of Fourier Series\n"
      ],
      "metadata": {
        "id": "VVZeuu2Keuht"
      }
    },
    {
      "cell_type": "markdown",
      "source": [
        "### 2.3.1 Linearity"
      ],
      "metadata": {
        "id": "AwDrJLkjhivx"
      }
    },
    {
      "cell_type": "markdown",
      "source": [
        "\n",
        "\n",
        "Consider a periodic signal $x(t)$ with a fundermental frequency $\\omega_0$ and $k^{th}$ Fourier series coefficient is given by $X_k$.\\\n",
        "Consider another periodic signal $y(t)$ with $\\textbf{the same fundermental frequency $\\omega_0$}$ and $k^{th}$ Fourier Series coefficient is given by $Y_k$.\\\n",
        "\\\n",
        "\\begin{align}\n",
        "x(t)&⟶ X_k\\\\\n",
        "y(t)&⟶ Y_k\\\\\n",
        "Ax(t)+By(t)&⟶AX_k + BY_k\\\\\n",
        "\\end{align}\n"
      ],
      "metadata": {
        "id": "5wvjDek9JiO_"
      }
    },
    {
      "cell_type": "code",
      "source": [
        "##Example"
      ],
      "metadata": {
        "id": "PCFcg5Iravk4"
      },
      "execution_count": 43,
      "outputs": []
    },
    {
      "cell_type": "markdown",
      "source": [
        "### 2.3.2 Time Shifting"
      ],
      "metadata": {
        "id": "B0Q3HLokhpcg"
      }
    },
    {
      "cell_type": "markdown",
      "source": [
        "\n",
        "\n",
        "\n",
        "If Fourier Series coefficient of the periodic signal $x(t)$ is $X_k$.\n",
        "\\\n",
        "\\begin{align}\n",
        "x(t)&⟶X_k\\\\\n",
        "x(t)&=\\sum_{k}X_ke^{jk\\omega_0t}\\\\\n",
        "\\end{align}\n",
        "\n",
        "Apply $t \\Rightarrow t-t_0$;\n",
        "\n",
        "\\begin{align}\n",
        "x(t-t_0)&=\\sum_{k}X_ke^{jk\\omega_0(t-t_0)}\\\\\n",
        "x(t-t_0)&=\\sum_{k}(X_ke^{-jkw_0t_0})e^{jk\\omega_0t}\\\\\n",
        "\\end{align}\n",
        "\\\n",
        "Let $X'_k=X_ke^{-jkw_0t_0}$\n",
        "\n",
        "\\begin{align}\n",
        "|X'_k|&=|X_k|\\\\\n",
        "\\angle{X'_k}&=\\angle{X_k}-\\angle{k\\omega_0t_0}\n",
        "\\end{align}\n",
        "\\\n",
        "Degree of change of phase angle of higher harmonics is higher.\n"
      ],
      "metadata": {
        "id": "vCAVEmk_atjg"
      }
    },
    {
      "cell_type": "code",
      "source": [
        "wave=Waves()\n",
        "wave.square_pulse(2,\"a(t)\",\"t\",\"\",-1,1)"
      ],
      "metadata": {
        "id": "RNpTbdpPSS0P",
        "colab": {
          "base_uri": "https://localhost:8080/",
          "height": 0
        },
        "outputId": "b05f6b0c-ff5e-4208-bafb-21befd30d0f6"
      },
      "execution_count": 44,
      "outputs": [
        {
          "output_type": "display_data",
          "data": {
            "text/plain": [
              "<Figure size 1000x300 with 1 Axes>"
            ],
            "image/png": "[encoded data removed]"
          },
          "metadata": {}
        }
      ]
    },
    {
      "cell_type": "markdown",
      "source": [
        "Using,\n",
        "\\begin{align}\n",
        "X_k=\\frac{1}{k\\pi}sin(k\\omega_0T_1)\n",
        "\\end{align}\n",
        "Where $T_1=1$\n",
        "\\begin{align}\n",
        "\\omega_0=\\frac{2\\pi}{T_0}=\\frac{2\\pi}{4}=\\frac{\\pi}{2}\n",
        "\\end{align}\n",
        "Thus,\n",
        "\\begin{align}\n",
        "a_k=\\frac{1}{k\\pi}sin(k\\frac{\\pi}{2})\n",
        "\\end{align}\n",
        "\n",
        "\n"
      ],
      "metadata": {
        "id": "V2bHPuqiWN6_"
      }
    },
    {
      "cell_type": "code",
      "source": [
        "wave.square_pulse(2,\"y(t)\",\"t\",\"\",0,1)"
      ],
      "metadata": {
        "id": "doiy1zWfZfcx",
        "outputId": "86b0f6d2-ff8a-45f8-c9f2-090e387b9801",
        "colab": {
          "base_uri": "https://localhost:8080/",
          "height": 0
        }
      },
      "execution_count": 45,
      "outputs": [
        {
          "output_type": "display_data",
          "data": {
            "text/plain": [
              "<Figure size 1000x300 with 1 Axes>"
            ],
            "image/png": "[encoded data removed]"
          },
          "metadata": {}
        }
      ]
    },
    {
      "cell_type": "markdown",
      "source": [
        "In the light of above graph,\n",
        "\\begin{align}\n",
        "y(t)&=a(t-1)\\\\\n",
        "Y_k&=a_ke^{-jk\\omega_0t_0}\\\\\n",
        "Y_k&=a_ke^{-jk\\frac{\\pi}{2}}\\\\\n",
        "Y_k&=[\\frac{1}{k\\pi}sin{(k\\frac{\\pi}{2})}]e^{-jk\\frac{\\pi}{2}}\\\\\n",
        "\\end{align}"
      ],
      "metadata": {
        "id": "jASeBseVaHx2"
      }
    },
    {
      "cell_type": "markdown",
      "source": [
        "### 2.3.3 Time Reverse"
      ],
      "metadata": {
        "id": "VN7Lzsq7hscg"
      }
    },
    {
      "cell_type": "markdown",
      "source": [
        "\n",
        "If Fourier Series coefficient of the periodic signal $x(t)$ is $X_k$.\n",
        "\\\n",
        "\\begin{align}\n",
        "x(t)&⟶X_k\\\\\n",
        "x(-t)&⟶X'_k\\\\\n",
        "x(t)&=\\sum_{k}X_ke^{jk\\omega_0t}\\\\\n",
        "\\end{align}\n",
        "Apply $t⇒-t$\n",
        "\\begin{align}\n",
        "x(-t)&=\\sum_{k}X_ke^{-jk\\omega_0t}\\\\\n",
        "\\end{align}\n",
        "\\\n",
        "Inoder to obtain a simillar equation like in Fourier Series,\\\n",
        "\\\n",
        "Apply $k⇒-k$\n",
        "\\begin{align}\n",
        "x(-t)&=\\sum_{k}X_{-k}e^{jk\\omega_0t}\\\\\n",
        "\\end{align}\n",
        "Thus,\n",
        "\\begin{align}\n",
        "X'_k&=X_{-k}\n",
        "\\end{align}\n"
      ],
      "metadata": {
        "id": "9qVsS1G0SVsL"
      }
    },
    {
      "cell_type": "code",
      "source": [
        "##Example"
      ],
      "metadata": {
        "id": "i_5S6uxta4Zm"
      },
      "execution_count": 46,
      "outputs": []
    },
    {
      "cell_type": "markdown",
      "source": [
        "### 2.3.4 Time Scaling"
      ],
      "metadata": {
        "id": "8DAy7d2LhyKA"
      }
    },
    {
      "cell_type": "markdown",
      "source": [
        "\n",
        "\n",
        "\n",
        "If Fourier Series coefficient of the periodic signal $x(t)$ is $X_k$.\n",
        "\\\n",
        "\\begin{align}\n",
        "x(t)&⟶X_k\\\\\n",
        "x(t)&=\\sum_{k}X_ke^{jk\\omega_0t}\\\\\n",
        "\\end{align}\n",
        "Let $t⇒\\alpha t$\n",
        "\\begin{align}\n",
        "x(\\alpha t)&=\\sum_{k}X_ke^{jk\\omega_0\\alpha t}\n",
        "\\end{align}\n",
        "New fundermental frequency  $\\omega'_0=\\alpha \\omega_0$"
      ],
      "metadata": {
        "id": "Voa72O58a1g9"
      }
    },
    {
      "cell_type": "code",
      "source": [
        "# If alpha>1,\n",
        "## 4graphs"
      ],
      "metadata": {
        "id": "x_uQsgrjU7BK"
      },
      "execution_count": 47,
      "outputs": []
    },
    {
      "cell_type": "code",
      "source": [],
      "metadata": {
        "id": "HgG89qfyh9Ti"
      },
      "execution_count": 47,
      "outputs": []
    },
    {
      "cell_type": "markdown",
      "source": [
        "### 2.3.5 Properties For Real Signals"
      ],
      "metadata": {
        "id": "uOuM0wmfiBbT"
      }
    },
    {
      "cell_type": "markdown",
      "source": [
        "\n",
        "\\begin{align}\n",
        "x(t)&=\\sum_{k}X_ke^{jk\\omega_0t}\\\\\n",
        "x^{*}(t)&=\\sum_{k}X_k^{*}e^{-jk\\omega_0t}\\\\\n",
        "\\end{align}\n",
        "Apply $k⇒-k$,\n",
        "\\begin{align}\n",
        "x^{*}(t)&=\\sum_{k}X_{-k}^{*}e^{jk\\omega_0t}\\\\\n",
        "\\end{align}\n",
        "Since $x(t)=x^{*}(t)$,\n",
        "\\begin{align}\n",
        "\\sum_{k}X_ke^{jk\\omega_0t}&=\\sum_{k}X_{-k}^{*}e^{jk\\omega_0t}\\\\\n",
        "\\end{align}\n",
        "\\\n",
        "Therefore,\n",
        "\\begin{align}\n",
        "X_k&=X^{*}_{-k}\\\\\n",
        "X_{-k}&=X^{*}_{k}\n",
        "\\end{align}\n",
        "This is known as Conjugate Symmetry.\\\n",
        "Consequence of this,\n",
        "\\begin{align}\n",
        "|X_k|&=|X_{-k}|\\\\\n",
        "\\angle X_k&=-\\angle X_{-k}\\\\\n",
        "\\end{align}\n",
        "\n",
        "#### Real and Even Signals\n",
        "As $x(t)$ is real,\n",
        "\\begin{align}\n",
        "X_k&=X^{*}_{-k}\\\\\n",
        "\\end{align}\n",
        "However, as x(t) is even,\n",
        "\\begin{align}\n",
        "x(t)&=x(-t)\n",
        "\\end{align}\n",
        "Therefore from the time reversal property,\n",
        "\\begin{align}\n",
        "X_k&=X_{-k}\\\\\n",
        "\\end{align}\n",
        "Then,\n",
        "\\begin{align}\n",
        "X_k=X_{-k}=X^{*}_k\\\\\n",
        "\\end{align}\n",
        "Thus,\n",
        "\\begin{align}\n",
        "X_k=X^{*}_k\\\\\n",
        "\\end{align}\n",
        "Therefore, if $x(t)$ is real and even, $X_k$ is real and even.\n"
      ],
      "metadata": {
        "id": "dHVTsCzpVE6m"
      }
    },
    {
      "cell_type": "code",
      "source": [
        "##Example"
      ],
      "metadata": {
        "id": "J9HsoYrZbC6S"
      },
      "execution_count": 48,
      "outputs": []
    },
    {
      "cell_type": "markdown",
      "source": [
        "\n",
        "#### Real and Odd\n",
        "\n",
        "As $x(t)$ is real,\n",
        "\\begin{align}\n",
        "X_k=X^{*}_{-k}\\\\\n",
        "\\end{align}\n",
        "However, as $x(t)$ is odd,\n",
        "\\begin{align}\n",
        "x(t)&=-x(-t)\n",
        "\\end{align}\n",
        "Therefore, from time reversal property,\n",
        "\\begin{align}\n",
        "X_k&=-X_{-k}\\\\\n",
        "\\end{align}\n",
        "This yeilds,\n",
        "\\begin{align}\n",
        "X_k=-X_{-k}=-X^{*}_k\\\\\n",
        "\\end{align}\n",
        "\\begin{align}\n",
        "X_k=-X^{*}_k\n",
        "\\end{align}\n",
        "Therefore, if $x(t)$ is real and odd, $X_k$ is imaginary and odd.\n"
      ],
      "metadata": {
        "id": "eKaP-jPMbBUF"
      }
    },
    {
      "cell_type": "code",
      "source": [
        "##Example"
      ],
      "metadata": {
        "id": "Wm-ZPBA-bIWV"
      },
      "execution_count": 49,
      "outputs": []
    },
    {
      "cell_type": "markdown",
      "source": [
        "### 2.3.6 Differentiation and Integration"
      ],
      "metadata": {
        "id": "EomhIfTYiGQr"
      }
    },
    {
      "cell_type": "markdown",
      "source": [
        "\n",
        "\n",
        "\n",
        "#### Differentiation\n",
        "\\begin{align}\n",
        "x(t)=X_0 + \\sum_{\\forall k\\neq 0}X_ke^{jk\\omega_0t}\\\\\n",
        "x'(t)=\\frac{dx(t)}{dt}=\\sum_{\\forall k\\neq 0}(X_kjk\\omega_0)e^{jk\\omega_0t}\n",
        "\\end{align}\n",
        "\\\n",
        "\\begin{align}\n",
        "X'_k=jk\\omega_0X_k \\:\\:\\:\\:\\: ;k\\neq 0\n",
        "\\end{align}\n",
        "\\\n",
        "Differentiation is a high pass process / sharpning process.\n",
        "\n",
        "\\begin{align}\n",
        "X_k=\\frac{X'_k}{jk\\omega_0}\\:\\:\\:\\:\\: ;k\\neq 0\n",
        "\\end{align}\n",
        "#### Integration\n",
        "\\begin{align}\n",
        "x(t)=X_0 + \\sum_{\\forall k\\neq 0}X_ke^{jk\\omega_0t}\\\\\n",
        "x'(t)=\\int x(t)dt=\\sum_{\\forall k\\neq 0}\\:\\:\\frac{X_k}{jk\\omega_0}\\:e^{jk\\omega_0t}\n",
        "\\end{align}\n",
        "\\\n",
        "\\\n",
        "\\begin{align}\n",
        "X'_k=\\frac{X_k}{jk\\omega_0}\\:\\:\\:\\:\\: ;k\\neq 0\n",
        "\\end{align}\n",
        "Integration is a low pass process / smoothing process.\n",
        "\\begin{align}\n",
        "X_k=jk\\omega_0X'_k \\:\\:\\:\\:\\: ;k\\neq 0\n",
        "\\end{align}"
      ],
      "metadata": {
        "id": "1eu25sg_bGqu"
      }
    },
    {
      "cell_type": "code",
      "source": [
        "##Example"
      ],
      "metadata": {
        "id": "jo91UMn4bLSR"
      },
      "execution_count": 50,
      "outputs": []
    },
    {
      "cell_type": "markdown",
      "source": [
        "### 2.3.7 Fourier Series of an Impulse"
      ],
      "metadata": {
        "id": "IgG1LX0gm2tP"
      }
    },
    {
      "cell_type": "markdown",
      "source": [
        "\\begin{align}\n",
        "x(t)&=\\sum_{k=-∞}^{∞} \\delta(t-kT_0)\\\\\n",
        "X_0&=\\frac{1}{T_0}\\int_{T_0}x(t)dt\\\\\n",
        "&=\\frac{1}{T_0}\\int_{\\frac{-T_0}{2}}^{\\frac{T_0}{2}}\\delta(t)dt\\\\\n",
        "&=\\frac{1}{T_0}\n",
        "\\\\\n",
        "X_k&=\\frac{1}{T_0} \\int_{T_0}e^{-jk\\omega_0t}dt\\\\\n",
        "&=\\frac{1}{T_0}\\int_{\\frac{-T_0}{2}}^{\\frac{T_0}{2}} \\delta (t) e^{-jk\\omega_0t}dt\n",
        "\\end{align}"
      ],
      "metadata": {
        "id": "Os6wJjZWnyME"
      }
    },
    {
      "cell_type": "code",
      "source": [
        "#Example"
      ],
      "metadata": {
        "id": "tlmWsaXL6OV-"
      },
      "execution_count": 51,
      "outputs": []
    },
    {
      "cell_type": "markdown",
      "source": [
        "\\begin{align}\n",
        "X_k&=\\frac{1}{T_0}\\int_{-\\frac{T_0}{2}}^{\\frac{T_0}{2}}\\delta (t)e^{-jk\\omega_0 \\times 0}dt\\\\\n",
        "&=\\frac{1}{T_0}\n",
        "\\end{align}\n",
        "This yeilds,\n",
        "\\begin{align}\n",
        "x(t)=\\sum_{\\forall k}\\delta (t-kT_0)=\\sum_{\\forall k}\\frac{1}{T_0}e^{jk\\omega_0t}\n",
        "\\end{align}"
      ],
      "metadata": {
        "id": "Tf9tQnbS6XMo"
      }
    },
    {
      "cell_type": "code",
      "source": [
        "wave.sawtooth_pulse(2,\"x(t)\",\"t\",\"\",0,1)"
      ],
      "metadata": {
        "id": "WvP0GK8o7l4m",
        "colab": {
          "base_uri": "https://localhost:8080/",
          "height": 0
        },
        "outputId": "fdc8bcb3-d8ea-46be-f408-16d83e60620b"
      },
      "execution_count": 52,
      "outputs": [
        {
          "output_type": "display_data",
          "data": {
            "text/plain": [
              "<Figure size 1000x300 with 1 Axes>"
            ],
            "image/png": "[encoded data removed]"
          },
          "metadata": {}
        }
      ]
    },
    {
      "cell_type": "markdown",
      "source": [
        "\\begin{align}\n",
        "\\omega_0&=\\frac{2\\pi}{2}=\\pi\\\\\n",
        "X_0&=\\frac{1}{2}\\int_{2}x(t)dt\\\\\n",
        "&=\\frac{1}{2}\\int_{0}^{2}\\frac{t}{2}dt\\\\\n",
        "&=\\frac{1}{2}\n",
        "\\end{align}"
      ],
      "metadata": {
        "id": "3ahYm-fJhcEa"
      }
    },
    {
      "cell_type": "markdown",
      "source": [
        "# 3.0 Fourier Transform"
      ],
      "metadata": {
        "id": "OvHrCgJ_ihEF"
      }
    },
    {
      "cell_type": "markdown",
      "source": [
        "## 3.3 Properties of Fourier Transeform"
      ],
      "metadata": {
        "id": "kubMTqXyikuP"
      }
    },
    {
      "cell_type": "markdown",
      "source": [
        "### 3.3.1 Linearity\n"
      ],
      "metadata": {
        "id": "S0wzufsQHQyb"
      }
    },
    {
      "cell_type": "markdown",
      "source": [
        "\\begin{align}\n",
        "\\mathcal{F}[x_1(t)]=X_1(jω) \\\\\n",
        "\\mathcal{F}[x_2(t)]=X_2(jω)\n",
        "\\end{align}\n",
        "\\\n",
        "\\begin{align}\n",
        "\\mathcal{F}[Ax_1(t)\\pm Bx_2(t)]=AX_1(jω)\\pm BX_2(jω)\n",
        "\\end{align}"
      ],
      "metadata": {
        "id": "02vRJX8nHWxC"
      }
    },
    {
      "cell_type": "markdown",
      "source": [
        "### 3.3.2. Time Shifting\n"
      ],
      "metadata": {
        "id": "u9S6Kv8dHa4q"
      }
    },
    {
      "cell_type": "markdown",
      "source": [
        "\\begin{align}\n",
        "\\mathcal{F}[x(t)]=X(jω) \n",
        "\\end{align}\n",
        "\\\n",
        "Using inverse fourier transform,\n",
        "\\begin{align}\n",
        "x(t)= \\frac{1} {2π} \\, \\int_{-∞}^{∞}X(jω) \\, e^{jωt} \\mathrm{d}ω\n",
        "\\end{align}\n",
        "\\\n",
        "Apply $t \\Rightarrow t-t_0$;\n",
        "\\\n",
        "\\begin{align}\n",
        "x(t-t_0)= &\\frac{1} {2π} \\, \\int_{-∞}^{∞}X(jω) \\, e^{jω(t-t_0)} \\mathrm{d}ω \\\\\n",
        "x(t-t_0)= &\\frac{1} {2π} \\, \\int_{-∞}^{∞}X(jω)\\, e^{-jωt_0}  \\, e^{jωt} \\mathrm{d}ω\n",
        "\\end{align}\n",
        "\\\n",
        "Let  $X'(jω)=\\mathcal{F}[x(t-t_0)]$ ,\\\n",
        "\\\n",
        "\\begin{align}\n",
        "X'(jω)=\\mathcal{F}[x(t-t_0)]=X(jω)e^{-jωt_0} \n",
        "\\end{align}\\\n",
        "\\\n",
        "\\begin{align}\n",
        "|X'(jω)|=&|X(jω)|\\\\\n",
        "\\angle{X'(jω)}=&\\angle{X(jω)}-\\angle{\\omega t_0}\n",
        "\\end{align}\\\n",
        "\\\n",
        "Therefore, time shift will not affect the magnitude spectrum.\n",
        "But, phase spectrum is affected in a linear manner where phase shift is larger in large $\\omega$ .\n"
      ],
      "metadata": {
        "id": "sDurT7X-HhD8"
      }
    },
    {
      "cell_type": "code",
      "source": [
        "##example"
      ],
      "metadata": {
        "id": "9wk3FJZ7Tyev"
      },
      "execution_count": 53,
      "outputs": []
    },
    {
      "cell_type": "markdown",
      "source": [
        "### 3.3.3 Modulation/Shifting in Frequency"
      ],
      "metadata": {
        "id": "5dlVC2nET1hn"
      }
    }
  ]
}