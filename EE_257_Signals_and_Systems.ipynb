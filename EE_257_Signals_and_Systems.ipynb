{
  "cells": [
    {
      "attachments": {},
      "cell_type": "markdown",
      "metadata": {
        "colab_type": "text",
        "id": "view-in-github"
      },
      "source": [
        "<a href=\"https://colab.research.google.com/github/BuwanekaEpakanda/EE_257_Note_Book/blob/main/EE_257_Signals_and_Systems.ipynb\" target=\"_parent\"><img src=\"https://colab.research.google.com/assets/colab-badge.svg\" alt=\"Open In Colab\"/></a>"
      ]
    },
    {
      "attachments": {},
      "cell_type": "markdown",
      "metadata": {
        "id": "Rs_poxGowMlE"
      },
      "source": [
        "#Content"
      ]
    },
    {
      "attachments": {},
      "cell_type": "markdown",
      "metadata": {
        "id": "mV_buCRO0Ntf"
      },
      "source": [
        "## Signals"
      ]
    },
    {
      "attachments": {},
      "cell_type": "markdown",
      "metadata": {
        "id": "2L4zQFHK4ZJn"
      },
      "source": [
        "###1.0 Introduction"
      ]
    },
    {
      "attachments": {},
      "cell_type": "markdown",
      "metadata": {
        "id": "zft0FnwG0HN9"
      },
      "source": [
        "\n",
        "  1.1 Classification of Signals\n",
        "\n",
        "\n",
        "*  Continuous and Descrete time signals\n",
        "*   Continuos and Descrete valued signals\n",
        "* Deterministic and Random Signals\n",
        "* Energy and Power signals\n",
        "*Odd and Even signals\n",
        "*Periodic and Aperiodic Signals\n",
        "\n",
        "1.2 Special Signals\n",
        "\n",
        "\n",
        "*   Complex Exponential Signals\n",
        "*   Impulse\n",
        "*Unit Step\n",
        "\n",
        "1.3 Continuous and Descerete time Systems\n",
        "\n",
        "> 1.3.1 Inter Connections Between Systems\n",
        "\n",
        "   \n",
        "*   Cascaded\n",
        "* Parallel\n",
        "*Series - Parallel\n",
        "*Feedback\n",
        "\n",
        "\n",
        "\n",
        "> 1.3.2 System Properties\n",
        "\n",
        "\n",
        "\n",
        "*   System with or without memory\n",
        "*   Inverse Systems\n",
        "*Time Invariance\n",
        "*Linearity\n",
        "*Causility\n",
        "\n",
        "1.4 Operations On signals\n",
        "\n",
        "\n",
        "*   Time Delay\n",
        "*   Time Scaling\n",
        "*Negation\n",
        "\n",
        "1.5 Linear Time Invarient Systems\n",
        "\n",
        "\n",
        "> 1.5.1 Convolution For Descrete LTI system\n",
        "\n",
        "> 1.5.2 Convolution For Continous LTI system\n",
        "\n",
        "1.6 Properties of Convolution\n",
        "\n",
        "\n",
        "\n",
        "*   $x(t) * \\delta(t) = x(t)$\n",
        "*   $x(t) * \\delta(t-T) = x(t-T)$\n",
        "*Commutativity\n",
        "*Distributivity\n",
        "*Condition for Inverse\n",
        "* Laplace Transform of Convolution\n",
        "\n",
        "\n",
        "\n",
        "\n",
        "\n",
        "\n",
        "\n",
        "\n"
      ]
    },
    {
      "attachments": {},
      "cell_type": "markdown",
      "metadata": {
        "id": "m_9KyI9B4UNo"
      },
      "source": [
        "### 2.0 Fourier Series"
      ]
    },
    {
      "attachments": {},
      "cell_type": "markdown",
      "metadata": {
        "id": "rw9gMu8W2btd"
      },
      "source": [
        "\n",
        "2.1 Introduction\n",
        "\n",
        "> 2.1.1 Inter-domain Analysis\n",
        "\n",
        "> 2.1.2 Periodic Signals\n",
        "\n",
        "> 2.1.3 Vector Space \n",
        "\n",
        "2.2 Fourier Series\n",
        ">2.2.1 Introduction\n",
        "\n",
        ">2.2.2 Coefficients of Fourier Series\n",
        "\n",
        "2.3 Properties of Fourier Series\n",
        "> 2.3.1 Linearity\n",
        "\n",
        "> 2.3.2 Time shifting\n",
        "\n",
        "> 2.3.3 Time Reverse\n",
        "\n",
        "> 2.3.4 Time Scaling\n",
        "\n",
        "> 2.3.5 Properties For Real Signals\n",
        ">> * Real and Even\n",
        ">> * Real and Odd\n",
        "\n",
        "> 2.3.6 Differentiation and Integration\n",
        "\n",
        ">2.3.7 Fourier Series of an Impulse \n",
        "\n",
        "2.4 Trignometric Fourier Series\n",
        "\n",
        "2.5 Power of a periodic signal\n",
        "\n",
        "\n",
        "*   Parseval's Theorem\n",
        "2.6 Periodic Signal through LTI system\n",
        "\n"
      ]
    },
    {
      "attachments": {},
      "cell_type": "markdown",
      "metadata": {
        "id": "KS8lPsht43XK"
      },
      "source": [
        "### 3.0 Fourier Transform"
      ]
    },
    {
      "attachments": {},
      "cell_type": "markdown",
      "metadata": {
        "id": "2n5aCeEH47XL"
      },
      "source": [
        "3.1 Introduction\n",
        "\n",
        "\n",
        "> 3.1.1 Complex Valued Functions\n",
        "\n",
        "> 3.1.2 From F.S. to F.T.\n",
        "\n",
        "> 3.1.3 Fouries Transform and Inverse F.T.\n",
        "\n",
        "> 3.1.4 F.T. and L.T.\n",
        "\n",
        "3.2 Fouries Transforms of Signals\n",
        ">3.2.1 $x(t) = e^{-at}u(t)$ and $x(t) = e^{-|a|t}$\n",
        "\n",
        ">3.2.2 Delta Function $δ(t)$\n",
        "\n",
        ">3.2.3 Square Pulse\n",
        "\n",
        ">3.2.4 Unit Step Function $u(t)$\n",
        "\n",
        "3.3 Properties of F.T.\n",
        ">3.3.1 Linearity\n",
        "\n",
        ">3.3.2 Time Shifting\n",
        "\n",
        ">3.3.3 Modulation / Shifting in Frequency\n",
        "\n",
        "> 3.3.4 Differentiation and Integratino\n",
        "\n",
        ">3.3.5 Time Scaling\n",
        "\n",
        ">3.3.6 Time Reversal\n",
        "\n",
        ">3.3.7 Uses of Properties (examples of derivations)\n",
        "\n",
        "\n",
        "\n",
        ">*   $\\mathcal{F}^{-1}[δ(ω))]$\n",
        ">*   F.T. of Periodic Signals\n",
        "\n",
        ">* $\\mathcal{F}[u(t)]$\n",
        "\n",
        "3.4 F.T. properties of real signals\n",
        "\n",
        "\n",
        "*   Real signals\n",
        "*   Real even signals\n",
        "* Real Odd signals\n",
        "\n",
        "3.5 Duality\n",
        "\n",
        "3.6 Energy of the signal\n",
        "*   Parseval's Theorem\n",
        "\n",
        "3.6 Modulation\n",
        "\n",
        "3.7 L.T.I. systems and F.T.\n",
        ">3.7.1 Frequency response\n",
        "\n",
        ">3.7.2 Convolution Property\n",
        "\n",
        ">3.7.3 Differentiation Property\n",
        "\n",
        "\n",
        "\n",
        "\n",
        "\n",
        "\n",
        "\n",
        "\n",
        "\n"
      ]
    },
    {
      "attachments": {},
      "cell_type": "markdown",
      "metadata": {
        "id": "ea4TIOz3wzvv"
      },
      "source": [
        "# Libraries"
      ]
    },
    {
      "cell_type": "code",
      "execution_count": 1,
      "metadata": {
        "id": "RUCRY3hq4m7Z"
      },
      "outputs": [],
      "source": [
        "####################### include the libraries that are used ######################\n",
        "import numpy as np\n",
        "import matplotlib.pyplot as plt\n",
        "from sympy import *\n",
        "from scipy import signal\n",
        "from matplotlib import style\n",
        "from matplotlib.widgets import Slider, Button\n",
        "import matplotlib.animation as animation\n",
        "from matplotlib.patches import ConnectionPatch"
      ],
      "metadata": {
        "id": "RUCRY3hq4m7Z"
      },
      "execution_count": 33,
      "outputs": []
    },
    {
      "cell_type": "code",
      "execution_count": 2,
      "metadata": {
        "id": "EzpJ1Gh8DmC-"
      },
      "outputs": [],
      "source": [
        "class Waves:\n",
        "\n",
        "  def draw_periodic_signals(self,arr,title,x_axis_label,y_axis_label,pulse_height,sampling_rate):\n",
        "    t = np.linspace(-3.9, 3.9, sampling_rate, endpoint=True)\n",
        "    plt.style.context('fast')\n",
        "    plt.figure(figsize=(10, 3))\n",
        "    plt.grid(color = 'black', linestyle = '-', linewidth = 0.1)\n",
        "    plt.plot(t, arr)\n",
        "    plt.title(f'{title}')\n",
        "    plt.xlabel(x_axis_label)\n",
        "    plt.ylabel(y_axis_label)\n",
        "    plt.axhline(y=0, color='black',linewidth = 0.5)\n",
        "    plt.axvline(x=0, color='black',linewidth = 0.5)\n",
        "    plt.ylim(-0.4,pulse_height+0.4)\n",
        "    plt.xlim(-4,4)\n",
        "    plt.show()\n",
        "\n",
        "\n",
        "\n",
        "  def square_pulse(self,periodic_time,title,x_axis_label,y_axis_label,horizontal_shift,pulse_height):\n",
        "    t = np.linspace(-3.9, 3.9, 1000, endpoint=True)\n",
        "    arr=[((1+num)//2)*pulse_height for num in signal.square(1/periodic_time * np.pi * 1 * (t-horizontal_shift))]\n",
        "    self.draw_periodic_signals(arr,title,x_axis_label,y_axis_label,pulse_height,1000)\n",
        "\n",
        "    \"\"\"To form a square pulse\"\"\"\n",
        "\n",
        "    #   wave=Waves()\n",
        "    #   wave.square_pulse(Enter periodic time,Enter Title,Enter X axis label,Enter Y axis label,Enter horizontal shift,Enter pulse height)\n",
        "\n",
        "  def sawtooth_pulse(self,periodic_time,title,x_axis_label,y_axis_label,horizontal_shift,pulse_height):\n",
        "    t = np.linspace(-3.9, 3.9, 500)\n",
        "    arr=[(1+num)*pulse_height/2 for num in signal.sawtooth(2/periodic_time * np.pi * 1 * (t-horizontal_shift))]\n",
        "    self.draw_periodic_signals(arr,title,x_axis_label,y_axis_label,pulse_height,500)\n",
        "  \n",
        "\n",
        "    \"\"\"To form a sawtooth pulse\"\"\"\n",
        "\n",
        "    #   wave=Waves()\n",
        "    #   wave.sawtooth_pulse(Enter periodic time,Enter Title,Enter X axis label,Enter Y axis label,Enter horizontal shift,Enter pulse height)\n",
        "\n",
        "  def enlarged_impulse_1(self):\n",
        "    plt.figure(figsize=(6, 4))\n",
        "    y_values=[0,0,1,1,1,0,0]\n",
        "    x_values=[-2,-1,-1,0,1,1,2]\n",
        "    plt.plot(x_values,y_values)\n",
        "    plt.ylim(-0.2,2)\n",
        "    plt.axhline(y=0, color='black',linewidth = 0.5)\n",
        "    plt.axvline(x=0, color='black',linewidth = 0.5)\n",
        "    plt.xlabel(\"time\")\n",
        "    plt.title(\"$\\delta(t)$\")\n",
        "    y_labels=[0,0,\"1/ $\\Delta$\",\"1/ $\\Delta$\",\"1/ $\\Delta$\",0,0]\n",
        "    labels=[\"-$\\Delta$\",\"-$\\Delta$/2\",\"-$\\Delta$/2\",\"0\",\"$\\Delta$/2\",\"$\\Delta$/2\",\"$\\Delta$\"]\n",
        "    plt.xticks(x_values,labels,rotation=\"horizontal\")\n",
        "    plt.yticks(y_values,y_labels,rotation=\"horizontal\")\n",
        "    plt.show()\n",
        "\n",
        "  def draw_hann_pulse(self,shift):\n",
        "    plt.figure(figsize=(6, 4))\n",
        "    plt.ylim(-0.2,2)\n",
        "    plt.xlim(-5,5)\n",
        "    plt.axhline(y=0, color='black',linewidth = 0.5)\n",
        "    plt.axvline(x=0, color='black',linewidth = 0.5)\n",
        "    win = signal.windows.hann(50)\n",
        "    x_values=np.linspace(-1-shift,(1-shift),num=50)\n",
        "    plt.plot(x_values,win)\n",
        "\n",
        "    \"\"\"To form a hann pulse\"\"\"\n",
        "\n",
        "    #   wave=Waves()\n",
        "    #   wave.draw_hann_pulse(Enter shift)\n",
        "\n",
        "  \n",
        "  def convolve_square_and_hann(self):\n",
        "    win = signal.windows.hann(50)\n",
        "    # win=np.repeat([0., 1., 0.], 50)\n",
        "    sig = np.repeat([0., 1., 0.], 100)\n",
        "    xvalues=np.linspace(-400,400,300)\n",
        "    x2values=np.linspace(-100,100,50)\n",
        "    filtered = signal.convolve(sig, win, mode='same') / sum(win)\n",
        "    fig, (ax_orig, ax_win, ax_filt) = plt.subplots(3, 1, sharex=True,sharey=True)\n",
        "    ax_orig.plot(xvalues,sig)\n",
        "    ax_orig.set_title('Original pulse')\n",
        "    ax_orig.axhline(y=0, color='black',linewidth = 0.5)\n",
        "    ax_orig.axvline(x=0, color='black',linewidth = 0.5)\n",
        "    ax_orig.margins(0, 0.2)\n",
        "    ax_win.axhline(y=0, color='black',linewidth = 0.5)\n",
        "    ax_win.axvline(x=0, color='black',linewidth = 0.5)\n",
        "    ax_win.plot(x2values,win)\n",
        "    ax_win.set_title('Input response')\n",
        "    ax_win.margins(0, 0.2)\n",
        "    ax_filt.plot(xvalues,filtered)\n",
        "    ax_filt.set_title('Convoled signal')\n",
        "    ax_filt.axhline(y=0, color='black',linewidth = 0.5)\n",
        "    ax_filt.axvline(x=0, color='black',linewidth = 0.5)\n",
        "    ax_filt.margins(0, 0.2)\n",
        "    fig.tight_layout()\n",
        "    fig.show()\n",
        "\n",
        "    \"\"\"To use convole function for square and a hann function\"\"\"\n",
        "    #   wave=Waves()\n",
        "    #   wave.convolve_square_and_hann()"
      ]
    },
    {
      "attachments": {},
      "cell_type": "markdown",
      "metadata": {
        "id": "nJUBF99ViX2i"
      },
      "source": [
        "#1.0 Introduction"
      ]
    },
    {
      "attachments": {},
      "cell_type": "markdown",
      "metadata": {
        "id": "2M0SosMCidNx"
      },
      "source": [
        "Example 01: \n",
        "$$\n",
        "y[n]=\\sum_{k=-\\infty}^{\\infty} x[k]\\,h[n-k]\n",
        "$$\n",
        "* Learn tools necessary to analyse signals and systems.\n",
        "* A signal is a variation of a physical property over time."
      ]
    },
    {
      "cell_type": "code",
      "execution_count": null,
      "metadata": {
        "colab": {
          "base_uri": "https://localhost:8080/",
          "height": 929
        },
        "id": "xxr8aoaAMUjT",
        "outputId": "0fad2929-fa58-4c86-dfac-135b20cbaafd"
      },
      "outputs": [
        {
          "data": {
            "image/png": "[encoded data removed]",
            "text/plain": [
              "<Figure size 640x480 with 1 Axes>"
            ]
          },
          "metadata": {},
          "output_type": "display_data"
        },
        {
          "data": {
            "image/png": "[encoded data removed]",
            "text/plain": [
              "<Figure size 640x480 with 1 Axes>"
            ]
          },
          "metadata": {},
          "output_type": "display_data"
        }
      ],
      "source": [
        "def delta(n):\n",
        "    \"\"\"Discrete-time delta function\"\"\"\n",
        "    d = np.zeros(len(n))\n",
        "    d[np.where(n == 0)] = 1\n",
        "    d[np.where(n == 1)] = 1\n",
        "    d[np.where(n == 2)] = 1\n",
        "    return d\n",
        "\n",
        "n = np.arange(-5, 6)\n",
        "d = delta(n)\n",
        "\n",
        "plt.stem(n, d)\n",
        "plt.xlabel('n')\n",
        "plt.ylabel('$h[n]$')\n",
        "plt.title('$h[n]$')\n",
        "plt.show()\n",
        "\n",
        "def x(n):\n",
        "    \"\"\"Discrete-time delta function\"\"\"\n",
        "    d = np.zeros(len(n))\n",
        "    d[np.where(n == 0)] = 2\n",
        "    d[np.where(n == 1)] = 0.5\n",
        "    return d\n",
        "\n",
        "n = np.arange(-5, 6)\n",
        "d = x(n)\n",
        "\n",
        "plt.stem(n, d)\n",
        "plt.xlabel('n')\n",
        "plt.ylabel('$x[n]$')\n",
        "plt.title('$x[n]$')\n",
        "plt.show()"
      ]
    },
    {
      "attachments": {},
      "cell_type": "markdown",
      "metadata": {
        "id": "7I06VoFMMWnr"
      },
      "source": []
    },
    {
      "attachments": {},
      "cell_type": "markdown",
      "metadata": {
        "id": "aE1BpTUbN-51"
      },
      "source": [
        "for $y=0$ ;\n",
        "$$\n",
        "y[0]=\\sum_{k=-\\infty}^{\\infty} x[k]\\,h[-k]\n",
        "$$"
      ]
    },
    {
      "cell_type": "code",
      "execution_count": null,
      "metadata": {
        "colab": {
          "base_uri": "https://localhost:8080/",
          "height": 473
        },
        "id": "Uz5OwYRbOWFh",
        "outputId": "99aadb93-57a5-460e-f4b5-ac2fbeaff631"
      },
      "outputs": [
        {
          "data": {
            "image/png": "[encoded data removed]",
            "text/plain": [
              "<Figure size 640x480 with 1 Axes>"
            ]
          },
          "metadata": {},
          "output_type": "display_data"
        }
      ],
      "source": [
        "def h0(n):\n",
        "    d = np.zeros(len(n))\n",
        "    d[np.where(n == 0)] = 1\n",
        "    d[np.where(n == -1)] = 1\n",
        "    d[np.where(n == -2)] = 1\n",
        "    return d\n",
        "\n",
        "n = np.arange(-5, 6)\n",
        "d = h0(n)\n",
        "\n",
        "plt.stem(n, d)\n",
        "plt.xlabel('k')\n",
        "plt.ylabel('$h[-k]$')\n",
        "plt.title('$h[-k]$')\n",
        "plt.show()"
      ]
    },
    {
      "attachments": {},
      "cell_type": "markdown",
      "metadata": {
        "id": "V80MCOW1OpVU"
      },
      "source": [
        "$$\n",
        "\\begin{align}\n",
        "y[0]&=\\dots\\,0+0+0+2+0+0+0+\\,\\dots \\\\\n",
        "&=2\n",
        "\\end{align}\n",
        "$$"
      ]
    },
    {
      "attachments": {},
      "cell_type": "markdown",
      "metadata": {
        "id": "bWkN67OMQU9s"
      },
      "source": [
        "for $y=1$ ;\n",
        "$$\n",
        "y[1]=\\sum_{k=-\\infty}^{\\infty} x[k]\\,h[1-k]\n",
        "$$"
      ]
    },
    {
      "cell_type": "code",
      "execution_count": null,
      "metadata": {
        "colab": {
          "base_uri": "https://localhost:8080/",
          "height": 473
        },
        "id": "9W8XCbJjQns8",
        "outputId": "931d3f62-c010-4913-89f4-b605374d47e6"
      },
      "outputs": [
        {
          "data": {
            "image/png": "[encoded data removed]",
            "text/plain": [
              "<Figure size 640x480 with 1 Axes>"
            ]
          },
          "metadata": {},
          "output_type": "display_data"
        }
      ],
      "source": [
        "def h0(n):\n",
        "    d = np.zeros(len(n))\n",
        "    d[np.where(n == 0)] = 1\n",
        "    d[np.where(n == -1)] = 1\n",
        "    d[np.where(n == 1)] = 1\n",
        "    return d\n",
        "\n",
        "n = np.arange(-5, 6)\n",
        "d = h0(n)\n",
        "\n",
        "plt.stem(n, d)\n",
        "plt.xlabel('k')\n",
        "plt.ylabel('$h[-k]$')\n",
        "plt.title('$h[-k]$')\n",
        "plt.show()"
      ]
    },
    {
      "attachments": {},
      "cell_type": "markdown",
      "metadata": {
        "id": "l6mdOoX0QtSL"
      },
      "source": [
        "$$\n",
        "\\begin{align}\n",
        "y[1]&=\\dots\\,0+0+0+2+0.5+0+0+\\,\\dots \\\\\n",
        "&=2.5\n",
        "\\end{align}\n",
        "$$"
      ]
    },
    {
      "attachments": {},
      "cell_type": "markdown",
      "metadata": {
        "id": "rnPBbFsMQ9KF"
      },
      "source": [
        "Likewise,\n",
        "\n",
        "$$\n",
        "\\begin{align}\n",
        "y[2]&=2.5 \\\\\n",
        "y[3]&=0.5 \\\\\n",
        "y[4]&=0\n",
        "\\end{align}\n",
        "$$"
      ]
    },
    {
      "cell_type": "code",
      "execution_count": null,
      "metadata": {
        "colab": {
          "base_uri": "https://localhost:8080/",
          "height": 474
        },
        "id": "BNal1bcPRjQ_",
        "outputId": "fbc34630-3cd1-42f1-ed79-58e07f548871"
      },
      "outputs": [
        {
          "data": {
            "image/png": "[encoded data removed]",
            "text/plain": [
              "<Figure size 640x480 with 1 Axes>"
            ]
          },
          "metadata": {},
          "output_type": "display_data"
        }
      ],
      "source": [
        "def ans_ex01(n):\n",
        "    d = np.zeros(len(n))\n",
        "    d[np.where(n == 0)] = 2\n",
        "    d[np.where(n == 1)] = 2.5\n",
        "    d[np.where(n == 2)] = 2.5\n",
        "    d[np.where(n == 3)] = 0.5\n",
        "    return d\n",
        "\n",
        "n = np.arange(-5, 6)\n",
        "d = ans_ex01(n)\n",
        "\n",
        "plt.stem(n, d)\n",
        "plt.xlabel('n')\n",
        "plt.ylabel('$y[n]$')\n",
        "plt.title('$y[n]$')\n",
        "plt.show()"
      ]
    },
    {
      "cell_type": "code",
      "execution_count": null,
      "metadata": {
        "colab": {
          "base_uri": "https://localhost:8080/"
        },
        "id": "UYSQ1TPSR3Pw",
        "outputId": "b2ec535d-ea87-41eb-c6c3-3f514522ddbf"
      },
      "outputs": [
        {
          "data": {
            "text/plain": [
              "array([2. , 2.5, 2.5, 0.5])"
            ]
          },
          "execution_count": 17,
          "metadata": {},
          "output_type": "execute_result"
        }
      ],
      "source": [
        "np.convolve([1,1,1],[2,0.5])"
      ]
    },
    {
      "attachments": {},
      "cell_type": "markdown",
      "metadata": {
        "id": "l_ekzHmLSVus"
      },
      "source": [
        "example 02:\n",
        "$$\n",
        "\\begin{align}\n",
        "h[n]&=U[n] \\\\\n",
        "x[n]&=\\alpha^{n}\\,U[n]\n",
        "\\end{align}\n",
        "$$"
      ]
    },
    {
      "cell_type": "code",
      "execution_count": null,
      "metadata": {
        "colab": {
          "base_uri": "https://localhost:8080/",
          "height": 927
        },
        "id": "my5lUM_TTjk7",
        "outputId": "7ac8a02f-8b1b-4acc-de7a-4be6d469cd9e"
      },
      "outputs": [
        {
          "data": {
            "image/png": "[encoded data removed]",
            "text/plain": [
              "<Figure size 640x480 with 1 Axes>"
            ]
          },
          "metadata": {},
          "output_type": "display_data"
        },
        {
          "data": {
            "image/png": "[encoded data removed]",
            "text/plain": [
              "<Figure size 640x480 with 1 Axes>"
            ]
          },
          "metadata": {},
          "output_type": "display_data"
        }
      ],
      "source": [
        "n = np.arange(-5,10) \n",
        "alpha = 0.8 \n",
        "\n",
        "x = 1\n",
        "x = x * (n >= 0)\n",
        "\n",
        "plt.stem(n, x) \n",
        "plt.xlabel('n')\n",
        "plt.ylabel('h[n]]')\n",
        "plt.title('h[n]')\n",
        "plt.show()\n",
        "\n",
        "n = np.arange(-5,10) \n",
        "alpha = 0.8 \n",
        "\n",
        "x = alpha ** n \n",
        "x = x * (n >= 0)\n",
        "\n",
        "plt.stem(n, x) \n",
        "plt.xlabel('n')\n",
        "plt.ylabel('x[n]]')\n",
        "plt.title('x[n]')\n",
        "plt.show()"
      ]
    },
    {
      "attachments": {},
      "cell_type": "markdown",
      "metadata": {
        "id": "X41T8g2DUgFs"
      },
      "source": [
        "By definition,\n",
        "$$\n",
        "y[n]=\\sum_{k=-\\infty}^{\\infty} x[k]\\,h[n-k]\n",
        "$$"
      ]
    },
    {
      "attachments": {},
      "cell_type": "markdown",
      "metadata": {
        "id": "-t0TmlJbUu7Y"
      },
      "source": [
        "for $y=0$ ;\n",
        "$$\n",
        "y[0]=\\sum_{k=-\\infty}^{\\infty} x[k]\\,h[-k]\n",
        "$$"
      ]
    },
    {
      "cell_type": "code",
      "execution_count": null,
      "metadata": {
        "colab": {
          "base_uri": "https://localhost:8080/",
          "height": 472
        },
        "id": "noFmLK9fU_B_",
        "outputId": "080c69d6-4998-4c37-db0d-02c20c0d9531"
      },
      "outputs": [
        {
          "data": {
            "image/png": "[encoded data removed]",
            "text/plain": [
              "<Figure size 640x480 with 1 Axes>"
            ]
          },
          "metadata": {},
          "output_type": "display_data"
        }
      ],
      "source": [
        "n = np.arange(-10,5) \n",
        "\n",
        "x = 1\n",
        "x = x * (n <= 0)\n",
        "\n",
        "plt.stem(n, x) \n",
        "plt.xlabel('n')\n",
        "plt.ylabel('h[n]]')\n",
        "plt.title('h[n]')\n",
        "plt.show()"
      ]
    },
    {
      "attachments": {},
      "cell_type": "markdown",
      "metadata": {
        "id": "A-iWlUPmVR2j"
      },
      "source": [
        "$$\n",
        "\\begin{align}\n",
        "y[0]&=\\dots\\,0+0+0+\\alpha+0+0+0+\\,\\dots \\\\\n",
        "&=\\alpha\n",
        "\\end{align}\n",
        "$$"
      ]
    },
    {
      "attachments": {},
      "cell_type": "markdown",
      "metadata": {
        "id": "CNtzX1jBV7LT"
      },
      "source": [
        "for $y=1$ ;\n",
        "$$\n",
        "y[1]=\\sum_{k=-\\infty}^{\\infty} x[k]\\,h[1-k]\n",
        "$$"
      ]
    },
    {
      "cell_type": "code",
      "execution_count": null,
      "metadata": {
        "colab": {
          "base_uri": "https://localhost:8080/",
          "height": 472
        },
        "id": "ZvWccMueWjAF",
        "outputId": "e0ec4987-a80c-4160-d652-fad3ffc8ab1c"
      },
      "outputs": [
        {
          "data": {
            "image/png": "[encoded data removed]",
            "text/plain": [
              "<Figure size 640x480 with 1 Axes>"
            ]
          },
          "metadata": {},
          "output_type": "display_data"
        }
      ],
      "source": [
        "n = np.arange(-10,5) \n",
        "\n",
        "x = 1\n",
        "x = x * (n <= 1)\n",
        "\n",
        "plt.stem(n, x) \n",
        "plt.xlabel('n')\n",
        "plt.ylabel('h[n]]')\n",
        "plt.title('h[n]')\n",
        "plt.show()"
      ]
    },
    {
      "attachments": {},
      "cell_type": "markdown",
      "metadata": {
        "id": "0ewGq7NLWwfT"
      },
      "source": [
        "$$\n",
        "\\begin{align}\n",
        "y[0]&=\\dots\\,0+0+0+\\alpha+\\alpha^2+0+0+\\,\\dots \\\\\n",
        "&=\\alpha+\\alpha^2\n",
        "\\end{align}\n",
        "$$"
      ]
    },
    {
      "attachments": {},
      "cell_type": "markdown",
      "metadata": {
        "id": "OfcPQgibW8dz"
      },
      "source": [
        "Likewise,\n",
        "$$\n",
        "\\begin{align}\n",
        "y[n]&=\\dots\\,0+0+0+\\alpha+\\alpha^2+\\alpha^3+\\,\\dots \\\\\n",
        "&=\\alpha+\\alpha^2+\\alpha^3\\,\\dots\\,+\\alpha^n \\\\\n",
        "&=\\sum_{k=0}^{n} \\alpha^k \\\\\n",
        "\\alpha y[n]&=\\sum_{k=0}^{n} \\alpha^{k+1} \\\\\n",
        "(\\alpha-1)y[n]&=1-\\alpha^{n+1} \\\\\n",
        "y[n]&=\\frac{1-\\alpha^{n+1}}{1-\\alpha}\n",
        "\\end{align}\n",
        "$$"
      ]
    },
    {
      "attachments": {},
      "cell_type": "markdown",
      "metadata": {
        "id": "8feWX9epa2Hl"
      },
      "source": [
        "Let's consider a linear time invariant (LTI) system."
      ]
    },
    {
      "cell_type": "code",
      "execution_count": null,
      "metadata": {
        "id": "QdrynNBfbSPv"
      },
      "outputs": [],
      "source": [
        "##Diagrams"
      ]
    },
    {
      "cell_type": "code",
      "execution_count": null,
      "metadata": {
        "colab": {
          "base_uri": "https://localhost:8080/",
          "height": 484
        },
        "id": "iMB2LjVubjxX",
        "outputId": "a80e545d-5d74-43be-8d5d-634600713d29"
      },
      "outputs": [
        {
          "data": {
            "image/png": "[encoded data removed]",
            "text/plain": [
              "<Figure size 640x480 with 1 Axes>"
            ]
          },
          "metadata": {},
          "output_type": "display_data"
        }
      ],
      "source": [
        "Delta = 1.0    \n",
        "t = np.linspace(-2, 2, 1000)    \n",
        "\n",
        "pulse = np.zeros(len(t))\n",
        "pulse[(t >= -Delta/2) & (t <= Delta/2)] = 1\n",
        "\n",
        "plt.plot(t, pulse)\n",
        "plt.xlabel('t')\n",
        "plt.ylabel('$\\delta_{\\Delta}(t)$')\n",
        "plt.title('$\\delta_{\\Delta}(t)$')\n",
        "plt.grid(True)\n",
        "\n",
        "xtick_locs = [-Delta/2, 0, Delta/2]\n",
        "xtick_labels = [r'$-\\frac{\\Delta}{2}$', '0', r'$\\frac{\\Delta}{2}$']\n",
        "plt.xticks(xtick_locs, xtick_labels)\n",
        "\n",
        "ytick_locs = [0, 1/Delta, 1]\n",
        "ytick_labels = ['0', r'$\\frac{1}{\\Delta}$', '1']\n",
        "plt.yticks(ytick_locs, ytick_labels)\n",
        "\n",
        "plt.show()"
      ]
    },
    {
      "cell_type": "code",
      "execution_count": null,
      "metadata": {
        "colab": {
          "base_uri": "https://localhost:8080/",
          "height": 460
        },
        "id": "8cBymq8Oe-eg",
        "outputId": "a8550b16-5dd8-4521-91bc-29a89079dedf"
      },
      "outputs": [
        {
          "data": {
            "image/png": "[encoded data removed]",
            "text/plain": [
              "<Figure size 640x480 with 1 Axes>"
            ]
          },
          "metadata": {},
          "output_type": "display_data"
        }
      ],
      "source": [
        "Delta = 1.0 \n",
        "t = np.linspace(-2, 2, 1000) \n",
        "\n",
        "pulse = np.zeros(len(t))\n",
        "pulse[(t >= -Delta/2) & (t <= Delta/2)] = 1\n",
        "pulse[(t >= Delta/2) & (t <= 3*Delta/2)] = 0.8\n",
        "pulse[(t >= -3*Delta/2) & (t <= -Delta/2)] = 0.7\n",
        "\n",
        "plt.plot(t, pulse)\n",
        "plt.xlabel('t')\n",
        "plt.grid(True)\n",
        "\n",
        "xtick_locs = [-Delta/2, 0, Delta/2]\n",
        "xtick_labels = [r'$-\\frac{\\Delta}{2}$', '0', r'$\\frac{\\Delta}{2}$']\n",
        "plt.xticks(xtick_locs, xtick_labels)\n",
        "\n",
        "ytick_locs = [0, 1/Delta, 1]\n",
        "ytick_labels = ['0', r'$\\frac{1}{\\Delta}$', '1']\n",
        "plt.yticks(ytick_locs, ytick_labels)\n",
        "\n",
        "plt.show()"
      ]
    },
    {
      "attachments": {},
      "cell_type": "markdown",
      "metadata": {
        "id": "bzM3Kv2GfVRk"
      },
      "source": [
        "$$\n",
        "\\begin{align}\n",
        "\\hat{x}(t)&=\\sum_{k=-\\infty}^{\\infty} x[k\\Delta]\\,\\delta_{\\Delta}(t-k\\Delta) \\Delta \\\\\n",
        "x(t)&=\\lim_{\\Delta \\to 0}\\,\\,\\hat{x}(t) \\\\\n",
        "x(t)&=\\int_{-\\infty}^{\\infty}x(\\tau)\\,\\delta(t-\\tau)\\,d\\tau \\\\\n",
        "x(t)&=x(t)*\\delta(t)\n",
        "\\end{align}\n",
        "$$"
      ]
    },
    {
      "attachments": {},
      "cell_type": "markdown",
      "metadata": {
        "id": "cOyUQmcBh6hX"
      },
      "source": [
        "$$\n",
        "\\begin{align}\n",
        "\\delta_{\\Delta}(t)&\\to h_{\\Delta}(t) \\,\\,(Impulse Response)\\\\\n",
        "&\\Big\\downarrow\\,\\,\\, (\\because Time \\,\\,Invariance) \\\\\n",
        "\\delta_{\\Delta}(t-k\\Delta)&\\to h_{\\Delta}(t-k\\Delta) \\\\\n",
        "&\\Big\\downarrow\\,\\,\\, Scaling\\,(\\because Linearity) \\\\\n",
        "x(k\\Delta)\\delta_{\\Delta}(t-k\\Delta)&\\to x(k\\Delta)h_{\\Delta}(t-k\\Delta) \\\\\n",
        "&\\Big\\downarrow\\,\\,\\, Additivity\\,(\\because Linearity) \\\\\n",
        "\\sum_{k=-\\infty}^{\\infty} x[k\\Delta]\\,\\delta_{\\Delta}(t-k\\Delta) \\Delta&\\to\\sum_{k=-\\infty}^{\\infty} x[k\\Delta]\\,h_{\\Delta}(t-k\\Delta) \\Delta \\\\\n",
        "&\\Big\\downarrow \\\\\n",
        "\\lim_{\\Delta \\to 0}\\sum_{k=-\\infty}^{\\infty} x[k\\Delta]\\,\\delta_{\\Delta}(t-k\\Delta) \\Delta&\\to\\lim_{\\Delta \\to 0}\\sum_{k=-\\infty}^{\\infty} x[k\\Delta]\\,h_{\\Delta}(t-k\\Delta) \\Delta \\\\\n",
        "&\\Big\\downarrow \\\\\n",
        "x(t)&\\to\\int_{-\\infty}^{\\infty}x(\\tau)\\,h(t-\\tau)\\,d\\tau \\\\\n",
        "&Continuous\\,\\,Convolution\n",
        "\\end{align}\n",
        "$$"
      ]
    },
    {
      "attachments": {},
      "cell_type": "markdown",
      "metadata": {
        "id": "X-0nJRjr7dPa"
      },
      "source": [
        "$$\n",
        "\\begin{align}\n",
        "&\\boxed{y(t)=x(t)*h(t)} \\\\\n",
        "&\\,\\,y(t)=\\int_{-\\infty}^{\\infty}x(\\tau)\\,h(t-\\tau)\\,d\\tau\n",
        "\\end{align}\n",
        "$$"
      ]
    },
    {
      "attachments": {},
      "cell_type": "markdown",
      "metadata": {
        "id": "P7lvxugf9HVG"
      },
      "source": [
        "Example: \n",
        "$$\n",
        "\\begin{align}\n",
        "h(t)&=u(t) \\\\\n",
        "x(t)&=e^{-at}u(t)\n",
        "\\end{align}\n",
        "$$"
      ]
    },
    {
      "cell_type": "code",
      "execution_count": null,
      "metadata": {
        "colab": {
          "base_uri": "https://localhost:8080/",
          "height": 929
        },
        "id": "4wRZBgPV9nV7",
        "outputId": "6b47c562-2fbb-4a83-cc51-b46caecbd2d3"
      },
      "outputs": [
        {
          "data": {
            "image/png": "[encoded data removed]",
            "text/plain": [
              "<Figure size 640x480 with 1 Axes>"
            ]
          },
          "metadata": {},
          "output_type": "display_data"
        },
        {
          "data": {
            "image/png": "[encoded data removed]",
            "text/plain": [
              "<Figure size 640x480 with 1 Axes>"
            ]
          },
          "metadata": {},
          "output_type": "display_data"
        }
      ],
      "source": [
        "t = np.linspace(-10, 10, 1000)\n",
        "\n",
        "u = np.heaviside(t, 0.5)\n",
        "\n",
        "plt.plot(t, u)\n",
        "\n",
        "plt.xlabel('t')\n",
        "plt.ylabel('h(t)')\n",
        "plt.title('$h(t)$')\n",
        "\n",
        "plt.show()\n",
        "\n",
        "t = np.linspace(-5, 5, 1000)\n",
        "\n",
        "a = 1    \n",
        "y = np.exp(-a*t) * (t >= 0)\n",
        "\n",
        "plt.plot(t, y)\n",
        "\n",
        "plt.xlabel('t (s)')\n",
        "plt.ylabel('x(t)')\n",
        "plt.title('x(t)')\n",
        "\n",
        "plt.show()"
      ]
    },
    {
      "attachments": {},
      "cell_type": "markdown",
      "metadata": {
        "id": "Th53YGQH-3cK"
      },
      "source": [
        "$$\n",
        "\\begin{align}\n",
        "y(t)&=x(t)*h(t) \\\\\n",
        "&=\\int_{-\\infty}^{\\infty}x(\\tau)\\,h(t-\\tau)\\,d\\tau\n",
        "\\end{align}\n",
        "$$"
      ]
    },
    {
      "cell_type": "code",
      "execution_count": null,
      "metadata": {
        "colab": {
          "base_uri": "https://localhost:8080/",
          "height": 449
        },
        "id": "b9dZo_XW_xx-",
        "outputId": "9927df3e-20ed-4af2-b537-a6d6c3704033"
      },
      "outputs": [
        {
          "data": {
            "image/png": "[encoded data removed]",
            "text/plain": [
              "<Figure size 640x480 with 1 Axes>"
            ]
          },
          "metadata": {},
          "output_type": "display_data"
        }
      ],
      "source": [
        "t = np.linspace(-1, 5, 1000)\n",
        "\n",
        "u = np.heaviside(2-t, 1)\n",
        "e = np.exp(-0.5*t)*np.heaviside(t, 1)\n",
        "\n",
        "fig, ax = plt.subplots()\n",
        "ax.plot(t, u, label=r'$u(t-\\tau)$')\n",
        "ax.plot(t, e, label=r'$e^{-at}u(t)$')\n",
        "ax.fill_between(t, e, where=(t <= 2), interpolate=True, color='red', alpha=0.5)\n",
        "\n",
        "ax.set_xlabel('$\\tau$')\n",
        "ax.set_ylabel('')\n",
        "ax.legend()\n",
        "\n",
        "plt.show()\n"
      ]
    },
    {
      "cell_type": "code",
      "execution_count": null,
      "metadata": {
        "colab": {
          "base_uri": "https://localhost:8080/",
          "height": 476
        },
        "id": "I1jM77TrBdyc",
        "outputId": "bbe6ae78-7460-4be4-dfe8-9a687498f9f9"
      },
      "outputs": [
        {
          "data": {
            "image/png": "[encoded data removed]",
            "text/plain": [
              "<Figure size 640x480 with 1 Axes>"
            ]
          },
          "metadata": {},
          "output_type": "display_data"
        }
      ],
      "source": [
        "t = np.linspace(-5, 5, 1000)\n",
        "\n",
        "a = 0.5  \n",
        "f = (1 - np.exp(-a*t))*np.heaviside(t, 1)\n",
        "\n",
        "fig, ax = plt.subplots()\n",
        "ax.plot(t, f)\n",
        "\n",
        "ax.set_xlabel('t')\n",
        "ax.set_ylabel('y(t)')\n",
        "ax.set_title(r'$1-e^{-at}u(t)$')\n",
        "\n",
        "plt.show()"
      ]
    },
    {
      "attachments": {},
      "cell_type": "markdown",
      "metadata": {
        "id": "TRemxIoJCgYn"
      },
      "source": [
        "$$\n",
        "for \\,\\,t<0\\,,\\,y(t)=0 \\\\\n",
        "for \\,\\,t\\geq0\\,, \\\\\n",
        "\\begin{align}\n",
        "y(t)&=\\int_{0}^{\\infty}e^{-at}u(t)\\,dt \\\\\n",
        "&=\\left[\\frac{e^{-at}}{-a}\\right]_{0}^{t} \\\\\n",
        "&=\\left[\\frac{e^{-at}}{a}\\right]_{t}^{0} \\\\\n",
        "&=\\frac{1}{a}(1-e^{-at})\n",
        "\\end{align}\n",
        "$$"
      ]
    },
    {
      "attachments": {},
      "cell_type": "markdown",
      "metadata": {
        "id": "XRJVygseEcJB"
      },
      "source": [
        "Example:\n",
        "\n"
      ]
    },
    {
      "cell_type": "code",
      "execution_count": null,
      "metadata": {
        "colab": {
          "base_uri": "https://localhost:8080/",
          "height": 927
        },
        "id": "2zoXOmmqE76X",
        "outputId": "2ccfcae7-3563-4435-f088-be0c5cd86bff"
      },
      "outputs": [
        {
          "data": {
            "image/png": "[encoded data removed]",
            "text/plain": [
              "<Figure size 640x480 with 1 Axes>"
            ]
          },
          "metadata": {},
          "output_type": "display_data"
        },
        {
          "data": {
            "image/png": "[encoded data removed]",
            "text/plain": [
              "<Figure size 640x480 with 1 Axes>"
            ]
          },
          "metadata": {},
          "output_type": "display_data"
        }
      ],
      "source": [
        "x = np.linspace(-3, 3, 1000)\n",
        "\n",
        "y = np.zeros_like(x)\n",
        "y[(x >= 0) & (x <= 1)] = 1\n",
        "\n",
        "plt.plot(x, y, linewidth=2)\n",
        "\n",
        "plt.xlabel('t')\n",
        "plt.ylabel('h(t)')\n",
        "plt.title('h(t)')\n",
        "\n",
        "plt.show()\n",
        "\n",
        "x = np.linspace(-3, 3, 1000)\n",
        "\n",
        "y = np.zeros_like(x)\n",
        "y[(x >= 0) & (x <= 2)] = 1\n",
        "\n",
        "plt.plot(x, y, linewidth=2)\n",
        "\n",
        "plt.xlabel('t')\n",
        "plt.ylabel('x(t)')\n",
        "plt.title('x(t)')\n",
        "\n",
        "plt.show()"
      ]
    },
    {
      "attachments": {},
      "cell_type": "markdown",
      "metadata": {
        "id": "RrgcfKm6GWMr"
      },
      "source": [
        "By definition,\n",
        "\n",
        "$$\n",
        "\\begin{align}\n",
        "y(t)&=x(t)*h(t)\\\\\n",
        "y(t)&=\\int_{-\\infty}^{\\infty}x(\\tau)\\,h(t-\\tau)\\,d\\tau\n",
        "\\end{align}\n",
        "$$"
      ]
    },
    {
      "cell_type": "code",
      "execution_count": null,
      "metadata": {
        "colab": {
          "base_uri": "https://localhost:8080/",
          "height": 430
        },
        "id": "gTpXtRudGvk9",
        "outputId": "e0e8b53b-b50d-47cf-81f1-2ec4637e276f"
      },
      "outputs": [
        {
          "data": {
            "image/png": "[encoded data removed]",
            "text/plain": [
              "<Figure size 640x480 with 1 Axes>"
            ]
          },
          "metadata": {},
          "output_type": "display_data"
        }
      ],
      "source": [
        "x = np.array([0, 1, 2, 3])\n",
        "y = np.array([0, 1, 1, 0])\n",
        "\n",
        "plt.plot(x, y)\n",
        "plt.show()"
      ]
    },
    {
      "attachments": {},
      "cell_type": "markdown",
      "metadata": {
        "id": "JC-_4PrMG7X5"
      },
      "source": [
        "## 2.3 Properties of Convolution"
      ]
    },
    {
      "attachments": {},
      "cell_type": "markdown",
      "metadata": {
        "id": "YnlVuB_OHYzX"
      },
      "source": [
        "\\begin{align}\n",
        "x_1(t)*x_2(t)&=\\int_{-\\infty}^{\\infty}x_1(\\tau)\\,x_2(t-\\tau)\\,d\\tau \\\\\n",
        "x_1[n]*x_2[n]&=\\sum_{k=-\\infty}^{\\infty}x_1[k]\\,x_2[n-k]\n",
        "\\end{align}"
      ]
    },
    {
      "attachments": {},
      "cell_type": "markdown",
      "metadata": {
        "id": "KIjbSG4DIQQX"
      },
      "source": [
        "01) \n",
        "\\begin{align}\n",
        "x(t)&=x(t)*\\delta(t)=\\int_{-\\infty}^{\\infty}x(\\tau)\\,\\delta(t-\\tau)\\,d\\tau \\\\\n",
        "x[n]&=x[n]*\\delta[n]=\\sum_{k=-\\infty}^{\\infty}x[k]\\,\\delta[n-k]\n",
        "\\end{align}"
      ]
    },
    {
      "attachments": {},
      "cell_type": "markdown",
      "metadata": {
        "id": "86aB8PY4JcOa"
      },
      "source": [
        "Proof:\n",
        "\n",
        "\\begin{align}\n",
        "x(t)*\\delta(t)&=x(t) \\\\\n",
        "&=\\int_{-\\infty}^{\\infty}x(\\tau)\\,\\delta(t-\\tau)\\,d\\tau \\\\\n",
        "\\end{align}"
      ]
    },
    {
      "cell_type": "code",
      "execution_count": null,
      "metadata": {
        "id": "678K8yTJKt8c"
      },
      "outputs": [],
      "source": [
        "#Plots"
      ]
    },
    {
      "attachments": {},
      "cell_type": "markdown",
      "metadata": {
        "id": "OJGAPMBmKx8Q"
      },
      "source": [
        "\\begin{align}\n",
        "x(t)*\\delta(t)&=\\int_{-\\infty}^{\\infty}x(t)\\,\\delta(t-\\tau)\\,d\\tau \\\\\n",
        "&=x(t)\\,\\int_{-\\infty}^{\\infty}\\delta(t-\\tau)\\,d\\tau \\leftarrow Area = 1 \\\\\n",
        "&=x(t)\\times1 \\\\\n",
        "&=x(t) \\\\\n",
        "\\therefore x(t)*\\delta(t)&=x(t) \n",
        "\\end{align}"
      ]
    },
    {
      "attachments": {},
      "cell_type": "markdown",
      "metadata": {
        "id": "r0p-9FouMkDw"
      },
      "source": [
        "02)\n",
        "\\begin{align}\n",
        "x(t)*\\delta(t-T)&=x(t-T) \\\\\n",
        "x[n]*\\delta[n-N]&=x(n-N) \\\\\n",
        "\\end{align}"
      ]
    },
    {
      "attachments": {},
      "cell_type": "markdown",
      "metadata": {
        "id": "NNWVGIU3NU_d"
      },
      "source": [
        "Proof:\n",
        "\n",
        "\\begin{align}\n",
        "x(t)*\\delta(t-T)&=x(t-T) \\\\\n",
        "x(t)*\\delta(t-T)&=\\int_{-\\infty}^{\\infty}x(\\tau)\\,\\delta(t-T-\\tau)\\,d\\tau \\\\\n",
        "\\end{align}"
      ]
    },
    {
      "cell_type": "code",
      "execution_count": null,
      "metadata": {
        "id": "MgTUzKhVOTPW"
      },
      "outputs": [],
      "source": [
        "#Plot"
      ]
    },
    {
      "attachments": {},
      "cell_type": "markdown",
      "metadata": {
        "id": "R7r7YDwCOUaA"
      },
      "source": [
        "\\begin{align}\n",
        "x(t)*\\delta(t-T)&=\\int_{-\\infty}^{\\infty}x(t-T)\\,\\delta(t-T-\\tau)\\,d\\tau \\\\\n",
        "&=x(t-T)\\int_{-\\infty}^{\\infty}\\delta(t-T-\\tau)\\,d\\tau \\leftarrow Area=1\\\\\n",
        "&=x(t-T) \\\\\n",
        "\\therefore x(t)*\\delta(t-T)&=x(t-T)\n",
        "\\end{align}"
      ]
    },
    {
      "attachments": {},
      "cell_type": "markdown",
      "metadata": {
        "id": "0MYLw32FPLpk"
      },
      "source": [
        "03) Commutativity \\\\\n",
        "Consider the discrete case:\n",
        "\n",
        "\\begin{align}\n",
        "x_1[n]*x_2[n]&=\\sum_{k=-\\infty}^{\\infty}x_1[k]\\,x_2[n-k] \\\\\n",
        "let \\,\\,m&=n-k\\\\\n",
        "k&=n-m \\\\\n",
        "when \\,\\,k&\\to-\\infty\\,\\,;m\\to\\infty \\\\\n",
        "\\,\\,k&\\to\\infty\\,\\,;m\\to-\\infty \\\\\n",
        "x_1[n]*x_2[n]&=\\sum_{m=\\infty}^{-\\infty}x_1[n-m]\\,x_2[m] \\\\\n",
        "&=\\sum_{m=-\\infty}^{\\infty}x_2[m]\\,x_1[n-m] \\\\\n",
        "x_1[n]*x_2[n]&=x_2[n]*x_1[n] \\\\\n",
        "\\therefore Discrete\\,\\,convol&ution\\,\\,is\\,\\,commutative.\n",
        "\\end{align}\n",
        "\n",
        "Consider the continuous case:\n",
        "\n",
        "\\begin{align}\n",
        "x_1(t)*x_2(t)&=\\int_{-\\infty}^{\\infty}x_1(\\tau)\\,x_2(t-\\tau)\\,d\\tau \\\\\n",
        "let \\,\\,T&=t-\\tau\\\\\n",
        "dT&=-d\\tau \\\\\n",
        "when \\,\\,\\tau&\\to-\\infty\\,\\,;T\\to\\infty \\\\\n",
        "\\,\\,\\tau&\\to\\infty\\,\\,;T\\to-\\infty \\\\\n",
        "x_1(t)*x_2(t)&=\\int_{m=\\infty}^{-\\infty}x_1(t-T)\\,x_2(T)\\,(-dT) \\\\\n",
        "&=\\int_{-\\infty}^{\\infty}x_2(T)\\,x_1(t-T)\\,dT \\\\\n",
        "x_1(t)*x_2(t)&=x_2(t)*x_1(t)\\\\\n",
        "\\therefore Continuous\\,\\,convol&ution\\,\\,is\\,\\,commutative.\n",
        "\\end{align}"
      ]
    },
    {
      "attachments": {},
      "cell_type": "markdown",
      "metadata": {
        "id": "v0ii0QVegBkC"
      },
      "source": [
        "04) Distributivity\n",
        "\n",
        "$$\n",
        "a) \\,\\,x_1(t)*[x_2(t)+x_3(t)]=x_1(t)*x_2(t)*x_3(t)\\\\\n",
        "$$"
      ]
    },
    {
      "cell_type": "code",
      "execution_count": null,
      "metadata": {
        "id": "GfPKYH5QgfZu"
      },
      "outputs": [],
      "source": [
        "#Diagram"
      ]
    },
    {
      "attachments": {},
      "cell_type": "markdown",
      "metadata": {
        "id": "zYvT-Eejgh_w"
      },
      "source": [
        "\\begin{align}\n",
        "y(t)&=x(t)*h_1(t)+x(t)*h_2(t)\\\\\n",
        "y(t)&=x(t)*[h_1(t)+h_2(t)]\\\\\n",
        "\\end{align}"
      ]
    },
    {
      "attachments": {},
      "cell_type": "markdown",
      "metadata": {
        "id": "HbRM264YhOWB"
      },
      "source": [
        "$$\n",
        "b)\\,\\,x_1(t)*[x_2(t)*x_3(t)]=[x_1(t)*x_2(t)]*x_3(t)\n",
        "$$"
      ]
    },
    {
      "cell_type": "code",
      "execution_count": null,
      "metadata": {
        "id": "-TlSLpQxhkeA"
      },
      "outputs": [],
      "source": [
        "#Diagram"
      ]
    },
    {
      "attachments": {},
      "cell_type": "markdown",
      "metadata": {
        "id": "K3DLW7JyhmuQ"
      },
      "source": [
        "\\begin{align}\n",
        "y(t)&=[x(t)*h_1(t)]*h_2(t)\\\\\n",
        "y(t)&=x(t)*[h_1(t)*h_2(t)]\n",
        "\\end{align}"
      ]
    },
    {
      "attachments": {},
      "cell_type": "markdown",
      "metadata": {
        "id": "95JreOCziCWG"
      },
      "source": [
        "Special case: If #2 is the inverse of #1 ;\n",
        "\n",
        "\\begin{align}\n",
        "y(t)&=x(t) \\\\\n",
        "x(t)&=x(t)*\\{h_1(t)*h_2(t)\\}\\\\\n",
        "\\therefore h_1(t)*h_2(t)&=\\delta(t)\\\\\n",
        "\\end{align}"
      ]
    },
    {
      "attachments": {},
      "cell_type": "markdown",
      "metadata": {
        "id": "1YW_8V9bWJRn"
      },
      "source": [
        "\\begin{align}\n",
        "&\\,\\,\\,\\,\\,\\,\\,\\,\\,\\,\\,\\,\\,\\,\\,\\,\\,\\,\\,\\,\\,\\,\\,\\, \\text{Signal} \\,\\,\\,\\,\\,\\,\\,\\,\\,\\,\\,\\,\\,\\,\\,\\,\\,\\,\\,\\,\\,\\,\\,\\,\\,\\,\\,\\,\\,\\,\\,\\,\\,\\,\\,\\,\\,\\,\\,\\,\\,\\,\\,\\, \\text{Physical Property} \\\\\n",
        "\\\\\n",
        "        \\left.\n",
        "        \\begin{array}{cl}\n",
        "        \\text{Direct outcome} \\\\\n",
        "        \\text{of a physical} \\\\\n",
        "        \\text{process}\n",
        "        \\end{array}\n",
        "        \\right\\{&\n",
        "        \\begin{array}{cl}\n",
        "        \\text{Speech} \\\\\n",
        "        \\text{Current through a wire} \\\\\n",
        "        \\text{Light}\n",
        "        \\end{array}\n",
        "        \\,\\,\\,\\,\\,\\,\\,\\,\\,\\,\\,\\,\\,\n",
        "        \\begin{array}{cl}\n",
        "        \\text{Air pressure} \\\\\n",
        "        \\text{Current} \\\\\n",
        "        \\text{Electromagnetic field}\n",
        "        \\end{array}\n",
        "        \\\\\n",
        "        \\\\\n",
        "        \\\\\n",
        "        \\left.\n",
        "        \\begin{array}{cl}\n",
        "        \\text{Information} \\\\\n",
        "        \\text{extracted from a} \\\\\n",
        "        \\text{physical process}\n",
        "        \\end{array}\n",
        "        \\right\\{&\n",
        "        \\begin{array}{cl}\n",
        "        \\text{Daily rainfall over a time} \\\\\n",
        "        \\text{Averahe daily temperature} \\\\\n",
        "        \\text{Daily light hours per day}\n",
        "        \\end{array}\n",
        "\\end{align}"
      ]
    },
    {
      "attachments": {},
      "cell_type": "markdown",
      "metadata": {
        "id": "zxKcI_pYgA2O"
      },
      "source": [
        "* For any signal, independent variable is time.\n",
        "* Dependent variable can be number of physical parameters.\n",
        "\n",
        " Ex :- Voltage, Current, Electric field, etc.\n",
        "\n",
        "* A system is an interconection of components, devices, subsystems. "
      ]
    },
    {
      "attachments": {},
      "cell_type": "markdown",
      "metadata": {
        "id": "xKM3aDVxhBQf"
      },
      "source": []
    },
    {
      "attachments": {},
      "cell_type": "markdown",
      "metadata": {
        "id": "PApgCMQghB-9"
      },
      "source": [
        "* Transducer converts one physical parameter to another."
      ]
    },
    {
      "attachments": {},
      "cell_type": "markdown",
      "metadata": {
        "id": "ZLvffInOhLxF"
      },
      "source": []
    },
    {
      "attachments": {},
      "cell_type": "markdown",
      "metadata": {
        "id": "FYyGi1EzhMKN"
      },
      "source": [
        "* Signals and systems interact to give a productive outcome."
      ]
    },
    {
      "attachments": {},
      "cell_type": "markdown",
      "metadata": {
        "id": "zNNMTBX-it-k"
      },
      "source": [
        "##1.1 Classification of Signals"
      ]
    },
    {
      "attachments": {},
      "cell_type": "markdown",
      "metadata": {
        "id": "5dZDru6Ji0uU"
      },
      "source": [
        "###1.1.1 Continuous and Descrete time signals"
      ]
    },
    {
      "attachments": {},
      "cell_type": "markdown",
      "metadata": {
        "id": "wp6ThlBzjHQb"
      },
      "source": [
        "* A continuous time signal is defined for all instances of time.\n",
        "\n",
        " Example :- $A sin\\ \\omega t$ , $A\\mathrm{e}^{j \\omega t}$\n",
        "* A discrete time signal is defined for certian instances of time. The time difference between those time instances need not be equal.\n",
        "\n",
        "\\begin{align}\n",
        "x(t)=A\\,cos(\\omega t) \\ ; \\ t \\ge 0\n",
        "\\end{align}"
      ]
    },
    {
      "cell_type": "code",
      "execution_count": 28,
      "metadata": {
        "id": "gNKhJV-8pEs4"
      },
      "outputs": [],
      "source": [
        "# cos graph plot"
      ]
    },
    {
      "attachments": {},
      "cell_type": "markdown",
      "metadata": {
        "id": "pCH6KWwUpFJo"
      },
      "source": [
        "$\\omega = 2 \\pi f$\n",
        "\n",
        "$f = \\frac{1}{T}$\n",
        "\n",
        "$\\omega = \\frac{2 \\pi}{T}$\n",
        "\n",
        "\n",
        "\n",
        "$x(t)=A\\cos(\\frac{2 \\pi t}{T})$\n",
        "\n",
        "We measure $x(t)$ at every $\\frac{T}{10}$ \n",
        "\n",
        "$\\text{t = 0},\\ \\frac{T}{10},\\ \\frac{2T}{10},\\ ... \\ , \\frac{aT}{10}$\n",
        "\n",
        "\n",
        "\n",
        "\\begin{align}\n",
        "        \\left.\n",
        "        \\begin{array}{cl}\n",
        "        x(0) \\ \\ = &A\\cos(0)  \\ \\ \\ \\ = x\\ [\\ 0\\ ] \\\\\n",
        "        x(\\frac{T}{10}) = &A\\cos(\\frac{2\\pi}{10}) \\ \\ = x\\ [\\ 1\\ ] \\\\\n",
        "        x(\\frac{2T}{10}) = &A\\cos(\\frac{2\\pi.2}{10}) = x\\ [\\ 2\\ ] \\\\\n",
        "        . & \\ \\ \\ \\ \\ \\ . \\\\\n",
        "        . & \\ \\ \\ \\ \\ \\ . \\\\\n",
        "        . & \\ \\ \\ \\ \\ \\ . \\\\\n",
        "        x(\\frac{aT}{10}) = &A\\cos(\\frac{2\\pi.a}{10}) = x\\ [\\ a\\ ]\n",
        "        \\end{array}\n",
        "        \\right\\} \\text{Discrete time signal}\n",
        "    \\end{align}"
      ]
    },
    {
      "cell_type": "code",
      "execution_count": 29,
      "metadata": {
        "id": "24Dx9VYnzHnQ"
      },
      "outputs": [],
      "source": [
        "# x[n] plot"
      ]
    },
    {
      "attachments": {},
      "cell_type": "markdown",
      "metadata": {
        "id": "0VD1Ao_RzKz-"
      },
      "source": [
        "* By selecting values of a continuous time signal at discrete time instance (sampling) a discrete time signal can be generated.\n",
        "* Time series data comes as discrete time signals."
      ]
    },
    {
      "attachments": {},
      "cell_type": "markdown",
      "metadata": {
        "id": "npkpur-Rz53t"
      },
      "source": [
        "###1.1.2 Continuos and Descrete valued signals"
      ]
    },
    {
      "attachments": {},
      "cell_type": "markdown",
      "metadata": {
        "id": "Rpcb47aC0IKF"
      },
      "source": [
        "* A continuous valued signal can take any value within a given range.\n",
        "\n",
        "\\begin{align}\n",
        "\\text{Ex :-}\\ \\  & x(t) = A\\sin(\\omega t) \\ \\ \\in [-A, A] \\\\\n",
        "& f(t) \\in [\\ a, b\\ ] \\ \\ \\ \\ \\  ; \\ \\ a,b \\in (-\\infty, \\infty)\n",
        "\\end{align}\n",
        "\n",
        "* Discrete valued signal is a signal that takes values from a finite set. "
      ]
    },
    {
      "cell_type": "code",
      "execution_count": 30,
      "metadata": {
        "id": "IHJ4_zKs2Ye9"
      },
      "outputs": [],
      "source": [
        "# CV and DV graphs"
      ]
    },
    {
      "attachments": {},
      "cell_type": "markdown",
      "metadata": {
        "id": "k0DN7DQJ24Hk"
      },
      "source": [
        "###1.1.3 Deterministic and Random Signals"
      ]
    },
    {
      "attachments": {},
      "cell_type": "markdown",
      "metadata": {
        "id": "3IvDlxCB281L"
      },
      "source": [
        "* Deterministic signals can be uniquely expressed by an explicit mathematical expression.\n",
        "\\begin{align}\n",
        "\\text{Ex :- } x(t) \\ = \\ A\\sin(\\omega t)\n",
        "\\end{align}\n",
        "* Random signal is a signal that cannot be expressed to any reasonable degree of accuracy using explicit equation.\n",
        "* Probability and random variables are used to analyse random signals."
      ]
    },
    {
      "attachments": {},
      "cell_type": "markdown",
      "metadata": {
        "id": "QyOQR1fM4yJK"
      },
      "source": [
        "###1.1.4 Energy and Power signals"
      ]
    },
    {
      "attachments": {},
      "cell_type": "markdown",
      "metadata": {
        "id": "3EkeOUlm44If"
      },
      "source": []
    },
    {
      "cell_type": "code",
      "execution_count": 31,
      "metadata": {
        "id": "IYeiDF505Gfq"
      },
      "outputs": [],
      "source": [
        "# Graph"
      ]
    },
    {
      "attachments": {},
      "cell_type": "markdown",
      "metadata": {
        "id": "TM7iJ9nV5DYi"
      },
      "source": [
        "\\begin{align}\n",
        "E_{t_{1},t_{2}} &= \\int_{t_{1}}^{t_{2}} P(t) \\,dt \\\\\n",
        "P_{t_{1}\\, , \\ t_{2} \\ \\text{average}} &= \\frac{1}{t_{2}\\, - \\, t_{1}} \\, \\int_{t_{1}}^{t_{2}} P(t) \\,dt\n",
        "\\end{align}\n",
        "\n",
        "$\\star$ Total energy of a signal,\n",
        "\n",
        "Let $R=1,$\n",
        "\\begin{align}\n",
        "E_{t_{1},t_{2}} &= \\int_{t_{1}}^{t_{2}} P(t) \\,dt \\\\\n",
        "                &= \\int_{t_{1}}^{t_{2}} i^{2}(t) \\,dt \\\\\n",
        "                &= \\int_{t_{1}}^{t_{2}} \\,|i(t)|^{2} \\,dt \\\\\n",
        "                \\\\\n",
        "E_{\\,\\infty} &\\triangleq \\lim_{T\\to\\infty} \\int_{-T}^{T} \\,|i(t)|^{2} \\,dt \\\\\n",
        "             &= \\int_{-\\infty}^{\\infty} \\,|i(t)|^{2} \\,dt \\\\\n",
        "             \\\\\n",
        "E_{\\,\\infty} &\\triangleq \\lim_{T\\to\\infty} \\int_{-T}^{T} \\,|x(t)|^{2} \\,dt             \n",
        "\\end{align}"
      ]
    },
    {
      "attachments": {},
      "cell_type": "markdown",
      "metadata": {
        "id": "tBFmjhuobw1W"
      },
      "source": [
        "* A signal is an energy signal if it has finite energy.\n",
        "\\begin{align}\n",
        "\\int_{-\\infty}^{\\infty} \\,|x(t)|^{2} \\,dt \\le \\text{C ;  C - finite constant}\n",
        "\\end{align}\n",
        "for a complex signal,\n",
        "\\begin{align}\n",
        "|x(t)|^{2} \\,=\\, x(t).x^{*}(t)\n",
        "\\end{align}"
      ]
    },
    {
      "cell_type": "code",
      "execution_count": 32,
      "metadata": {
        "id": "XGJwxtmzdPg3"
      },
      "outputs": [],
      "source": [
        "# Example"
      ]
    },
    {
      "attachments": {},
      "cell_type": "markdown",
      "metadata": {
        "id": "bKJlbkXfdRYY"
      },
      "source": [
        "\\begin{align}\n",
        "x(t)\\,=\\, \\left\\{\n",
        "  \\begin{array}{cl}\n",
        "  0  &; \\,\\, t < -T \\\\\n",
        "  \\frac{t}{T} + 1 &; \\,\\, -T \\le t < 0 \\\\\n",
        "  \\frac{-t}{T} + 1 &; \\,\\, 0 \\le t < T \\\\\n",
        "  0  &; \\,\\, t > T \n",
        "  \\end{array}\n",
        "  \\right.\\,\\,\\,\\,= \\, \\left\\{\n",
        "    \\begin{array}{cl}\n",
        "    0  &; \\,\\, |\\,t\\,| > T \\\\\n",
        "    [\\,1 - \\frac{|\\,t\\,|}{T}\\,] &; \\,\\, |\\,t\\,| \\le T\n",
        "    \\end{array}\n",
        "  \\right.\n",
        "\\end{align}\n",
        "\n",
        "\\begin{align}\n",
        "E_{\\,\\infty} &= \\int_{-\\infty}^{\\infty} \\,|x(t)|^{2} \\,dt \\\\\n",
        "             &= \\int_{-T}^{T} \\,|x(t)|^{2} \\,dt \\\\\n",
        "             &= \\int_{-T}^{0} \\,\\left(\\frac{t}{T} + 1\\right)^{2} \\,\\,dt \\,\\,+\\, \\int_{0}^{T} \\,\\left(\\frac{-t}{T} + 1\\right)^{2} \\,\\,dt \\\\\n",
        "             &= \\int_{-T}^{0} \\,\\left\\{(\\frac{t}{T})^{2}+ \\frac{2t}{T} + 1\\right\\} \\,\\,dt \\,\\,+\\, \\int_{0}^{T} \\,\\left\\{(\\frac{t}{T})^{2}- \\frac{2t}{T} + 1\\right\\} \\,\\,dt \\\\\n",
        "             &= \\left[ \\frac{t^3}{3T^2} + \\frac{t^2}{T} + t\\right]_{-T}^{0} \\,\\, + \\,\\, \\left[ \\frac{t^3}{3T^2} - \\frac{t^2}{T} + t\\right]_{0}^{T} \\\\\n",
        "             &= -\\left( \\frac{-T}{3} + T - T \\right) + \\left( \\frac{T}{3} - T + T \\right) \\\\\n",
        "             &= \\frac{2T}{3}\n",
        "\\end{align}\n",
        "\n",
        "Energy signal has finite support.\n",
        "\n",
        "$\\therefore\\,\\,$ This is a energy signal."
      ]
    },
    {
      "attachments": {},
      "cell_type": "markdown",
      "metadata": {
        "id": "-0KsoQ0PxF_9"
      },
      "source": [
        "For continuous time signals,\n",
        "\\begin{align}\n",
        "E \\,\\,\\triangleq \\lim_{T\\to\\infty} \\int_{-T}^{T} \\,|\\,x(t)\\,|^{2} \\,dt\n",
        "\\end{align}\n",
        "For discrete time signals,\n",
        "\\begin{align}\n",
        "E \\,\\,&\\triangleq \\lim_{N\\to\\infty} \\sum_{n=-N}^{N} |\\,x[n]\\,|^{2} \\\\\n",
        "&= \\sum_{n=-\\infty}^{\\infty} |\\,x[n]\\,|^{2}\n",
        "\\end{align}\n",
        "For continuous time signals,\n",
        "\\begin{align}\n",
        "P_{average} \\,\\,\\triangleq \\lim_{T\\to\\infty} \\frac{1}{2T} \\int_{-T}^{T} \\,|\\,x(t)\\,|^{2} \\,dt\n",
        "\\end{align}\n",
        "For discrete time signals,\n",
        "\\begin{align}\n",
        "P_{average} \\,\\,\\triangleq \\lim_{N\\to\\infty} \\frac{1}{2N} \\sum_{n=-N}^{N} |\\,x[n]\\,|^{2}\n",
        "\\end{align}\n",
        "* A signal with a finite power is called a power signal.\n",
        "* An energy signal has zero average power.\n",
        "* A power signal has infinite energy."
      ]
    },
    {
      "attachments": {},
      "cell_type": "markdown",
      "metadata": {
        "id": "UxIGB1Vd1YeM"
      },
      "source": [
        "$x(t) = A\\,sin(\\omega t),$\n",
        "\n",
        "Method $\\text{I},$\n",
        "\\begin{align}\n",
        "P_{avg} \\,\\,&= \\,\\, \\lim_{T\\to\\infty} \\frac{1}{2T} \\int_{-T}^{T} \\,|\\,x(t)\\,|^{2} \\,dt \\\\\n",
        "\\,\\,&= \\,\\, \\lim_{T\\to\\infty} \\frac{1}{2T} \\int_{-T}^{T} \\,A^{2} \\, sin^{2} \\omega t \\,dt \\\\\n",
        "\\,\\,&= \\,\\, \\lim_{T\\to\\infty} \\frac{1}{2T} \\int_{-T}^{T} \\,\\frac{A^{2}}{2} \\, (\\,1-cos\\, 2 \\omega t\\,) \\,dt \\\\\n",
        "\\,\\,&= \\,\\, \\lim_{T\\to\\infty} \\frac{1}{2T} \\times \\frac{A^{2}}{2} \\, \\left[ \\,\\int_{-T}^{T} \\, dt\\,\\, - \\,\\int_{-T}^{T} cos \\,2 \\omega t \\,dt \\right] \\\\\n",
        "\\,\\,&= \\,\\, \\lim_{T\\to\\infty} \\frac{A^{2}}{4T} \\, \\left[ \\,\\left. t\\,\\right|_{-T}^{T} \\,\\, - \\,\\left. \\frac{sin\\,2 \\omega t}{2 \\omega} \\,\\right|_{-T}^{T} \\,\\, \\right] \\\\\n",
        "\\,\\,&= \\,\\, \\lim_{T\\to\\infty} \\frac{A^{2}}{4T} \\, \\left[ \\,2T \\,\\, - \\, \\frac{sin\\,2 \\omega T - sin\\,2 \\omega T}{2 \\omega} \\,\\, \\right] \\\\\n",
        "\\,\\,&= \\,\\, \\lim_{T\\to\\infty} \\frac{A^{2}}{2} \\\\\n",
        "&= \\frac{A^{2}}{2} \n",
        "\\end{align}\n",
        "\n",
        "Method $\\text{II},$\n",
        "\n",
        "$x(t) = A\\,sin(\\omega t)$\n",
        "\n",
        "$x(t) = \\frac{A}{2}\\left(\\, j\\,\\mathrm{e}^{-j \\omega t} - j\\,\\mathrm{e}^{j \\omega t} \\,\\right)$\n",
        "\n",
        "$x^{*}(t) = \\frac{A}{2}\\left(\\, j\\,\\mathrm{e}^{-j \\omega t} - j\\,\\mathrm{e}^{j \\omega t} \\,\\right)\\,\\,\\,\\,\\,\\,\\text{Since }x(t)\\text{ is real.}$\n",
        "\n",
        "\\begin{align}\n",
        "|\\,x(t)\\,|^{2} &= x(t) \\times x^{*}(t) \\\\\n",
        "&= \\frac{A}{2} j \\left(\\,\\mathrm{e}^{-j \\omega t} - \\,\\mathrm{e}^{j \\omega t} \\,\\right) \\times \\frac{A}{2} j \\left(\\,\\mathrm{e}^{-j \\omega t} -\\,\\mathrm{e}^{j \\omega t} \\,\\right) \\\\\n",
        "&= \\frac{-A^{2}}{4} \\left(\\,\\mathrm{e}^{2j \\omega t} \\,+\\, \\mathrm{e}^{-2j \\omega t} \\,-\\, 2 \\,\\right)\n",
        "\\end{align}\n",
        "\n",
        "\n",
        "$ $\n",
        "\n",
        "\\begin{align}\n",
        "P_{avg} \\,\\,&= \\,\\, \\lim_{T\\to\\infty} \\frac{1}{2T} \\int_{-T}^{T} \\,|\\,x(t)\\,|^{2} \\,dt \\\\\n",
        "&= \\,\\, \\lim_{T\\to\\infty} \\frac{1}{2T} \\int_{-T}^{T} \\,\\frac{-A^{2}}{4} \\left(\\, \\mathrm{e}^{2j \\omega t} \\,+\\, \\mathrm{e}^{-2j \\omega t} \\,-\\, 2 \\,\\right) \\,dt \\\\\n",
        "&= \\,\\, \\lim_{T\\to\\infty} \\frac{-A^{2}}{8T} \\left[ \\,\\,\\int_{-T}^{T} \\, \\mathrm{e}^{2j \\omega t}\\,\\, dt \\,+\\, \\int_{-T}^{T} \\, \\mathrm{e}^{-2j \\omega t}\\,\\, dt \\,-\\, \\int_{-T}^{T} 2 \\, \\,dt \\right] \\\\\n",
        "&= \\,\\, \\lim_{T\\to\\infty} \\frac{-A^{2}}{8T} \\left[ \\,\\, \\left. \\frac{\\mathrm{e}^{2j \\omega t}}{2j \\omega}\\,\\, \\right|_{-T}^{T} \\,+\\,\\, \\left. \\frac{\\mathrm{e}^{-2j \\omega t}}{-2j \\omega}\\,\\, \\right|_{-T}^{T}\\,\\,-\\, \\left. 2 t \\, \\,\\right|_{-T}^{T} \\right] \\\\\n",
        "&= \\,\\, \\lim_{T\\to\\infty} \\frac{-A^{2}}{8T} \\left[ \\,\\, \\frac{\\mathrm{e}^{2j \\omega T}-\\mathrm{e}^{-2j \\omega T}}{2j \\omega}\\,\\,-\\,\\, \\frac{\\mathrm{e}^{-2j \\omega T}-\\mathrm{e}^{2j \\omega T}}{2j \\omega}\\,\\,-\\, 4T \\, \\, \\right] \\\\\n",
        "&= \\,\\, \\lim_{T\\to\\infty} \\frac{-A^{2}}{8T} \\left[ \\,\\, \\frac{\\mathrm{e}^{2j \\omega T}-\\mathrm{e}^{-2j \\omega T}}{j \\omega}\\,-\\, 4T \\, \\, \\right] \\\\\n",
        "& \\text{since} \\,\\,\\,\\omega T \\, = \\, 2\\pi, \\\\\n",
        "&= \\,\\, \\lim_{T\\to\\infty} \\frac{-A^{2}}{8T} \\left[ \\,\\, \\frac{\\mathrm{e}^{4\\pi j}-\\mathrm{e}^{-4\\pi j}}{j \\omega}\\,-\\, 4T \\, \\, \\right] \\\\\n",
        "& \\text{since} \\,\\,\\,\\mathrm{e}^{4\\pi j} \\, = \\, 1\\,\\, \\text{and}\\,\\, \\mathrm{e}^{-4\\pi j} \\, = \\, 1, \\\\\n",
        "&= \\,\\, \\lim_{T\\to\\infty} \\frac{-A^{2}}{8T} \\,\\, \\times \\,\\, -4T \\\\\n",
        "&= \\,\\, \\lim_{T\\to\\infty} \\frac{A^{2}}{2} \\\\\n",
        "&= \\frac{A^{2}}{2}\n",
        "\\end{align}"
      ]
    },
    {
      "attachments": {},
      "cell_type": "markdown",
      "metadata": {
        "id": "PJJl8kfn5ix6"
      },
      "source": [
        "###1.1.5 Odd and Even signals"
      ]
    },
    {
      "attachments": {},
      "cell_type": "markdown",
      "metadata": {
        "id": "aHpRkm3K9Py1"
      },
      "source": []
    },
    {
      "attachments": {},
      "cell_type": "markdown",
      "metadata": {
        "id": "xtCtOUBGKgpF"
      },
      "source": [
        "////////// Add a photo of even signal //////////"
      ]
    },
    {
      "attachments": {},
      "cell_type": "markdown",
      "metadata": {
        "id": "hj3duJFTK8I9"
      },
      "source": [
        "* Odd signals dosen't remain identical under folding operation.\n",
        "\\begin{align}\n",
        "x(t) = -x(-t)\n",
        "\\end{align}"
      ]
    },
    {
      "attachments": {},
      "cell_type": "markdown",
      "metadata": {
        "id": "NWgTgkn1La78"
      },
      "source": [
        "////////// Add a photo of odd signal //////////"
      ]
    },
    {
      "attachments": {},
      "cell_type": "markdown",
      "metadata": {
        "id": "kkNF5-dCLc9N"
      },
      "source": [
        "* Any continuous time signal can be represented as a sum of odd and even components.\n",
        "\n",
        "Let,\n",
        "\\begin{align}\n",
        "x(t) &= E(t) + O(t) \\longrightarrow (1) \\\\\n",
        "\\\\\n",
        "t &= -t \\\\\n",
        "x(-t) &= E(-t) + O(-t) \\\\\n",
        "x(-t) &= E(t) - O(t) \\longrightarrow (2) \\\\\n",
        "\\\\\n",
        "\\text{consider (1) + (2),} \\\\\n",
        "E(t) &= \\frac{x(t) + x(-t)}{2} \\\\\n",
        "\\text{consider (1) - (2),} \\\\\n",
        "O(t) &= \\frac{x(t) - x(-t)}{2} \\\\\n",
        "\\end{align}"
      ]
    },
    {
      "attachments": {},
      "cell_type": "markdown",
      "metadata": {
        "id": "nijwXjhEUU7v"
      },
      "source": [
        "Example :\n",
        "\\begin{align}\n",
        "x(t) =\\left\\{\n",
        "    \\begin{array}{cl}\n",
        "    0  &; \\,\\, |\\,t\\,| > 1 \\\\\n",
        "    \\frac{t + 1}{T}\\, &; \\,\\, |\\,t\\,| \\le 1\n",
        "    \\end{array}\n",
        "  \\right.\n",
        "\\end{align}\n",
        "When $\\,|\\,t\\,| \\le 1,$\n",
        "\\begin{align}\n",
        "x(t) &= \\frac{t+1}{2}\\\\\n",
        "\\\\\n",
        "E(t) &= \\frac{x(t) + x(-t)}{2} = \\frac{\\frac{t+1}{2} + \\frac{-t+1}{2}}{2} = \\frac{1}{2}\\\\\n",
        "O(t) &= \\frac{x(t) - x(-t)}{2} = \\frac{\\frac{t+1}{2} - \\frac{1-t}{2}}{2} = \\frac{t}{2}\n",
        "\\end{align}"
      ]
    },
    {
      "attachments": {},
      "cell_type": "markdown",
      "metadata": {
        "id": "sfFwqmGoO5N6"
      },
      "source": [
        "Properties : \n",
        "\n",
        "1. At $t=0$ odd signal is zero.\n",
        "2. Average, mean, dc value of any odd signal is zero.\n",
        "3. DC value is an even signal.\n",
        "4. DC value + Even = Even\n",
        "5. DC value + Odd = Neither even or odd\n",
        "6. Even $\\times$ Even = Even\n",
        "7. Odd $\\times$ Odd = Even\n",
        "8. Odd $\\times$ Even = Odd\n",
        "9. $\\frac{\\text{d(Even)}}{\\text{dt}} = \\text{Odd}\\,\\,\\,\\,$( Not valid for DC values ).\n",
        "10. $\\frac{\\text{d(Odd)}}{\\text{dt}} = \\text{Even}$\n",
        "11. $\\int\\,\\text{Even} \\,dt\\,=\\, \\text{Odd}$\n",
        "12. $\\int\\,\\text{Odd} \\,dt\\,=\\, \\text{Even}$\n",
        "13. $\\frac{1}{\\text{Odd}} = \\text{Odd}$\n",
        "14. $\\frac{1}{\\text{Even}} = \\text{Even}$"
      ]
    },
    {
      "attachments": {},
      "cell_type": "markdown",
      "metadata": {
        "id": "GfmAyewi9l3q"
      },
      "source": [
        "###1.6.5 Condition for Inverse"
      ]
    },
    {
      "attachments": {},
      "cell_type": "markdown",
      "metadata": {
        "id": "kJXewfgr9l3r"
      },
      "source": [
        "\\begin{align}\n",
        "x(t)&⟶h_1(t)⟶h_2(t)⟶y(t)\\\\\n",
        "\\\n",
        "\\\n",
        "\\end{align}\n",
        "\n",
        "System $h_2(t)$ is the inverse of system $h_1(t)$\n",
        "\n",
        "Therefore,\n",
        "\\begin{align}\n",
        "y(t) = x(t)-(1)\n",
        "\\end{align}\n",
        "but,\n",
        "\\begin{align}\n",
        "y(t) = x(t)*h_1(t)*h_2(t)-(2)\n",
        "\\end{align}\n",
        "\n",
        "\\begin{align}\n",
        "x(t) = x(t)*h_1(t)*h_2(t)\n",
        "\\end{align}\n",
        "\n",
        "also,\n",
        "\\begin{align}\n",
        "x(t) = x(t)*δ(t)\n",
        "\\end{align}\n",
        "\n",
        "therefore,\n",
        "\\begin{align}\n",
        "h_1(t)*h_2(t) = \\delta(t)\n",
        "\\end{align}\n",
        "\n",
        "#### $\\underline{Stability}$\n",
        "\n",
        "If a system output is bounded for a bounded input such a system is stable.\n",
        "\n"
      ]
    },
    {
      "attachments": {},
      "cell_type": "markdown",
      "metadata": {
        "id": "_Rtg6UbCGE6t"
      },
      "source": []
    },
    {
      "attachments": {},
      "cell_type": "markdown",
      "metadata": {
        "id": "_Rtg6UbCGE6t"
      },
      "source": []
    },
    {
      "attachments": {},
      "cell_type": "markdown",
      "metadata": {
        "id": "0cgU_5SQrl7m"
      },
      "source": [
        "# 2.0 Fourier Series"
      ]
    },
    {
      "attachments": {},
      "cell_type": "markdown",
      "source": [
        "##2.1 Introduction"
      ],
      "metadata": {
        "id": "_fpjhxSAiAfa"
      }
    },
    {
      "cell_type": "markdown",
      "source": [
        "###2.1.1 Inter-Domain Analysis"
      ],
      "metadata": {
        "id": "e0XzjtGLiE9I"
      }
    },
    {
      "cell_type": "markdown",
      "source": [
        "The same signal can be represented in different domains. Each domain may be more convenient to analyse the signal rather than in another domain.\n",
        "\n",
        "eg :- \n",
        "\n",
        "*   Time Domain - Frequency Domain\n",
        "\n",
        "\n",
        "\n"
      ],
      "metadata": {
        "id": "pCfj8BdWiJ8T"
      }
    },
    {
      "cell_type": "code",
      "source": [
        "# Code represent different domins for a given signal\n",
        "# eg :- time domain - frequency domain etc.\n",
        "\n",
        "# Inter Domain Analysis\n",
        "\n",
        "# parameters of the signal\n",
        "dt = 0.01 # time step\n",
        "Fs = 1/dt # sampling rate\n",
        "t = np.arange(0 , 10 , dt )\n",
        "w0 = 2*np.pi\n",
        "x = 0.8 * np.sin(w0*t) + 0.6 * np.sin(2*w0*t+0.3) + 0.4 * np.sin(4*w0*t+0.5) + 0.5 * np.sin(20 * w0 * t - 0.8) + 0.3\n",
        "\n",
        "# ploting\n",
        "fig , axs = plt.subplots( nrows = 3 , ncols = 1 , figsize = (7,7))\n",
        "axs[0].set_title(\"Signal\")\n",
        "axs[0].plot(t,x,color = 'C0')\n",
        "axs[0].set_xlabel(\"Time\")\n",
        "axs[0].set_ylabel(\"Amplitude\")\n",
        "\n",
        "axs[1].set_title(\"Magnitude Spectrum\")\n",
        "axs[1].magnitude_spectrum(x, Fs=Fs, color='C1')\n",
        "\n",
        "axs[2].set_title(\"Phase Spectrum \")\n",
        "axs[2].phase_spectrum(x, Fs=Fs, color='C2'  )\n",
        "\n",
        "\n",
        "fig.tight_layout()\n",
        "plt.show()"
      ],
      "metadata": {
        "id": "Xw4AWEiLksBl",
        "colab": {
          "base_uri": "https://localhost:8080/",
          "height": 707
        },
        "outputId": "f9b58c13-999f-4324-e69a-5cb37c49a4bf"
      },
      "execution_count": 35,
      "outputs": [
        {
          "output_type": "display_data",
          "data": {
            "text/plain": [
              "<Figure size 700x700 with 3 Axes>"
            ],
            "image/png": "[encoded data removed]"
          },
          "metadata": {}
        }
      ]
    },
    {
      "cell_type": "markdown",
      "source": [
        "###2.1.2 Periodic Signals"
      ],
      "metadata": {
        "id": "cZSKLiQPiKmL"
      }
    },
    {
      "cell_type": "markdown",
      "source": [
        "For a signal $x(t)$ , if $x(t) = x(t+mT) \\space m∈𝕫 \\space, T > 0$\n",
        "\n",
        "$x(t)$ is periodic.\n",
        "\n",
        "The smallest T for which the above is satisfied is called the **fundamental period** of the periodic signal.\n",
        "\n",
        "Periodic signals are power signals.\n",
        "\n",
        "\n",
        "\n",
        "\n",
        "> Fundamental Period - $T_0$\n",
        "\n",
        ">Fundamental Freaquency - $f_0$\n",
        "\n",
        "> $f_0 = \\frac{1}{T_0}$ Hz\n",
        "\n",
        "> $ω_0 = \\frac{2\\pi}{T_0} \\space \\mathrm{rad \\space s^{-1}}$ \n",
        "\n",
        "\n",
        "\n"
      ],
      "metadata": {
        "id": "bpti2zuRiP1z"
      }
    },
    {
      "cell_type": "markdown",
      "source": [
        "##### Code"
      ],
      "metadata": {
        "id": "BEzaYzo1BUF3"
      }
    },
    {
      "cell_type": "code",
      "source": [
        "# Plot of representing a periodic signal with its periodicity\n",
        "\n",
        "# periodic plots\n",
        "\n",
        "# ---------- The slider doesnt' work in colab -------------------\n",
        "# The parametrized function to be plotted\n",
        "def f(t, n):\n",
        "    w0 = 2*np.pi\n",
        "    T = 2*np.pi/w0\n",
        "    A = 0.8\n",
        "    return A * np.sin(w0*(t + n*T))\n",
        "dt = 0.01\n",
        "t = np.arange(0,4, dt)\n",
        "\n",
        "# Define initial parameters\n",
        "init_n= 0\n",
        "\n",
        "# Create the figure and the line that we will manipulate\n",
        "fig, ax = plt.subplots()\n",
        "line, = ax.plot(t, f(t, init_n), lw=2)\n",
        "ax.scatter(t , f(t, init_n) , s = 0.1 , color = 'green' )\n",
        "ax.set_xlabel('Time [s]')\n",
        "\n",
        "# adjust the main plot to make room for the sliders\n",
        "fig.subplots_adjust(left=0.25, bottom=0.25)\n",
        "\n",
        "# Make a horizontal slider to control the frequency.\n",
        "axShift= fig.add_axes([0.25, 0.1, 0.65, 0.03])\n",
        "shift_slider = Slider(\n",
        "    ax=axShift,\n",
        "    label='n value for $x(t+nT)$',\n",
        "    valmin=0,\n",
        "    valmax=4,\n",
        "    valinit=init_n,\n",
        "    valstep = 0.25\n",
        "    \n",
        ")\n",
        "\n",
        "\n",
        "# The function to be called anytime a slider's value changes\n",
        "def update(val):\n",
        "    line.set_ydata(f(t, shift_slider.val))\n",
        "    fig.canvas.draw_idle()\n",
        "\n",
        "\n",
        "# register the update function with each slider\n",
        "shift_slider.on_changed(update)\n",
        "\n",
        "# Create a `matplotlib.widgets.Button` to reset the sliders to initial values.\n",
        "resetax = fig.add_axes([0.8, 0.025, 0.1, 0.04])\n",
        "button = Button(resetax, 'Reset', hovercolor='0.975')\n",
        "\n",
        "\n",
        "def reset(event):\n",
        "    shift_slider.reset()\n",
        "    \n",
        "button.on_clicked(reset)\n",
        "\n",
        "plt.show()\n",
        "\n"
      ],
      "metadata": {
        "colab": {
          "base_uri": "https://localhost:8080/",
          "height": 0
        },
        "id": "N6T5iyILoZIi",
        "outputId": "ec200871-aecd-4aa3-fb69-8a7177108681"
      },
      "execution_count": 36,
      "outputs": [
        {
          "output_type": "display_data",
          "data": {
            "text/plain": [
              "<Figure size 640x480 with 3 Axes>"
            ],
            "image/png": "[encoded data removed]"
          },
          "metadata": {}
        }
      ]
    },
    {
      "cell_type": "markdown",
      "source": [
        "#### Behavior of $e^{j\\omega_0t}$"
      ],
      "metadata": {
        "id": "7Qd4ycy-KucY"
      }
    },
    {
      "cell_type": "markdown",
      "source": [
        "$Z = e^{j\\omega_0t} = \\text{cos}(\\omega_0t) + j \\space \\text{sin}(\\omega_0t)$\n",
        "\n",
        "$Z$ moves in a circular path on the complex plane with $\\omega_0$ angular speed ,  while $Re[Z]$ and $Im[Z]$ values varies along each axis.\n",
        "\n",
        "The total motion is periodic.\n"
      ],
      "metadata": {
        "id": "8hyBfu6mK1P_"
      }
    },
    {
      "cell_type": "markdown",
      "source": [
        "##### Code"
      ],
      "metadata": {
        "id": "111wZD5mBP_f"
      }
    },
    {
      "cell_type": "code",
      "source": [
        "# code to represent the complex exponent\n",
        "fig, (axl, axr) = plt.subplots(\n",
        "    ncols=2,\n",
        "    sharey=True,\n",
        "    figsize=(6, 2),\n",
        "    gridspec_kw=dict(width_ratios=[1, 3], wspace=0),\n",
        ")\n",
        "axl.set_aspect(1)\n",
        "axl.set_title(\"$e^{j\\omega_0t}$\")\n",
        "axr.set_box_aspect(1 / 3)\n",
        "axr.yaxis.set_visible(False)\n",
        "axr.xaxis.set_ticks([0, np.pi, 2 * np.pi], [\"0\", r\"$\\pi$\", r\"$2\\pi$\"])\n",
        "axr.set_title(\"Imaginery Axis\")\n",
        "# draw circle with initial point in left Axes\n",
        "x = np.linspace(0, 2 * np.pi, 50)\n",
        "axl.plot(np.cos(x), np.sin(x), \"k\", lw=0.3)\n",
        "point, = axl.plot(0, 0, \"o\")\n",
        "\n",
        "# draw full curve to set view limits in right Axes\n",
        "sine, = axr.plot(x, np.sin(x))\n",
        "\n",
        "# draw connecting line between both graphs\n",
        "con = ConnectionPatch(\n",
        "    (1, 0),\n",
        "    (0, 0),\n",
        "    \"data\",\n",
        "    \"data\",\n",
        "    axesA=axl,\n",
        "    axesB=axr,\n",
        "    color=\"C0\",\n",
        "    ls=\"dotted\",\n",
        ")\n",
        "fig.add_artist(con)\n",
        "\n",
        "\n",
        "def animate(i):\n",
        "    x = np.linspace(0, i, int(i * 25 / np.pi))\n",
        "    sine.set_data(x, np.sin(x))\n",
        "    x, y = np.cos(i), np.sin(i)\n",
        "    point.set_data([x], [y])\n",
        "    con.xy1 = x, y\n",
        "    con.xy2 = i, y\n",
        "    return point, sine, con\n",
        "\n",
        "\n",
        "ani = animation.FuncAnimation(\n",
        "    fig,\n",
        "    animate,\n",
        "    interval=50,\n",
        "    blit=False,  # blitting can't be used with Figure artists\n",
        "    frames=x,\n",
        "    repeat_delay=100,\n",
        ")\n",
        "\n",
        "plt.show()"
      ],
      "metadata": {
        "id": "hRJlQxpJK32g",
        "colab": {
          "base_uri": "https://localhost:8080/",
          "height": 0
        },
        "outputId": "ee64537f-6249-4727-b232-54df08e4b5b2"
      },
      "execution_count": 37,
      "outputs": [
        {
          "output_type": "display_data",
          "data": {
            "text/plain": [
              "<Figure size 600x200 with 2 Axes>"
            ],
            "image/png": "[encoded data removed]"
          },
          "metadata": {}
        }
      ]
    },
    {
      "cell_type": "markdown",
      "source": [
        "###2.1.3 Vector Space"
      ],
      "metadata": {
        "id": "JDWQaVmUiQEy"
      }
    },
    {
      "cell_type": "markdown",
      "source": [
        "#### Inner Product"
      ],
      "metadata": {
        "id": "EU4CjGCgoLV6"
      }
    },
    {
      "cell_type": "markdown",
      "source": [
        "Inner product for a periodic function is defined as,\n",
        "\n",
        "$<f(t) , g(t) > = \\frac{1}{T} \\int_{0}^{T}f(t)g^*(t)dt$"
      ],
      "metadata": {
        "id": "bzscCtATo8Un"
      }
    },
    {
      "cell_type": "markdown",
      "source": [
        "Consider the periodic signal , $e^{jn\\omega_0t}$.\n",
        "\n",
        "\\begin{align}\n",
        "<e^{jn\\omega_0t} , e^{jm \\omega_0t}> &= \\frac{1}{T} \\int_{0}^{T}e^{jn\\omega_0t}\\space e^{-jn\\omega_0t}dt\\\\\n",
        "&= \\frac{1}{T} \\int_0^T e^{j(n-m)\\omega_0t}dt\n",
        "\\end{align}\n",
        "\n",
        "\n"
      ],
      "metadata": {
        "id": "kemBw0mOq8BE"
      }
    },
    {
      "cell_type": "markdown",
      "source": [
        "For $n = m$,\n",
        "\n",
        "\\begin{align}\n",
        "<e^{jn\\omega_0t} , e^{jm \\omega_0t}> &= 1 \\\\\n",
        "\\therefore \\space ||e^{jn\\omega_0t}||&= 1\n",
        "\\end{align}\n",
        "\n",
        "For $n\\ne m,$\n",
        "\n",
        "\\begin{align}\n",
        "<e^{jn\\omega_0t} , e^{jm \\omega_0t}> &= 0\n",
        "\\end{align}\n",
        "\n",
        "$\\therefore$ The two vectors are orthigonal.(Corelation is zero)\n",
        "\n",
        "$\\therefore$ These are orthonormal.\n",
        "\n",
        "Hence , this can be used as an orthonormal basis for periodic functions."
      ],
      "metadata": {
        "id": "TqQw7JVbdJt_"
      }
    },
    {
      "cell_type": "markdown",
      "source": [
        "#### Projection"
      ],
      "metadata": {
        "id": "6CI_5IOco8m_"
      }
    },
    {
      "cell_type": "markdown",
      "source": [
        "For two vectors **u** and **v** , the projection is defined as ,\n",
        "\n",
        "Projection of **v** on **u** = $\\frac{<u,v>}{||u||}$\n",
        "\n",
        "Simillarly , the projection of $f(t) \\space \\text{on} \\space e^{jn\\omega_0t}$ can be defined as ,\n",
        "\\begin{align}\n",
        "\\frac{<f(t) , e^{jn\\omega_0t}>}{||e^{jn\\omega_0t}||} = \\frac{1}{T} \\int_0^Tf(t)\\space e^{jn\\omega_0t}dt = F(jn\\omega_0)\\end{align}\n",
        "\n",
        "Hence, the function can be represented as a linear combination of vectors $e^{jn\\omega_0}$\n",
        "\\begin{align}\n",
        "f(t) = \\sum_{-\\infty}^{∞}F(jn\\omega_0)e^{jn\\omega_0}\n",
        "\\end{align}\n",
        "\n"
      ],
      "metadata": {
        "id": "pJvYZGpGpE-5"
      }
    },
    {
      "cell_type": "markdown",
      "source": [
        "#### Norm"
      ],
      "metadata": {
        "id": "5z-UL8tBpFM6"
      }
    },
    {
      "cell_type": "markdown",
      "source": [
        "\\begin{align}\n",
        "||f(t)||^2 &= <f(t),f(t)>\\\\\n",
        "&= \\frac{1}{T} \\int_0^Tf(t)f^*(t)dt\\\\\n",
        "&= \\frac{1}{T} \\int_0^T|f(t)|^2dt\\\\\n",
        "&= \\sum_{n=-\\infty}^{\\infty}F^2(nj\\omega_0)\n",
        "\\end{align}\n",
        "\n",
        "Norm of the signal is same as the squared sum of the F.S. coefficients.\n",
        "This is related with the energy of the signal."
      ],
      "metadata": {
        "id": "bRwjYbeVpNdy"
      }
    },
    {
      "cell_type": "markdown",
      "source": [
        "####Eigen Functions"
      ],
      "metadata": {
        "id": "s0BsfVgRpNuo"
      }
    },
    {
      "cell_type": "markdown",
      "source": [
        "If $\\frac{dx(t)}{dt} = \\lambda x(t) , x(t)$ is an eigen function.\n",
        "\n",
        "For $x(t) = e^{jk\\omega_0t}$ , \n",
        "\n",
        "$\\frac{d (e^{jk\\omega_0t})}{dt} = jk\\omega_0e^{jk\\omega_0t} $\n",
        "\n",
        "$\\therefore e^{jk\\omega_0t}$ is an eigen function.\n",
        "\n",
        "For the vector space, it forms an eigen basis."
      ],
      "metadata": {
        "id": "sI-FAePfpRzQ"
      }
    },
    {
      "cell_type": "markdown",
      "source": [
        "## 2.2 Fourier Series"
      ],
      "metadata": {
        "id": "-QXTnDHmsC8T"
      },
      "source": [
        "## 2.2 Fourier Series"
      ]
    },
    {
      "attachments": {},
      "cell_type": "markdown",
      "metadata": {
        "id": "0HqqXG0lsIGt"
      },
      "source": [
        "###2.2.1 Introduction"
      ],
      "metadata": {
        "id": "TsHL4gCniXm7"
      }
    },
    {
      "cell_type": "markdown",
      "source": [
        "Consider,\n",
        "\\begin{align}\n",
        "x(t)=11+4sin(5t)+\\frac{4}{3}sin(15t)\n",
        "\\end{align}"
      ]
    },
    {
      "cell_type": "code",
      "source": [
        "dt = 0.01\n",
        "Fs = 1/dt\n",
        "t = np.arange(0,4, dt)\n",
        "w0 = 5\n",
        "xt = 11 + 4 * np.sin(w0*t) + (4/3)*np.sin(3*w0*t)\n",
        "\n",
        "plt.plot(t,xt)\n",
        "plt.show()"
      ],
      "metadata": {
        "id": "pUt_DCfcsXFp",
        "colab": {
          "base_uri": "https://localhost:8080/",
          "height": 430
        },
        "outputId": "058f38b3-57cd-4202-9a14-1948bc41b3bb"
      },
      "execution_count": 38,
      "outputs": [
        {
          "output_type": "display_data",
          "data": {
            "text/plain": [
              "<Figure size 640x480 with 1 Axes>"
            ],
            "image/png": "[encoded data removed]"
          },
          "metadata": {}
        }
      ]
    },
    {
      "attachments": {},
      "cell_type": "markdown",
      "metadata": {
        "id": "TOIIkLghsZHD"
      },
      "source": [
        "\n",
        "<p>Fundermental frequency = frequency of the lowest frequency component</p>\n",
        "Thus,\n",
        "\\begin{align}\n",
        "\\omega_0&=5\\\\\n",
        "T=\\frac{2\\pi}{5} \\:\\:&and\\:\\: f_0=\\frac{5}{2\\pi}\\\\\n",
        "e^{j\\theta}=cos\\theta &+j sin\\theta\\\\\n",
        "\\end{align}\n",
        "This gives,\n",
        "\\begin{align}\n",
        "sin\\theta = \\frac{e^{j\\theta}-e^{-j\\theta}}{2j}\\:\\:\\: and \\:\\:\\: cos\\theta = \\frac{e^{j\\theta}+e^{-j\\theta}}{2}\n",
        "\\end{align}\n",
        "\n",
        "\n",
        "By substituting to $x(t)$,\n",
        "\\begin{align}\n",
        "x(t)&=11+4(\\frac{e^{5jt}-e^{-5jt}}{2j})+\\frac{4}{3}(\\frac{e^{15j}-e^{-15j}}{2j})\\\\\n",
        "x(t)&=[\\frac{2}{3}e^{j\\frac{\\pi}{2}}]e^{(-3)5jt}+[2e^{j\\frac{\\pi}{2}}]e^{(-1)5jt}+[11]e^{(0)5jt}+[2e^{-j\\frac{\\pi}{2}}]e^{(+1)5jt}+[\\frac{2}{3}e^{-j\\frac{\\pi}{2}}]e^{(+3)5jt}\n",
        "\\end{align}\n",
        "\n",
        "\n",
        "This is the Fourier Series of $x(t)$\n",
        "\n",
        "A linear combination of basis vectors with complex coefficients. Here, the real valued function $x(t)$ is represented as a sum of complex exponents with complex coefficients."
      ],
      "metadata": {
        "id": "TOIIkLghsZHD"
      }
    },
    {
      "attachments": {},
      "cell_type": "markdown",
      "metadata": {
        "id": "XsnQI7gWxwg7"
      },
      "source": [
        "Here,\\\n",
        "$[\\frac{2}{3}e^{j\\frac{\\pi}{2}}],[2e^{j\\frac{\\pi}{2}}],[11],[2e^{-j\\frac{\\pi}{2}}],[\\frac{2}{3}e^{-j\\frac{\\pi}{2}}]$ are known as **Fourier Coefficients of $x(t)$**.\n",
        "\n",
        "Thus the Fourier Series Expression can be written as,\n",
        "\n",
        "\\begin{align}\n",
        "x(t)=\\sum_{k=-\\infty}^{\\infty} X_k\\:e^{jk\\omega_0t}\\:\\:\\: ; X_k \\in \\mathbb{C}\n",
        "\\end{align}\n",
        "\n",
        "\\begin{align}\n",
        "X_k&=Re[X_k]+jIm[X_k]\\\\\n",
        "\\\\\n",
        "X_k&=|X_k|e^{j.Arg[X_k]}\n",
        "\\end{align}\n"
      ]
    },
    {
      "cell_type": "code",
      "source": [
        "# ----------- Doesn't Give the true values for magnitude and phase --------------\n",
        "\n",
        "#Magnitude plot and phase plot\n",
        "fig , axs = plt.subplots( nrows= 1 , ncols=1 ,figsize = (7,7))\n",
        "\n",
        "\n",
        "axs.set_title(\"Magnitude Spectrum\")\n",
        "axs.magnitude_spectrum(xt, Fs=Fs, color='C1' , scale = 'linear' )\n",
        "\n",
        "'''axs[0].set_title(\"Signal\")\n",
        "axs[0].plot(t,x,color = 'C0')\n",
        "axs[0].set_xlabel(\"Time\")\n",
        "axs[0].set_ylabel(\"Amplitude\")'''\n",
        "\n",
        "'''axs[0].set_title(\"Magnitude Spectrum\")\n",
        "axs[0].magnitude_spectrum(xt, Fs=Fs, color='C1' , scale = 'linear' )'''\n",
        "\n",
        "'''axs[1].set_title(\"Phase Spectrum \")\n",
        "axs[1].phase_spectrum(xt, Fs=Fs, color='C2'  )'''\n",
        "'''\n",
        "axs[1].set_title(\"Angle Spectrum\")\n",
        "axs[1].angle_spectrum(xt, Fs=Fs, color='C2' , )'''\n",
        "\n",
        "\n",
        "\n",
        "fig.tight_layout()\n",
        "plt.show()"
      ],
      "metadata": {
        "id": "njdBNabUzziD",
        "colab": {
          "base_uri": "https://localhost:8080/",
          "height": 707
        },
        "outputId": "89f88c57-8201-45f3-cad9-ac22b9519942"
      },
      "execution_count": 39,
      "outputs": [
        {
          "output_type": "display_data",
          "data": {
            "text/plain": [
              "<Figure size 700x700 with 1 Axes>"
            ],
            "image/png": "[encoded data removed]"
          },
          "metadata": {}
        }
      ]
    },
    {
      "attachments": {},
      "cell_type": "markdown",
      "metadata": {
        "id": "9pdh_z2hyf9E"
      },
      "source": [
        "* Discontinuous signals can be expressed as a collection of continuous signals using fourier series.\n",
        "\n"
      ]
    },
    {
      "attachments": {},
      "cell_type": "markdown",
      "metadata": {
        "id": "0OHf-Bw9pujl"
      },
      "source": [
        "\\begin{align}\n",
        "x(t)&=\\sum_{m} X_me^{jm\\omega_0t}\\\\\n",
        "x(t)&=...+X_{-2}e^{j(-2)\\omega_0t}+X_{-1}e^{j(-1)\\omega_0t}+X_{0}+X_{1}e^{j(1)\\omega_0t}+X_{2}e^{j(2)\\omega_0t}+...\\\\\n",
        "\\end{align}\n",
        "\\\n",
        "Appling Fourier Transform to L.H.S and $m^{th}$ term of R.H.S\n",
        "\\begin{align}\n",
        "X_m =\\frac{1}{T_0}\\int_{T_0}x(t)e^{-jk\\omega_0t}dt&=\\frac{1}{T_0}\\int_{T_0}X_me^{jm\\omega_0t}e^{-jk\\omega_0t}dt = X_m \\space (\\because k=m)\n",
        "\\end{align}\n"
      ],
      "metadata": {
        "id": "0OHf-Bw9pujl"
      }
    },
    {
      "attachments": {},
      "cell_type": "markdown",
      "source": [
        "###2.2.2 Coefficients of Fourier Series\n"
      ],
      "metadata": {
        "id": "XVvUb8yHr8AY"
      },
      "source": [
        "\n"
      ]
    },
    {
      "attachments": {},
      "cell_type": "markdown",
      "source": [
        "Since a signal $x(t)$ can be represented as a summation of complex exponents with complex coefficients as,\n",
        "\n",
        "$x(t) = \\sum_{k} X_ke^{jk\\omega_0t} $ , \n",
        "\n",
        "The $k^{\\text{th}}$ harmonic coefficient can be obtained as,\n",
        "\n",
        "$X_k = \\frac{1}{T} \\int_{T_0}x(t)e^{-jk\\omega_0t}$\n",
        "\n",
        "This is the projection of $x(t)$  along the vector $e^{jk\\omega_0t}$\n",
        "\n",
        "$X_k$ provides information about the $k^{th} $harmonic component .(The magnitude and the phase)."
      ],
      "metadata": {
        "id": "8FdyHZNOikcJ"
      }
    },
    {
      "cell_type": "markdown",
      "source": [
        "For $k=0$ , \n",
        "\n",
        "$X_0 = \\frac{1}{T_0} \\int_{T_0}x(t)dt$\n",
        "\n",
        "This is the average value (DC value) of the signal $x(t)$."
      ],
      "metadata": {
        "id": "1ZzPiIY6O7_-"
      }
    },
    {
      "cell_type": "markdown",
      "source": [
        "#### Example"
      ],
      "metadata": {
        "id": "v4Szzz8WPmPJ"
      }
    },
    {
      "cell_type": "markdown",
      "source": [
        "\\begin{align}\n",
        "      g(t) = \\left\\{\n",
        "        \\begin{array}{cl}\n",
        "        1 & t \\le |T_1| \\\\\n",
        "        0 & \\text{elsewhere}\n",
        "        \\end{array}\n",
        "        \\right.\n",
        "\\end{align}\n",
        "\n",
        "\\begin{align}\n",
        "x(t) = \\sum_{-\\infty}^{\\infty} g(t-kT_0)\n",
        "\\end{align}\n",
        "\n",
        "Find the fourier series coefficients of the wave form."
      ],
      "metadata": {
        "id": "6TyKbZw1klB8"
      }
    },
    {
      "cell_type": "code",
      "source": [
        "# Example Code\n",
        "dt = 0.01\n",
        "Fs = 1/dt\n",
        "T0 = 2\n",
        "T1 = 0.5\n",
        "t = np.arange(-5*T0 , 5*T0 , dt)-1\n",
        "gt = signal.square(t , duty = 2*T1/T0)\n",
        "plt.plot(t,gt)\n",
        "plt.show()"
      ],
      "metadata": {
        "id": "xB7DCkKsPkNt",
        "colab": {
          "base_uri": "https://localhost:8080/",
          "height": 485
        },
        "outputId": "b0a81900-acf1-46e9-d069-c6be9a70c89e"
      },
      "execution_count": 40,
      "outputs": [
        {
          "output_type": "stream",
          "name": "stderr",
          "text": [
            "/usr/local/lib/python3.10/dist-packages/matplotlib/animation.py:884: UserWarning: Animation was deleted without rendering anything. This is most likely not intended. To prevent deletion, assign the Animation to a variable, e.g. `anim`, that exists until you output the Animation using `plt.show()` or `anim.save()`.\n",
            "  warnings.warn(\n"
          ]
        },
        {
          "output_type": "display_data",
          "data": {
            "text/plain": [
              "<Figure size 640x480 with 1 Axes>"
            ],
            "image/png": "[encoded data removed]"
          },
          "metadata": {}
        }
      ]
    },
    {
      "cell_type": "markdown",
      "source": [
        "##### Solution"
      ],
      "metadata": {
        "id": "u5--FhVewP6j"
      }
    },
    {
      "cell_type": "markdown",
      "source": [
        "Tips :- \n",
        "\n",
        "\n",
        "*   Find the DC component seperately as sometimes it is useful\n",
        "*   choose an easier time period for the integration\n",
        "\n"
      ],
      "metadata": {
        "id": "kdTFi_9ltRnU"
      }
    },
    {
      "cell_type": "markdown",
      "source": [
        "Here, the integration is taken as $\\frac{-T_0}{2} \\le t \\le \\frac{T_0}{2}$\n",
        "\n",
        "DC component ,\n",
        "\\begin{align}\n",
        "X_0 &= \\frac{1}{T_0}\\int_{T_0}x(t)dt \\\\\n",
        "&= \\frac{1}{T_0} \\int_{\\frac{-T_0}{2}}^ {\\frac{T_0}{2}} x(t)dt \\\\\n",
        "&= \\frac{1}{T_0} \\int_{-T_1}^ {T_1} x(t)d \\\\&= \\frac{1}{T_0} \\int_{-T_1}^ {T_1} (1)dt \\\\\n",
        "&= \\frac{2T_1}{T_0}\n",
        "\\end{align}\n",
        "\n",
        "Fourier Series Ccoefficient,\n",
        "\\begin{align}\n",
        "X_k  &= \\frac{1}{T_0} \\int_{T_0}x(t)e^{-jk\\omega_0t}dt \\\\\n",
        "&= \\frac{1}{T_0} \\int_{\\frac{-T_0}{2}}^{\\frac{T_0}{2}}x(t)e^{-jk\\omega_0t}dt \\\\\n",
        "&= \\frac{1}{T_0} \\int_{-T_1}^{T_1}(1)e^{-jk\\omega_0t}dt \\\\\n",
        "&=\\frac{1}{T_0}\\left( \\frac{e^{jk\\omega_0T_1} - e^{-jk\\omega_0T_1}  }{jk\\omega_0}\\right).\\\\\n",
        "&= \\frac{2}{T_0k\\omega_0}\\left( \\frac{e^{jk\\omega_0T_1} - e^{-jk\\omega_0T_1}  }{2j}\\right).\\\\\n",
        "&= \\frac{2}{T_0k\\omega_0}\\mathrm{sin}(k\\omega_0T_1)\\\\\n",
        "&= \\frac{1}{k\\pi}\\mathrm{sin}(k\\omega_0T_1)\n",
        "\\end{align}\n",
        "\n"
      ],
      "metadata": {
        "id": "VpD-p8Nzv3K7"
      }
    },
    {
      "cell_type": "markdown",
      "source": [
        "$\\therefore x(t) = \\frac{2T_1}{T_0} + \\sum_{k\\ne0}\\frac{1}{k\\pi}\\mathrm{sin}(k\\omega_0T_1)e^{-jk\\omega_0t}$"
      ],
      "metadata": {
        "id": "a3ldamWZ-Y23"
      }
    },
    {
      "cell_type": "markdown",
      "source": [
        "##### Key Points"
      ],
      "metadata": {
        "id": "pptLtzVa8-IU"
      }
    },
    {
      "cell_type": "code",
      "source": [
        "#  magnitude and phase spectrum\n",
        "lim = 50\n",
        "k1 = np.arange(-lim , -1  , 1 )\n",
        "k2 = np.arange(1 , lim  , 1 )\n",
        "k = np.concatenate((k1,k2))\n",
        "print(type(k))\n",
        "T1 = 0.5\n",
        "T0 = 2\n",
        "w0 = 2*np.pi/T0\n",
        "Xk = 1/(np.pi*k) * np.sin(k*w0*T1)\n",
        "\n",
        "plt.stem(k,Xk)\n",
        "plt.show()"
      ],
      "metadata": {
        "id": "y14bptne85rl",
        "colab": {
          "base_uri": "https://localhost:8080/",
          "height": 447
        },
        "outputId": "eed9a008-4214-4c67-8eda-6088ddc3ae8b"
      },
      "execution_count": 41,
      "outputs": [
        {
          "output_type": "stream",
          "name": "stdout",
          "text": [
            "<class 'numpy.ndarray'>\n"
          ]
        },
        {
          "output_type": "display_data",
          "data": {
            "text/plain": [
              "<Figure size 640x480 with 1 Axes>"
            ],
            "image/png": "[encoded data removed]"
          },
          "metadata": {}
        }
      ]
    },
    {
      "cell_type": "markdown",
      "source": [
        "Since $X_K = \\frac{1}{k\\pi}\\mathrm{sin}(k\\omega_0T_1)$ , $X_k \\in \\mathbb{R}$\n",
        "\n",
        "The phase plot in either $0$ or $\\pi$\n",
        "\n",
        "The series is infinite as $x(t)$ is discontinuous.\n",
        "\n",
        "Low frequency components have higher amplitude while higher frequency components have lower amplitudes.\n",
        "\n",
        "$\\therefore$ The signal is Low Pass\n",
        "\n"
      ],
      "metadata": {
        "id": "ca5CHKr99DYG"
      }
    },
    {
      "cell_type": "markdown",
      "source": [
        "Sharp edges can be formed using high frequency components."
      ],
      "metadata": {
        "id": "Vu_B57ONAbEb"
      }
    },
    {
      "cell_type": "code",
      "source": [
        "# code to demonstrate high frequency component."
      ],
      "metadata": {
        "id": "u4q8znjrAj5A"
      },
      "execution_count": 42,
      "outputs": []
    },
    {
      "cell_type": "markdown",
      "source": [
        "## 2.3 Properties of Fourier Series\n"
      ],
      "metadata": {
        "id": "VVZeuu2Keuht"
      },
      "source": [
        "## 2.3 Properties of Fourier Series\n"
      ]
    },
    {
      "attachments": {},
      "cell_type": "markdown",
      "metadata": {
        "id": "AwDrJLkjhivx"
      },
      "source": [
        "### 2.3.1 Linearity"
      ]
    },
    {
      "attachments": {},
      "cell_type": "markdown",
      "metadata": {
        "id": "5wvjDek9JiO_"
      },
      "source": [
        "\n",
        "\n",
        "Consider a periodic signal $x(t)$ with a fundermental frequency $\\omega_0$ and $k^{th}$ Fourier series coefficient is given by $X_k$.\\\n",
        "Consider another periodic signal $y(t)$ with the same fundermental frequency $\\omega_0$ and $k^{th}$ Fourier Series coefficient is given by $Y_k$.\\\n",
        "\\\n",
        "\\begin{align}\n",
        "x(t)&⟶ X_k\\\\\n",
        "y(t)&⟶ Y_k\\\\\n",
        "Ax(t)+By(t)&⟶AX_k + BY_k\\\\\n",
        "\\end{align}\n"
      ]
    },
    {
      "cell_type": "code",
      "execution_count": 5,
      "metadata": {
        "id": "PCFcg5Iravk4"
      },
      "outputs": [],
      "source": [
        "##Example"
      ]
    },
    {
      "attachments": {},
      "cell_type": "markdown",
      "metadata": {
        "id": "B0Q3HLokhpcg"
      },
      "source": [
        "### 2.3.2 Time Shifting"
      ]
    },
    {
      "attachments": {},
      "cell_type": "markdown",
      "metadata": {
        "id": "vCAVEmk_atjg"
      },
      "source": [
        "\n",
        "\n",
        "\n",
        "If Fourier Series coefficient of the periodic signal $x(t)$ is $X_k$.\n",
        "\\\n",
        "\\begin{align}\n",
        "x(t)&⟶X_k\\\\\n",
        "x(t)&=\\sum_{k}X_ke^{jk\\omega_0t}\\\\\n",
        "\\end{align}\n",
        "\n",
        "Apply $t \\Rightarrow t-t_0$;\n",
        "\n",
        "\\begin{align}\n",
        "x(t-t_0)&=\\sum_{k}X_ke^{jk\\omega_0(t-t_0)}\\\\\n",
        "x(t-t_0)&=\\sum_{k}(X_ke^{-jkw_0t_0})e^{jk\\omega_0t}\\\\\n",
        "\\end{align}\n",
        "\\\n",
        "Let $X'_k=X_ke^{-jkw_0t_0}$\n",
        "\n",
        "\\begin{align}\n",
        "|X'_k|&=|X_k|\\\\\n",
        "\\angle{X'_k}&=\\angle{X_k}-\\angle{k\\omega_0t_0}\n",
        "\\end{align}\n",
        "\\\n",
        "Degree of change of phase angle of higher harmonics is higher.\n"
      ],
      "metadata": {
        "id": "vCAVEmk_atjg"
      }
    },
    {
      "cell_type": "code",
      "source": [
        "wave=Waves()\n",
        "wave.square_pulse(2,\"a(t)\",\"t\",\"\",-1,1)"
      ],
      "metadata": {
        "id": "RNpTbdpPSS0P",
        "colab": {
          "base_uri": "https://localhost:8080/",
          "height": 0
        },
        "outputId": "b05f6b0c-ff5e-4208-bafb-21befd30d0f6"
      },
      "execution_count": 44,
      "outputs": [
        {
          "output_type": "display_data",
          "data": {
            "text/plain": [
              "<Figure size 1000x300 with 1 Axes>"
            ],
            "image/png": "[encoded data removed]"
          },
          "metadata": {}
        }
      ]
    },
    {
      "cell_type": "code",
      "execution_count": 6,
      "metadata": {
        "colab": {
          "base_uri": "https://localhost:8080/",
          "height": 0
        },
        "id": "RNpTbdpPSS0P",
        "outputId": "494cc932-8cff-4091-999c-0d895b91c8f9"
      },
      "outputs": [
        {
          "data": {
            "image/png": "[encoded data removed]",
            "text/plain": [
              "<Figure size 1000x300 with 1 Axes>"
            ]
          },
          "metadata": {},
          "output_type": "display_data"
        }
      ],
      "source": [
        "wave=Waves()\n",
        "wave.square_pulse(2,\"a(t)\",\"t\",\"\",-1,1)"
      ]
    },
    {
      "attachments": {},
      "cell_type": "markdown",
      "metadata": {
        "id": "V2bHPuqiWN6_"
      },
      "source": [
        "Using,\n",
        "\\begin{align}\n",
        "X_k=\\frac{1}{k\\pi}sin(k\\omega_0T_1)\n",
        "\\end{align}\n",
        "Where $T_1=1$\n",
        "\\begin{align}\n",
        "\\omega_0=\\frac{2\\pi}{T_0}=\\frac{2\\pi}{4}=\\frac{\\pi}{2}\n",
        "\\end{align}\n",
        "Thus,\n",
        "\\begin{align}\n",
        "a_k=\\frac{1}{k\\pi}sin(k\\frac{\\pi}{2})\n",
        "\\end{align}\n",
        "\n",
        "\n"
      ],
      "metadata": {
        "id": "V2bHPuqiWN6_"
      }
    },
    {
      "cell_type": "code",
      "source": [
        "wave.square_pulse(2,\"y(t)\",\"t\",\"\",0,1)"
      ],
      "metadata": {
        "id": "doiy1zWfZfcx",
        "outputId": "86b0f6d2-ff8a-45f8-c9f2-090e387b9801",
        "colab": {
          "base_uri": "https://localhost:8080/",
          "height": 0
        }
      },
      "execution_count": 45,
      "outputs": [
        {
          "output_type": "display_data",
          "data": {
            "text/plain": [
              "<Figure size 1000x300 with 1 Axes>"
            ],
            "image/png": "[encoded data removed]"
          },
          "metadata": {}
        }
      ]
    },
    {
      "cell_type": "code",
      "execution_count": 7,
      "metadata": {
        "colab": {
          "base_uri": "https://localhost:8080/",
          "height": 0
        },
        "id": "doiy1zWfZfcx",
        "outputId": "8b80d62d-47b3-44e5-dfcc-7bfed1b5944b"
      },
      "outputs": [
        {
          "data": {
            "image/png": "[encoded data removed]",
            "text/plain": [
              "<Figure size 1000x300 with 1 Axes>"
            ]
          },
          "metadata": {},
          "output_type": "display_data"
        }
      ],
      "source": [
        "wave.square_pulse(2,\"y(t)\",\"t\",\"\",0,1)"
      ]
    },
    {
      "attachments": {},
      "cell_type": "markdown",
      "metadata": {
        "id": "jASeBseVaHx2"
      },
      "source": [
        "In the light of above graph,\n",
        "\\begin{align}\n",
        "y(t)&=a(t-1)\\\\\n",
        "Y_k&=a_ke^{-jk\\omega_0t_0}\\\\\n",
        "Y_k&=a_ke^{-jk\\frac{\\pi}{2}}\\\\\n",
        "Y_k&=[\\frac{1}{k\\pi}sin{(k\\frac{\\pi}{2})}]e^{-jk\\frac{\\pi}{2}}\\\\\n",
        "\\end{align}"
      ]
    },
    {
      "attachments": {},
      "cell_type": "markdown",
      "metadata": {
        "id": "VN7Lzsq7hscg"
      },
      "source": [
        "### 2.3.3 Time Reverse"
      ]
    },
    {
      "attachments": {},
      "cell_type": "markdown",
      "metadata": {
        "id": "9qVsS1G0SVsL"
      },
      "source": [
        "\n",
        "If Fourier Series coefficient of the periodic signal $x(t)$ is $X_k$.\n",
        "\\\n",
        "\\begin{align}\n",
        "x(t)&⟶X_k\\\\\n",
        "x(-t)&⟶X'_k\\\\\n",
        "x(t)&=\\sum_{k}X_ke^{jk\\omega_0t}\\\\\n",
        "\\end{align}\n",
        "Apply $t⇒-t$\n",
        "\\begin{align}\n",
        "x(-t)&=\\sum_{k}X_ke^{-jk\\omega_0t}\\\\\n",
        "\\end{align}\n",
        "\\\n",
        "Inoder to obtain a simillar equation like in Fourier Series,\\\n",
        "\\\n",
        "Apply $k⇒-k$\n",
        "\\begin{align}\n",
        "x(-t)&=\\sum_{k}X_{-k}e^{jk\\omega_0t}\\\\\n",
        "\\end{align}\n",
        "Thus,\n",
        "\\begin{align}\n",
        "X'_k&=X_{-k}\n",
        "\\end{align}\n"
      ]
    },
    {
      "cell_type": "code",
      "execution_count": 8,
      "metadata": {
        "id": "i_5S6uxta4Zm"
      },
      "execution_count": 46,
      "outputs": []
    },
    {
      "attachments": {},
      "cell_type": "markdown",
      "metadata": {
        "id": "8DAy7d2LhyKA"
      },
      "source": [
        "### 2.3.4 Time Scaling"
      ]
    },
    {
      "attachments": {},
      "cell_type": "markdown",
      "metadata": {
        "id": "Voa72O58a1g9"
      },
      "source": [
        "\n",
        "\n",
        "\n",
        "If Fourier Series coefficient of the periodic signal $x(t)$ is $X_k$.\n",
        "\n",
        "\\begin{align}\n",
        "x(t)&⟶X_k\\\\\n",
        "x(t)&=\\sum_{k}X_ke^{jk\\omega_0t}\\\\\n",
        "\\end{align}\n",
        "Let $t⇒\\alpha t$\n",
        "\\begin{align}\n",
        "x(\\alpha t)&=\\sum_{k}X_ke^{jk\\omega_0\\alpha t}\n",
        "\\end{align}\n",
        "\n",
        "New fundermental frequency  $\\omega'_0=\\alpha \\omega_0$"
      ]
    },
    {
      "cell_type": "code",
      "execution_count": 9,
      "metadata": {
        "id": "x_uQsgrjU7BK"
      },
      "outputs": [],
      "source": [
        "# If alpha>1,\n",
        "## 4graphs"
      ]
    },
    {
      "cell_type": "code",
      "execution_count": 9,
      "metadata": {
        "id": "HgG89qfyh9Ti"
      },
      "outputs": [],
      "source": []
    },
    {
      "attachments": {},
      "cell_type": "markdown",
      "metadata": {
        "id": "uOuM0wmfiBbT"
      },
      "source": [
        "### 2.3.5 Properties For Real Signals"
      ]
    },
    {
      "attachments": {},
      "cell_type": "markdown",
      "metadata": {
        "id": "dHVTsCzpVE6m"
      },
      "source": [
        "\n",
        "\\begin{align}\n",
        "x(t)&=\\sum_{k}X_ke^{jk\\omega_0t}\\\\\n",
        "x^{*}(t)&=\\sum_{k}X_k^{*}e^{-jk\\omega_0t}\\\\\n",
        "\\end{align}\n",
        "Apply $k⇒-k$,\n",
        "\\begin{align}\n",
        "x^{*}(t)&=\\sum_{k}X_{-k}^{*}e^{jk\\omega_0t}\\\\\n",
        "\\end{align}\n",
        "Since $x(t)=x^{*}(t)$,\n",
        "\\begin{align}\n",
        "\\sum_{k}X_ke^{jk\\omega_0t}&=\\sum_{k}X_{-k}^{*}e^{jk\\omega_0t}\\\\\n",
        "\\end{align}\n",
        "\\\n",
        "Therefore,\n",
        "\\begin{align}\n",
        "X_k&=X^{*}_{-k}\\\\\n",
        "X_{-k}&=X^{*}_{k}\n",
        "\\end{align}\n",
        "This is known as Conjugate Symmetry.\\\n",
        "Consequence of this,\n",
        "\\begin{align}\n",
        "|X_k|&=|X_{-k}|\\\\\n",
        "\\angle X_k&=-\\angle X_{-k}\\\\\n",
        "\\end{align}\n",
        "\n",
        "#### Real and Even Signals\n",
        "As $x(t)$ is real,\n",
        "\\begin{align}\n",
        "X_k&=X^{*}_{-k}\\\\\n",
        "\\end{align}\n",
        "However, as x(t) is even,\n",
        "\\begin{align}\n",
        "x(t)&=x(-t)\n",
        "\\end{align}\n",
        "Therefore from the time reversal property,\n",
        "\\begin{align}\n",
        "X_k&=X_{-k}\\\\\n",
        "\\end{align}\n",
        "Then,\n",
        "\\begin{align}\n",
        "X_k=X_{-k}=X^{*}_k\\\\\n",
        "\\end{align}\n",
        "Thus,\n",
        "\\begin{align}\n",
        "X_k=X^{*}_k\\\\\n",
        "\\end{align}\n",
        "Therefore, if $x(t)$ is real and even, $X_k$ is real and even.\n"
      ]
    },
    {
      "cell_type": "code",
      "execution_count": 10,
      "metadata": {
        "id": "J9HsoYrZbC6S"
      },
      "outputs": [],
      "source": [
        "##Example"
      ]
    },
    {
      "attachments": {},
      "cell_type": "markdown",
      "metadata": {
        "id": "eKaP-jPMbBUF"
      },
      "source": [
        "\n",
        "#### Real and Odd\n",
        "\n",
        "As $x(t)$ is real,\n",
        "\\begin{align}\n",
        "X_k=X^{*}_{-k}\\\\\n",
        "\\end{align}\n",
        "\n",
        "However, as $x(t)$ is odd,\n",
        "\n",
        "\\begin{align}\n",
        "x(t)&=-x(-t)\n",
        "\\end{align}\n",
        "\n",
        "Therefore, from time reversal property,\n",
        "\n",
        "\\begin{align}\n",
        "X_k&=-X_{-k}\\\\\n",
        "\\end{align}\n",
        "\n",
        "This yeilds,\n",
        "\n",
        "\\begin{align}\n",
        "X_k=-X_{-k}=-X^{*}_k\\\\\n",
        "X_k=-X^{*}_k\n",
        "\\end{align}\n",
        "Therefore, if $x(t)$ is real and odd, $X_k$ is imaginary and odd.\n"
      ]
    },
    {
      "cell_type": "code",
      "execution_count": 11,
      "metadata": {
        "id": "Wm-ZPBA-bIWV"
      },
      "outputs": [],
      "source": [
        "##Example"
      ]
    },
    {
      "attachments": {},
      "cell_type": "markdown",
      "metadata": {
        "id": "EomhIfTYiGQr"
      },
      "source": [
        "### 2.3.6 Differentiation and Integration"
      ]
    },
    {
      "attachments": {},
      "cell_type": "markdown",
      "metadata": {
        "id": "1eu25sg_bGqu"
      },
      "source": [
        "\n",
        "\n",
        "\n",
        "#### Differentiation\n",
        "\n",
        "\\begin{align}\n",
        "x(t)=X_0 + \\sum_{\\forall k\\neq 0}X_ke^{jk\\omega_0t}\\\\\n",
        "x'(t)=\\frac{dx(t)}{dt}=\\sum_{\\forall k\\neq 0}(X_kjk\\omega_0)e^{jk\\omega_0t}\n",
        "\\end{align}\n",
        "\n",
        "\\begin{align}\n",
        "X'_k=jk\\omega_0X_k \\:\\:\\:\\:\\: ;k\\neq 0\n",
        "\\end{align}\n",
        "\n",
        "Differentiation is a high pass process / sharpning process.\n",
        "\n",
        "\\begin{align}\n",
        "X_k=\\frac{X'_k}{jk\\omega_0}\\:\\:\\:\\:\\: ;k\\neq 0\n",
        "\\end{align}\n",
        "\n",
        "#### Integration\n",
        "\n",
        "\\begin{align}\n",
        "x(t)=X_0 + \\sum_{\\forall k\\neq 0}X_ke^{jk\\omega_0t}\\\\\n",
        "x'(t)=\\int x(t)dt=\\sum_{\\forall k\\neq 0}\\:\\:\\frac{X_k}{jk\\omega_0}\\:e^{jk\\omega_0t}\n",
        "\\end{align}\n",
        "\n",
        "\n",
        "\\begin{align}\n",
        "X'_k=\\frac{X_k}{jk\\omega_0}\\:\\:\\:\\:\\: ;k\\neq 0\n",
        "\\end{align}\n",
        "Integration is a low pass process / smoothing process.\n",
        "\\begin{align}\n",
        "X_k=jk\\omega_0X'_k \\:\\:\\:\\:\\: ;k\\neq 0\n",
        "\\end{align}"
      ]
    },
    {
      "cell_type": "code",
      "execution_count": 12,
      "metadata": {
        "id": "jo91UMn4bLSR"
      },
      "outputs": [],
      "source": [
        "##Example"
      ]
    },
    {
      "attachments": {},
      "cell_type": "markdown",
      "metadata": {
        "id": "IgG1LX0gm2tP"
      },
      "source": [
        "### 2.3.7 Fourier Series of an Impulse"
      ]
    },
    {
      "attachments": {},
      "cell_type": "markdown",
      "metadata": {
        "id": "Os6wJjZWnyME"
      },
      "source": [
        "\\begin{align}\n",
        "x(t)&=\\sum_{k=-∞}^{∞} \\delta(t-kT_0)\\\\\n",
        "X_0&=\\frac{1}{T_0}\\int_{T_0}x(t)dt\\\\\n",
        "&=\\frac{1}{T_0}\\int_{\\frac{-T_0}{2}}^{\\frac{T_0}{2}}\\delta(t)dt\\\\\n",
        "&=\\frac{1}{T_0}\n",
        "\\\\\n",
        "X_k&=\\frac{1}{T_0} \\int_{T_0}e^{-jk\\omega_0t}dt\\\\\n",
        "&=\\frac{1}{T_0}\\int_{\\frac{-T_0}{2}}^{\\frac{T_0}{2}} \\delta (t) e^{-jk\\omega_0t}dt\n",
        "\\end{align}"
      ]
    },
    {
      "cell_type": "code",
      "execution_count": 13,
      "metadata": {
        "id": "tlmWsaXL6OV-"
      },
      "outputs": [],
      "source": [
        "#Example"
      ]
    },
    {
      "attachments": {},
      "cell_type": "markdown",
      "metadata": {
        "id": "Tf9tQnbS6XMo"
      },
      "source": [
        "\\begin{align}\n",
        "X_k&=\\frac{1}{T_0}\\int_{-\\frac{T_0}{2}}^{\\frac{T_0}{2}}\\delta (t)e^{-jk\\omega_0 \\times 0}dt\\\\\n",
        "&=\\frac{1}{T_0}\n",
        "\\end{align}\n",
        "This yeilds,\n",
        "\\begin{align}\n",
        "x(t)=\\sum_{\\forall k}\\delta (t-kT_0)=\\sum_{\\forall k}\\frac{1}{T_0}e^{jk\\omega_0t}\n",
        "\\end{align}"
      ],
      "metadata": {
        "id": "Tf9tQnbS6XMo"
      }
    },
    {
      "cell_type": "code",
      "source": [
        "wave.sawtooth_pulse(2,\"x(t)\",\"t\",\"\",0,1)"
      ],
      "metadata": {
        "id": "WvP0GK8o7l4m",
        "colab": {
          "base_uri": "https://localhost:8080/",
          "height": 0
        },
        "outputId": "fdc8bcb3-d8ea-46be-f408-16d83e60620b"
      },
      "execution_count": 52,
      "outputs": [
        {
          "output_type": "display_data",
          "data": {
            "text/plain": [
              "<Figure size 1000x300 with 1 Axes>"
            ],
            "image/png": "[encoded data removed]"
          },
          "metadata": {}
        }
      ]
    },
    {
      "cell_type": "code",
      "execution_count": 14,
      "metadata": {
        "colab": {
          "base_uri": "https://localhost:8080/",
          "height": 0
        },
        "id": "WvP0GK8o7l4m",
        "outputId": "ef21f13f-2a2a-4ab8-b49c-accfdb357510"
      },
      "outputs": [
        {
          "data": {
            "image/png": "[encoded data removed]",
            "text/plain": [
              "<Figure size 1000x300 with 1 Axes>"
            ]
          },
          "metadata": {},
          "output_type": "display_data"
        }
      ],
      "source": [
        "wave.sawtooth_pulse(2,\"x(t)\",\"t\",\"\",0,1)"
      ]
    },
    {
      "attachments": {},
      "cell_type": "markdown",
      "metadata": {
        "id": "3ahYm-fJhcEa"
      },
      "source": [
        "\\begin{align}\n",
        "\\omega_0&=\\frac{2\\pi}{2}=\\pi\\\\\n",
        "X_0&=\\frac{1}{2}\\int_{2}x(t)dt\\\\\n",
        "&=\\frac{1}{2}\\int_{0}^{2}\\frac{t}{2}dt\\\\\n",
        "&=\\frac{1}{2}\n",
        "\\end{align}"
      ]
    },
    {
      "attachments": {},
      "cell_type": "markdown",
      "metadata": {
        "id": "OvHrCgJ_ihEF"
      },
      "source": [
        "# 3.0 Fourier Transform"
      ]
    },
    {
      "attachments": {},
      "cell_type": "markdown",
      "metadata": {
        "id": "kut8JvO9CY8i"
      },
      "source": [
        "## 3.3 Properties of Fourier Transeform"
      ]
    },
    {
      "attachments": {},
      "cell_type": "markdown",
      "metadata": {
        "id": "oEK2L3pA-wr1"
      },
      "source": [
        "![utdt.png](data:image/png;base64,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)"
      ]
    },
    {
      "attachments": {},
      "cell_type": "markdown",
      "metadata": {
        "id": "siaCNsOA4fGd"
      },
      "source": [
        "\\begin{align}\n",
        "\\mathcal{F}  \\left[ \\delta(t) \\right] &= 1 \\\\\n",
        "\\mathcal{F} \\left[ \\frac{d}{dt}  u(t) \\right] &= 1\\\\\n",
        "\\text{also}  \\int_{-\\infty}^\\infty \\left[ \\frac{d}{dt}  u(t) \\right] &= 1\\\\\n",
        "\\therefore \\mathcal{F} \\left[ u(t) \\right] &= \\frac{1}{j \\omega} + \\pi \\times 1 \\times \\delta(\\omega)  \\\\\n",
        "\\end{align}"
      ]
    },
    {
      "attachments": {},
      "cell_type": "markdown",
      "metadata": {
        "id": "B9d1PKHS4e7z"
      },
      "source": [
        "### 3.3.5 Time Scaling\n",
        "\n",
        "---"
      ]
    },
    {
      "attachments": {},
      "cell_type": "markdown",
      "metadata": {
        "id": "0i1I_TUqGcAy"
      },
      "source": [
        "\\begin{align}\n",
        "\\mathcal{F}  \\left[ x(t) \\right] &= X(j\\omega) \\\\\n",
        "\\end{align}\n",
        "\n",
        "\n",
        "*   Consider $a>0$ case, \n",
        "\n",
        "\\begin{align}\n",
        "\\mathcal{F}  \\left[ x(at) \\right] &= \\int_{-\\infty}^\\infty x(at) e^{-j \\omega t} dt \\\\\n",
        "\\end{align}\n",
        "\n",
        ">>>>>> Let $at = \\lambda$ ,\n",
        "\n",
        "\\begin{align}\n",
        "&= \\int_{-\\infty}^\\infty \\frac{x(\\lambda) e^{-j \\frac{\\omega}{a} \\lambda}}{a} d\\lambda \\\\\n",
        "&= \\frac{1}{a} \\int_{-\\infty}^\\infty x(\\lambda) e^{-j \\frac{\\omega}{a} \\lambda} d\\lambda \\\\\n",
        "&= \\frac{1}{a}X \\left( j \\frac{\\omega}{a} \\right) ; a>0 \\\\ \\\\\n",
        "\\end{align}\n",
        "\n",
        "\n",
        "\n",
        "---\n",
        "\n",
        "\n",
        "*   Consider $a<0$ case,\n",
        "\n",
        "\\begin{align}\n",
        "a &= -|a| \\\\ \\\\\n",
        "\\mathcal{F}  \\left[ x(at) \\right] &= \\int_{-\\infty}^\\infty x(at) e^{-j \\omega t} dt \\\\\n",
        "\\end{align}\n",
        "\n",
        ">>>>>> Let $-|a|t = \\lambda$ ,\n",
        "\n",
        "When,  \n",
        "\\begin{align} t → + \\infty , \\lambda → - \\infty \\\\       \n",
        "t → - \\infty , \\lambda → + \\infty \\\\ \\\\\n",
        "\\end{align}\n",
        "\n",
        "\\begin{align}\n",
        "\\mathcal{F}  \\left[ x(at) \\right] &= \\int_{\\infty}^{-\\infty} \\frac{x(\\lambda) e^{-j \\frac{- \\omega}{|a|} \\lambda}}{-|a|} d\\lambda \\\\\n",
        "&= \\frac{1}{|a|} \\int_{-\\infty}^\\infty x(\\lambda) e^{-j \\left( - \\frac{\\omega}{|a|} \\right) \\lambda} d\\lambda \\\\\n",
        "&= \\frac{1}{|a|}X \\left( j \\frac{\\omega}{-|a|} \\right) \\\\\n",
        "&= \\frac{1}{|a|}X \\left( j \\frac{\\omega}{a} \\right) \\\\ \\\\\n",
        "\\mathcal{F}  \\left[ x(at) \\right] &= \\frac{1}{|a|}X \\left( j \\frac{\\omega}{a} \\right) ; a<0 \\\\ \\\\\n",
        "\\end{align}\n",
        "\n",
        "---"
      ]
    },
    {
      "attachments": {},
      "cell_type": "markdown",
      "metadata": {
        "id": "8GE27FheOtl-"
      },
      "source": [
        "### 3.3.6 Time Reversal\n",
        "---"
      ]
    },
    {
      "attachments": {},
      "cell_type": "markdown",
      "metadata": {
        "id": "5q9dTw2bTYNu"
      },
      "source": [
        "When $ a=-1 $ ,\n",
        "\n",
        "\\begin{align}\n",
        "\\mathcal{F}  \\left[ x(-t) \\right] &= X \\left( -j \\omega \\right) \\\\ \\\\\n",
        "\\end{align}\n",
        "\n",
        "---"
      ]
    },
    {
      "attachments": {},
      "cell_type": "markdown",
      "metadata": {
        "id": "1HrQAlZDCyJb"
      },
      "source": [
        "#### Example:"
      ]
    },
    {
      "cell_type": "code",
      "execution_count": 4,
      "metadata": {
        "colab": {
          "base_uri": "https://localhost:8080/",
          "height": 397
        },
        "id": "FsMjeHPdVPEe",
        "outputId": "42658805-cad2-4867-c7ea-22496a96685d"
      },
      "outputs": [
        {
          "data": {
            "text/html": [
              "\n",
              "        <iframe\n",
              "            width=\"700\"\n",
              "            height=\"375\"\n",
              "            src=\"https://www.desmos.com/calculator/bzxbwup3ne\"\n",
              "            frameborder=\"0\"\n",
              "            allowfullscreen\n",
              "            \n",
              "        ></iframe>\n",
              "        "
            ],
            "text/plain": [
              "<IPython.lib.display.IFrame at 0x7f4c4c208e20>"
            ]
          },
          "execution_count": 4,
          "metadata": {},
          "output_type": "execute_result"
        }
      ],
      "source": [
        "from IPython.display import IFrame\n",
        "IFrame(src=\"https://www.desmos.com/calculator/bzxbwup3ne\", width=700, height=375)"
      ]
    },
    {
      "attachments": {},
      "cell_type": "markdown",
      "metadata": {
        "id": "NMtPuX0IU86u"
      },
      "source": [
        "* x(t) is in red colour and its Fourier transform(sinc function) is in purple colour.\n",
        "* Change \"a\" (factor of time scaling) and observe the variation.\n",
        "* Signals that are fluctuating rapidly have more high frequency components."
      ]
    },
    {
      "attachments": {},
      "cell_type": "markdown",
      "metadata": {
        "id": "OjnDrx4tSBHV"
      },
      "source": [
        "## 3.4 The Fourier Transform Properties of Real Signals\n",
        "---"
      ]
    },
    {
      "attachments": {},
      "cell_type": "markdown",
      "metadata": {
        "id": "Y8dZza6mSNIB"
      },
      "source": [
        "Since the siglan is real,\n",
        "\n",
        "\\begin{align}\n",
        "x(t) &= x^*(t) \\\\\n",
        "X(j \\omega ) &= \\int_{-\\infty}^\\infty x(t) e^{-j \\omega t} dt \\\\\n",
        "X^*(j \\omega ) &= \\int_{-\\infty}^\\infty x^*(t) e^{+j \\omega t} dt \\\\ \\\\\n",
        "\\text{Since, } x(t) &=x^*(t) \\\\\n",
        "&= \\int_{-\\infty}^\\infty x(t) e^{+j \\omega t} dt \\\\ \\\\\n",
        "\\omega &\\rightarrow -\\omega \\\\ \\\\\n",
        "X^*(-j \\omega ) &= \\int_{-\\infty}^\\infty x(t) e^{-j \\omega t} dt \\\\\n",
        "X^*(-j \\omega ) &= X(j\\omega) \\\\\n",
        "\\left[ X^*(-j \\omega ) \\right]^* &= \\left[ X(j\\omega) \\right]^* \\\\\n",
        "X(-j \\omega ) &= X^*(j\\omega) \\\\ \\\\\n",
        "X^*(j \\omega ) &= X(-j\\omega) \\leftarrow \\text{conjugate symmetry.} \\\\ \\\\\n",
        "\\end{align}\n",
        "\n",
        "---\n",
        "\n",
        "\\begin{align}\n",
        "\\text{ Consequence of this ,} & \\\\ \\\\\n",
        "|X(-j \\omega)| &= |X^*(j \\omega)| = |X(j \\omega)| \\\\\n",
        "|X(-j \\omega)| &= |X(j \\omega)| \\\\\n",
        "&\\text{* Magnitude spectrum is even symmetric.} \\\\ \\\\\n",
        "\\angle{X(-j \\omega)} &= \\angle X^*(j \\omega) \\\\\n",
        "\\angle X(-j \\omega) &= - \\angle X(j \\omega) \\\\\n",
        "&\\text{* Phase spectrum is odd symmetric.}\n",
        "\\end{align}\n",
        "\n",
        "---"
      ]
    },
    {
      "attachments": {},
      "cell_type": "markdown",
      "metadata": {
        "id": "UW1zxGSKLSCy"
      },
      "source": [
        "*   **If x(t) is real and even,**\n",
        "\n",
        ">>>>> As x(t) is real,\n",
        "\n",
        "\\begin{align}\n",
        "x(t) &= x^*(t) \\\\\n",
        "X^*(j \\omega ) &= X(-j\\omega) \\\\\n",
        "\\end{align}\n",
        "\n",
        ">>>>> However, as x(t) is even,\n",
        "\n",
        "\\begin{align}\n",
        "x(t) &= x(-t) \\\\\n",
        "X(j \\omega ) &= X(-j\\omega) \\\\\n",
        "\\end{align}\n",
        "\n",
        ">>>>> Therefore,\n",
        "\n",
        "\\begin{align}\n",
        "X(j \\omega ) = X(-j\\omega) = X^*(j \\omega ) \\\\\n",
        "X(j \\omega ) = X^*(j \\omega ) \\\\\n",
        "\\end{align}\n",
        "\n",
        ">>>>> Therefore $ X(j\\omega) $ is real and even.\n",
        "\n",
        "---\n",
        "\n",
        "\n",
        "*   **If x(t) is real and odd,**\n",
        "\n",
        ">>>>> As x(t) is real,\n",
        "\n",
        "\\begin{align}\n",
        "x(t) &= x^*(t) \\\\\n",
        "X^*(j \\omega ) &= X(-j\\omega) \\\\\n",
        "\\end{align}\n",
        "\n",
        ">>>>> However, as x(t) is odd,\n",
        "\n",
        "\\begin{align}\n",
        "x(t) &= -x(-t) \\\\\n",
        "X(j \\omega ) &= -X(-j\\omega) \\\\\n",
        "\\end{align}\n",
        "\n",
        ">>>>> Therefore,\n",
        "\n",
        "\\begin{align}\n",
        "X(j \\omega ) = -X(-j\\omega) = -X^*(j \\omega ) \\\\\n",
        "X(j \\omega ) = -X^*(j \\omega ) \\\\\n",
        "\\end{align}\n",
        "\n",
        ">>>>> Therefore $ X(j\\omega) $ is imaginary and odd.\n",
        "\n",
        "---\n",
        "\n"
      ]
    },
    {
      "attachments": {},
      "cell_type": "markdown",
      "metadata": {
        "id": "JQVgs5QfNmdK"
      },
      "source": [
        "#### Example:"
      ]
    },
    {
      "attachments": {},
      "cell_type": "markdown",
      "metadata": {
        "id": "rpNd5H5dQlLP"
      },
      "source": [
        "$ x(t) = e^{-at}u(t) $\n",
        "\n",
        "---\n",
        "\n",
        "\\begin{align}\n",
        "X(j\\omega) & = \\frac{1}{a+j\\omega} \\\\\n",
        "& = \\frac{a-j\\omega}{a^2+\\omega^2} \\\\\n",
        "& = \\frac{a}{a^2+\\omega^2} - j\\frac{\\omega}{a^2+\\omega^2} \\\\ \\\\\n",
        "|X(j\\omega)| &= \\frac{1}{\\sqrt{a^2+\\omega^2}}   \\\\\n",
        "\\angle{X(j\\omega)} &= \\text{tan}^{-1} \\left( \\frac{- \\omega}{a} \\right) = -\\text{tan}^{-1} \\left( \\frac{\\omega}{a} \\right)   \\\\\n",
        "X(j\\omega) & = \\frac{1}{\\sqrt{a^2+\\omega^2}} e^{-j \\text{ tan}^{-1} \\left( \\frac{\\omega}{a} \\right)}\n",
        "\\end{align}"
      ]
    },
    {
      "cell_type": "code",
      "execution_count": null,
      "metadata": {
        "colab": {
          "base_uri": "https://localhost:8080/",
          "height": 430
        },
        "id": "IAiosdbQHxGq",
        "outputId": "bc87555e-5f97-4635-f3bf-0008b57546af"
      },
      "outputs": [
        {
          "data": {
            "image/png": "[encoded data removed]",
            "text/plain": [
              "<Figure size 640x480 with 2 Axes>"
            ]
          },
          "metadata": {},
          "output_type": "display_data"
        }
      ],
      "source": [
        "import numpy as np\n",
        "import matplotlib.pyplot as plt\n",
        "\n",
        "a = 1\n",
        "omega = np.linspace(-5,5,101)\n",
        "magnitude = 1/np.sqrt(a**2+omega**2)\n",
        "phase = -np.arctan(omega/a)\n",
        "\n",
        "fig = plt.figure()\n",
        "mag = fig.add_subplot(1,2,1)\n",
        "plt.title(\"$|X(j \\omega)|$\")\n",
        "pha = fig.add_subplot(1,2,2)\n",
        "plt.title(\"$ X(j \\omega) $\")\n",
        "\n",
        "mag.plot(omega,magnitude)\n",
        "mag.spines[\"left\"].set_position((\"data\",0))\n",
        "mag.spines[\"right\"].set_visible(False)\n",
        "mag.spines[\"bottom\"].set_position((\"data\",0))\n",
        "mag.spines[\"top\"].set_visible(False)\n",
        "mag.set_ylim([-0.1,1.1])\n",
        "mag.set_xticks([])\n",
        "mag.set_yticks([])\n",
        "\n",
        "\n",
        "pha.plot(omega,phase)\n",
        "pha.spines[\"left\"].set_position((\"data\",0))\n",
        "pha.spines[\"right\"].set_visible(False)\n",
        "pha.spines[\"bottom\"].set_position((\"data\",0))\n",
        "pha.spines[\"top\"].set_visible(False)\n",
        "pha.set_xticks([])\n",
        "pha.set_yticks([])\n",
        "\n",
        "fig.show()"
      ]
    },
    {
      "attachments": {},
      "cell_type": "markdown",
      "metadata": {
        "id": "ynIFlV7kHxjg"
      },
      "source": [
        "## 3.5 Duality\n",
        "\n",
        "---"
      ]
    },
    {
      "attachments": {},
      "cell_type": "markdown",
      "metadata": {
        "id": "rMBO3TOyWcXp"
      },
      "source": [
        "\\begin{align}\n",
        "\\mathcal{F}[x(t)] &= X(j\\omega) \\\\\n",
        "X(\\omega) &= \\int_{- \\infty}^{\\infty}x(t)e^{-j \\omega t} dt \\\\ \\\\\n",
        "t \\rightarrow \\omega \\text{ , } \\omega \\rightarrow t \\\\\n",
        "X(t) &= \\int_{- \\infty}^{\\infty}x(\\omega)e^{-j t \\omega} d\\omega \\\\\n",
        "X(t) &= \\int_{- \\infty}^{\\infty}x(\\omega)e^{-j \\omega t} d\\omega \\\\ \\\\\n",
        "t \\rightarrow -t \\\\\n",
        "X(-t) &= \\int_{- \\infty}^{\\infty}x(\\omega)e^{+j \\omega t} d\\omega \\\\\n",
        "\\frac{X(-t)}{2\\pi} &= \\frac{1}{2\\pi} \\int_{- \\infty}^{\\infty}x(\\omega)e^{+j \\omega t} d\\omega \\\\\n",
        "\\frac{X(-t)}{2\\pi} &= \\mathcal{F}^{-1}[x(\\omega)] \\\\\n",
        "\\mathcal{F}[X(-t)] &= 2\\pi x(\\omega) \\\\ \\\\\n",
        "t \\rightarrow -t \\\\\n",
        "\\mathcal{F}[X(t)] &= 2\\pi x(- \\omega) \\\\ \\\\\n",
        "\\rightarrow \\text{Duality Property}\n",
        "\\end{align}\n",
        "\n",
        "---"
      ]
    },
    {
      "attachments": {},
      "cell_type": "markdown",
      "metadata": {
        "id": "jXFt26vrYlNK"
      },
      "source": [
        "#### Example:"
      ]
    },
    {
      "attachments": {},
      "cell_type": "markdown",
      "metadata": {
        "id": "SSZkjYwmbUYU"
      },
      "source": [
        "If $ \\mathcal{F}[\\delta (t)] = 1 $ , find  $ \\mathcal{F}[1] = ? $ \n",
        "\n",
        "---\n",
        "\n",
        "Let,\n",
        "\\begin{align}\n",
        "x(t) &= \\delta(t) \\\\\n",
        "\\end{align}\n",
        "\n",
        "then,\n",
        "\\begin{align}\n",
        "X(\\omega) &= 1 \\\\\n",
        "X(t) &= 1 \\\\\n",
        "\\end{align}\n",
        "\n",
        "From duality,\n",
        "\\begin{align}\n",
        "\\mathcal{F}[X (t)] = \\mathcal{F}[1] &= 2 \\pi x(-\\omega) \\\\\n",
        "&= 2 \\pi \\delta(-\\omega) \\\\\n",
        "&= 2 \\pi \\delta(\\omega) \\\\ \\\\\n",
        "\\mathcal{F}[1] &= 2 \\pi \\delta(\\omega) \\\\\n",
        "\\end{align}\n",
        "\n",
        "---"
      ]
    },
    {
      "attachments": {},
      "cell_type": "markdown",
      "metadata": {
        "id": "eCWCAEIeeZjZ"
      },
      "source": [
        "## 3.6 Energy of the Signal\n",
        "\n",
        "---"
      ]
    },
    {
      "attachments": {},
      "cell_type": "markdown",
      "metadata": {
        "id": "Wf8c4YtLemlL"
      },
      "source": [
        "\\begin{align}\n",
        "E &= \\int_{-\\infty}^\\infty |x(t)|^2 dt \\\\\n",
        "\\end{align}"
      ]
    },
    {
      "attachments": {},
      "cell_type": "markdown",
      "metadata": {
        "id": "dWw0yeoielEB"
      },
      "source": [
        "#### Parseval's theorem.\n",
        "\n",
        "---"
      ]
    },
    {
      "attachments": {},
      "cell_type": "markdown",
      "metadata": {
        "id": "FgrDOjvBjh4O"
      },
      "source": [
        "\\begin{align}\n",
        "E &= \\int_{-\\infty}^\\infty |x(t)|^2 dt \\\\\n",
        "&= \\int_{-\\infty}^\\infty x(t)x^*(t) dt \\\\\n",
        "&= \\int_{-\\infty}^\\infty \\frac{1}{2\\pi}\\int_{-\\infty}^\\infty X(j\\omega)e^{+j \\omega t} d\\omega . x^*(t) dt \\\\\n",
        "&= \\frac{1}{2\\pi} \\int_{-\\infty}^\\infty X(j\\omega) \\int_{-\\infty}^\\infty x^*(t)e^{+j \\omega t} dt.d\\omega \\\\\n",
        "&= \\frac{1}{2\\pi} \\int_{-\\infty}^\\infty X(j\\omega) \\left[\\int_{-\\infty}^\\infty x(t)e^{-j \\omega t} dt \\right]^* d\\omega \\\\\n",
        "&= \\frac{1}{2\\pi} \\int_{-\\infty}^\\infty X(j\\omega) X^*(j\\omega) d\\omega \\\\\n",
        "&= \\frac{1}{2\\pi} \\int_{-\\infty}^\\infty |X(j\\omega)|^2 d \\omega \\\\\n",
        "\\end{align}\n",
        "\n",
        "**Energy**\n",
        "\n",
        "---\n",
        "\n",
        "> $ E = \\int_{-\\infty}^\\infty |x(t)|^2 dt $ \n",
        "\n",
        ">>> (2nd norm in time domain.)\n",
        "\n",
        "> $ E = \\frac{1}{2\\pi} \\int_{-\\infty}^\\infty |X(j\\omega)|^2 d \\omega $ \n",
        "\n",
        ">>> (2nd norm in frequency domain.)"
      ]
    },
    {
      "attachments": {},
      "cell_type": "markdown",
      "metadata": {
        "id": "S0wzufsQHQyb"
      },
      "source": [
        "### 3.3.1 Linearity\n"
      ]
    },
    {
      "attachments": {},
      "cell_type": "markdown",
      "metadata": {
        "id": "02vRJX8nHWxC"
      },
      "source": [
        "\\begin{align}\n",
        "\\mathcal{F}[x_1(t)]=X_1(jω) \\\\\n",
        "\\mathcal{F}[x_2(t)]=X_2(jω)\n",
        "\\end{align}\n",
        "\n",
        "\\begin{align}\n",
        "\\mathcal{F}[Ax_1(t)\\pm Bx_2(t)]=AX_1(jω)\\pm BX_2(jω)\n",
        "\\end{align}"
      ]
    },
    {
      "attachments": {},
      "cell_type": "markdown",
      "metadata": {
        "id": "u9S6Kv8dHa4q"
      },
      "source": [
        "### 3.3.2. Time Shifting\n"
      ]
    },
    {
      "attachments": {},
      "cell_type": "markdown",
      "metadata": {
        "id": "sDurT7X-HhD8"
      },
      "source": [
        "\\begin{align}\n",
        "\\mathcal{F}[x(t)]=X(jω) \n",
        "\\end{align}\n",
        "\n",
        "Using inverse fourier transform,\n",
        "\\begin{align}\n",
        "x(t)= \\frac{1} {2π} \\, \\int_{-∞}^{∞}X(jω) \\, e^{jωt} \\mathrm{d}ω\n",
        "\\end{align}\n",
        "\n",
        "Apply $t \\Rightarrow t-t_0$;\n",
        "\n",
        "\\begin{align}\n",
        "x(t-t_0)= &\\frac{1} {2π} \\, \\int_{-∞}^{∞}X(jω) \\, e^{jω(t-t_0)} \\mathrm{d}ω \\\\\n",
        "x(t-t_0)= &\\frac{1} {2π} \\, \\int_{-∞}^{∞}X(jω)\\, e^{-jωt_0}  \\, e^{jωt} \\mathrm{d}ω\n",
        "\\end{align}\n",
        "\n",
        "Let  $X'(jω)=\\mathcal{F}[x(t-t_0)]$ ,\n",
        "\n",
        "\\begin{align}\n",
        "X'(jω)=\\mathcal{F}[x(t-t_0)]=X(jω)e^{-jωt_0} \n",
        "\\end{align}\n",
        "\n",
        "\\begin{align}\n",
        "|X'(jω)|=&|X(jω)|\\\\\n",
        "\\angle{X'(jω)}=&\\angle{X(jω)}-\\angle{\\omega t_0}\n",
        "\\end{align}\n",
        "\n",
        "Therefore, time shift will not affect the magnitude spectrum.\n",
        "But, phase spectrum is affected in a linear manner where phase shift is larger in large $\\omega$ .\n"
      ]
    },
    {
      "cell_type": "code",
      "source": [
        "##example"
      ],
      "metadata": {
        "id": "9wk3FJZ7Tyev"
      },
      "execution_count": 53,
      "outputs": []
    },
    {
      "cell_type": "markdown",
      "source": [
        "### 3.3.3 Modulation/Shifting in Frequency"
      ],
      "metadata": {
        "id": "5dlVC2nET1hn"
      }
    }
  ],
  "metadata": {
    "colab": {
      "collapsed_sections": [
        "2L4zQFHK4ZJn",
        "m_9KyI9B4UNo",
        "KS8lPsht43XK",
        "ea4TIOz3wzvv",
        "-QXTnDHmsC8T",
        "VVZeuu2Keuht",
        "kut8JvO9CY8i",
        "B9d1PKHS4e7z",
        "8GE27FheOtl-",
        "OjnDrx4tSBHV",
        "ynIFlV7kHxjg",
        "eCWCAEIeeZjZ"
      ],
      "include_colab_link": true,
      "provenance": []
    },
    "kernelspec": {
      "display_name": "Python 3",
      "name": "python3"
    },
    "language_info": {
      "name": "python"
    }
  },
  "nbformat": 4,
  "nbformat_minor": 0
}
