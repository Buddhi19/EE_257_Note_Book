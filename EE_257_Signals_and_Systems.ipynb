{
  "nbformat": 4,
  "nbformat_minor": 0,
  "metadata": {
    "colab": {
      "provenance": [],
      "collapsed_sections": [
        "Rs_poxGowMlE",
        "2L4zQFHK4ZJn",
        "m_9KyI9B4UNo",
        "KS8lPsht43XK",
        "ea4TIOz3wzvv",
        "VVZeuu2Keuht"
      ],
      "include_colab_link": true
    },
    "kernelspec": {
      "name": "python3",
      "display_name": "Python 3"
    },
    "language_info": {
      "name": "python"
    }
  },
  "cells": [
    {
      "cell_type": "markdown",
      "metadata": {
        "id": "view-in-github",
        "colab_type": "text"
      },
      "source": [
        "<a href=\"https://colab.research.google.com/github/Buddhi19/EE_257_Note_Book/blob/main/EE_257_Signals_and_Systems.ipynb\" target=\"_parent\"><img src=\"https://colab.research.google.com/assets/colab-badge.svg\" alt=\"Open In Colab\"/></a>"
      ]
    },
    {
      "cell_type": "markdown",
      "source": [
        "#Content"
      ],
      "metadata": {
        "id": "Rs_poxGowMlE"
      }
    },
    {
      "cell_type": "markdown",
      "source": [
        "## Signals"
      ],
      "metadata": {
        "id": "mV_buCRO0Ntf"
      }
    },
    {
      "cell_type": "markdown",
      "source": [
        "###1.0 Introduction"
      ],
      "metadata": {
        "id": "2L4zQFHK4ZJn"
      }
    },
    {
      "cell_type": "markdown",
      "source": [
        "\n",
        "  1.1 Classification of Signals\n",
        "\n",
        "\n",
        "*  Continuous and Descrete time signals\n",
        "*   Continuos and Descrete valued signals\n",
        "* Deterministic and Random Signals\n",
        "* Energy and Power signals\n",
        "*Odd and Even signals\n",
        "*Periodic and Aperiodic Signals\n",
        "\n",
        "1.2 Special Signals\n",
        "\n",
        "\n",
        "*   Complex Exponential Signals\n",
        "*   Impulse\n",
        "*Unit Step\n",
        "\n",
        "1.3 Continuous and Descerete time Systems\n",
        "\n",
        "> 1.3.1 Inter Connections Between Systems\n",
        "\n",
        "   \n",
        "*   Cascaded\n",
        "* Parallel\n",
        "*Series - Parallel\n",
        "*Feedback\n",
        "\n",
        "\n",
        "\n",
        "> 1.3.2 System Properties\n",
        "\n",
        "\n",
        "\n",
        "*   System with or without memory\n",
        "*   Inverse Systems\n",
        "*Time Invariance\n",
        "*Linearity\n",
        "*Causility\n",
        "\n",
        "1.4 Operations On signals\n",
        "\n",
        "\n",
        "*   Time Delay\n",
        "*   Time Scaling\n",
        "*Negation\n",
        "\n",
        "1.5 Linear Time Invarient Systems\n",
        "\n",
        "\n",
        "> 1.5.1 Convolution For Descrete LTI system\n",
        "\n",
        "> 1.5.2 Convolution For Continous LTI system\n",
        "\n",
        "1.6 Properties of Convolution\n",
        "\n",
        "\n",
        "\n",
        "*   $x(t) * \\delta(t) = x(t)$\n",
        "*   $x(t) * \\delta(t-T) = x(t-T)$\n",
        "*Commutativity\n",
        "*Distributivity\n",
        "*Condition for Inverse\n",
        "* Laplace Transform of Convolution\n",
        "\n",
        "\n",
        "\n",
        "\n",
        "\n",
        "\n",
        "\n",
        "\n"
      ],
      "metadata": {
        "id": "zft0FnwG0HN9"
      }
    },
    {
      "cell_type": "markdown",
      "source": [
        "### 2.0 Fourier Series"
      ],
      "metadata": {
        "id": "m_9KyI9B4UNo"
      }
    },
    {
      "cell_type": "markdown",
      "source": [
        "\n",
        "2.1 Introduction\n",
        "\n",
        "> 2.1.1 Inter-domain Analysis\n",
        "\n",
        "> 2.1.2 Periodic Signals\n",
        "\n",
        "> 2.1.3 Vector Space \n",
        "\n",
        "2.2 Fourier Series\n",
        ">2.2.1 Introduction\n",
        "\n",
        ">2.2.2 Coefficients of Fourier Series\n",
        "\n",
        "2.3 Properties of Fourier Series\n",
        "> 2.3.1 Linearity\n",
        "\n",
        "> 2.3.2 Time shifting\n",
        "\n",
        "> 2.3.3 Time Reverse\n",
        "\n",
        "> 2.3.4 Time Scaling\n",
        "\n",
        "> 2.3.5 Properties For Real Signals\n",
        ">> * Real and Even\n",
        ">> * Real and Odd\n",
        "\n",
        "> 2.3.6 Differentiation and Integration\n",
        "\n",
        ">2.3.7 Fourier Series of an Impulse \n",
        "\n",
        "2.4 Trignometric Fourier Series\n",
        "\n",
        "2.5 Power of a periodic signal\n",
        "\n",
        "\n",
        "*   Parseval's Theorem\n",
        "2.6 Periodic Signal through LTI system\n",
        "\n"
      ],
      "metadata": {
        "id": "rw9gMu8W2btd"
      }
    },
    {
      "cell_type": "markdown",
      "source": [
        "### 3.0 Fourier Transform"
      ],
      "metadata": {
        "id": "KS8lPsht43XK"
      }
    },
    {
      "cell_type": "markdown",
      "source": [
        "3.1 Introduction\n",
        "\n",
        "\n",
        "> 3.1.1 Complex Valued Functions\n",
        "\n",
        "> 3.1.2 From F.S. to F.T.\n",
        "\n",
        "> 3.1.3 Fouries Transform and Inverse F.T.\n",
        "\n",
        "> 3.1.4 F.T. and L.T.\n",
        "\n",
        "3.2 Fouries Transforms of Signals\n",
        ">3.2.1 $x(t) = e^{-at}u(t)$ and $x(t) = e^{-|a|t}$\n",
        "\n",
        ">3.2.2 Delta Function $δ(t)$\n",
        "\n",
        ">3.2.3 Square Pulse\n",
        "\n",
        ">3.2.4 Unit Step Function $u(t)$\n",
        "\n",
        "3.3 Properties of F.T.\n",
        ">3.3.1 Linearity\n",
        "\n",
        ">3.3.2 Time Shifting\n",
        "\n",
        ">3.3.3 Modulation / Shifting in Frequency\n",
        "\n",
        "> 3.3.4 Differentiation and Integratino\n",
        "\n",
        ">3.3.5 Time Scaling\n",
        "\n",
        ">3.3.6 Time Reversal\n",
        "\n",
        ">3.3.7 Uses of Properties (examples of derivations)\n",
        "\n",
        "\n",
        "\n",
        ">*   $\\mathcal{F}^{-1}[δ(ω))]$\n",
        ">*   F.T. of Periodic Signals\n",
        "\n",
        ">* $\\mathcal{F}[u(t)]$\n",
        "\n",
        "3.4 F.T. properties of real signals\n",
        "\n",
        "\n",
        "*   Real signals\n",
        "*   Real even signals\n",
        "* Real Odd signals\n",
        "\n",
        "3.5 Duality\n",
        "\n",
        "3.6 Energy of the signal\n",
        "*   Parseval's Theorem\n",
        "\n",
        "3.6 Modulation\n",
        "\n",
        "3.7 L.T.I. systems and F.T.\n",
        ">3.7.1 Frequency response\n",
        "\n",
        ">3.7.2 Convolution Property\n",
        "\n",
        ">3.7.3 Differentiation Property\n",
        "\n",
        "\n",
        "\n",
        "\n",
        "\n",
        "\n",
        "\n",
        "\n",
        "\n"
      ],
      "metadata": {
        "id": "2n5aCeEH47XL"
      }
    },
    {
      "cell_type": "markdown",
      "source": [
        "# Libraries"
      ],
      "metadata": {
        "id": "ea4TIOz3wzvv"
      }
    },
    {
      "cell_type": "code",
      "source": [
        "####################### include the libraries that are used ######################\n",
        "import numpy as np\n",
        "import matplotlib.pyplot as plt\n",
        "from sympy import *\n",
        "from scipy import signal\n",
        "from matplotlib import style"
      ],
      "metadata": {
        "id": "RUCRY3hq4m7Z"
      },
      "execution_count": 540,
      "outputs": []
    },
    {
      "cell_type": "code",
      "source": [
        "class Waves:\n",
        "  def square_pulse(self,periodic_time,title,x_axis_label,y_axis_label,horizontal_shift,pulse_height):\n",
        "    t = np.linspace(-4, 4, 1000, endpoint=True)\n",
        "    arr=[((1+num)//2)*pulse_height for num in signal.square(periodic_time/4 * np.pi * 1 * (t-horizontal_shift))]\n",
        "    plt.style.context('fast')\n",
        "    plt.figure(figsize=(10, 3))\n",
        "    plt.grid(color = 'black', linestyle = '--', linewidth = 0.1)\n",
        "    plt.plot(t, arr)\n",
        "    plt.title(f'{title}')\n",
        "    plt.xlabel(x_axis_label)\n",
        "    plt.ylabel(y_axis_label)\n",
        "    plt.axhline(y=0, color='black',linewidth = 0.5)\n",
        "    plt.axvline(x=0, color='black',linewidth = 0.5)\n",
        "    plt.ylim(-0.4,pulse_height+0.4)\n",
        "    plt.xlim(-4,4)\n",
        "    plt.show()\n",
        "\n",
        "    #### To form a square pulse;\n",
        "    ############      wave=Waves()\n",
        "    ############      wave.square_pulse(Enter periodic time,Title,X axis label, Y axis label, horizontal shift, pulse height)\n",
        "    ###########################################################################################################################"
      ],
      "metadata": {
        "id": "EzpJ1Gh8DmC-"
      },
      "execution_count": 732,
      "outputs": []
    },
    {
      "cell_type": "markdown",
      "source": [
        "#1.0 Introduction"
      ],
      "metadata": {
        "id": "nJUBF99ViX2i"
      }
    },
    {
      "cell_type": "markdown",
      "source": [],
      "metadata": {
        "id": "2M0SosMCidNx"
      }
    },
    {
      "cell_type": "markdown",
      "source": [
        "# 2.0 Fourier Series"
      ],
      "metadata": {
        "id": "0cgU_5SQrl7m"
      }
    },
    {
      "cell_type": "markdown",
      "source": [
        "## 2.2 Fourier Series"
      ],
      "metadata": {
        "id": "-QXTnDHmsC8T"
      }
    },
    {
      "cell_type": "markdown",
      "source": [
        "Consider,\n",
        "\\begin{align}\n",
        "x(t)=11+4sin(5t)+\\frac{4}{3}sin(15t)\n",
        "\\end{align}"
      ],
      "metadata": {
        "id": "0HqqXG0lsIGt"
      }
    },
    {
      "cell_type": "code",
      "source": [
        "## Example"
      ],
      "metadata": {
        "id": "pUt_DCfcsXFp"
      },
      "execution_count": 733,
      "outputs": []
    },
    {
      "cell_type": "markdown",
      "source": [
        "\n",
        "<p>Fundermental frequency = frequency of the lowest frequency component</p>\n",
        "Thus,\n",
        "\\begin{align}\n",
        "\\omega_0&=5\\\\\n",
        "T=\\frac{2\\pi}{5} \\:\\:&and\\:\\: f_0=\\frac{5}{2\\pi}\\\\\n",
        "e^{j\\theta}=cos\\theta &+j sin\\theta\\\\\n",
        "\\end{align}\n",
        "This gives,\n",
        "\\begin{align}\n",
        "sin\\theta = \\frac{e^{j\\theta}-e^{-j\\theta}}{2j}\\:\\:\\: and \\:\\:\\: cos\\theta = \\frac{e^{j\\theta}+e^{-j\\theta}}{2}\n",
        "\\end{align}\n",
        "\n",
        "\n",
        "By substituting to $x(t)$,\n",
        "\\begin{align}\n",
        "x(t)&=11+4(\\frac{e^{5jt}-e^{-5jt}}{2j})+\\frac{4}{3}(\\frac{e^{15j}-e^{-15j}}{2j})\\\\\n",
        "x(t)&=[\\frac{2}{3}e^{j\\frac{\\pi}{2}}]e^{(-3)5jt}+[2e^{j\\frac{\\pi}{2}}]e^{(-1)5jt}+[11]e^{(0)5jt}+[2e^{-j\\frac{\\pi}{2}}]e^{(+1)5jt}+[\\frac{2}{3}e^{-j\\frac{\\pi}{2}}]e^{(+3)5jt}\n",
        "\\end{align}\n",
        "This is the Forier Series of $x(t)$"
      ],
      "metadata": {
        "id": "TOIIkLghsZHD"
      }
    },
    {
      "cell_type": "markdown",
      "source": [
        "Here,\\\n",
        "$[\\frac{2}{3}e^{j\\frac{\\pi}{2}}],[2e^{j\\frac{\\pi}{2}}],[11],[2e^{-j\\frac{\\pi}{2}}],[\\frac{2}{3}e^{-j\\frac{\\pi}{2}}]$ are known as **Fourier Coefficients of $x(t)$**.\n",
        "\n",
        "Thus the Fourier Series Expression can be written as,\n",
        "\n",
        "\\begin{align}\n",
        "x(t)=\\sum_{k=-\\infty}^{\\infty} X_k\\:e^{jk\\omega_0t}\\:\\:\\: ; X_k \\in \\mathbb{C}\n",
        "\\end{align}\n",
        "\n",
        "\\begin{align}\n",
        "X_k&=Re[X_k]+jIm[X_k]\\\\\n",
        "\\\\\n",
        "X_k&=|X_k|e^{j.Arg[X_k]}\n",
        "\\end{align}\n"
      ],
      "metadata": {
        "id": "XsnQI7gWxwg7"
      }
    },
    {
      "cell_type": "code",
      "source": [
        "#Plots"
      ],
      "metadata": {
        "id": "njdBNabUzziD"
      },
      "execution_count": 734,
      "outputs": []
    },
    {
      "cell_type": "markdown",
      "source": [
        "* Discontinuous signals can be expressed as a collection of continuous signals using fourier series.\n",
        "\n"
      ],
      "metadata": {
        "id": "9pdh_z2hyf9E"
      }
    },
    {
      "cell_type": "markdown",
      "source": [
        "\\begin{align}\n",
        "x(t)&=\\sum_{m} X_me^{jm\\omega_0t}\\\\\n",
        "x(t)&=...+X_{-2}e^{j(-2)\\omega_0t}+X_{-1}e^{j(-1)\\omega_0t}+X_{0}+X_{1}e^{j(1)\\omega_0t}+X_{2}e^{j(2)\\omega_0t}+...\\\\\n",
        "\\end{align}\n",
        "\\\n",
        "Appling Fourier Transform to L.H.S and $m^{th}$ term of R.H.S\n",
        "\\begin{align}\n",
        "\\frac{1}{T_0}\\int_{T_0}x(t)e^{-jk\\omega_0t}dt&=\\frac{1}{T_0}\\int_{T_0}X_me^{jm\\omega_0t}e^{-jk\\omega_0t}\n",
        "\\end{align}"
      ],
      "metadata": {
        "id": "0OHf-Bw9pujl"
      }
    },
    {
      "cell_type": "markdown",
      "source": [
        "\n"
      ],
      "metadata": {
        "id": "XVvUb8yHr8AY"
      }
    },
    {
      "cell_type": "markdown",
      "source": [
        "## 2.3 Properties of Fourier Series\n"
      ],
      "metadata": {
        "id": "VVZeuu2Keuht"
      }
    },
    {
      "cell_type": "markdown",
      "source": [
        "### 2.3.1 Linearity"
      ],
      "metadata": {
        "id": "AwDrJLkjhivx"
      }
    },
    {
      "cell_type": "markdown",
      "source": [
        "\n",
        "\n",
        "Consider a periodic signal $x(t)$ with a fundermental frequency $\\omega_0$ and $k^{th}$ Fourier series coefficient is given by $X_k$.\\\n",
        "Consider another periodic signal $y(t)$ with $\\textbf{the same fundermental frequency $\\omega_0$}$ and $k^{th}$ Fourier Series coefficient is given by $Y_k$.\\\n",
        "\\\n",
        "\\begin{align}\n",
        "x(t)&⟶ X_k\\\\\n",
        "y(t)&⟶ Y_k\\\\\n",
        "Ax(t)+By(t)&⟶AX_k + BY_k\\\\\n",
        "\\end{align}\n"
      ],
      "metadata": {
        "id": "5wvjDek9JiO_"
      }
    },
    {
      "cell_type": "code",
      "source": [
        "##Example"
      ],
      "metadata": {
        "id": "PCFcg5Iravk4"
      },
      "execution_count": 735,
      "outputs": []
    },
    {
      "cell_type": "markdown",
      "source": [
        "### 2.3.2 Time Shifting"
      ],
      "metadata": {
        "id": "B0Q3HLokhpcg"
      }
    },
    {
      "cell_type": "markdown",
      "source": [
        "\n",
        "\n",
        "\n",
        "If Fourier Series coefficient of the periodic signal $x(t)$ is $X_k$.\n",
        "\\\n",
        "\\begin{align}\n",
        "x(t)&⟶X_k\\\\\n",
        "x(t)&=\\sum_{k}X_ke^{jk\\omega_0t}\\\\\n",
        "\\end{align}\n",
        "\n",
        "Apply $t \\Rightarrow t-t_0$;\n",
        "\n",
        "\\begin{align}\n",
        "x(t-t_0)&=\\sum_{k}X_ke^{jk\\omega_0(t-t_0)}\\\\\n",
        "x(t-t_0)&=\\sum_{k}(X_ke^{-jkw_0t_0})e^{jk\\omega_0t}\\\\\n",
        "\\end{align}\n",
        "\\\n",
        "Let $X'_k=X_ke^{-jkw_0t_0}$\n",
        "\n",
        "\\begin{align}\n",
        "|X'_k|&=|X_k|\\\\\n",
        "\\angle{X'_k}&=\\angle{X_k}-\\angle{k\\omega_0t_0}\n",
        "\\end{align}\n",
        "\\\n",
        "Degree of change of phase angle of higher harmonics is higher.\n"
      ],
      "metadata": {
        "id": "vCAVEmk_atjg"
      }
    },
    {
      "cell_type": "code",
      "source": [
        "wave=Waves()\n",
        "wave.square_pulse(2,\"a(t)\",\"t\",\"\",-1,1)"
      ],
      "metadata": {
        "id": "RNpTbdpPSS0P",
        "outputId": "8c97c28b-9ca3-4d86-8ab8-f055973aede1",
        "colab": {
          "base_uri": "https://localhost:8080/",
          "height": 277
        }
      },
      "execution_count": 745,
      "outputs": [
        {
          "output_type": "display_data",
          "data": {
            "text/plain": [
              "<Figure size 1000x300 with 1 Axes>"
            ],
            "image/png": "[encoded data removed]"
          },
          "metadata": {}
        }
      ]
    },
    {
      "cell_type": "markdown",
      "source": [
        "### 2.3.3 Time Reverse"
      ],
      "metadata": {
        "id": "VN7Lzsq7hscg"
      }
    },
    {
      "cell_type": "markdown",
      "source": [
        "\n",
        "If Fourier Series coefficient of the periodic signal $x(t)$ is $X_k$.\n",
        "\\\n",
        "\\begin{align}\n",
        "x(t)&⟶X_k\\\\\n",
        "x(-t)&⟶X'_k\\\\\n",
        "x(t)&=\\sum_{k}X_ke^{jk\\omega_0t}\\\\\n",
        "\\end{align}\n",
        "Apply $t⇒-t$\n",
        "\\begin{align}\n",
        "x(-t)&=\\sum_{k}X_ke^{-jk\\omega_0t}\\\\\n",
        "\\end{align}\n",
        "\\\n",
        "Inoder to obtain a simillar equation like in Fourier Series,\\\n",
        "\\\n",
        "Apply $k⇒-k$\n",
        "\\begin{align}\n",
        "x(-t)&=\\sum_{k}X_{-k}e^{jk\\omega_0t}\\\\\n",
        "\\end{align}\n",
        "Thus,\n",
        "\\begin{align}\n",
        "X'_k&=X_{-k}\n",
        "\\end{align}\n"
      ],
      "metadata": {
        "id": "9qVsS1G0SVsL"
      }
    },
    {
      "cell_type": "code",
      "source": [
        "##Example"
      ],
      "metadata": {
        "id": "i_5S6uxta4Zm"
      },
      "execution_count": 746,
      "outputs": []
    },
    {
      "cell_type": "markdown",
      "source": [
        "### 2.3.4 Time Scaling"
      ],
      "metadata": {
        "id": "8DAy7d2LhyKA"
      }
    },
    {
      "cell_type": "markdown",
      "source": [
        "\n",
        "\n",
        "\n",
        "If Fourier Series coefficient of the periodic signal $x(t)$ is $X_k$.\n",
        "\\\n",
        "\\begin{align}\n",
        "x(t)&⟶X_k\\\\\n",
        "x(t)&=\\sum_{k}X_ke^{jk\\omega_0t}\\\\\n",
        "\\end{align}\n",
        "Let $t⇒\\alpha t$\n",
        "\\begin{align}\n",
        "x(\\alpha t)&=\\sum_{k}X_ke^{jk\\omega_0\\alpha t}\n",
        "\\end{align}\n",
        "New fundermental frequency  $\\omega'_0=\\alpha \\omega_0$"
      ],
      "metadata": {
        "id": "Voa72O58a1g9"
      }
    },
    {
      "cell_type": "code",
      "source": [
        "# If alpha>1,\n",
        "## 4graphs"
      ],
      "metadata": {
        "id": "x_uQsgrjU7BK"
      },
      "execution_count": 747,
      "outputs": []
    },
    {
      "cell_type": "code",
      "source": [],
      "metadata": {
        "id": "HgG89qfyh9Ti"
      },
      "execution_count": 747,
      "outputs": []
    },
    {
      "cell_type": "markdown",
      "source": [
        "### 2.3.5 Properties For Real Signals"
      ],
      "metadata": {
        "id": "uOuM0wmfiBbT"
      }
    },
    {
      "cell_type": "markdown",
      "source": [
        "\n",
        "\\begin{align}\n",
        "x(t)&=\\sum_{k}X_ke^{jk\\omega_0t}\\\\\n",
        "x^{*}(t)&=\\sum_{k}X_k^{*}e^{-jk\\omega_0t}\\\\\n",
        "\\end{align}\n",
        "Apply $k⇒-k$,\n",
        "\\begin{align}\n",
        "x^{*}(t)&=\\sum_{k}X_{-k}^{*}e^{jk\\omega_0t}\\\\\n",
        "\\end{align}\n",
        "Since $x(t)=x^{*}(t)$,\n",
        "\\begin{align}\n",
        "\\sum_{k}X_ke^{jk\\omega_0t}&=\\sum_{k}X_{-k}^{*}e^{jk\\omega_0t}\\\\\n",
        "\\end{align}\n",
        "\\\n",
        "Therefore,\n",
        "\\begin{align}\n",
        "X_k&=X^{*}_{-k}\\\\\n",
        "X_{-k}&=X^{*}_{k}\n",
        "\\end{align}\n",
        "This is known as Conjugate Symmetry.\\\n",
        "Consequence of this,\n",
        "\\begin{align}\n",
        "|X_k|&=|X_{-k}|\\\\\n",
        "\\angle X_k&=-\\angle X_{-k}\\\\\n",
        "\\end{align}\n",
        "\n",
        "#### Real and Even Signals\n",
        "As $x(t)$ is real,\n",
        "\\begin{align}\n",
        "X_k&=X^{*}_{-k}\\\\\n",
        "\\end{align}\n",
        "However, as x(t) is even,\n",
        "\\begin{align}\n",
        "x(t)&=x(-t)\n",
        "\\end{align}\n",
        "Therefore from the time reversal property,\n",
        "\\begin{align}\n",
        "X_k&=X_{-k}\\\\\n",
        "\\end{align}\n",
        "Then,\n",
        "\\begin{align}\n",
        "X_k=X_{-k}=X^{*}_k\\\\\n",
        "\\end{align}\n",
        "Thus,\n",
        "\\begin{align}\n",
        "X_k=X^{*}_k\\\\\n",
        "\\end{align}\n",
        "Therefore, if $x(t)$ is real and even, $X_k$ is real and even.\n"
      ],
      "metadata": {
        "id": "dHVTsCzpVE6m"
      }
    },
    {
      "cell_type": "code",
      "source": [
        "##Example"
      ],
      "metadata": {
        "id": "J9HsoYrZbC6S"
      },
      "execution_count": 748,
      "outputs": []
    },
    {
      "cell_type": "markdown",
      "source": [
        "\n",
        "#### Real and Odd\n",
        "\n",
        "As $x(t)$ is real,\n",
        "\\begin{align}\n",
        "X_k=X^{*}_{-k}\\\\\n",
        "\\end{align}\n",
        "However, as $x(t)$ is odd,\n",
        "\\begin{align}\n",
        "x(t)&=-x(-t)\n",
        "\\end{align}\n",
        "Therefore, from time reversal property,\n",
        "\\begin{align}\n",
        "X_k&=-X_{-k}\\\\\n",
        "\\end{align}\n",
        "This yeilds,\n",
        "\\begin{align}\n",
        "X_k=-X_{-k}=-X^{*}_k\\\\\n",
        "\\end{align}\n",
        "\\begin{align}\n",
        "X_k=-X^{*}_k\n",
        "\\end{align}\n",
        "Therefore, if $x(t)$ is real and odd, $X_k$ is imaginary and odd.\n"
      ],
      "metadata": {
        "id": "eKaP-jPMbBUF"
      }
    },
    {
      "cell_type": "code",
      "source": [
        "##Example"
      ],
      "metadata": {
        "id": "Wm-ZPBA-bIWV"
      },
      "execution_count": 749,
      "outputs": []
    },
    {
      "cell_type": "markdown",
      "source": [
        "### 2.3.6 Differentiation and Integration"
      ],
      "metadata": {
        "id": "EomhIfTYiGQr"
      }
    },
    {
      "cell_type": "markdown",
      "source": [
        "\n",
        "\n",
        "\n",
        "#### Differentiation\n",
        "\\begin{align}\n",
        "x(t)=X_0 + \\sum_{\\forall k\\neq 0}X_ke^{jk\\omega_0t}\\\\\n",
        "x'(t)=\\frac{dx(t)}{dt}=\\sum_{\\forall k\\neq 0}(X_kjk\\omega_0)e^{jk\\omega_0t}\n",
        "\\end{align}\n",
        "\\\n",
        "\\begin{align}\n",
        "X'_k=jk\\omega_0X_k \\:\\:\\:\\:\\: ;k\\neq 0\n",
        "\\end{align}\n",
        "\\\n",
        "Differentiation is a high pass process / sharpning process.\n",
        "\n",
        "\\begin{align}\n",
        "X_k=\\frac{X'_k}{jk\\omega_0}\\:\\:\\:\\:\\: ;k\\neq 0\n",
        "\\end{align}\n",
        "#### Integration\n",
        "\\begin{align}\n",
        "x(t)=X_0 + \\sum_{\\forall k\\neq 0}X_ke^{jk\\omega_0t}\\\\\n",
        "x'(t)=\\int x(t)dt=\\sum_{\\forall k\\neq 0}\\:\\:\\frac{X_k}{jk\\omega_0}\\:e^{jk\\omega_0t}\n",
        "\\end{align}\n",
        "\\\n",
        "\\\n",
        "\\begin{align}\n",
        "X'_k=\\frac{X_k}{jk\\omega_0}\\:\\:\\:\\:\\: ;k\\neq 0\n",
        "\\end{align}\n",
        "Integration is a low pass process / smoothing process.\n",
        "\\begin{align}\n",
        "X_k=jk\\omega_0X'_k \\:\\:\\:\\:\\: ;k\\neq 0\n",
        "\\end{align}"
      ],
      "metadata": {
        "id": "1eu25sg_bGqu"
      }
    },
    {
      "cell_type": "code",
      "source": [
        "##Example"
      ],
      "metadata": {
        "id": "jo91UMn4bLSR"
      },
      "execution_count": 750,
      "outputs": []
    },
    {
      "cell_type": "markdown",
      "source": [
        "### 2.3.7 Fourier Series of an Impulse"
      ],
      "metadata": {
        "id": "IgG1LX0gm2tP"
      }
    },
    {
      "cell_type": "markdown",
      "source": [
        "\\begin{align}\n",
        "x(t)&=\\sum_{k=-∞}^{∞} \\delta(t-kT_0)\\\\\n",
        "X_0&=\\frac{1}{T_0}\\int_{T_0}x(t)dt\\\\\n",
        "&=\\frac{1}{T_0}\\int_{\\frac{-T_0}{2}}^{\\frac{T_0}{2}}\\delta(t)dt\\\\\n",
        "&=\\frac{1}{T_0}\n",
        "\\\\\n",
        "X_k&=\\frac{1}{T_0} \\int_{T_0}e^{-jk\\omega_0t}dt\\\\\n",
        "&=\\frac{1}{T_0}\\int_{\\frac{-T_0}{2}}^{\\frac{T_0}{2}} \\delta (t) e^{-jk\\omega_0t}dt\n",
        "\\end{align}"
      ],
      "metadata": {
        "id": "Os6wJjZWnyME"
      }
    },
    {
      "cell_type": "code",
      "source": [
        "#Example"
      ],
      "metadata": {
        "id": "tlmWsaXL6OV-"
      },
      "execution_count": 751,
      "outputs": []
    },
    {
      "cell_type": "markdown",
      "source": [
        "\\begin{align}\n",
        "X_k&=\\frac{1}{T_0}\\int_{-\\frac{T_0}{2}}^{\\frac{T_0}{2}}\\delta (t)e^{-jk\\omega_0 \\times 0}dt\\\\\n",
        "&=\\frac{1}{T_0}\n",
        "\\end{align}\n",
        "This yeilds,\n",
        "\\begin{align}\n",
        "x(t)=\\sum_{\\forall k}\\delta (t-kT_0)=\\sum_{\\forall k}\\frac{1}{T_0}e^{jk\\omega_0t}\n",
        "\\end{align}"
      ],
      "metadata": {
        "id": "Tf9tQnbS6XMo"
      }
    },
    {
      "cell_type": "code",
      "source": [
        "#Example"
      ],
      "metadata": {
        "id": "WvP0GK8o7l4m"
      },
      "execution_count": 752,
      "outputs": []
    },
    {
      "cell_type": "markdown",
      "source": [
        "# 3.0 Fourier Transform"
      ],
      "metadata": {
        "id": "OvHrCgJ_ihEF"
      }
    },
    {
      "cell_type": "markdown",
      "source": [],
      "metadata": {
        "id": "kubMTqXyikuP"
      }
    }
  ]
}