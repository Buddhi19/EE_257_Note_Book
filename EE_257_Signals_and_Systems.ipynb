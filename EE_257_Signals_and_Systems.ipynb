{
  "cells": [
    {
      "cell_type": "markdown",
      "metadata": {
        "id": "view-in-github",
        "colab_type": "text"
      },
      "source": [
        "<a href=\"https://colab.research.google.com/github/BuwanekaEpakanda/EE_257_Note_Book/blob/main/EE_257_Signals_and_Systems.ipynb\" target=\"_parent\"><img src=\"https://colab.research.google.com/assets/colab-badge.svg\" alt=\"Open In Colab\"/></a>"
      ]
    },
    {
      "cell_type": "markdown",
      "metadata": {
        "id": "Rs_poxGowMlE"
      },
      "source": [
        "#Content"
      ]
    },
    {
      "cell_type": "markdown",
      "metadata": {
        "id": "mV_buCRO0Ntf"
      },
      "source": [
        "## Signals"
      ]
    },
    {
      "cell_type": "markdown",
      "metadata": {
        "id": "2L4zQFHK4ZJn"
      },
      "source": [
        "###1.0 Introduction"
      ]
    },
    {
      "cell_type": "markdown",
      "metadata": {
        "id": "zft0FnwG0HN9"
      },
      "source": [
        "\n",
        "1.1 Classification of Signals\n",
        "\n",
        "> 1.1.1 Continuous and Discrete Time Signals\n",
        "\n",
        "> 1.1.2 Continuous and Discrete Valued Signals\n",
        "\n",
        "> 1.1.3 Deterministic and Random Signals\n",
        "\n",
        "> 1.1.4 Energy and Power Signals\n",
        "\n",
        "> 1.1.5 Odd and Even Signals\n",
        "\n",
        "> 1.1.6 Periodic and Aperiodic Signals\n",
        "\n",
        "1.2 Special Signals\n",
        "\n",
        "> 1.2.1 Complex Exponential Signals\n",
        "\n",
        ">> 1.2.1.1 Continuous Time Signals\n",
        "\n",
        ">> 1.2.1.2 Discrete Time Signals\n",
        "\n",
        "> 1.2.2 Impulse\n",
        "\n",
        "> 1.2.3 Unit Step\n",
        "\n",
        "1.3 Continuous Time and Discrete Time Systems\n",
        "\n",
        "> 1.3.1 Inter Connections Between Systems\n",
        "\n",
        "   \n",
        "*   Cascaded\n",
        "* Parallel\n",
        "*Series - Parallel\n",
        "*Feedback\n",
        "\n",
        "\n",
        "\n",
        "> 1.3.2 System Properties\n",
        "\n",
        "\n",
        "\n",
        "*   System with or without memory\n",
        "*   Inverse Systems\n",
        "*Time Invariance\n",
        "*Linearity\n",
        "*Causility\n",
        "\n",
        "1.4 Operations On signals\n",
        "\n",
        "\n",
        "*   Time Delay\n",
        "*   Time Scaling\n",
        "*Negation\n",
        "\n",
        "1.5 Linear Time Invarient Systems\n",
        "\n",
        "\n",
        "> 1.5.1 Convolution For Descrete LTI system\n",
        "\n",
        "> 1.5.2 Convolution For Continous LTI system\n",
        "\n",
        "1.6 Properties of Convolution\n",
        "\n",
        "\n",
        "\n",
        "*   $x(t) * \\delta(t) = x(t)$\n",
        "*   $x(t) * \\delta(t-T) = x(t-T)$\n",
        "*Commutativity\n",
        "*Distributivity\n",
        "*Condition for Inverse\n",
        "* Laplace Transform of Convolution\n",
        "\n",
        "\n",
        "\n",
        "\n",
        "\n",
        "\n",
        "\n",
        "\n"
      ]
    },
    {
      "cell_type": "markdown",
      "metadata": {
        "id": "m_9KyI9B4UNo"
      },
      "source": [
        "### 2.0 Fourier Series"
      ]
    },
    {
      "cell_type": "markdown",
      "metadata": {
        "id": "rw9gMu8W2btd"
      },
      "source": [
        "\n",
        "2.1 Introduction\n",
        "\n",
        "> 2.1.1 Inter-domain Analysis\n",
        "\n",
        "> 2.1.2 Periodic Signals\n",
        "\n",
        "> 2.1.3 Vector Space \n",
        "\n",
        "2.2 Fourier Series\n",
        ">2.2.1 Introduction\n",
        "\n",
        ">2.2.2 Coefficients of Fourier Series\n",
        "\n",
        "2.3 Properties of Fourier Series\n",
        "> 2.3.1 Linearity\n",
        "\n",
        "> 2.3.2 Time shifting\n",
        "\n",
        "> 2.3.3 Time Reverse\n",
        "\n",
        "> 2.3.4 Time Scaling\n",
        "\n",
        "> 2.3.5 Properties For Real Signals\n",
        ">> * Real and Even\n",
        ">> * Real and Odd\n",
        "\n",
        "> 2.3.6 Differentiation and Integration\n",
        "\n",
        ">2.3.7 Fourier Series of an Impulse \n",
        "\n",
        "2.4 Trignometric Fourier Series\n",
        "\n",
        "2.5 Power of a periodic signal\n",
        "\n",
        "\n",
        "*   Parseval's Theorem\n",
        "2.6 Periodic Signal through LTI system\n",
        "\n"
      ]
    },
    {
      "cell_type": "markdown",
      "metadata": {
        "id": "KS8lPsht43XK"
      },
      "source": [
        "### 3.0 Fourier Transform"
      ]
    },
    {
      "cell_type": "markdown",
      "metadata": {
        "id": "2n5aCeEH47XL"
      },
      "source": [
        "3.1 Introduction\n",
        "\n",
        "\n",
        "> 3.1.1 Complex Valued Functions\n",
        "\n",
        "> 3.1.2 From F.S. to F.T.\n",
        "\n",
        "> 3.1.3 Fouries Transform and Inverse F.T.\n",
        "\n",
        "> 3.1.4 F.T. and L.T.\n",
        "\n",
        "3.2 Fouries Transforms of Signals\n",
        ">3.2.1 $x(t) = e^{-at}u(t)$ and $x(t) = e^{-|a|t}$\n",
        "\n",
        ">3.2.2 Delta Function $δ(t)$\n",
        "\n",
        ">3.2.3 Square Pulse\n",
        "\n",
        ">3.2.4 Unit Step Function $u(t)$\n",
        "\n",
        "3.3 Properties of F.T.\n",
        ">3.3.1 Linearity\n",
        "\n",
        ">3.3.2 Time Shifting\n",
        "\n",
        ">3.3.3 Modulation / Shifting in Frequency\n",
        "\n",
        "> 3.3.4 Differentiation and Integratino\n",
        "\n",
        ">3.3.5 Time Scaling\n",
        "\n",
        ">3.3.6 Time Reversal\n",
        "\n",
        ">3.3.7 Uses of Properties (examples of derivations)\n",
        "\n",
        "\n",
        "\n",
        ">*   $\\mathcal{F}^{-1}[δ(ω))]$\n",
        ">*   F.T. of Periodic Signals\n",
        "\n",
        ">* $\\mathcal{F}[u(t)]$\n",
        "\n",
        "3.4 F.T. properties of real signals\n",
        "\n",
        "\n",
        "*   Real signals\n",
        "*   Real even signals\n",
        "* Real Odd signals\n",
        "\n",
        "3.5 Duality\n",
        "\n",
        "3.6 Energy of the signal\n",
        "*   Parseval's Theorem\n",
        "\n",
        "3.6 Modulation\n",
        "\n",
        "3.7 L.T.I. systems and F.T.\n",
        ">3.7.1 Frequency response\n",
        "\n",
        ">3.7.2 Convolution Property\n",
        "\n",
        ">3.7.3 Differentiation Property\n",
        "\n",
        "\n",
        "\n",
        "\n",
        "\n",
        "\n",
        "\n",
        "\n",
        "\n"
      ]
    },
    {
      "cell_type": "markdown",
      "metadata": {
        "id": "ea4TIOz3wzvv"
      },
      "source": [
        "# Libraries"
      ]
    },
    {
      "cell_type": "code",
      "execution_count": null,
      "metadata": {
        "id": "RUCRY3hq4m7Z"
      },
      "outputs": [],
      "source": [
        "####################### include the libraries that are used ######################\n",
        "import numpy as np\n",
        "import matplotlib.pyplot as plt\n",
        "from sympy import *\n",
        "from scipy import signal\n",
        "from matplotlib import style"
      ]
    },
    {
      "cell_type": "code",
      "execution_count": null,
      "metadata": {
        "id": "EzpJ1Gh8DmC-"
      },
      "outputs": [],
      "source": [
        "class Waves:\n",
        "\n",
        "  def draw_periodic_signals(self,arr,title,x_axis_label,y_axis_label,pulse_height,sampling_rate):\n",
        "    t = np.linspace(-3.9, 3.9, sampling_rate, endpoint=True)\n",
        "    plt.style.context('fast')\n",
        "    plt.figure(figsize=(10, 3))\n",
        "    plt.grid(color = 'black', linestyle = '-', linewidth = 0.1)\n",
        "    plt.plot(t, arr)\n",
        "    plt.title(f'{title}')\n",
        "    plt.xlabel(x_axis_label)\n",
        "    plt.ylabel(y_axis_label)\n",
        "    plt.axhline(y=0, color='black',linewidth = 0.5)\n",
        "    plt.axvline(x=0, color='black',linewidth = 0.5)\n",
        "    plt.ylim(-0.4,pulse_height+0.4)\n",
        "    plt.xlim(-4,4)\n",
        "    plt.show()\n",
        "\n",
        "\n",
        "\n",
        "  def square_pulse(self,periodic_time,title,x_axis_label,y_axis_label,horizontal_shift,pulse_height):\n",
        "    t = np.linspace(-3.9, 3.9, 1000, endpoint=True)\n",
        "    arr=[((1+num)//2)*pulse_height for num in signal.square(1/periodic_time * np.pi * 1 * (t-horizontal_shift))]\n",
        "    self.draw_periodic_signals(arr,title,x_axis_label,y_axis_label,pulse_height,1000)\n",
        "\n",
        "    \"\"\"To form a square pulse\"\"\"\n",
        "\n",
        "    #   wave=Waves()\n",
        "    #   wave.square_pulse(Enter periodic time,Enter Title,Enter X axis label,Enter Y axis label,Enter horizontal shift,Enter pulse height)\n",
        "\n",
        "  def sawtooth_pulse(self,periodic_time,title,x_axis_label,y_axis_label,horizontal_shift,pulse_height):\n",
        "    t = np.linspace(-3.9, 3.9, 500)\n",
        "    arr=[(1+num)*pulse_height/2 for num in signal.sawtooth(2/periodic_time * np.pi * 1 * (t-horizontal_shift))]\n",
        "    self.draw_periodic_signals(arr,title,x_axis_label,y_axis_label,pulse_height,500)\n",
        "  \n",
        "\n",
        "    \"\"\"To form a sawtooth pulse\"\"\"\n",
        "\n",
        "    #   wave=Waves()\n",
        "    #   wave.sawtooth_pulse(Enter periodic time,Enter Title,Enter X axis label,Enter Y axis label,Enter horizontal shift,Enter pulse height)\n",
        "\n",
        "  def enlarged_impulse_1(self):\n",
        "    plt.figure(figsize=(6, 4))\n",
        "    y_values=[0,0,1,1,1,0,0]\n",
        "    x_values=[-2,-1,-1,0,1,1,2]\n",
        "    plt.plot(x_values,y_values)\n",
        "    plt.ylim(-0.2,2)\n",
        "    plt.axhline(y=0, color='black',linewidth = 0.5)\n",
        "    plt.axvline(x=0, color='black',linewidth = 0.5)\n",
        "    plt.xlabel(\"time\")\n",
        "    plt.title(\"$\\delta(t)$\")\n",
        "    y_labels=[0,0,\"1/ $\\Delta$\",\"1/ $\\Delta$\",\"1/ $\\Delta$\",0,0]\n",
        "    labels=[\"-$\\Delta$\",\"-$\\Delta$/2\",\"-$\\Delta$/2\",\"0\",\"$\\Delta$/2\",\"$\\Delta$/2\",\"$\\Delta$\"]\n",
        "    plt.xticks(x_values,labels,rotation=\"horizontal\")\n",
        "    plt.yticks(y_values,y_labels,rotation=\"horizontal\")\n",
        "    plt.show()\n",
        "\n",
        "  def draw_hann_pulse(self,shift):\n",
        "    plt.figure(figsize=(6, 4))\n",
        "    plt.ylim(-0.2,2)\n",
        "    plt.xlim(-5,5)\n",
        "    plt.axhline(y=0, color='black',linewidth = 0.5)\n",
        "    plt.axvline(x=0, color='black',linewidth = 0.5)\n",
        "    win = signal.windows.hann(50)\n",
        "    x_values=np.linspace(-1-shift,(1-shift),num=50)\n",
        "    plt.plot(x_values,win)\n",
        "\n",
        "    \"\"\"To form a hann pulse\"\"\"\n",
        "\n",
        "    #   wave=Waves()\n",
        "    #   wave.draw_hann_pulse(Enter shift)\n",
        "\n",
        "  \n",
        "  def convolve_square_and_hann(self):\n",
        "    win = signal.windows.hann(50)\n",
        "    # win=np.repeat([0., 1., 0.], 50)\n",
        "    sig = np.repeat([0., 1., 0.], 100)\n",
        "    xvalues=np.linspace(-400,400,300)\n",
        "    x2values=np.linspace(-100,100,50)\n",
        "    filtered = signal.convolve(sig, win, mode='same') / sum(win)\n",
        "    fig, (ax_orig, ax_win, ax_filt) = plt.subplots(3, 1, sharex=True,sharey=True)\n",
        "    ax_orig.plot(xvalues,sig)\n",
        "    ax_orig.set_title('Original pulse')\n",
        "    ax_orig.axhline(y=0, color='black',linewidth = 0.5)\n",
        "    ax_orig.axvline(x=0, color='black',linewidth = 0.5)\n",
        "    ax_orig.margins(0, 0.2)\n",
        "    ax_win.axhline(y=0, color='black',linewidth = 0.5)\n",
        "    ax_win.axvline(x=0, color='black',linewidth = 0.5)\n",
        "    ax_win.plot(x2values,win)\n",
        "    ax_win.set_title('Input response')\n",
        "    ax_win.margins(0, 0.2)\n",
        "    ax_filt.plot(xvalues,filtered)\n",
        "    ax_filt.set_title('Convoled signal')\n",
        "    ax_filt.axhline(y=0, color='black',linewidth = 0.5)\n",
        "    ax_filt.axvline(x=0, color='black',linewidth = 0.5)\n",
        "    ax_filt.margins(0, 0.2)\n",
        "    fig.tight_layout()\n",
        "    fig.show()\n",
        "\n",
        "    \"\"\"To use convole function for square and a hann function\"\"\"\n",
        "    #   wave=Waves()\n",
        "    #   wave.convolve_square_and_hann()"
      ]
    },
    {
      "cell_type": "markdown",
      "metadata": {
        "id": "nJUBF99ViX2i"
      },
      "source": [
        "#1.0 Introduction"
      ]
    },
    {
      "cell_type": "markdown",
      "metadata": {
        "id": "2M0SosMCidNx"
      },
      "source": [
        "Example 01: \n",
        "$$\n",
        "y[n]=\\sum_{k=-\\infty}^{\\infty} x[k]\\,h[n-k]\n",
        "$$\n",
        "* Learn tools necessary to analyse signals and systems.\n",
        "* A signal is a variation of a physical property over time."
      ]
    },
    {
      "cell_type": "code",
      "execution_count": null,
      "metadata": {
        "colab": {
          "base_uri": "https://localhost:8080/",
          "height": 929
        },
        "id": "xxr8aoaAMUjT",
        "outputId": "0fad2929-fa58-4c86-dfac-135b20cbaafd"
      },
      "outputs": [
        {
          "data": {
            "image/png": "[encoded data removed]",
            "text/plain": [
              "<Figure size 640x480 with 1 Axes>"
            ]
          },
          "metadata": {},
          "output_type": "display_data"
        },
        {
          "data": {
            "image/png": "[encoded data removed]",
            "text/plain": [
              "<Figure size 640x480 with 1 Axes>"
            ]
          },
          "metadata": {},
          "output_type": "display_data"
        }
      ],
      "source": [
        "def delta(n):\n",
        "    \"\"\"Discrete-time delta function\"\"\"\n",
        "    d = np.zeros(len(n))\n",
        "    d[np.where(n == 0)] = 1\n",
        "    d[np.where(n == 1)] = 1\n",
        "    d[np.where(n == 2)] = 1\n",
        "    return d\n",
        "\n",
        "n = np.arange(-5, 6)\n",
        "d = delta(n)\n",
        "\n",
        "plt.stem(n, d)\n",
        "plt.xlabel('n')\n",
        "plt.ylabel('$h[n]$')\n",
        "plt.title('$h[n]$')\n",
        "plt.show()\n",
        "\n",
        "def x(n):\n",
        "    \"\"\"Discrete-time delta function\"\"\"\n",
        "    d = np.zeros(len(n))\n",
        "    d[np.where(n == 0)] = 2\n",
        "    d[np.where(n == 1)] = 0.5\n",
        "    return d\n",
        "\n",
        "n = np.arange(-5, 6)\n",
        "d = x(n)\n",
        "\n",
        "plt.stem(n, d)\n",
        "plt.xlabel('n')\n",
        "plt.ylabel('$x[n]$')\n",
        "plt.title('$x[n]$')\n",
        "plt.show()"
      ]
    },
    {
      "cell_type": "markdown",
      "metadata": {
        "id": "7I06VoFMMWnr"
      },
      "source": []
    },
    {
      "cell_type": "markdown",
      "metadata": {
        "id": "aE1BpTUbN-51"
      },
      "source": [
        "for $y=0$ ;\n",
        "$$\n",
        "y[0]=\\sum_{k=-\\infty}^{\\infty} x[k]\\,h[-k]\n",
        "$$"
      ]
    },
    {
      "cell_type": "code",
      "execution_count": null,
      "metadata": {
        "colab": {
          "base_uri": "https://localhost:8080/",
          "height": 473
        },
        "id": "Uz5OwYRbOWFh",
        "outputId": "99aadb93-57a5-460e-f4b5-ac2fbeaff631"
      },
      "outputs": [
        {
          "data": {
            "image/png": "[encoded data removed]",
            "text/plain": [
              "<Figure size 640x480 with 1 Axes>"
            ]
          },
          "metadata": {},
          "output_type": "display_data"
        }
      ],
      "source": [
        "def h0(n):\n",
        "    d = np.zeros(len(n))\n",
        "    d[np.where(n == 0)] = 1\n",
        "    d[np.where(n == -1)] = 1\n",
        "    d[np.where(n == -2)] = 1\n",
        "    return d\n",
        "\n",
        "n = np.arange(-5, 6)\n",
        "d = h0(n)\n",
        "\n",
        "plt.stem(n, d)\n",
        "plt.xlabel('k')\n",
        "plt.ylabel('$h[-k]$')\n",
        "plt.title('$h[-k]$')\n",
        "plt.show()"
      ]
    },
    {
      "cell_type": "markdown",
      "metadata": {
        "id": "V80MCOW1OpVU"
      },
      "source": [
        "$$\n",
        "\\begin{align}\n",
        "y[0]&=\\dots\\,0+0+0+2+0+0+0+\\,\\dots \\\\\n",
        "&=2\n",
        "\\end{align}\n",
        "$$"
      ]
    },
    {
      "cell_type": "markdown",
      "metadata": {
        "id": "bWkN67OMQU9s"
      },
      "source": [
        "for $y=1$ ;\n",
        "$$\n",
        "y[1]=\\sum_{k=-\\infty}^{\\infty} x[k]\\,h[1-k]\n",
        "$$"
      ]
    },
    {
      "cell_type": "code",
      "execution_count": null,
      "metadata": {
        "colab": {
          "base_uri": "https://localhost:8080/",
          "height": 473
        },
        "id": "9W8XCbJjQns8",
        "outputId": "931d3f62-c010-4913-89f4-b605374d47e6"
      },
      "outputs": [
        {
          "data": {
            "image/png": "[encoded data removed]",
            "text/plain": [
              "<Figure size 640x480 with 1 Axes>"
            ]
          },
          "metadata": {},
          "output_type": "display_data"
        }
      ],
      "source": [
        "def h0(n):\n",
        "    d = np.zeros(len(n))\n",
        "    d[np.where(n == 0)] = 1\n",
        "    d[np.where(n == -1)] = 1\n",
        "    d[np.where(n == 1)] = 1\n",
        "    return d\n",
        "\n",
        "n = np.arange(-5, 6)\n",
        "d = h0(n)\n",
        "\n",
        "plt.stem(n, d)\n",
        "plt.xlabel('k')\n",
        "plt.ylabel('$h[-k]$')\n",
        "plt.title('$h[-k]$')\n",
        "plt.show()"
      ]
    },
    {
      "cell_type": "markdown",
      "metadata": {
        "id": "l6mdOoX0QtSL"
      },
      "source": [
        "$$\n",
        "\\begin{align}\n",
        "y[1]&=\\dots\\,0+0+0+2+0.5+0+0+\\,\\dots \\\\\n",
        "&=2.5\n",
        "\\end{align}\n",
        "$$"
      ]
    },
    {
      "cell_type": "markdown",
      "metadata": {
        "id": "rnPBbFsMQ9KF"
      },
      "source": [
        "Likewise,\n",
        "\n",
        "$$\n",
        "\\begin{align}\n",
        "y[2]&=2.5 \\\\\n",
        "y[3]&=0.5 \\\\\n",
        "y[4]&=0\n",
        "\\end{align}\n",
        "$$"
      ]
    },
    {
      "cell_type": "code",
      "execution_count": null,
      "metadata": {
        "colab": {
          "base_uri": "https://localhost:8080/",
          "height": 474
        },
        "id": "BNal1bcPRjQ_",
        "outputId": "fbc34630-3cd1-42f1-ed79-58e07f548871"
      },
      "outputs": [
        {
          "data": {
            "image/png": "[encoded data removed]",
            "text/plain": [
              "<Figure size 640x480 with 1 Axes>"
            ]
          },
          "metadata": {},
          "output_type": "display_data"
        }
      ],
      "source": [
        "def ans_ex01(n):\n",
        "    d = np.zeros(len(n))\n",
        "    d[np.where(n == 0)] = 2\n",
        "    d[np.where(n == 1)] = 2.5\n",
        "    d[np.where(n == 2)] = 2.5\n",
        "    d[np.where(n == 3)] = 0.5\n",
        "    return d\n",
        "\n",
        "n = np.arange(-5, 6)\n",
        "d = ans_ex01(n)\n",
        "\n",
        "plt.stem(n, d)\n",
        "plt.xlabel('n')\n",
        "plt.ylabel('$y[n]$')\n",
        "plt.title('$y[n]$')\n",
        "plt.show()"
      ]
    },
    {
      "cell_type": "code",
      "execution_count": null,
      "metadata": {
        "colab": {
          "base_uri": "https://localhost:8080/"
        },
        "id": "UYSQ1TPSR3Pw",
        "outputId": "b2ec535d-ea87-41eb-c6c3-3f514522ddbf"
      },
      "outputs": [
        {
          "data": {
            "text/plain": [
              "array([2. , 2.5, 2.5, 0.5])"
            ]
          },
          "execution_count": 17,
          "metadata": {},
          "output_type": "execute_result"
        }
      ],
      "source": [
        "np.convolve([1,1,1],[2,0.5])"
      ]
    },
    {
      "cell_type": "markdown",
      "metadata": {
        "id": "l_ekzHmLSVus"
      },
      "source": [
        "example 02:\n",
        "$$\n",
        "\\begin{align}\n",
        "h[n]&=U[n] \\\\\n",
        "x[n]&=\\alpha^{n}\\,U[n]\n",
        "\\end{align}\n",
        "$$"
      ]
    },
    {
      "cell_type": "code",
      "execution_count": null,
      "metadata": {
        "colab": {
          "base_uri": "https://localhost:8080/",
          "height": 927
        },
        "id": "my5lUM_TTjk7",
        "outputId": "7ac8a02f-8b1b-4acc-de7a-4be6d469cd9e"
      },
      "outputs": [
        {
          "data": {
            "image/png": "[encoded data removed]",
            "text/plain": [
              "<Figure size 640x480 with 1 Axes>"
            ]
          },
          "metadata": {},
          "output_type": "display_data"
        },
        {
          "data": {
            "image/png": "[encoded data removed]",
            "text/plain": [
              "<Figure size 640x480 with 1 Axes>"
            ]
          },
          "metadata": {},
          "output_type": "display_data"
        }
      ],
      "source": [
        "n = np.arange(-5,10) \n",
        "alpha = 0.8 \n",
        "\n",
        "x = 1\n",
        "x = x * (n >= 0)\n",
        "\n",
        "plt.stem(n, x) \n",
        "plt.xlabel('n')\n",
        "plt.ylabel('h[n]]')\n",
        "plt.title('h[n]')\n",
        "plt.show()\n",
        "\n",
        "n = np.arange(-5,10) \n",
        "alpha = 0.8 \n",
        "\n",
        "x = alpha ** n \n",
        "x = x * (n >= 0)\n",
        "\n",
        "plt.stem(n, x) \n",
        "plt.xlabel('n')\n",
        "plt.ylabel('x[n]]')\n",
        "plt.title('x[n]')\n",
        "plt.show()"
      ]
    },
    {
      "cell_type": "markdown",
      "metadata": {
        "id": "X41T8g2DUgFs"
      },
      "source": [
        "By definition,\n",
        "$$\n",
        "y[n]=\\sum_{k=-\\infty}^{\\infty} x[k]\\,h[n-k]\n",
        "$$"
      ]
    },
    {
      "cell_type": "markdown",
      "metadata": {
        "id": "-t0TmlJbUu7Y"
      },
      "source": [
        "for $y=0$ ;\n",
        "$$\n",
        "y[0]=\\sum_{k=-\\infty}^{\\infty} x[k]\\,h[-k]\n",
        "$$"
      ]
    },
    {
      "cell_type": "code",
      "execution_count": null,
      "metadata": {
        "colab": {
          "base_uri": "https://localhost:8080/",
          "height": 472
        },
        "id": "noFmLK9fU_B_",
        "outputId": "080c69d6-4998-4c37-db0d-02c20c0d9531"
      },
      "outputs": [
        {
          "data": {
            "image/png": "[encoded data removed]",
            "text/plain": [
              "<Figure size 640x480 with 1 Axes>"
            ]
          },
          "metadata": {},
          "output_type": "display_data"
        }
      ],
      "source": [
        "n = np.arange(-10,5) \n",
        "\n",
        "x = 1\n",
        "x = x * (n <= 0)\n",
        "\n",
        "plt.stem(n, x) \n",
        "plt.xlabel('n')\n",
        "plt.ylabel('h[n]]')\n",
        "plt.title('h[n]')\n",
        "plt.show()"
      ]
    },
    {
      "cell_type": "markdown",
      "metadata": {
        "id": "A-iWlUPmVR2j"
      },
      "source": [
        "$$\n",
        "\\begin{align}\n",
        "y[0]&=\\dots\\,0+0+0+\\alpha+0+0+0+\\,\\dots \\\\\n",
        "&=\\alpha\n",
        "\\end{align}\n",
        "$$"
      ]
    },
    {
      "cell_type": "markdown",
      "metadata": {
        "id": "CNtzX1jBV7LT"
      },
      "source": [
        "for $y=1$ ;\n",
        "$$\n",
        "y[1]=\\sum_{k=-\\infty}^{\\infty} x[k]\\,h[1-k]\n",
        "$$"
      ]
    },
    {
      "cell_type": "code",
      "execution_count": null,
      "metadata": {
        "colab": {
          "base_uri": "https://localhost:8080/",
          "height": 472
        },
        "id": "ZvWccMueWjAF",
        "outputId": "e0ec4987-a80c-4160-d652-fad3ffc8ab1c"
      },
      "outputs": [
        {
          "data": {
            "image/png": "[encoded data removed]",
            "text/plain": [
              "<Figure size 640x480 with 1 Axes>"
            ]
          },
          "metadata": {},
          "output_type": "display_data"
        }
      ],
      "source": [
        "n = np.arange(-10,5) \n",
        "\n",
        "x = 1\n",
        "x = x * (n <= 1)\n",
        "\n",
        "plt.stem(n, x) \n",
        "plt.xlabel('n')\n",
        "plt.ylabel('h[n]]')\n",
        "plt.title('h[n]')\n",
        "plt.show()"
      ]
    },
    {
      "cell_type": "markdown",
      "metadata": {
        "id": "0ewGq7NLWwfT"
      },
      "source": [
        "$$\n",
        "\\begin{align}\n",
        "y[0]&=\\dots\\,0+0+0+\\alpha+\\alpha^2+0+0+\\,\\dots \\\\\n",
        "&=\\alpha+\\alpha^2\n",
        "\\end{align}\n",
        "$$"
      ]
    },
    {
      "cell_type": "markdown",
      "metadata": {
        "id": "OfcPQgibW8dz"
      },
      "source": [
        "Likewise,\n",
        "$$\n",
        "\\begin{align}\n",
        "y[n]&=\\dots\\,0+0+0+\\alpha+\\alpha^2+\\alpha^3+\\,\\dots \\\\\n",
        "&=\\alpha+\\alpha^2+\\alpha^3\\,\\dots\\,+\\alpha^n \\\\\n",
        "&=\\sum_{k=0}^{n} \\alpha^k \\\\\n",
        "\\alpha y[n]&=\\sum_{k=0}^{n} \\alpha^{k+1} \\\\\n",
        "(\\alpha-1)y[n]&=1-\\alpha^{n+1} \\\\\n",
        "y[n]&=\\frac{1-\\alpha^{n+1}}{1-\\alpha}\n",
        "\\end{align}\n",
        "$$"
      ]
    },
    {
      "cell_type": "markdown",
      "metadata": {
        "id": "8feWX9epa2Hl"
      },
      "source": [
        "Let's consider a linear time invariant (LTI) system."
      ]
    },
    {
      "cell_type": "code",
      "execution_count": null,
      "metadata": {
        "id": "QdrynNBfbSPv"
      },
      "outputs": [],
      "source": [
        "##Diagrams"
      ]
    },
    {
      "cell_type": "code",
      "execution_count": null,
      "metadata": {
        "colab": {
          "base_uri": "https://localhost:8080/",
          "height": 484
        },
        "id": "iMB2LjVubjxX",
        "outputId": "a80e545d-5d74-43be-8d5d-634600713d29"
      },
      "outputs": [
        {
          "data": {
            "image/png": "[encoded data removed]",
            "text/plain": [
              "<Figure size 640x480 with 1 Axes>"
            ]
          },
          "metadata": {},
          "output_type": "display_data"
        }
      ],
      "source": [
        "Delta = 1.0    \n",
        "t = np.linspace(-2, 2, 1000)    \n",
        "\n",
        "pulse = np.zeros(len(t))\n",
        "pulse[(t >= -Delta/2) & (t <= Delta/2)] = 1\n",
        "\n",
        "plt.plot(t, pulse)\n",
        "plt.xlabel('t')\n",
        "plt.ylabel('$\\delta_{\\Delta}(t)$')\n",
        "plt.title('$\\delta_{\\Delta}(t)$')\n",
        "plt.grid(True)\n",
        "\n",
        "xtick_locs = [-Delta/2, 0, Delta/2]\n",
        "xtick_labels = [r'$-\\frac{\\Delta}{2}$', '0', r'$\\frac{\\Delta}{2}$']\n",
        "plt.xticks(xtick_locs, xtick_labels)\n",
        "\n",
        "ytick_locs = [0, 1/Delta, 1]\n",
        "ytick_labels = ['0', r'$\\frac{1}{\\Delta}$', '1']\n",
        "plt.yticks(ytick_locs, ytick_labels)\n",
        "\n",
        "plt.show()"
      ]
    },
    {
      "cell_type": "code",
      "execution_count": null,
      "metadata": {
        "colab": {
          "base_uri": "https://localhost:8080/",
          "height": 460
        },
        "id": "8cBymq8Oe-eg",
        "outputId": "a8550b16-5dd8-4521-91bc-29a89079dedf"
      },
      "outputs": [
        {
          "data": {
            "image/png": "[encoded data removed]",
            "text/plain": [
              "<Figure size 640x480 with 1 Axes>"
            ]
          },
          "metadata": {},
          "output_type": "display_data"
        }
      ],
      "source": [
        "Delta = 1.0 \n",
        "t = np.linspace(-2, 2, 1000) \n",
        "\n",
        "pulse = np.zeros(len(t))\n",
        "pulse[(t >= -Delta/2) & (t <= Delta/2)] = 1\n",
        "pulse[(t >= Delta/2) & (t <= 3*Delta/2)] = 0.8\n",
        "pulse[(t >= -3*Delta/2) & (t <= -Delta/2)] = 0.7\n",
        "\n",
        "plt.plot(t, pulse)\n",
        "plt.xlabel('t')\n",
        "plt.grid(True)\n",
        "\n",
        "xtick_locs = [-Delta/2, 0, Delta/2]\n",
        "xtick_labels = [r'$-\\frac{\\Delta}{2}$', '0', r'$\\frac{\\Delta}{2}$']\n",
        "plt.xticks(xtick_locs, xtick_labels)\n",
        "\n",
        "ytick_locs = [0, 1/Delta, 1]\n",
        "ytick_labels = ['0', r'$\\frac{1}{\\Delta}$', '1']\n",
        "plt.yticks(ytick_locs, ytick_labels)\n",
        "\n",
        "plt.show()"
      ]
    },
    {
      "cell_type": "markdown",
      "metadata": {
        "id": "bzM3Kv2GfVRk"
      },
      "source": [
        "$$\n",
        "\\begin{align}\n",
        "\\hat{x}(t)&=\\sum_{k=-\\infty}^{\\infty} x[k\\Delta]\\,\\delta_{\\Delta}(t-k\\Delta) \\Delta \\\\\n",
        "x(t)&=\\lim_{\\Delta \\to 0}\\,\\,\\hat{x}(t) \\\\\n",
        "x(t)&=\\int_{-\\infty}^{\\infty}x(\\tau)\\,\\delta(t-\\tau)\\,d\\tau \\\\\n",
        "x(t)&=x(t)*\\delta(t)\n",
        "\\end{align}\n",
        "$$"
      ]
    },
    {
      "cell_type": "markdown",
      "metadata": {
        "id": "cOyUQmcBh6hX"
      },
      "source": [
        "$$\n",
        "\\begin{align}\n",
        "\\delta_{\\Delta}(t)&\\to h_{\\Delta}(t) \\,\\,(Impulse Response)\\\\\n",
        "&\\Big\\downarrow\\,\\,\\, (\\because Time \\,\\,Invariance) \\\\\n",
        "\\delta_{\\Delta}(t-k\\Delta)&\\to h_{\\Delta}(t-k\\Delta) \\\\\n",
        "&\\Big\\downarrow\\,\\,\\, Scaling\\,(\\because Linearity) \\\\\n",
        "x(k\\Delta)\\delta_{\\Delta}(t-k\\Delta)&\\to x(k\\Delta)h_{\\Delta}(t-k\\Delta) \\\\\n",
        "&\\Big\\downarrow\\,\\,\\, Additivity\\,(\\because Linearity) \\\\\n",
        "\\sum_{k=-\\infty}^{\\infty} x[k\\Delta]\\,\\delta_{\\Delta}(t-k\\Delta) \\Delta&\\to\\sum_{k=-\\infty}^{\\infty} x[k\\Delta]\\,h_{\\Delta}(t-k\\Delta) \\Delta \\\\\n",
        "&\\Big\\downarrow \\\\\n",
        "\\lim_{\\Delta \\to 0}\\sum_{k=-\\infty}^{\\infty} x[k\\Delta]\\,\\delta_{\\Delta}(t-k\\Delta) \\Delta&\\to\\lim_{\\Delta \\to 0}\\sum_{k=-\\infty}^{\\infty} x[k\\Delta]\\,h_{\\Delta}(t-k\\Delta) \\Delta \\\\\n",
        "&\\Big\\downarrow \\\\\n",
        "x(t)&\\to\\int_{-\\infty}^{\\infty}x(\\tau)\\,h(t-\\tau)\\,d\\tau \\\\\n",
        "&Continuous\\,\\,Convolution\n",
        "\\end{align}\n",
        "$$"
      ]
    },
    {
      "cell_type": "markdown",
      "metadata": {
        "id": "X-0nJRjr7dPa"
      },
      "source": [
        "$$\n",
        "\\begin{align}\n",
        "&\\boxed{y(t)=x(t)*h(t)} \\\\\n",
        "&\\,\\,y(t)=\\int_{-\\infty}^{\\infty}x(\\tau)\\,h(t-\\tau)\\,d\\tau\n",
        "\\end{align}\n",
        "$$"
      ]
    },
    {
      "cell_type": "markdown",
      "metadata": {
        "id": "P7lvxugf9HVG"
      },
      "source": [
        "Example: \n",
        "$$\n",
        "\\begin{align}\n",
        "h(t)&=u(t) \\\\\n",
        "x(t)&=e^{-at}u(t)\n",
        "\\end{align}\n",
        "$$"
      ]
    },
    {
      "cell_type": "code",
      "execution_count": null,
      "metadata": {
        "colab": {
          "base_uri": "https://localhost:8080/",
          "height": 929
        },
        "id": "4wRZBgPV9nV7",
        "outputId": "6b47c562-2fbb-4a83-cc51-b46caecbd2d3"
      },
      "outputs": [
        {
          "data": {
            "image/png": "[encoded data removed]",
            "text/plain": [
              "<Figure size 640x480 with 1 Axes>"
            ]
          },
          "metadata": {},
          "output_type": "display_data"
        },
        {
          "data": {
            "image/png": "[encoded data removed]",
            "text/plain": [
              "<Figure size 640x480 with 1 Axes>"
            ]
          },
          "metadata": {},
          "output_type": "display_data"
        }
      ],
      "source": [
        "t = np.linspace(-10, 10, 1000)\n",
        "\n",
        "u = np.heaviside(t, 0.5)\n",
        "\n",
        "plt.plot(t, u)\n",
        "\n",
        "plt.xlabel('t')\n",
        "plt.ylabel('h(t)')\n",
        "plt.title('$h(t)$')\n",
        "\n",
        "plt.show()\n",
        "\n",
        "t = np.linspace(-5, 5, 1000)\n",
        "\n",
        "a = 1    \n",
        "y = np.exp(-a*t) * (t >= 0)\n",
        "\n",
        "plt.plot(t, y)\n",
        "\n",
        "plt.xlabel('t (s)')\n",
        "plt.ylabel('x(t)')\n",
        "plt.title('x(t)')\n",
        "\n",
        "plt.show()"
      ]
    },
    {
      "cell_type": "markdown",
      "metadata": {
        "id": "Th53YGQH-3cK"
      },
      "source": [
        "$$\n",
        "\\begin{align}\n",
        "y(t)&=x(t)*h(t) \\\\\n",
        "&=\\int_{-\\infty}^{\\infty}x(\\tau)\\,h(t-\\tau)\\,d\\tau\n",
        "\\end{align}\n",
        "$$"
      ]
    },
    {
      "cell_type": "code",
      "execution_count": null,
      "metadata": {
        "colab": {
          "base_uri": "https://localhost:8080/",
          "height": 449
        },
        "id": "b9dZo_XW_xx-",
        "outputId": "9927df3e-20ed-4af2-b537-a6d6c3704033"
      },
      "outputs": [
        {
          "data": {
            "image/png": "[encoded data removed]",
            "text/plain": [
              "<Figure size 640x480 with 1 Axes>"
            ]
          },
          "metadata": {},
          "output_type": "display_data"
        }
      ],
      "source": [
        "t = np.linspace(-1, 5, 1000)\n",
        "\n",
        "u = np.heaviside(2-t, 1)\n",
        "e = np.exp(-0.5*t)*np.heaviside(t, 1)\n",
        "\n",
        "fig, ax = plt.subplots()\n",
        "ax.plot(t, u, label=r'$u(t-\\tau)$')\n",
        "ax.plot(t, e, label=r'$e^{-at}u(t)$')\n",
        "ax.fill_between(t, e, where=(t <= 2), interpolate=True, color='red', alpha=0.5)\n",
        "\n",
        "ax.set_xlabel('$\\tau$')\n",
        "ax.set_ylabel('')\n",
        "ax.legend()\n",
        "\n",
        "plt.show()\n"
      ]
    },
    {
      "cell_type": "code",
      "execution_count": null,
      "metadata": {
        "colab": {
          "base_uri": "https://localhost:8080/",
          "height": 476
        },
        "id": "I1jM77TrBdyc",
        "outputId": "bbe6ae78-7460-4be4-dfe8-9a687498f9f9"
      },
      "outputs": [
        {
          "data": {
            "image/png": "[encoded data removed]",
            "text/plain": [
              "<Figure size 640x480 with 1 Axes>"
            ]
          },
          "metadata": {},
          "output_type": "display_data"
        }
      ],
      "source": [
        "t = np.linspace(-5, 5, 1000)\n",
        "\n",
        "a = 0.5  \n",
        "f = (1 - np.exp(-a*t))*np.heaviside(t, 1)\n",
        "\n",
        "fig, ax = plt.subplots()\n",
        "ax.plot(t, f)\n",
        "\n",
        "ax.set_xlabel('t')\n",
        "ax.set_ylabel('y(t)')\n",
        "ax.set_title(r'$1-e^{-at}u(t)$')\n",
        "\n",
        "plt.show()"
      ]
    },
    {
      "cell_type": "markdown",
      "metadata": {
        "id": "TRemxIoJCgYn"
      },
      "source": [
        "$$\n",
        "for \\,\\,t<0\\,,\\,y(t)=0 \\\\\n",
        "for \\,\\,t\\geq0\\,, \\\\\n",
        "\\begin{align}\n",
        "y(t)&=\\int_{0}^{\\infty}e^{-at}u(t)\\,dt \\\\\n",
        "&=\\left[\\frac{e^{-at}}{-a}\\right]_{0}^{t} \\\\\n",
        "&=\\left[\\frac{e^{-at}}{a}\\right]_{t}^{0} \\\\\n",
        "&=\\frac{1}{a}(1-e^{-at})\n",
        "\\end{align}\n",
        "$$"
      ]
    },
    {
      "cell_type": "markdown",
      "metadata": {
        "id": "XRJVygseEcJB"
      },
      "source": [
        "Example:\n",
        "\n"
      ]
    },
    {
      "cell_type": "code",
      "execution_count": null,
      "metadata": {
        "colab": {
          "base_uri": "https://localhost:8080/",
          "height": 927
        },
        "id": "2zoXOmmqE76X",
        "outputId": "2ccfcae7-3563-4435-f088-be0c5cd86bff"
      },
      "outputs": [
        {
          "data": {
            "image/png": "[encoded data removed]",
            "text/plain": [
              "<Figure size 640x480 with 1 Axes>"
            ]
          },
          "metadata": {},
          "output_type": "display_data"
        },
        {
          "data": {
            "image/png": "[encoded data removed]",
            "text/plain": [
              "<Figure size 640x480 with 1 Axes>"
            ]
          },
          "metadata": {},
          "output_type": "display_data"
        }
      ],
      "source": [
        "x = np.linspace(-3, 3, 1000)\n",
        "\n",
        "y = np.zeros_like(x)\n",
        "y[(x >= 0) & (x <= 1)] = 1\n",
        "\n",
        "plt.plot(x, y, linewidth=2)\n",
        "\n",
        "plt.xlabel('t')\n",
        "plt.ylabel('h(t)')\n",
        "plt.title('h(t)')\n",
        "\n",
        "plt.show()\n",
        "\n",
        "x = np.linspace(-3, 3, 1000)\n",
        "\n",
        "y = np.zeros_like(x)\n",
        "y[(x >= 0) & (x <= 2)] = 1\n",
        "\n",
        "plt.plot(x, y, linewidth=2)\n",
        "\n",
        "plt.xlabel('t')\n",
        "plt.ylabel('x(t)')\n",
        "plt.title('x(t)')\n",
        "\n",
        "plt.show()"
      ]
    },
    {
      "cell_type": "markdown",
      "metadata": {
        "id": "RrgcfKm6GWMr"
      },
      "source": [
        "By definition,\n",
        "\n",
        "$$\n",
        "\\begin{align}\n",
        "y(t)&=x(t)*h(t)\\\\\n",
        "y(t)&=\\int_{-\\infty}^{\\infty}x(\\tau)\\,h(t-\\tau)\\,d\\tau\n",
        "\\end{align}\n",
        "$$"
      ]
    },
    {
      "cell_type": "code",
      "execution_count": null,
      "metadata": {
        "colab": {
          "base_uri": "https://localhost:8080/",
          "height": 430
        },
        "id": "gTpXtRudGvk9",
        "outputId": "e0e8b53b-b50d-47cf-81f1-2ec4637e276f"
      },
      "outputs": [
        {
          "data": {
            "image/png": "[encoded data removed]",
            "text/plain": [
              "<Figure size 640x480 with 1 Axes>"
            ]
          },
          "metadata": {},
          "output_type": "display_data"
        }
      ],
      "source": [
        "x = np.array([0, 1, 2, 3])\n",
        "y = np.array([0, 1, 1, 0])\n",
        "\n",
        "plt.plot(x, y)\n",
        "plt.show()"
      ]
    },
    {
      "cell_type": "markdown",
      "metadata": {
        "id": "JC-_4PrMG7X5"
      },
      "source": [
        "## 2.3 Properties of Convolution"
      ]
    },
    {
      "cell_type": "markdown",
      "metadata": {
        "id": "YnlVuB_OHYzX"
      },
      "source": [
        "\\begin{align}\n",
        "x_1(t)*x_2(t)&=\\int_{-\\infty}^{\\infty}x_1(\\tau)\\,x_2(t-\\tau)\\,d\\tau \\\\\n",
        "x_1[n]*x_2[n]&=\\sum_{k=-\\infty}^{\\infty}x_1[k]\\,x_2[n-k]\n",
        "\\end{align}"
      ]
    },
    {
      "cell_type": "markdown",
      "metadata": {
        "id": "KIjbSG4DIQQX"
      },
      "source": [
        "01) \n",
        "\\begin{align}\n",
        "x(t)&=x(t)*\\delta(t)=\\int_{-\\infty}^{\\infty}x(\\tau)\\,\\delta(t-\\tau)\\,d\\tau \\\\\n",
        "x[n]&=x[n]*\\delta[n]=\\sum_{k=-\\infty}^{\\infty}x[k]\\,\\delta[n-k]\n",
        "\\end{align}"
      ]
    },
    {
      "cell_type": "markdown",
      "metadata": {
        "id": "86aB8PY4JcOa"
      },
      "source": [
        "Proof:\n",
        "\n",
        "\\begin{align}\n",
        "x(t)*\\delta(t)&=x(t) \\\\\n",
        "&=\\int_{-\\infty}^{\\infty}x(\\tau)\\,\\delta(t-\\tau)\\,d\\tau \\\\\n",
        "\\end{align}"
      ]
    },
    {
      "cell_type": "code",
      "execution_count": null,
      "metadata": {
        "id": "678K8yTJKt8c"
      },
      "outputs": [],
      "source": [
        "#Plots"
      ]
    },
    {
      "cell_type": "markdown",
      "metadata": {
        "id": "OJGAPMBmKx8Q"
      },
      "source": [
        "\\begin{align}\n",
        "x(t)*\\delta(t)&=\\int_{-\\infty}^{\\infty}x(t)\\,\\delta(t-\\tau)\\,d\\tau \\\\\n",
        "&=x(t)\\,\\int_{-\\infty}^{\\infty}\\delta(t-\\tau)\\,d\\tau \\leftarrow Area = 1 \\\\\n",
        "&=x(t)\\times1 \\\\\n",
        "&=x(t) \\\\\n",
        "\\therefore x(t)*\\delta(t)&=x(t) \n",
        "\\end{align}"
      ]
    },
    {
      "cell_type": "markdown",
      "metadata": {
        "id": "r0p-9FouMkDw"
      },
      "source": [
        "02)\n",
        "\\begin{align}\n",
        "x(t)*\\delta(t-T)&=x(t-T) \\\\\n",
        "x[n]*\\delta[n-N]&=x(n-N) \\\\\n",
        "\\end{align}"
      ]
    },
    {
      "cell_type": "markdown",
      "metadata": {
        "id": "NNWVGIU3NU_d"
      },
      "source": [
        "Proof:\n",
        "\n",
        "\\begin{align}\n",
        "x(t)*\\delta(t-T)&=x(t-T) \\\\\n",
        "x(t)*\\delta(t-T)&=\\int_{-\\infty}^{\\infty}x(\\tau)\\,\\delta(t-T-\\tau)\\,d\\tau \\\\\n",
        "\\end{align}"
      ]
    },
    {
      "cell_type": "code",
      "execution_count": null,
      "metadata": {
        "id": "MgTUzKhVOTPW"
      },
      "outputs": [],
      "source": [
        "#Plot"
      ]
    },
    {
      "cell_type": "markdown",
      "metadata": {
        "id": "R7r7YDwCOUaA"
      },
      "source": [
        "\\begin{align}\n",
        "x(t)*\\delta(t-T)&=\\int_{-\\infty}^{\\infty}x(t-T)\\,\\delta(t-T-\\tau)\\,d\\tau \\\\\n",
        "&=x(t-T)\\int_{-\\infty}^{\\infty}\\delta(t-T-\\tau)\\,d\\tau \\leftarrow Area=1\\\\\n",
        "&=x(t-T) \\\\\n",
        "\\therefore x(t)*\\delta(t-T)&=x(t-T)\n",
        "\\end{align}"
      ]
    },
    {
      "cell_type": "markdown",
      "metadata": {
        "id": "0MYLw32FPLpk"
      },
      "source": [
        "03) Commutativity \\\\\n",
        "Consider the discrete case:\n",
        "\n",
        "\\begin{align}\n",
        "x_1[n]*x_2[n]&=\\sum_{k=-\\infty}^{\\infty}x_1[k]\\,x_2[n-k] \\\\\n",
        "let \\,\\,m&=n-k\\\\\n",
        "k&=n-m \\\\\n",
        "when \\,\\,k&\\to-\\infty\\,\\,;m\\to\\infty \\\\\n",
        "\\,\\,k&\\to\\infty\\,\\,;m\\to-\\infty \\\\\n",
        "x_1[n]*x_2[n]&=\\sum_{m=\\infty}^{-\\infty}x_1[n-m]\\,x_2[m] \\\\\n",
        "&=\\sum_{m=-\\infty}^{\\infty}x_2[m]\\,x_1[n-m] \\\\\n",
        "x_1[n]*x_2[n]&=x_2[n]*x_1[n] \\\\\n",
        "\\therefore Discrete\\,\\,convol&ution\\,\\,is\\,\\,commutative.\n",
        "\\end{align}\n",
        "\n",
        "Consider the continuous case:\n",
        "\n",
        "\\begin{align}\n",
        "x_1(t)*x_2(t)&=\\int_{-\\infty}^{\\infty}x_1(\\tau)\\,x_2(t-\\tau)\\,d\\tau \\\\\n",
        "let \\,\\,T&=t-\\tau\\\\\n",
        "dT&=-d\\tau \\\\\n",
        "when \\,\\,\\tau&\\to-\\infty\\,\\,;T\\to\\infty \\\\\n",
        "\\,\\,\\tau&\\to\\infty\\,\\,;T\\to-\\infty \\\\\n",
        "x_1(t)*x_2(t)&=\\int_{m=\\infty}^{-\\infty}x_1(t-T)\\,x_2(T)\\,(-dT) \\\\\n",
        "&=\\int_{-\\infty}^{\\infty}x_2(T)\\,x_1(t-T)\\,dT \\\\\n",
        "x_1(t)*x_2(t)&=x_2(t)*x_1(t)\\\\\n",
        "\\therefore Continuous\\,\\,convol&ution\\,\\,is\\,\\,commutative.\n",
        "\\end{align}"
      ]
    },
    {
      "cell_type": "markdown",
      "metadata": {
        "id": "v0ii0QVegBkC"
      },
      "source": [
        "04) Distributivity\n",
        "\n",
        "$$\n",
        "a) \\,\\,x_1(t)*[x_2(t)+x_3(t)]=x_1(t)*x_2(t)*x_3(t)\\\\\n",
        "$$"
      ]
    },
    {
      "cell_type": "code",
      "execution_count": null,
      "metadata": {
        "id": "GfPKYH5QgfZu"
      },
      "outputs": [],
      "source": [
        "#Diagram"
      ]
    },
    {
      "cell_type": "markdown",
      "metadata": {
        "id": "zYvT-Eejgh_w"
      },
      "source": [
        "\\begin{align}\n",
        "y(t)&=x(t)*h_1(t)+x(t)*h_2(t)\\\\\n",
        "y(t)&=x(t)*[h_1(t)+h_2(t)]\\\\\n",
        "\\end{align}"
      ]
    },
    {
      "cell_type": "markdown",
      "metadata": {
        "id": "HbRM264YhOWB"
      },
      "source": [
        "$$\n",
        "b)\\,\\,x_1(t)*[x_2(t)*x_3(t)]=[x_1(t)*x_2(t)]*x_3(t)\n",
        "$$"
      ]
    },
    {
      "cell_type": "code",
      "execution_count": null,
      "metadata": {
        "id": "-TlSLpQxhkeA"
      },
      "outputs": [],
      "source": [
        "#Diagram"
      ]
    },
    {
      "cell_type": "markdown",
      "metadata": {
        "id": "K3DLW7JyhmuQ"
      },
      "source": [
        "\\begin{align}\n",
        "y(t)&=[x(t)*h_1(t)]*h_2(t)\\\\\n",
        "y(t)&=x(t)*[h_1(t)*h_2(t)]\n",
        "\\end{align}"
      ]
    },
    {
      "cell_type": "markdown",
      "metadata": {
        "id": "95JreOCziCWG"
      },
      "source": [
        "Special case: If #2 is the inverse of #1 ;\n",
        "\n",
        "\\begin{align}\n",
        "y(t)&=x(t) \\\\\n",
        "x(t)&=x(t)*\\{h_1(t)*h_2(t)\\}\\\\\n",
        "\\therefore h_1(t)*h_2(t)&=\\delta(t)\\\\\n",
        "\\end{align}"
      ]
    },
    {
      "cell_type": "markdown",
      "metadata": {
        "id": "1YW_8V9bWJRn"
      },
      "source": [
        "\\begin{align}\n",
        "&\\,\\,\\,\\,\\,\\,\\,\\,\\,\\,\\,\\,\\,\\,\\,\\,\\,\\,\\,\\,\\,\\,\\,\\, \\text{Signal} \\,\\,\\,\\,\\,\\,\\,\\,\\,\\,\\,\\,\\,\\,\\,\\,\\,\\,\\,\\,\\,\\,\\,\\,\\,\\,\\,\\,\\,\\,\\,\\,\\,\\,\\,\\,\\,\\,\\,\\,\\,\\,\\,\\, \\text{Physical Property} \\\\\n",
        "\\\\\n",
        "        \\left.\n",
        "        \\begin{array}{cl}\n",
        "        \\text{Direct outcome} \\\\\n",
        "        \\text{of a physical} \\\\\n",
        "        \\text{process}\n",
        "        \\end{array}\n",
        "        \\right\\{&\n",
        "        \\begin{array}{cl}\n",
        "        \\text{Speech} \\\\\n",
        "        \\text{Current through a wire} \\\\\n",
        "        \\text{Light}\n",
        "        \\end{array}\n",
        "        \\,\\,\\,\\,\\,\\,\\,\\,\\,\\,\\,\\,\\,\n",
        "        \\begin{array}{cl}\n",
        "        \\text{Air pressure} \\\\\n",
        "        \\text{Current} \\\\\n",
        "        \\text{Electromagnetic field}\n",
        "        \\end{array}\n",
        "        \\\\\n",
        "        \\\\\n",
        "        \\\\\n",
        "        \\left.\n",
        "        \\begin{array}{cl}\n",
        "        \\text{Information} \\\\\n",
        "        \\text{extracted from a} \\\\\n",
        "        \\text{physical process}\n",
        "        \\end{array}\n",
        "        \\right\\{&\n",
        "        \\begin{array}{cl}\n",
        "        \\text{Daily rainfall over a time} \\\\\n",
        "        \\text{Averahe daily temperature} \\\\\n",
        "        \\text{Daily light hours per day}\n",
        "        \\end{array}\n",
        "\\end{align}"
      ]
    },
    {
      "cell_type": "markdown",
      "metadata": {
        "id": "zxKcI_pYgA2O"
      },
      "source": [
        "* For any signal, independent variable is time.\n",
        "* Dependent variable can be number of physical parameters.\n",
        "\n",
        " Ex :- Voltage, Current, Electric field, etc.\n",
        "\n",
        "* A system is an interconection of components, devices, subsystems. "
      ]
    },
    {
      "cell_type": "markdown",
      "metadata": {
        "id": "xKM3aDVxhBQf"
      },
      "source": []
    },
    {
      "cell_type": "markdown",
      "metadata": {
        "id": "PApgCMQghB-9"
      },
      "source": [
        "* Transducer converts one physical parameter to another."
      ]
    },
    {
      "cell_type": "markdown",
      "metadata": {
        "id": "ZLvffInOhLxF"
      },
      "source": []
    },
    {
      "cell_type": "markdown",
      "metadata": {
        "id": "FYyGi1EzhMKN"
      },
      "source": [
        "* Signals and systems interact to give a productive outcome."
      ]
    },
    {
      "cell_type": "markdown",
      "metadata": {
        "id": "zNNMTBX-it-k"
      },
      "source": [
        "##1.1 Classification of Signals"
      ]
    },
    {
      "cell_type": "markdown",
      "metadata": {
        "id": "5dZDru6Ji0uU"
      },
      "source": [
        "###1.1.1 Continuous and Descrete time signals"
      ]
    },
    {
      "cell_type": "markdown",
      "metadata": {
        "id": "wp6ThlBzjHQb"
      },
      "source": [
        "* A continuous time signal is defined for all instances of time.\n",
        "\n",
        " Example :- $A sin\\ \\omega t$ , $A\\mathrm{e}^{j \\omega t}$\n",
        "* A discrete time signal is defined for certian instances of time. The time difference between those time instances need not be equal.\n",
        "\n",
        "\\begin{align}\n",
        "x(t)=A\\,cos(\\omega t) \\ ; \\ t \\ge 0\n",
        "\\end{align}"
      ]
    },
    {
      "cell_type": "code",
      "execution_count": null,
      "metadata": {
        "id": "gNKhJV-8pEs4"
      },
      "outputs": [],
      "source": [
        "# cos graph plot"
      ]
    },
    {
      "cell_type": "markdown",
      "metadata": {
        "id": "pCH6KWwUpFJo"
      },
      "source": [
        "$\\omega = 2 \\pi f$\n",
        "\n",
        "$f = \\frac{1}{T}$\n",
        "\n",
        "$\\omega = \\frac{2 \\pi}{T}$\n",
        "\n",
        "\n",
        "\n",
        "$x(t)=A\\cos(\\frac{2 \\pi t}{T})$\n",
        "\n",
        "We measure $x(t)$ at every $\\frac{T}{10}$ \n",
        "\n",
        "$\\text{t = 0},\\ \\frac{T}{10},\\ \\frac{2T}{10},\\ ... \\ , \\frac{aT}{10}$\n",
        "\n",
        "\n",
        "\n",
        "\\begin{align}\n",
        "        \\left.\n",
        "        \\begin{array}{cl}\n",
        "        x(0) \\ \\ = &A\\cos(0)  \\ \\ \\ \\ = x\\ [\\ 0\\ ] \\\\\n",
        "        x(\\frac{T}{10}) = &A\\cos(\\frac{2\\pi}{10}) \\ \\ = x\\ [\\ 1\\ ] \\\\\n",
        "        x(\\frac{2T}{10}) = &A\\cos(\\frac{2\\pi.2}{10}) = x\\ [\\ 2\\ ] \\\\\n",
        "        . & \\ \\ \\ \\ \\ \\ . \\\\\n",
        "        . & \\ \\ \\ \\ \\ \\ . \\\\\n",
        "        . & \\ \\ \\ \\ \\ \\ . \\\\\n",
        "        x(\\frac{aT}{10}) = &A\\cos(\\frac{2\\pi.a}{10}) = x\\ [\\ a\\ ]\n",
        "        \\end{array}\n",
        "        \\right\\} \\text{Discrete time signal}\n",
        "    \\end{align}"
      ]
    },
    {
      "cell_type": "code",
      "execution_count": null,
      "metadata": {
        "id": "24Dx9VYnzHnQ"
      },
      "outputs": [],
      "source": [
        "# x[n] plot"
      ]
    },
    {
      "cell_type": "markdown",
      "metadata": {
        "id": "0VD1Ao_RzKz-"
      },
      "source": [
        "* By selecting values of a continuous time signal at discrete time instance (sampling) a discrete time signal can be generated.\n",
        "* Time series data comes as discrete time signals."
      ]
    },
    {
      "cell_type": "markdown",
      "metadata": {
        "id": "npkpur-Rz53t"
      },
      "source": [
        "###1.1.2 Continuos and Descrete valued signals"
      ]
    },
    {
      "cell_type": "markdown",
      "metadata": {
        "id": "Rpcb47aC0IKF"
      },
      "source": [
        "* A continuous valued signal can take any value within a given range.\n",
        "\n",
        "\\begin{align}\n",
        "\\text{Ex :-}\\ \\  & x(t) = A\\sin(\\omega t) \\ \\ \\in [-A, A] \\\\\n",
        "& f(t) \\in [\\ a, b\\ ] \\ \\ \\ \\ \\  ; \\ \\ a,b \\in (-\\infty, \\infty)\n",
        "\\end{align}\n",
        "\n",
        "* Discrete valued signal is a signal that takes values from a finite set. "
      ]
    },
    {
      "cell_type": "code",
      "execution_count": null,
      "metadata": {
        "id": "IHJ4_zKs2Ye9"
      },
      "outputs": [],
      "source": [
        "# CV and DV graphs"
      ]
    },
    {
      "cell_type": "markdown",
      "metadata": {
        "id": "k0DN7DQJ24Hk"
      },
      "source": [
        "###1.1.3 Deterministic and Random Signals"
      ]
    },
    {
      "cell_type": "markdown",
      "metadata": {
        "id": "3IvDlxCB281L"
      },
      "source": [
        "* Deterministic signals can be uniquely expressed by an explicit mathematical expression.\n",
        "\\begin{align}\n",
        "\\text{Ex :- } x(t) \\ = \\ A\\sin(\\omega t)\n",
        "\\end{align}\n",
        "* Random signal is a signal that cannot be expressed to any reasonable degree of accuracy using explicit equation.\n",
        "* Probability and random variables are used to analyse random signals."
      ]
    },
    {
      "cell_type": "markdown",
      "metadata": {
        "id": "QyOQR1fM4yJK"
      },
      "source": [
        "###1.1.4 Energy and Power signals"
      ]
    },
    {
      "cell_type": "markdown",
      "metadata": {
        "id": "3EkeOUlm44If"
      },
      "source": []
    },
    {
      "cell_type": "code",
      "execution_count": null,
      "metadata": {
        "id": "IYeiDF505Gfq"
      },
      "outputs": [],
      "source": [
        "# Graph"
      ]
    },
    {
      "cell_type": "markdown",
      "metadata": {
        "id": "TM7iJ9nV5DYi"
      },
      "source": [
        "\\begin{align}\n",
        "E_{t_{1},t_{2}} &= \\int_{t_{1}}^{t_{2}} P(t) \\,dt \\\\\n",
        "P_{t_{1}\\, , \\ t_{2} \\ \\text{average}} &= \\frac{1}{t_{2}\\, - \\, t_{1}} \\, \\int_{t_{1}}^{t_{2}} P(t) \\,dt\n",
        "\\end{align}\n",
        "\n",
        "$\\star$ Total energy of a signal,\n",
        "\n",
        "Let $R=1,$\n",
        "\\begin{align}\n",
        "E_{t_{1},t_{2}} &= \\int_{t_{1}}^{t_{2}} P(t) \\,dt \\\\\n",
        "                &= \\int_{t_{1}}^{t_{2}} i^{2}(t) \\,dt \\\\\n",
        "                &= \\int_{t_{1}}^{t_{2}} \\,|i(t)|^{2} \\,dt \\\\\n",
        "                \\\\\n",
        "E_{\\,\\infty} &\\triangleq \\lim_{T\\to\\infty} \\int_{-T}^{T} \\,|i(t)|^{2} \\,dt \\\\\n",
        "             &= \\int_{-\\infty}^{\\infty} \\,|i(t)|^{2} \\,dt \\\\\n",
        "             \\\\\n",
        "E_{\\,\\infty} &\\triangleq \\lim_{T\\to\\infty} \\int_{-T}^{T} \\,|x(t)|^{2} \\,dt             \n",
        "\\end{align}"
      ]
    },
    {
      "cell_type": "markdown",
      "metadata": {
        "id": "tBFmjhuobw1W"
      },
      "source": [
        "* A signal is an energy signal if it has finite energy.\n",
        "\\begin{align}\n",
        "\\int_{-\\infty}^{\\infty} \\,|x(t)|^{2} \\,dt \\le \\text{C ;  C - finite constant}\n",
        "\\end{align}\n",
        "for a complex signal,\n",
        "\\begin{align}\n",
        "|x(t)|^{2} \\,=\\, x(t).x^{*}(t)\n",
        "\\end{align}"
      ]
    },
    {
      "cell_type": "code",
      "execution_count": null,
      "metadata": {
        "id": "XGJwxtmzdPg3"
      },
      "outputs": [],
      "source": [
        "# Example"
      ]
    },
    {
      "cell_type": "markdown",
      "metadata": {
        "id": "bKJlbkXfdRYY"
      },
      "source": [
        "\\begin{align}\n",
        "x(t)\\,=\\, \\left\\{\n",
        "  \\begin{array}{cl}\n",
        "  0  &; \\,\\, t < -T \\\\\n",
        "  \\frac{t}{T} + 1 &; \\,\\, -T \\le t < 0 \\\\\n",
        "  \\frac{-t}{T} + 1 &; \\,\\, 0 \\le t < T \\\\\n",
        "  0  &; \\,\\, t > T \n",
        "  \\end{array}\n",
        "  \\right.\\,\\,\\,\\,= \\, \\left\\{\n",
        "    \\begin{array}{cl}\n",
        "    0  &; \\,\\, |\\,t\\,| > T \\\\\n",
        "    [\\,1 - \\frac{|\\,t\\,|}{T}\\,] &; \\,\\, |\\,t\\,| \\le T\n",
        "    \\end{array}\n",
        "  \\right.\n",
        "\\end{align}\n",
        "\n",
        "\\begin{align}\n",
        "E_{\\,\\infty} &= \\int_{-\\infty}^{\\infty} \\,|x(t)|^{2} \\,dt \\\\\n",
        "             &= \\int_{-T}^{T} \\,|x(t)|^{2} \\,dt \\\\\n",
        "             &= \\int_{-T}^{0} \\,\\left(\\frac{t}{T} + 1\\right)^{2} \\,\\,dt \\,\\,+\\, \\int_{0}^{T} \\,\\left(\\frac{-t}{T} + 1\\right)^{2} \\,\\,dt \\\\\n",
        "             &= \\int_{-T}^{0} \\,\\left\\{(\\frac{t}{T})^{2}+ \\frac{2t}{T} + 1\\right\\} \\,\\,dt \\,\\,+\\, \\int_{0}^{T} \\,\\left\\{(\\frac{t}{T})^{2}- \\frac{2t}{T} + 1\\right\\} \\,\\,dt \\\\\n",
        "             &= \\left[ \\frac{t^3}{3T^2} + \\frac{t^2}{T} + t\\right]_{-T}^{0} \\,\\, + \\,\\, \\left[ \\frac{t^3}{3T^2} - \\frac{t^2}{T} + t\\right]_{0}^{T} \\\\\n",
        "             &= -\\left( \\frac{-T}{3} + T - T \\right) + \\left( \\frac{T}{3} - T + T \\right) \\\\\n",
        "             &= \\frac{2T}{3}\n",
        "\\end{align}\n",
        "\n",
        "Energy signal has finite support.\n",
        "\n",
        "$\\therefore\\,\\,$ This is a energy signal.",
        "For continuous time signals,\n",
        "\\begin{align}\n",
        "E \\,\\,\\triangleq \\lim_{T\\to\\infty} \\int_{-T}^{T} \\,|\\,x(t)\\,|^{2} \\,dt\n",
        "\\end{align}\n",
        "For discrete time signals,\n",
        "\\begin{align}\n",
        "E \\,\\,&\\triangleq \\lim_{N\\to\\infty} \\sum_{n=-N}^{N} |\\,x[n]\\,|^{2} \\\\\n",
        "&= \\sum_{n=-\\infty}^{\\infty} |\\,x[n]\\,|^{2}\n",
        "\\end{align}\n",
        "For continuous time signals,\n",
        "\\begin{align}\n",
        "P_{average} \\,\\,\\triangleq \\lim_{T\\to\\infty} \\frac{1}{2T} \\int_{-T}^{T} \\,|\\,x(t)\\,|^{2} \\,dt\n",
        "\\end{align}\n",
        "For discrete time signals,\n",
        "\\begin{align}\n",
        "P_{average} \\,\\,\\triangleq \\lim_{N\\to\\infty} \\frac{1}{2N} \\sum_{n=-N}^{N} |\\,x[n]\\,|^{2}\n",
        "\\end{align}\n",
        "* A signal with a finite power is called a power signal.\n",
        "* An energy signal has zero average power.\n",
        "* A power signal has infinite energy."
      ]
    },
    {
      "cell_type": "markdown",
      "source": [
        "\\begin{align}\n",
        "  \\\\\n",
        "  x(t) &= A\\:sin(\\omega t)\\\\\n",
        "  \\\\\n",
        "  P_{avg} &= \\lim_{T\\to\\infty} \\frac{1}{2\\,T}\\int_{-T}^{T} |x(t)|^2 \\,dt \\\\\n",
        "  &= \\lim_{T\\to\\infty} \\frac{1}{2\\,T}\\int_{-T}^{T} A^2\\:sin^2(\\omega t) \\,dt\\\\\n",
        "  \\\\\n",
        "  e^{\\: j \\omega t} &= cos(\\omega t) + j\\: sin(\\omega t)\\\\\n",
        "  e^{-j \\omega t} &= cos(\\omega t) - j\\: sin(\\omega t)\\\\\n",
        "  \\\\\n",
        "  e^{\\: j \\omega t} - e^{-j \\omega t} &= 2j\\: sin(\\omega t)\\\\\n",
        "  \\\\\n",
        "  sin(\\omega t) &= \\frac{1}{2j}\\:  (e^{\\: j \\omega t} - e^{-j \\omega t})\\\\\n",
        "  \\\\\n",
        "  \\\\\n",
        "\\end{align}\n",
        "\n",
        "\\begin{align}\n",
        "  x(t) &= A\\: sin(\\omega t)\\\\\n",
        "  \\\\\n",
        "  x(t) &= \\frac{A}{2j}\\: (e^{\\: j \\omega t} - e^{-j \\omega t}) &x^*(t) = [\\: \\frac{A}{2}\\: (\\: j\\: e^{-j \\omega t} - j\\: e^{\\: j \\omega t})\\: ]^*\\\\\n",
        "  \\\\\n",
        "  x(t) &= \\frac{A}{2}\\: (\\: j\\: e^{-j \\omega t} - j\\: e^{\\: j \\omega t}) &x^*(t) = \\frac{A}{2}\\: (\\: j\\: e^{-j \\omega t} - j\\: e^{\\: j \\omega t})\\\\\n",
        "\\end{align}"
      ],
      "metadata": {
        "id": "gmZDQjOkIG1W"
      }
    },
    {
      "cell_type": "markdown",
      "source": [
        "###1.1.5 Odd and Even Signals"
      ],
    "metadata": {
        "id": "UxIGB1Vd1YeM"
      }
    },
    {
      "cell_type": "markdown",
      "metadata": {
        "id": "UxIGB1Vd1YeM"
      },
      "source": [
        "$x(t) = A\\,sin(\\omega t),$\n",
        "\n",
        "Method $\\text{I},$\n",
        "\\begin{align}\n",
        "P_{avg} \\,\\,&= \\,\\, \\lim_{T\\to\\infty} \\frac{1}{2T} \\int_{-T}^{T} \\,|\\,x(t)\\,|^{2} \\,dt \\\\\n",
        "\\,\\,&= \\,\\, \\lim_{T\\to\\infty} \\frac{1}{2T} \\int_{-T}^{T} \\,A^{2} \\, sin^{2} \\omega t \\,dt \\\\\n",
        "\\,\\,&= \\,\\, \\lim_{T\\to\\infty} \\frac{1}{2T} \\int_{-T}^{T} \\,\\frac{A^{2}}{2} \\, (\\,1-cos\\, 2 \\omega t\\,) \\,dt \\\\\n",
        "\\,\\,&= \\,\\, \\lim_{T\\to\\infty} \\frac{1}{2T} \\times \\frac{A^{2}}{2} \\, \\left[ \\,\\int_{-T}^{T} \\, dt\\,\\, - \\,\\int_{-T}^{T} cos \\,2 \\omega t \\,dt \\right] \\\\\n",
        "\\,\\,&= \\,\\, \\lim_{T\\to\\infty} \\frac{A^{2}}{4T} \\, \\left[ \\,\\left. t\\,\\right|_{-T}^{T} \\,\\, - \\,\\left. \\frac{sin\\,2 \\omega t}{2 \\omega} \\,\\right|_{-T}^{T} \\,\\, \\right] \\\\\n",
        "\\,\\,&= \\,\\, \\lim_{T\\to\\infty} \\frac{A^{2}}{4T} \\, \\left[ \\,2T \\,\\, - \\, \\frac{sin\\,2 \\omega T - sin\\,2 \\omega T}{2 \\omega} \\,\\, \\right] \\\\\n",
        "\\,\\,&= \\,\\, \\lim_{T\\to\\infty} \\frac{A^{2}}{2} \\\\\n",
        "&= \\frac{A^{2}}{2} \n",
        "\\end{align}\n",
        "\n",
        "Method $\\text{II},$\n",
        "\n",
        "$x(t) = A\\,sin(\\omega t)$\n",
        "\n",
        "$x(t) = \\frac{A}{2}\\left(\\, j\\,\\mathrm{e}^{-j \\omega t} - j\\,\\mathrm{e}^{j \\omega t} \\,\\right)$\n",
        "\n",
        "$x^{*}(t) = \\frac{A}{2}\\left(\\, j\\,\\mathrm{e}^{-j \\omega t} - j\\,\\mathrm{e}^{j \\omega t} \\,\\right)\\,\\,\\,\\,\\,\\,\\text{Since }x(t)\\text{ is real.}$\n",
        "\n",
        "\\begin{align}\n",
        "|\\,x(t)\\,|^{2} &= x(t) \\times x^{*}(t) \\\\\n",
        "&= \\frac{A}{2} j \\left(\\,\\mathrm{e}^{-j \\omega t} - \\,\\mathrm{e}^{j \\omega t} \\,\\right) \\times \\frac{A}{2} j \\left(\\,\\mathrm{e}^{-j \\omega t} -\\,\\mathrm{e}^{j \\omega t} \\,\\right) \\\\\n",
        "&= \\frac{-A^{2}}{4} \\left(\\,\\mathrm{e}^{2j \\omega t} \\,+\\, \\mathrm{e}^{-2j \\omega t} \\,-\\, 2 \\,\\right)\n",
        "\\end{align}\n",
        "\n",
        "\n",
        "$ $\n",
        "\n",
        "\\begin{align}\n",
        "P_{avg} \\,\\,&= \\,\\, \\lim_{T\\to\\infty} \\frac{1}{2T} \\int_{-T}^{T} \\,|\\,x(t)\\,|^{2} \\,dt \\\\\n",
        "&= \\,\\, \\lim_{T\\to\\infty} \\frac{1}{2T} \\int_{-T}^{T} \\,\\frac{-A^{2}}{4} \\left(\\, \\mathrm{e}^{2j \\omega t} \\,+\\, \\mathrm{e}^{-2j \\omega t} \\,-\\, 2 \\,\\right) \\,dt \\\\\n",
        "&= \\,\\, \\lim_{T\\to\\infty} \\frac{-A^{2}}{8T} \\left[ \\,\\,\\int_{-T}^{T} \\, \\mathrm{e}^{2j \\omega t}\\,\\, dt \\,+\\, \\int_{-T}^{T} \\, \\mathrm{e}^{-2j \\omega t}\\,\\, dt \\,-\\, \\int_{-T}^{T} 2 \\, \\,dt \\right] \\\\\n",
        "&= \\,\\, \\lim_{T\\to\\infty} \\frac{-A^{2}}{8T} \\left[ \\,\\, \\left. \\frac{\\mathrm{e}^{2j \\omega t}}{2j \\omega}\\,\\, \\right|_{-T}^{T} \\,+\\,\\, \\left. \\frac{\\mathrm{e}^{-2j \\omega t}}{-2j \\omega}\\,\\, \\right|_{-T}^{T}\\,\\,-\\, \\left. 2 t \\, \\,\\right|_{-T}^{T} \\right] \\\\\n",
        "&= \\,\\, \\lim_{T\\to\\infty} \\frac{-A^{2}}{8T} \\left[ \\,\\, \\frac{\\mathrm{e}^{2j \\omega T}-\\mathrm{e}^{-2j \\omega T}}{2j \\omega}\\,\\,-\\,\\, \\frac{\\mathrm{e}^{-2j \\omega T}-\\mathrm{e}^{2j \\omega T}}{2j \\omega}\\,\\,-\\, 4T \\, \\, \\right] \\\\\n",
        "&= \\,\\, \\lim_{T\\to\\infty} \\frac{-A^{2}}{8T} \\left[ \\,\\, \\frac{\\mathrm{e}^{2j \\omega T}-\\mathrm{e}^{-2j \\omega T}}{j \\omega}\\,-\\, 4T \\, \\, \\right] \\\\\n",
        "& \\text{since} \\,\\,\\,\\omega T \\, = \\, 2\\pi, \\\\\n",
        "&= \\,\\, \\lim_{T\\to\\infty} \\frac{-A^{2}}{8T} \\left[ \\,\\, \\frac{\\mathrm{e}^{4\\pi j}-\\mathrm{e}^{-4\\pi j}}{j \\omega}\\,-\\, 4T \\, \\, \\right] \\\\\n",
        "& \\text{since} \\,\\,\\,\\mathrm{e}^{4\\pi j} \\, = \\, 1\\,\\, \\text{and}\\,\\, \\mathrm{e}^{-4\\pi j} \\, = \\, 1, \\\\\n",
        "&= \\,\\, \\lim_{T\\to\\infty} \\frac{-A^{2}}{8T} \\,\\, \\times \\,\\, -4T \\\\\n",
        "&= \\,\\, \\lim_{T\\to\\infty} \\frac{A^{2}}{2} \\\\\n",
        "&= \\frac{A^{2}}{2}\n",
        "\\end{align}"
      ]
    },
    {
      "cell_type": "markdown",
      "metadata": {
        "id": "PJJl8kfn5ix6"
      },
      "source": [
        "###1.1.5 Odd and Even signals"
      ]
    },
    {
      "cell_type": "markdown",
      "metadata": {
        "id": "aHpRkm3K9Py1"
      },
      "source": []
    },
    {
      "cell_type": "markdown",
      "metadata": {
        "id": "xtCtOUBGKgpF"
      },
      "source": [
        "////////// Add a photo of even signal //////////"
      ]
    },
    {
      "cell_type": "markdown",
      "metadata": {
        "id": "hj3duJFTK8I9"
      },
      "source": [
        "* Odd signals dosen't remain identical under folding operation.\n",
        "\\begin{align}\n",
        "x(t) = -x(-t)\n",
        "\\end{align}"
      ]
    },
    {
      "cell_type": "markdown",
      "metadata": {
        "id": "NWgTgkn1La78"
      },
      "source": [
        "////////// Add a photo of odd signal //////////"
      ]
    },
    {
      "cell_type": "markdown",
      "metadata": {
        "id": "kkNF5-dCLc9N"
      },
      "source": [
        "* Any continuous time signal can be represented as a sum of odd and even components.\n",
        "\n",
        "Let,\n",
        "\\begin{align}\n",
        "x(t) &= E(t) + O(t) \\longrightarrow (1) \\\\\n",
        "\\\\\n",
        "t &= -t \\\\\n",
        "x(-t) &= E(-t) + O(-t) \\\\\n",
        "x(-t) &= E(t) - O(t) \\longrightarrow (2) \\\\\n",
        "\\\\\n",
        "\\text{consider (1) + (2),} \\\\\n",
        "E(t) &= \\frac{x(t) + x(-t)}{2} \\\\\n",
        "\\text{consider (1) - (2),} \\\\\n",
        "O(t) &= \\frac{x(t) - x(-t)}{2} \\\\\n",
        "\\end{align}"
      ]
    },
    {
      "cell_type": "markdown",
      "metadata": {
        "id": "nijwXjhEUU7v"
      },
      "source": [
        "Example :\n",
        "\\begin{align}\n",
        "x(t) =\\left\\{\n",
        "    \\begin{array}{cl}\n",
        "    0  &; \\,\\, |\\,t\\,| > 1 \\\\\n",
        "    \\frac{t + 1}{T}\\, &; \\,\\, |\\,t\\,| \\le 1\n",
        "    \\end{array}\n",
        "  \\right.\n",
        "\\end{align}\n",
        "When $\\,|\\,t\\,| \\le 1,$\n",
        "\\begin{align}\n",
        "x(t) &= \\frac{t+1}{2}\\\\\n",
        "\\\\\n",
        "E(t) &= \\frac{x(t) + x(-t)}{2} = \\frac{\\frac{t+1}{2} + \\frac{-t+1}{2}}{2} = \\frac{1}{2}\\\\\n",
        "O(t) &= \\frac{x(t) - x(-t)}{2} = \\frac{\\frac{t+1}{2} - \\frac{1-t}{2}}{2} = \\frac{t}{2}\n",
        "\\end{align}"
      ]
    },
    {
      "cell_type": "markdown",
      "metadata": {
        "id": "sfFwqmGoO5N6"
      },
      "source": [
        "Properties : \n",
        "\n",
        "1. At $t=0$ odd signal is zero.\n",
        "2. Average, mean, dc value of any odd signal is zero.\n",
        "3. DC value is an even signal.\n",
        "4. DC value + Even = Even\n",
        "5. DC value + Odd = Neither even or odd\n",
        "6. Even $\\times$ Even = Even\n",
        "7. Odd $\\times$ Odd = Even\n",
        "8. Odd $\\times$ Even = Odd\n",
        "9. $\\frac{\\text{d(Even)}}{\\text{dt}} = \\text{Odd}\\,\\,\\,\\,$( Not valid for DC values ).\n",
        "10. $\\frac{\\text{d(Odd)}}{\\text{dt}} = \\text{Even}$\n",
        "11. $\\int\\,\\text{Even} \\,dt\\,=\\, \\text{Odd}$\n",
        "12. $\\int\\,\\text{Odd} \\,dt\\,=\\, \\text{Even}$\n",
        "13. $\\frac{1}{\\text{Odd}} = \\text{Odd}$\n",
        "14. $\\frac{1}{\\text{Even}} = \\text{Even}$"
      ]
    },
    {
      "cell_type": "markdown",
      "metadata": {
        "id": "GfmAyewi9l3q"
      },
      "source": [
        "###1.6.5 Condition for Inverse"
      ]
    },
    {
      "cell_type": "markdown",
      "metadata": {
        "id": "kJXewfgr9l3r"
      },
      "source": [
        "\\begin{align}\n",
        "x(t)&⟶h_1(t)⟶h_2(t)⟶y(t)\\\\\n",
        "\\\n",
        "\\\n",
        "\\end{align}\n",
        "\n",
        "System $h_2(t)$ is the inverse of system $h_1(t)$\n",
        "\n",
        "Therefore,\n",
        "\\begin{align}\n",
        "y(t) = x(t)-(1)\n",
        "\\end{align}\n",
        "but,\n",
        "\\begin{align}\n",
        "y(t) = x(t)*h_1(t)*h_2(t)-(2)\n",
        "\\end{align}\n",
        "\n",
        "\\begin{align}\n",
        "x(t) = x(t)*h_1(t)*h_2(t)\n",
        "\\end{align}\n",
        "\n",
        "also,\n",
        "\\begin{align}\n",
        "x(t) = x(t)*δ(t)\n",
        "\\end{align}\n",
        "\n",
        "therefore,\n",
        "\\begin{align}\n",
        "h_1(t)*h_2(t) = \\delta(t)\n",
        "\\end{align}\n",
        "\n",
        "#### $\\underline{Stability}$\n",
        "\n",
        "If a system output is bounded for a bounded input such a system is stable.\n",
        "\n"
      ]
    },
    {
      "cell_type": "markdown",
      "source": [
        "## 1.3.2 Basic System Properties\n",
        "\n"
      ],
      "metadata": {
        "id": "ACqpexn5oIrt"
      }
    },
    {
      "cell_type": "markdown",
      "source": [
        "###1.1.6 Periodic and Aperiodic Signals"
      ],
      "metadata": {
        "id": "ae-H7nKT-WrC"
      }
    },
    {
      "cell_type": "markdown",
      "source": [],
      "metadata": {
        "id": "6q3mC03z-0pJ"
      }
    },
    {
      "cell_type": "markdown",
      "source": [
        "A signal is periodic if there exists $T$ such that,\n",
        "\n",
        "\\begin{align}\n",
        "x(t)=x(t+T)\\ \\ \\forall \\ \\ t\n",
        "\\end{align}\n",
        "\n",
        "where $T$ is the period of the signal\n",
        "\n",
        "$ $\n",
        "\n",
        "A signal that is not periodic is an **Aperiodic Signal**\n",
        "<br><br>"
      ],
      "metadata": {
        "id": "7504OjsG_SfU"
      }
    },
    {
      "cell_type": "markdown",
      "source": [
        "Example:-\n",
        "<br>\n",
        "\\begin{align}\n",
        "x(t)=e^{j{\\omega_0}t}\n",
        "\\end{align}\n",
        "<br>\n",
        "Find $T$ such that $\\ \\ x(t)=x(t+T)\\ \\ \\forall \\ \\ t$\n",
        "<br>\n",
        "<br>\n",
        "\\begin{align}\n",
        "x(t)&=x(t+T)\\\\\n",
        "e^{j{\\omega_0}t}&=e^{j{\\omega_0}(t+T)}\\\\\n",
        "e^{j{\\omega_0}t}&=e^{j{\\omega_0}t}\\:e^{j{\\omega_0}T}\\\\\n",
        "1&=e^{j{\\omega_0}T}\\\\\n",
        "1&=cos({\\omega_0}T)+j\\:sin({\\omega_0}T)\n",
        "\\end{align}\n",
        "<br>\n",
        "Equating Real Part,\n",
        "<br>\n",
        "\\begin{align}\n",
        "1&=cos({\\omega_0}T)\\\\\n",
        "cos(0)&=cos({\\omega_0}T)\\\\\n",
        "2n{\\pi}+0&={\\omega_0}T\\\\\n",
        "\\frac{2n{\\pi}}{{\\omega_0}}&=T\\ \\ ;\\ n\\in\\mathbb{Z}\\\\\n",
        "\\\\\n",
        "{\\therefore}\\ \\ T&=\\frac{2{\\pi}}{{\\omega_0}}\n",
        "\\end{align}"
      ],
      "metadata": {
        "id": "OAdTLvyRH951"
      }
    },
    {
      "cell_type": "markdown",
      "source": [],
      "metadata": {
        "id": "WYHRp14l1Roj"
      }
    },
    {
      "cell_type": "markdown",
      "source": [
        "\n",
        "\n",
        "*   Periodic signals are power signals\n",
        "\n"
      ],
      "metadata": {
        "id": "0FI4cx631FZF"
      }
    },
    {
      "cell_type": "code",
      "source": [
        "#Periodic Signal Example (pg 8)"
      ],
      "metadata": {
        "id": "o1TyHHQd-_vQ"
      },
      "execution_count": null,
      "outputs": []
    },
    {
      "cell_type": "markdown",
      "source": [
        "\\begin{align}\n",
        "{P_{avg}}&=\\lim_{T\\to\\infty} \\frac{1}{2\\,T}\\int_{-T}^{T} |x(t)|^2 \\,dt \\\\\n",
        "\\\\\n",
        "{P_{avg}}&=\\frac{1}{period}\\int_{over\\ period} |x(t)|^2 \\,dt \\\\\n",
        "\\end{align}\n",
        "<br><br>"
      ],
      "metadata": {
        "id": "hVi8LOGz1UnB"
      }
    },
    {
      "cell_type": "markdown",
      "source": [
        "Example:-\n",
        "<br>\n",
        "\\begin{align}\n",
        "x(t)=e^{j{\\omega_0}t}\n",
        "\\end{align}\n",
        "<br><br>\n",
        "\\begin{align}\n",
        "E_{period}&=\\int_{period} |e^{j{\\omega_0}t}|^2 \\,dt\\\\\n",
        "\\\\\n",
        "&=\\int_{period} e^{j{\\omega_0}t}\\:e^{-j{\\omega_0}t} \\,dt\\\\\n",
        "\\\\\n",
        "&=\\int_{period} 1 \\,dt\\\\\n",
        "\\\\\n",
        "&=[\\ t\\ ]_0^T\\\\\n",
        "\\\\\n",
        "&=T\\\\\n",
        "\\\\\n",
        "\\\\\n",
        "p_{avg}&=\\frac{E_{period}}{period}\\\\\n",
        "\\\\\n",
        "&=\\frac{T}{T}\\\\\n",
        "\\\\\n",
        "&=1\n",
        "\\end{align}"
      ],
      "metadata": {
        "id": "X1Rni-cL5Mf0"
      }
    },
    {
      "cell_type": "markdown",
      "source": [],
      "metadata": {
        "id": "dPciEoZr_Eqg"
      }
    },
    {
      "cell_type": "markdown",
      "source": [
        "##1.2 Special Signals"
      ],
      "metadata": {
        "id": "GQdb9PXuPUVL"
      }
    },
    {
      "cell_type": "markdown",
      "source": [
        "###1.2.1 Complex Exponential Signals"
      ],
      "metadata": {
        "id": "MCfStnXaCv71"
      }
    },
    {
      "cell_type": "markdown",
      "source": [
        "####1.2.1.1 Continuous Time Signals"
      ],
      "metadata": {
        "id": "lwBbCUGDC4bR"
      }
    },
    {
      "cell_type": "markdown",
      "source": [],
      "metadata": {
        "id": "VphGzqH7C5Ps"
      }
    },
    {
      "cell_type": "markdown",
      "source": [
        "\\begin{align}\n",
        "x(t)&=c\\:e^{at}\\ \\ ;\\ \\ where\\ c\\ and\\ a\\ are\\ complex\\ numbers\\\\\n",
        "c&=c_R+j\\:c_I\\ \\ ,\\ \\ a=a_R+j\\:a_I\\\\\n",
        "\\\\\n",
        "x(t)&=(c_R+j\\:c_I)\\:e^{(a_R+j\\:a_I)\\:t}\\\\\n",
        "\\\\\n",
        "x(t)&=c_R\\:e^{(a_R+j\\:a_I)\\:t}+j\\:c_I\\:e^{(a_R+j\\:a_I)\\:t}\\\\\n",
        "\\end{align}\n",
        "<br><br>\n",
        "If $\\ c\\ $ and $\\ a\\ $ are real, sketch $\\ x(t)\\ $ for\n",
        "\n",
        "$\\ \\ 1.\\ \\ c>0\\ \\ ,\\ a>0$<br>\n",
        "$\\ \\ 2.\\ \\ c>0\\ \\ ,\\ a<0$<br>\n",
        "$\\ \\ 3.\\ \\ c<0\\ \\ ,\\ a>0$<br>\n",
        "$\\ \\ 4.\\ \\ c<0\\ \\ ,\\ a<0$<br>\n",
        "<br><br>"
      ],
      "metadata": {
        "id": "81-gV8jTEy_I"
      }
    },
    {
      "cell_type": "code",
      "source": [
        "#The 4 continuous graphs in pg 10"
      ],
      "metadata": {
        "id": "2qJ3KhqeIj9b"
      },
      "execution_count": null,
      "outputs": []
    },
    {
      "cell_type": "markdown",
      "source": [
        "####1.2.1.2 Discrete Time Signals"
      ],
      "metadata": {
        "id": "_JsRWy5DJ1lE"
      }
    },
    {
      "cell_type": "markdown",
      "source": [],
      "metadata": {
        "id": "QySwLGs_J_zj"
      }
    },
    {
      "cell_type": "markdown",
      "source": [
        "\\begin{align}\n",
        "x[n]&=c\\:\\alpha^n\\ \\ ;\\ \\ where\\ c\\ and\\ \\alpha\\ are\\ complex\\ numbers\\\\\n",
        "\\\\\n",
        "x[n]&=c\\:e^{\\:\\beta n}\\ \\ ;\\ \\ \\alpha=e^{\\:\\beta}\\\\\n",
        "\\end{align}\n",
        "<br><br>\n",
        "If $\\ c\\ $ and $\\ \\alpha\\ $ are real numbers, letting $\\ c>0\\ $sketch $\\ x[n]\\ $ for\n",
        "\n",
        "$\\ \\ 1.\\ \\ \\alpha>1$<br>\n",
        "$\\ \\ 2.\\ \\ 0<\\alpha<1$<br>\n",
        "$\\ \\ 3.\\ \\ -1<\\alpha<0$<br>\n",
        "$\\ \\ 4.\\ \\ \\alpha<-1$<br>\n",
        "<br><br>"
      ],
      "metadata": {
        "id": "9oDoE1cwKAK4"
      }
    },
    {
      "cell_type": "code",
      "source": [
        "#The 4 discrete graphs in pg 10"
      ],
      "metadata": {
        "id": "3aNFtJUURDkL"
      },
      "execution_count": null,
      "outputs": []
    },
    {
      "cell_type": "markdown",
      "source": [
        "###1.2.2 Impulse"
      ],
      "metadata": {
        "id": "Z-ecVva9SHGL"
      }
    },
    {
      "cell_type": "markdown",
      "source": [
        "####1.2.2.1 Continuous Time Impulse (Dirac Delta)"
      ],
      "metadata": {
        "id": "WSPe4tNbSR-9"
      }
    },
    {
      "cell_type": "code",
      "source": [
        "#Dirac Delta graph (pg 11)"
      ],
      "metadata": {
        "id": "elySF4-8Scgf"
      },
      "execution_count": null,
      "outputs": []
    },
    {
      "cell_type": "markdown",
      "source": [
        "\\begin{align}\n",
        "\\delta(t) = \\lim_{\\Delta \\to 0} \\delta_{\\Delta} (t)\\\\\n",
        "\\\\\n",
        "\\text{Area under}\\ \\delta(t)=1\\\\\n",
        "\\end{align}\n",
        "<br><br>"
      ],
      "metadata": {
        "id": "R8GHPa24SiKv"
      }
    },
    {
      "cell_type": "markdown",
      "source": [
        "####1.2.2.2 Discrete Time Impulse (Kronecker Delta)"
      ],
      "metadata": {
        "id": "bsuqcevyTi4p"
      }
    },
    {
      "cell_type": "code",
      "source": [
        "#Kronecker Delta graph (pg 11)"
      ],
      "metadata": {
        "id": "bBMS57UvTugI"
      },
      "execution_count": null,
      "outputs": []
    },
    {
      "cell_type": "markdown",
      "source": [
        "\\begin{align}\n",
        "\\delta[n]\\,=\\, \\left\\{\n",
        "  \\begin{array}{cl}\n",
        "    1  &; \\,\\, n=0 \\\\\n",
        "    0 &; \\,\\, \\text{elsewhere} \\\\\n",
        "  \\end{array}\n",
        "  \\right.\n",
        "\\end{align}\n",
        "<br><br>"
      ],
      "metadata": {
        "id": "XyplT3lbT82T"
      }
    },
    {
      "cell_type": "markdown",
      "source": [
        "###1.2.3 Unit Step"
      ],
      "metadata": {
        "id": "MvdXNId3X9R1"
      }
    },
    {
      "cell_type": "markdown",
      "source": [
        "####1.2.3.1 Continuous Time Unit Step"
      ],
      "metadata": {
        "id": "7gItXLjDYGE5"
      }
    },
    {
      "cell_type": "code",
      "source": [
        "#u(t) graph (pg 11)"
      ],
      "metadata": {
        "id": "FAtDNhj2YR5d"
      },
      "execution_count": null,
      "outputs": []
    },
    {
      "cell_type": "markdown",
      "source": [
        "\\begin{align}\n",
        "  u(t)\\,&=\\, \\left\\{\n",
        "  \\begin{array}{cl}\n",
        "    1  &; \\,\\, t \\ge 0 \\\\\n",
        "    0 &; \\,\\, t < 0 \\\\\n",
        "  \\end{array}\n",
        "  \\right.\\\\\n",
        "  \\\\\n",
        "  u(t)&=\\int_{-\\infty}^{t} \\delta(\\tau) \\,d\\tau\\\\\n",
        "\\end{align}\n",
        "<br><br>\n",
        "$u(t)\\ $is a discontinuous function.\n",
        "<br>\n",
        "However, $\\ u(t)\\ $ is differentiable as the discontinuity is finite.\n",
        "<br><br>\n",
        "\\begin{align}\n",
        "\\frac{d}{dt}\\:u(t)=\\delta(t)\n",
        "\\end{align}\n",
        "<br><br>"
      ],
      "metadata": {
        "id": "UHa0HlqxYdQR"
      }
    },
    {
      "cell_type": "markdown",
      "source": [
        "####1.2.3.2 Discrete Time Unit Step"
      ],
      "metadata": {
        "id": "L1WOVgIbnQoV"
      }
    },
    {
      "cell_type": "code",
      "source": [
        "#u[n] graph (pg 12)"
      ],
      "metadata": {
        "id": "8WPIBlAGnVfR"
      },
      "execution_count": null,
      "outputs": []
    },
    {
      "cell_type": "markdown",
      "source": [
        "\\begin{align}\n",
        "  u[n]\\,&=\\, \\left\\{\n",
        "  \\begin{array}{cl}\n",
        "    1  &; \\,\\, n \\ge 0 \\\\\n",
        "    0 &; \\,\\, n < 0 \\\\\n",
        "  \\end{array}\n",
        "  \\right.\\\\\n",
        "  \\\\\n",
        "  u[n]&=\\sum_{N=-\\infty}^{n} \\delta\\:[N] \\\\\n",
        "\\end{align}\n",
        "<br><br>"
      ],
      "metadata": {
        "id": "F-kcP35HnZ9Y"
      }
    },
    {
      "cell_type": "markdown",
      "source": [
        "##1.3 Continuous Time and Discrete Time Systems"
      ],
      "metadata": {
        "id": "2R-lPhCvo171"
      }
    },
    {
      "cell_type": "markdown",
      "source": [],
      "metadata": {
        "id": "XgF_Y2NhpBUs"
      }
    },
    {
      "cell_type": "markdown",
      "source": [
        "**Continuous Time (CT) Systems**\n",
        "\n",
        "* A Countinuous Time (CT) system is a system where the input is a continuous time signal and results in a continuous output."
      ],
      "metadata": {
        "id": "I2hicH9_pBwE"
      }
    },
    {
      "cell_type": "markdown",
      "source": [
        "![CT_System.drawio.png](data:image/png;base64,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)"
      ],
      "metadata": {
        "id": "aea88yktpofa"
      }
    },
    {
      "cell_type": "markdown",
      "source": [
        "Example:-\n",
        "\n",
        "* A continuous time system behaviour can be represented by a differencial equation."
      ],
      "metadata": {
        "id": "oCx8RY47qHz-"
      }
    },
    {
      "cell_type": "markdown",
      "source": [
        "![CT_Example.drawio(1).png](data:image/png;base64,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)"
      ],
      "metadata": {
        "id": "6-5ZVvxurJei"
      }
    },
    {
      "cell_type": "markdown",
      "source": [
        "\\begin{align}\n",
        "  V_{in}(t) &= R\\:i(t) + L\\: \\frac{d\\: i(t)}{dt} + V_{out}(t)\\\\\n",
        "  \\\\\n",
        "  V_{out}(t) &= \\frac{1}{C} \\int_{-\\infty}^{t} i(t) \\,dt\\\\\n",
        "  \\\\\n",
        "  i(t) &= C\\: \\frac{d\\: V_{out}(t)}{dt}\\\\\n",
        "  \\\\\n",
        "  \\\\\n",
        "  V_{in}(t) &= R\\: C\\: \\frac{d\\: V_{out}(t)}{dt} + L\\: C\\: \\frac{d^2\\: V_{out}(t)}{dt^2} + V_{out}(t)\\\\\n",
        "  \\\\\n",
        "  x(t) &= R\\: C\\: \\frac{d\\: y(t)}{dt} + L\\: C\\: \\frac{d^2\\: y(t)}{dt^2} + y(t)\\\\\n",
        "\\end{align}\n",
        "<br><br>"
      ],
      "metadata": {
        "id": "ulZaINyzrLlM"
      }
    },
    {
      "cell_type": "markdown",
      "source": [
        "**Discrete Time (DT) Systems**\n",
        "\n",
        "* A Discrete Time (DT) system is a system where the input is a discrete time signal and results in a discrete output."
      ],
      "metadata": {
        "id": "v74qYAdxpuDH"
      }
    },
    {
      "cell_type": "markdown",
      "source": [
        "![DT_System.drawio.png](data:image/png;base64,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)"
      ],
      "metadata": {
        "id": "1LLnejqRp-9W"
      }
    },
    {
      "cell_type": "markdown",
      "source": [
        "Example:-\n",
        "\n",
        "* A discrete time system behaviour can be represented by a difference equation."
      ],
      "metadata": {
        "id": "x8lQSP6ut-jU"
      }
    },
    {
      "cell_type": "markdown",
      "source": [
        "\\begin{align}\n",
        "  \\text{Bank Balance} &= y[n]\\\\\n",
        "  \\\\\n",
        "  \\text{Net Deposit} &= x[n]\\\\\n",
        "  &= \\text{Deposit} - \\text{Withdrawal}\\\\\n",
        "  \\\\\n",
        "  y[n] &= y[n-1] + \\alpha\\: y[n-1] + x[n]\\\\\n",
        "  \\\\\n",
        "  \\alpha &= f\\:(interest\\ rate)\n",
        "\\end{align}"
      ],
      "metadata": {
        "id": "s3yo58tVuJKf"
      }
    },
    {
      "cell_type": "markdown",
      "source": [
        "# 2.0 Fourier Series",
        "### Linearity",
        "\n",
        "A linear system be it discrete time or continuous time has the property of superposition.\n",
        "\n",
        "$$\n",
        "Input \\to x_1[n], x_2[n] \\\\ Output \\to y_1[n], y_2[n] \n",
        "$$\n",
        "\n",
        "Then the given system is linear if,\n",
        "\n",
        "$$\n",
        "x_1[n]+x_2[n] \\to y_1[n]+y_2[n] (additivity) \\\\ \\ \\ \\\\ax_1[n] \\to ay_1[n] (scaling)\n",
        "$$\n",
        "\n",
        "A system can be linear but not time-invariant and it can also be time-invariant without being linear."
      ],
      "metadata": {
        "id": "2NNq6ksnrZKw"
      }
    },
    {
      "cell_type": "markdown",
      "source": [
        "\n",
        "**$$y(t) = t * x(t)$$**\n",
        "This system is linear.\n",
        "\n",
        "$$y[n] = Re{x[n]}$$\n",
        "\n",
        "This system violates the homogeneity property and hence is not linear. To define linearity more presicely,"
      ],
      "metadata": {
        "id": "2rUixqmRsn9h"
      }
    },
    {
      "cell_type": "markdown",
      "source": [
        "\n",
        "### Causality\n",
        "\n",
        "A system is causal if the output is dependent on the input at the present time and in the past. Such a system is referred to as being \n",
        " non-anticipative  since the system does not anticipate future values of the input \n",
        "\n",
        "$$\n",
        "\\begin{align}y[n]&=x[n]-x[n+1] \\\\ y(t) &= x(t+1)\\end{align}\n",
        "$$\n",
        "\n",
        "The above examples are for systems which are non-causal.\n",
        "\n",
        "All memoryless systems are non-causal since they respond only to the current input.\n",
        "\n",
        "An example of a non-causal averaging system is,\n",
        "\n",
        "$$\n",
        "y[n] = \\frac{1}{2M+1}\\sum_{k=-M}^M x[n-k]\n",
        "$$\n",
        "\n",
        "### Example\n",
        "\n",
        "$$\n",
        "y(t) = x(t)cos(t+1)\n",
        "$$\n",
        "\n",
        "In this system the output is the product of the input signal and a number that varies with time. Note that the output therefore depends only on the input signal at the given moment. Hence the system is causal and memoryless\n",
        "\n",
        "$$\n",
        "y[n] = x[-n] \n",
        "$$\n",
        "\n",
        "Is this system causal?\n",
        "\n",
        "No. Note that for $n>0$ values the output is dependent on the values of the past. However for  $n<0$ the output depends on values that are in the future. Hence ethe system is not causal. But it has memory."
      ],
      "metadata": {
        "id": "0PoQdFLqrO-Z"
      }
    },
    {
      "cell_type": "markdown",
      "source": [
        "## 1.5 Linear Time Invariant Systems"
      ],
      "metadata": {
        "id": "QoATGIxRrHP2"
      }
    },
    {
      "cell_type": "markdown",
      "source": [
        "### 1.5.1 Convolution for Discrete LTI System"
      ],
      "metadata": {
        "id": "hMH-L2eboHW9"
      }
    },
    {
      "cell_type": "markdown",
      "source": [
        "Any general discrete time signal can be represented as a sequence of individual impulses. \n",
        "\n",
        "Consider the signal $x[n]$ shown below.\n",
        "\n"
      ],
      "metadata": {
        "id": "On2vgb9huhZy"
      }
    },
    {
      "cell_type": "markdown",
      "source": [
        "![image.png](data:image/png;base64,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)"
      ],
      "metadata": {
        "id": "-4ZNWavzvRrc"
      }
    },
    {
      "cell_type": "markdown",
      "source": [
        "\n",
        "Each and every sample in this signal can be represented as,\n",
        "\n",
        "$$\n",
        "x[k]\\delta[n-k] = \\left\\{ \\begin{array}{lr} x[k], & \\text{if } n = k\\\\  0, & \\text{if } n\\neq k    \\end{array}\\right.\n",
        "$$\n",
        "\n",
        "$\\therefore$ the entire signal can be written as a sequence of delayed impulses as follows,\n",
        "\n",
        "$$\n",
        "x[n] = \\sum_{k=-\\infty}^{\\infty}x[k]\\delta[n-k]\n",
        "$$\n",
        "\n",
        "The above equation is called the sifting property of the discrete-time unit impulse. This is because the summation on the right hand side “sifts” through the values of $x[k]$ and preserves only the value at $n=k$"
      ],
      "metadata": {
        "id": "pFaemPNUvLVg"
      }
    },
    {
      "cell_type": "markdown",
      "source": [
        "*Linearity*\n",
        "\n",
        "In a linear system, the response to a input signal $x[n]$ will be the superposition of the scaled responses of the system to each of these shifted impulses\n",
        "\n",
        "\n",
        "*Time Invariance*\n",
        "\n",
        "The response to the time shifted unit impulse is the time shifted version of the original response. \n",
        "\n",
        "So now, the convolution sum is the result of the above properties. \n",
        "\n",
        "Consider this scenario,\n",
        "\n",
        "$$\n",
        "x[n] \\text{ is an arbitary input} \\\\h_k[n] \\to \\text{response to  }\\delta [n-k] \n",
        "$$\n",
        "\n",
        "Therefore,\n",
        "\n",
        "$$\n",
        "\\sum_{k=-\\infty}^\\infty x[k]\\delta[n-k] \\to System \\to \\sum_{k=-\\infty}^\\infty x[k]h_k[n]\n",
        "$$\n",
        "\n",
        "In the above representation, $\\sum$ and scaling by $x[n]$ is the result of linearity.\n",
        "\n",
        "$\\delta[n-k] \\to h_k[n]$ is the result of the time invariance.\n",
        "\n",
        "\n",
        "Now when the system is time invariant, it is essential that we have,\n",
        "\n",
        "$$\n",
        "h_k[n] = h[n-k]; h[[n] = h_0[n]\n",
        "$$\n",
        "\n",
        "Therefore we may write,\n",
        "\n",
        "$$\n",
        "y[n] =  \\sum_{k=-\\infty}^\\infty x[k]h [n-k]\n",
        "$$\n",
        "\n",
        "This result is referred to as the convolution sum or the superposition sum. The operation on the right hand side is known as the convolution of the sequences $x[n] \\text{ and } h[n]$. Convolution is represented as,\n",
        "\n",
        "\n",
        "$$\n",
        "y[n] = x[n]*h[n]\n",
        "$$"
      ],
      "metadata": {
        "id": "XsUqIkE6vp4m"
      }
    },
    {
      "cell_type": "markdown",
      "metadata": {
        "id": "0cgU_5SQrl7m"
      },
      "source": [
        "# 2.0 Fourier Series"
      ]
    },
    {
      "cell_type": "markdown",
      "metadata": {
        "id": "-QXTnDHmsC8T"
      },
      "source": [
        "## 2.2 Fourier Series"
      ]
    },
    {
      "cell_type": "markdown",
      "metadata": {
        "id": "0HqqXG0lsIGt"
      },
      "source": [
        "Consider,\n",
        "\\begin{align}\n",
        "x(t)=11+4sin(5t)+\\frac{4}{3}sin(15t)\n",
        "\\end{align}"
      ]
    },
    {
      "cell_type": "code",
      "execution_count": null,
      "metadata": {
        "id": "pUt_DCfcsXFp"
      },
      "outputs": [],
      "source": [
        "## Example"
      ]
    },
    {
      "cell_type": "markdown",
      "metadata": {
        "id": "TOIIkLghsZHD"
      },
      "source": [
        "\n",
        "<p>Fundermental frequency = frequency of the lowest frequency component</p>\n",
        "Thus,\n",
        "\\begin{align}\n",
        "\\omega_0&=5\\\\\n",
        "T=\\frac{2\\pi}{5} \\:\\:&and\\:\\: f_0=\\frac{5}{2\\pi}\\\\\n",
        "e^{j\\theta}=cos\\theta &+j sin\\theta\\\\\n",
        "\\end{align}\n",
        "This gives,\n",
        "\\begin{align}\n",
        "sin\\theta = \\frac{e^{j\\theta}-e^{-j\\theta}}{2j}\\:\\:\\: and \\:\\:\\: cos\\theta = \\frac{e^{j\\theta}+e^{-j\\theta}}{2}\n",
        "\\end{align}\n",
        "\n",
        "\n",
        "By substituting to $x(t)$,\n",
        "\\begin{align}\n",
        "x(t)&=11+4(\\frac{e^{5jt}-e^{-5jt}}{2j})+\\frac{4}{3}(\\frac{e^{15j}-e^{-15j}}{2j})\\\\\n",
        "x(t)&=[\\frac{2}{3}e^{j\\frac{\\pi}{2}}]e^{(-3)5jt}+[2e^{j\\frac{\\pi}{2}}]e^{(-1)5jt}+[11]e^{(0)5jt}+[2e^{-j\\frac{\\pi}{2}}]e^{(+1)5jt}+[\\frac{2}{3}e^{-j\\frac{\\pi}{2}}]e^{(+3)5jt}\n",
        "\\end{align}\n",
        "This is the Forier Series of $x(t)$"
      ]
    },
    {
      "cell_type": "markdown",
      "metadata": {
        "id": "XsnQI7gWxwg7"
      },
      "source": [
        "Here,\\\n",
        "$[\\frac{2}{3}e^{j\\frac{\\pi}{2}}],[2e^{j\\frac{\\pi}{2}}],[11],[2e^{-j\\frac{\\pi}{2}}],[\\frac{2}{3}e^{-j\\frac{\\pi}{2}}]$ are known as **Fourier Coefficients of $x(t)$**.\n",
        "\n",
        "Thus the Fourier Series Expression can be written as,\n",
        "\n",
        "\\begin{align}\n",
        "x(t)=\\sum_{k=-\\infty}^{\\infty} X_k\\:e^{jk\\omega_0t}\\:\\:\\: ; X_k \\in \\mathbb{C}\n",
        "\\end{align}\n",
        "\n",
        "\\begin{align}\n",
        "X_k&=Re[X_k]+jIm[X_k]\\\\\n",
        "\\\\\n",
        "X_k&=|X_k|e^{j.Arg[X_k]}\n",
        "\\end{align}\n"
      ]
    },
    {
      "cell_type": "code",
      "execution_count": null,
      "metadata": {
        "id": "njdBNabUzziD"
      },
      "outputs": [],
      "source": [
        "#Plots"
      ]
    },
    {
      "cell_type": "markdown",
      "metadata": {
        "id": "9pdh_z2hyf9E"
      },
      "source": [
        "* Discontinuous signals can be expressed as a collection of continuous signals using fourier series.\n",
        "\n"
      ]
    },
    {
      "cell_type": "markdown",
      "metadata": {
        "id": "0OHf-Bw9pujl"
      },
      "source": [
        "\\begin{align}\n",
        "x(t)&=\\sum_{m} X_me^{jm\\omega_0t}\\\\\n",
        "x(t)&=...+X_{-2}e^{j(-2)\\omega_0t}+X_{-1}e^{j(-1)\\omega_0t}+X_{0}+X_{1}e^{j(1)\\omega_0t}+X_{2}e^{j(2)\\omega_0t}+...\\\\\n",
        "\\end{align}\n",
        "\\\n",
        "Appling Fourier Transform to L.H.S and $m^{th}$ term of R.H.S\n",
        "\\begin{align}\n",
        "\\frac{1}{T_0}\\int_{T_0}x(t)e^{-jk\\omega_0t}dt&=\\frac{1}{T_0}\\int_{T_0}X_me^{jm\\omega_0t}e^{-jk\\omega_0t}\n",
        "\\end{align}"
      ]
    },
    {
      "cell_type": "markdown",
      "metadata": {
        "id": "XVvUb8yHr8AY"
      },
      "source": [
        "\n"
      ]
    },
    {
      "cell_type": "markdown",
      "metadata": {
        "id": "VVZeuu2Keuht"
      },
      "source": [
        "## 2.3 Properties of Fourier Series\n"
      ]
    },
    {
      "cell_type": "markdown",
      "metadata": {
        "id": "AwDrJLkjhivx"
      },
      "source": [
        "### 2.3.1 Linearity"
      ]
    },
    {
      "cell_type": "markdown",
      "metadata": {
        "id": "5wvjDek9JiO_"
      },
      "source": [
        "\n",
        "\n",
        "Consider a periodic signal $x(t)$ with a fundermental frequency $\\omega_0$ and $k^{th}$ Fourier series coefficient is given by $X_k$.\\\n",
        "Consider another periodic signal $y(t)$ with the same fundermental frequency $\\omega_0$ and $k^{th}$ Fourier Series coefficient is given by $Y_k$.\\\n",
        "\\\n",
        "\\begin{align}\n",
        "x(t)&⟶ X_k\\\\\n",
        "y(t)&⟶ Y_k\\\\\n",
        "Ax(t)+By(t)&⟶AX_k + BY_k\\\\\n",
        "\\end{align}\n"
      ]
    },
    {
      "cell_type": "code",
      "execution_count": null,
      "metadata": {
        "id": "PCFcg5Iravk4"
      },
      "outputs": [],
      "source": [
        "##Example"
      ]
    },
    {
      "cell_type": "markdown",
      "metadata": {
        "id": "B0Q3HLokhpcg"
      },
      "source": [
        "### 2.3.2 Time Shifting"
      ]
    },
    {
      "cell_type": "markdown",
      "metadata": {
        "id": "vCAVEmk_atjg"
      },
      "source": [
        "\n",
        "\n",
        "\n",
        "If Fourier Series coefficient of the periodic signal $x(t)$ is $X_k$.\n",
        "\\\n",
        "\\begin{align}\n",
        "x(t)&⟶X_k\\\\\n",
        "x(t)&=\\sum_{k}X_ke^{jk\\omega_0t}\\\\\n",
        "\\end{align}\n",
        "\n",
        "Apply $t \\Rightarrow t-t_0$;\n",
        "\n",
        "\\begin{align}\n",
        "x(t-t_0)&=\\sum_{k}X_ke^{jk\\omega_0(t-t_0)}\\\\\n",
        "x(t-t_0)&=\\sum_{k}(X_ke^{-jkw_0t_0})e^{jk\\omega_0t}\\\\\n",
        "\\end{align}\n",
        "\\\n",
        "Let $X'_k=X_ke^{-jkw_0t_0}$\n",
        "\n",
        "\\begin{align}\n",
        "|X'_k|&=|X_k|\\\\\n",
        "\\angle{X'_k}&=\\angle{X_k}-\\angle{k\\omega_0t_0}\n",
        "\\end{align}\n",
        "\\\n",
        "Degree of change of phase angle of higher harmonics is higher.\n"
      ]
    },
    {
      "cell_type": "code",
      "execution_count": null,
      "metadata": {
        "colab": {
          "base_uri": "https://localhost:8080/"
        },
        "id": "RNpTbdpPSS0P",
        "outputId": "494cc932-8cff-4091-999c-0d895b91c8f9"
      },
      "outputs": [
        {
          "data": {
            "image/png": "[encoded data removed]",
            "text/plain": [
              "<Figure size 1000x300 with 1 Axes>"
            ]
          },
          "metadata": {},
          "output_type": "display_data"
        }
      ],
      "source": [
        "wave=Waves()\n",
        "wave.square_pulse(2,\"a(t)\",\"t\",\"\",-1,1)"
      ]
    },
    {
      "cell_type": "markdown",
      "metadata": {
        "id": "V2bHPuqiWN6_"
      },
      "source": [
        "Using,\n",
        "\\begin{align}\n",
        "X_k=\\frac{1}{k\\pi}sin(k\\omega_0T_1)\n",
        "\\end{align}\n",
        "Where $T_1=1$\n",
        "\\begin{align}\n",
        "\\omega_0=\\frac{2\\pi}{T_0}=\\frac{2\\pi}{4}=\\frac{\\pi}{2}\n",
        "\\end{align}\n",
        "Thus,\n",
        "\\begin{align}\n",
        "a_k=\\frac{1}{k\\pi}sin(k\\frac{\\pi}{2})\n",
        "\\end{align}\n",
        "\n",
        "\n"
      ]
    },
    {
      "cell_type": "code",
      "execution_count": null,
      "metadata": {
        "colab": {
          "base_uri": "https://localhost:8080/"
        },
        "id": "doiy1zWfZfcx",
        "outputId": "8b80d62d-47b3-44e5-dfcc-7bfed1b5944b"
      },
      "outputs": [
        {
          "data": {
            "image/png": "[encoded data removed]",
            "text/plain": [
              "<Figure size 1000x300 with 1 Axes>"
            ]
          },
          "metadata": {},
          "output_type": "display_data"
        }
      ],
      "source": [
        "wave.square_pulse(2,\"y(t)\",\"t\",\"\",0,1)"
      ]
    },
    {
      "cell_type": "markdown",
      "metadata": {
        "id": "jASeBseVaHx2"
      },
      "source": [
        "In the light of above graph,\n",
        "\\begin{align}\n",
        "y(t)&=a(t-1)\\\\\n",
        "Y_k&=a_ke^{-jk\\omega_0t_0}\\\\\n",
        "Y_k&=a_ke^{-jk\\frac{\\pi}{2}}\\\\\n",
        "Y_k&=[\\frac{1}{k\\pi}sin{(k\\frac{\\pi}{2})}]e^{-jk\\frac{\\pi}{2}}\\\\\n",
        "\\end{align}"
      ]
    },
    {
      "cell_type": "markdown",
      "metadata": {
        "id": "VN7Lzsq7hscg"
      },
      "source": [
        "### 2.3.3 Time Reverse"
      ]
    },
    {
      "cell_type": "markdown",
      "metadata": {
        "id": "9qVsS1G0SVsL"
      },
      "source": [
        "\n",
        "If Fourier Series coefficient of the periodic signal $x(t)$ is $X_k$.\n",
        "\\\n",
        "\\begin{align}\n",
        "x(t)&⟶X_k\\\\\n",
        "x(-t)&⟶X'_k\\\\\n",
        "x(t)&=\\sum_{k}X_ke^{jk\\omega_0t}\\\\\n",
        "\\end{align}\n",
        "Apply $t⇒-t$\n",
        "\\begin{align}\n",
        "x(-t)&=\\sum_{k}X_ke^{-jk\\omega_0t}\\\\\n",
        "\\end{align}\n",
        "\\\n",
        "Inoder to obtain a simillar equation like in Fourier Series,\\\n",
        "\\\n",
        "Apply $k⇒-k$\n",
        "\\begin{align}\n",
        "x(-t)&=\\sum_{k}X_{-k}e^{jk\\omega_0t}\\\\\n",
        "\\end{align}\n",
        "Thus,\n",
        "\\begin{align}\n",
        "X'_k&=X_{-k}\n",
        "\\end{align}\n"
      ]
    },
    {
      "cell_type": "code",
      "execution_count": null,
      "metadata": {
        "id": "i_5S6uxta4Zm"
      },
      "outputs": [],
      "source": [
        "##Example"
      ]
    },
    {
      "cell_type": "markdown",
      "metadata": {
        "id": "8DAy7d2LhyKA"
      },
      "source": [
        "### 2.3.4 Time Scaling"
      ]
    },
    {
      "cell_type": "markdown",
      "metadata": {
        "id": "Voa72O58a1g9"
      },
      "source": [
        "\n",
        "\n",
        "\n",
        "If Fourier Series coefficient of the periodic signal $x(t)$ is $X_k$.\n",
        "\n",
        "\\begin{align}\n",
        "x(t)&⟶X_k\\\\\n",
        "x(t)&=\\sum_{k}X_ke^{jk\\omega_0t}\\\\\n",
        "\\end{align}\n",
        "Let $t⇒\\alpha t$\n",
        "\\begin{align}\n",
        "x(\\alpha t)&=\\sum_{k}X_ke^{jk\\omega_0\\alpha t}\n",
        "\\end{align}\n",
        "\n",
        "New fundermental frequency  $\\omega'_0=\\alpha \\omega_0$"
      ]
    },
    {
      "cell_type": "code",
      "execution_count": null,
      "metadata": {
        "id": "x_uQsgrjU7BK"
      },
      "outputs": [],
      "source": [
        "# If alpha>1,\n",
        "## 4graphs"
      ]
    },
    {
      "cell_type": "code",
      "execution_count": null,
      "metadata": {
        "id": "HgG89qfyh9Ti"
      },
      "outputs": [],
      "source": []
    },
    {
      "cell_type": "markdown",
      "metadata": {
        "id": "uOuM0wmfiBbT"
      },
      "source": [
        "### 2.3.5 Properties For Real Signals"
      ]
    },
    {
      "cell_type": "markdown",
      "metadata": {
        "id": "dHVTsCzpVE6m"
      },
      "source": [
        "\n",
        "\\begin{align}\n",
        "x(t)&=\\sum_{k}X_ke^{jk\\omega_0t}\\\\\n",
        "x^{*}(t)&=\\sum_{k}X_k^{*}e^{-jk\\omega_0t}\\\\\n",
        "\\end{align}\n",
        "Apply $k⇒-k$,\n",
        "\\begin{align}\n",
        "x^{*}(t)&=\\sum_{k}X_{-k}^{*}e^{jk\\omega_0t}\\\\\n",
        "\\end{align}\n",
        "Since $x(t)=x^{*}(t)$,\n",
        "\\begin{align}\n",
        "\\sum_{k}X_ke^{jk\\omega_0t}&=\\sum_{k}X_{-k}^{*}e^{jk\\omega_0t}\\\\\n",
        "\\end{align}\n",
        "\\\n",
        "Therefore,\n",
        "\\begin{align}\n",
        "X_k&=X^{*}_{-k}\\\\\n",
        "X_{-k}&=X^{*}_{k}\n",
        "\\end{align}\n",
        "This is known as Conjugate Symmetry.\\\n",
        "Consequence of this,\n",
        "\\begin{align}\n",
        "|X_k|&=|X_{-k}|\\\\\n",
        "\\angle X_k&=-\\angle X_{-k}\\\\\n",
        "\\end{align}\n",
        "\n",
        "#### Real and Even Signals\n",
        "As $x(t)$ is real,\n",
        "\\begin{align}\n",
        "X_k&=X^{*}_{-k}\\\\\n",
        "\\end{align}\n",
        "However, as x(t) is even,\n",
        "\\begin{align}\n",
        "x(t)&=x(-t)\n",
        "\\end{align}\n",
        "Therefore from the time reversal property,\n",
        "\\begin{align}\n",
        "X_k&=X_{-k}\\\\\n",
        "\\end{align}\n",
        "Then,\n",
        "\\begin{align}\n",
        "X_k=X_{-k}=X^{*}_k\\\\\n",
        "\\end{align}\n",
        "Thus,\n",
        "\\begin{align}\n",
        "X_k=X^{*}_k\\\\\n",
        "\\end{align}\n",
        "Therefore, if $x(t)$ is real and even, $X_k$ is real and even.\n"
      ]
    },
    {
      "cell_type": "code",
      "execution_count": null,
      "metadata": {
        "id": "J9HsoYrZbC6S"
      },
      "outputs": [],
      "source": [
        "##Example"
      ]
    },
    {
      "cell_type": "markdown",
      "metadata": {
        "id": "eKaP-jPMbBUF"
      },
      "source": [
        "\n",
        "#### Real and Odd\n",
        "\n",
        "As $x(t)$ is real,\n",
        "\\begin{align}\n",
        "X_k=X^{*}_{-k}\\\\\n",
        "\\end{align}\n",
        "\n",
        "However, as $x(t)$ is odd,\n",
        "\n",
        "\\begin{align}\n",
        "x(t)&=-x(-t)\n",
        "\\end{align}\n",
        "\n",
        "Therefore, from time reversal property,\n",
        "\n",
        "\\begin{align}\n",
        "X_k&=-X_{-k}\\\\\n",
        "\\end{align}\n",
        "\n",
        "This yeilds,\n",
        "\n",
        "\\begin{align}\n",
        "X_k=-X_{-k}=-X^{*}_k\\\\\n",
        "X_k=-X^{*}_k\n",
        "\\end{align}\n",
        "Therefore, if $x(t)$ is real and odd, $X_k$ is imaginary and odd.\n"
      ]
    },
    {
      "cell_type": "code",
      "execution_count": null,
      "metadata": {
        "id": "Wm-ZPBA-bIWV"
      },
      "outputs": [],
      "source": [
        "##Example"
      ]
    },
    {
      "cell_type": "markdown",
      "metadata": {
        "id": "EomhIfTYiGQr"
      },
      "source": [
        "### 2.3.6 Differentiation and Integration"
      ]
    },
    {
      "cell_type": "markdown",
      "metadata": {
        "id": "1eu25sg_bGqu"
      },
      "source": [
        "\n",
        "\n",
        "\n",
        "#### Differentiation\n",
        "\n",
        "\\begin{align}\n",
        "x(t)=X_0 + \\sum_{\\forall k\\neq 0}X_ke^{jk\\omega_0t}\\\\\n",
        "x'(t)=\\frac{dx(t)}{dt}=\\sum_{\\forall k\\neq 0}(X_kjk\\omega_0)e^{jk\\omega_0t}\n",
        "\\end{align}\n",
        "\n",
        "\\begin{align}\n",
        "X'_k=jk\\omega_0X_k \\:\\:\\:\\:\\: ;k\\neq 0\n",
        "\\end{align}\n",
        "\n",
        "Differentiation is a high pass process / sharpning process.\n",
        "\n",
        "\\begin{align}\n",
        "X_k=\\frac{X'_k}{jk\\omega_0}\\:\\:\\:\\:\\: ;k\\neq 0\n",
        "\\end{align}\n",
        "\n",
        "#### Integration\n",
        "\n",
        "\\begin{align}\n",
        "x(t)=X_0 + \\sum_{\\forall k\\neq 0}X_ke^{jk\\omega_0t}\\\\\n",
        "x'(t)=\\int x(t)dt=\\sum_{\\forall k\\neq 0}\\:\\:\\frac{X_k}{jk\\omega_0}\\:e^{jk\\omega_0t}\n",
        "\\end{align}\n",
        "\n",
        "\n",
        "\\begin{align}\n",
        "X'_k=\\frac{X_k}{jk\\omega_0}\\:\\:\\:\\:\\: ;k\\neq 0\n",
        "\\end{align}\n",
        "Integration is a low pass process / smoothing process.\n",
        "\\begin{align}\n",
        "X_k=jk\\omega_0X'_k \\:\\:\\:\\:\\: ;k\\neq 0\n",
        "\\end{align}"
      ]
    },
    {
      "cell_type": "code",
      "execution_count": null,
      "metadata": {
        "id": "jo91UMn4bLSR"
      },
      "outputs": [],
      "source": [
        "##Example"
      ]
    },
    {
      "cell_type": "markdown",
      "metadata": {
        "id": "IgG1LX0gm2tP"
      },
      "source": [
        "### 2.3.7 Fourier Series of an Impulse"
      ]
    },
    {
      "cell_type": "markdown",
      "metadata": {
        "id": "Os6wJjZWnyME"
      },
      "source": [
        "\\begin{align}\n",
        "x(t)&=\\sum_{k=-∞}^{∞} \\delta(t-kT_0)\\\\\n",
        "X_0&=\\frac{1}{T_0}\\int_{T_0}x(t)dt\\\\\n",
        "&=\\frac{1}{T_0}\\int_{\\frac{-T_0}{2}}^{\\frac{T_0}{2}}\\delta(t)dt\\\\\n",
        "&=\\frac{1}{T_0}\n",
        "\\\\\n",
        "X_k&=\\frac{1}{T_0} \\int_{T_0}e^{-jk\\omega_0t}dt\\\\\n",
        "&=\\frac{1}{T_0}\\int_{\\frac{-T_0}{2}}^{\\frac{T_0}{2}} \\delta (t) e^{-jk\\omega_0t}dt\n",
        "\\end{align}"
      ]
    },
    {
      "cell_type": "code",
      "execution_count": null,
      "metadata": {
        "id": "tlmWsaXL6OV-"
      },
      "outputs": [],
      "source": [
        "#Example"
      ]
    },
    {
      "cell_type": "markdown",
      "metadata": {
        "id": "Tf9tQnbS6XMo"
      },
      "source": [
        "\\begin{align}\n",
        "X_k&=\\frac{1}{T_0}\\int_{-\\frac{T_0}{2}}^{\\frac{T_0}{2}}\\delta (t)e^{-jk\\omega_0 \\times 0}dt\\\\\n",
        "&=\\frac{1}{T_0}\n",
        "\\end{align}\n",
        "This yeilds,\n",
        "\\begin{align}\n",
        "x(t)=\\sum_{\\forall k}\\delta (t-kT_0)=\\sum_{\\forall k}\\frac{1}{T_0}e^{jk\\omega_0t}\n",
        "\\end{align}"
      ]
    },
    {
      "cell_type": "code",
      "execution_count": null,
      "metadata": {
        "colab": {
          "base_uri": "https://localhost:8080/"
        },
        "id": "WvP0GK8o7l4m",
        "outputId": "ef21f13f-2a2a-4ab8-b49c-accfdb357510"
      },
      "outputs": [
        {
          "data": {
            "image/png": "[encoded data removed]",
            "text/plain": [
              "<Figure size 1000x300 with 1 Axes>"
            ]
          },
          "metadata": {},
          "output_type": "display_data"
        }
      ],
      "source": [
        "wave.sawtooth_pulse(2,\"x(t)\",\"t\",\"\",0,1)"
      ]
    },
    {
      "cell_type": "markdown",
      "metadata": {
        "id": "3ahYm-fJhcEa"
      },
      "source": [
        "\\begin{align}\n",
        "\\omega_0&=\\frac{2\\pi}{2}=\\pi\\\\\n",
        "X_0&=\\frac{1}{2}\\int_{2}x(t)dt\\\\\n",
        "&=\\frac{1}{2}\\int_{0}^{2}\\frac{t}{2}dt\\\\\n",
        "&=\\frac{1}{2}\n",
        "\\end{align}"
      ]
    },
    {
      "cell_type": "markdown",
      "metadata": {
        "id": "OvHrCgJ_ihEF"
      },
      "source": [
        "# 3.0 Fourier Transform"
      ]
    },
    {
      "cell_type": "markdown",
      "metadata": {
        "id": "kut8JvO9CY8i"
      },
      "source": [
        "## 3.3 Properties of Fourier Transeform"
      ]
    },
    {
      "cell_type": "markdown",
      "metadata": {
        "id": "oEK2L3pA-wr1"
      },
      "source": [
        "![utdt.png](data:image/png;base64,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)"
      ]
    },
    {
      "cell_type": "markdown",
      "metadata": {
        "id": "siaCNsOA4fGd"
      },
      "source": [
        "\\begin{align}\n",
        "\\mathcal{F}  \\left[ \\delta(t) \\right] &= 1 \\\\\n",
        "\\mathcal{F} \\left[ \\frac{d}{dt}  u(t) \\right] &= 1\\\\\n",
        "\\text{also}  \\int_{-\\infty}^\\infty \\left[ \\frac{d}{dt}  u(t) \\right] &= 1\\\\\n",
        "\\therefore \\mathcal{F} \\left[ u(t) \\right] &= \\frac{1}{j \\omega} + \\pi \\times 1 \\times \\delta(\\omega)  \\\\\n",
        "\\end{align}"
      ]
    },
    {
      "cell_type": "markdown",
      "metadata": {
        "id": "B9d1PKHS4e7z"
      },
      "source": [
        "### 3.3.5 Time Scaling\n",
        "\n",
        "---"
      ]
    },
    {
      "cell_type": "markdown",
      "metadata": {
        "id": "0i1I_TUqGcAy"
      },
      "source": [
        "\\begin{align}\n",
        "\\mathcal{F}  \\left[ x(t) \\right] &= X(j\\omega) \\\\\n",
        "\\end{align}\n",
        "\n",
        "\n",
        "*   Consider $a>0$ case, \n",
        "\n",
        "\\begin{align}\n",
        "\\mathcal{F}  \\left[ x(at) \\right] &= \\int_{-\\infty}^\\infty x(at) e^{-j \\omega t} dt \\\\\n",
        "\\end{align}\n",
        "\n",
        ">>>>>> Let $at = \\lambda$ ,\n",
        "\n",
        "\\begin{align}\n",
        "&= \\int_{-\\infty}^\\infty \\frac{x(\\lambda) e^{-j \\frac{\\omega}{a} \\lambda}}{a} d\\lambda \\\\\n",
        "&= \\frac{1}{a} \\int_{-\\infty}^\\infty x(\\lambda) e^{-j \\frac{\\omega}{a} \\lambda} d\\lambda \\\\\n",
        "&= \\frac{1}{a}X \\left( j \\frac{\\omega}{a} \\right) ; a>0 \\\\ \\\\\n",
        "\\end{align}\n",
        "\n",
        "\n",
        "\n",
        "---\n",
        "\n",
        "\n",
        "*   Consider $a<0$ case,\n",
        "\n",
        "\\begin{align}\n",
        "a &= -|a| \\\\ \\\\\n",
        "\\mathcal{F}  \\left[ x(at) \\right] &= \\int_{-\\infty}^\\infty x(at) e^{-j \\omega t} dt \\\\\n",
        "\\end{align}\n",
        "\n",
        ">>>>>> Let $-|a|t = \\lambda$ ,\n",
        "\n",
        "When,  \n",
        "\\begin{align} t → + \\infty , \\lambda → - \\infty \\\\       \n",
        "t → - \\infty , \\lambda → + \\infty \\\\ \\\\\n",
        "\\end{align}\n",
        "\n",
        "\\begin{align}\n",
        "\\mathcal{F}  \\left[ x(at) \\right] &= \\int_{\\infty}^{-\\infty} \\frac{x(\\lambda) e^{-j \\frac{- \\omega}{|a|} \\lambda}}{-|a|} d\\lambda \\\\\n",
        "&= \\frac{1}{|a|} \\int_{-\\infty}^\\infty x(\\lambda) e^{-j \\left( - \\frac{\\omega}{|a|} \\right) \\lambda} d\\lambda \\\\\n",
        "&= \\frac{1}{|a|}X \\left( j \\frac{\\omega}{-|a|} \\right) \\\\\n",
        "&= \\frac{1}{|a|}X \\left( j \\frac{\\omega}{a} \\right) \\\\ \\\\\n",
        "\\mathcal{F}  \\left[ x(at) \\right] &= \\frac{1}{|a|}X \\left( j \\frac{\\omega}{a} \\right) ; a<0 \\\\ \\\\\n",
        "\\end{align}\n",
        "\n",
        "---"
      ]
    },
    {
      "cell_type": "markdown",
      "metadata": {
        "id": "8GE27FheOtl-"
      },
      "source": [
        "### 3.3.6 Time Reversal\n",
        "---"
      ]
    },
    {
      "cell_type": "markdown",
      "metadata": {
        "id": "5q9dTw2bTYNu"
      },
      "source": [
        "When $ a=-1 $ ,\n",
        "\n",
        "\\begin{align}\n",
        "\\mathcal{F}  \\left[ x(-t) \\right] &= X \\left( -j \\omega \\right) \\\\ \\\\\n",
        "\\end{align}\n",
        "\n",
        "---"
      ]
    },
    {
      "cell_type": "markdown",
      "metadata": {
        "id": "1HrQAlZDCyJb"
      },
      "source": [
        "#### Example:"
      ]
    },
    {
      "cell_type": "code",
      "execution_count": null,
      "metadata": {
        "colab": {
          "base_uri": "https://localhost:8080/",
          "height": 397
        },
        "id": "FsMjeHPdVPEe",
        "outputId": "42658805-cad2-4867-c7ea-22496a96685d"
      },
      "outputs": [
        {
          "data": {
            "text/html": [
              "\n",
              "        <iframe\n",
              "            width=\"700\"\n",
              "            height=\"375\"\n",
              "            src=\"https://www.desmos.com/calculator/bzxbwup3ne\"\n",
              "            frameborder=\"0\"\n",
              "            allowfullscreen\n",
              "            \n",
              "        ></iframe>\n",
              "        "
            ],
            "text/plain": [
              "<IPython.lib.display.IFrame at 0x7f4c4c208e20>"
            ]
          },
          "execution_count": 4,
          "metadata": {},
          "output_type": "execute_result"
        }
      ],
      "source": [
        "from IPython.display import IFrame\n",
        "IFrame(src=\"https://www.desmos.com/calculator/bzxbwup3ne\", width=700, height=375)"
      ]
    },
    {
      "cell_type": "markdown",
      "metadata": {
        "id": "NMtPuX0IU86u"
      },
      "source": [
        "* x(t) is in red colour and its Fourier transform(sinc function) is in purple colour.\n",
        "* Change \"a\" (factor of time scaling) and observe the variation.\n",
        "* Signals that are fluctuating rapidly have more high frequency components."
      ]
    },
    {
      "cell_type": "markdown",
      "metadata": {
        "id": "OjnDrx4tSBHV"
      },
      "source": [
        "## 3.4 The Fourier Transform Properties of Real Signals\n",
        "---"
      ]
    },
    {
      "cell_type": "markdown",
      "metadata": {
        "id": "Y8dZza6mSNIB"
      },
      "source": [
        "Since the siglan is real,\n",
        "\n",
        "\\begin{align}\n",
        "x(t) &= x^*(t) \\\\\n",
        "X(j \\omega ) &= \\int_{-\\infty}^\\infty x(t) e^{-j \\omega t} dt \\\\\n",
        "X^*(j \\omega ) &= \\int_{-\\infty}^\\infty x^*(t) e^{+j \\omega t} dt \\\\ \\\\\n",
        "\\text{Since, } x(t) &=x^*(t) \\\\\n",
        "&= \\int_{-\\infty}^\\infty x(t) e^{+j \\omega t} dt \\\\ \\\\\n",
        "\\omega &\\rightarrow -\\omega \\\\ \\\\\n",
        "X^*(-j \\omega ) &= \\int_{-\\infty}^\\infty x(t) e^{-j \\omega t} dt \\\\\n",
        "X^*(-j \\omega ) &= X(j\\omega) \\\\\n",
        "\\left[ X^*(-j \\omega ) \\right]^* &= \\left[ X(j\\omega) \\right]^* \\\\\n",
        "X(-j \\omega ) &= X^*(j\\omega) \\\\ \\\\\n",
        "X^*(j \\omega ) &= X(-j\\omega) \\leftarrow \\text{conjugate symmetry.} \\\\ \\\\\n",
        "\\end{align}\n",
        "\n",
        "---\n",
        "\n",
        "\\begin{align}\n",
        "\\text{ Consequence of this ,} & \\\\ \\\\\n",
        "|X(-j \\omega)| &= |X^*(j \\omega)| = |X(j \\omega)| \\\\\n",
        "|X(-j \\omega)| &= |X(j \\omega)| \\\\\n",
        "&\\text{* Magnitude spectrum is even symmetric.} \\\\ \\\\\n",
        "\\angle{X(-j \\omega)} &= \\angle X^*(j \\omega) \\\\\n",
        "\\angle X(-j \\omega) &= - \\angle X(j \\omega) \\\\\n",
        "&\\text{* Phase spectrum is odd symmetric.}\n",
        "\\end{align}\n",
        "\n",
        "---"
      ]
    },
    {
      "cell_type": "markdown",
      "metadata": {
        "id": "UW1zxGSKLSCy"
      },
      "source": [
        "*   **If x(t) is real and even,**\n",
        "\n",
        ">>>>> As x(t) is real,\n",
        "\n",
        "\\begin{align}\n",
        "x(t) &= x^*(t) \\\\\n",
        "X^*(j \\omega ) &= X(-j\\omega) \\\\\n",
        "\\end{align}\n",
        "\n",
        ">>>>> However, as x(t) is even,\n",
        "\n",
        "\\begin{align}\n",
        "x(t) &= x(-t) \\\\\n",
        "X(j \\omega ) &= X(-j\\omega) \\\\\n",
        "\\end{align}\n",
        "\n",
        ">>>>> Therefore,\n",
        "\n",
        "\\begin{align}\n",
        "X(j \\omega ) = X(-j\\omega) = X^*(j \\omega ) \\\\\n",
        "X(j \\omega ) = X^*(j \\omega ) \\\\\n",
        "\\end{align}\n",
        "\n",
        ">>>>> Therefore $ X(j\\omega) $ is real and even.\n",
        "\n",
        "---\n",
        "\n",
        "\n",
        "*   **If x(t) is real and odd,**\n",
        "\n",
        ">>>>> As x(t) is real,\n",
        "\n",
        "\\begin{align}\n",
        "x(t) &= x^*(t) \\\\\n",
        "X^*(j \\omega ) &= X(-j\\omega) \\\\\n",
        "\\end{align}\n",
        "\n",
        ">>>>> However, as x(t) is odd,\n",
        "\n",
        "\\begin{align}\n",
        "x(t) &= -x(-t) \\\\\n",
        "X(j \\omega ) &= -X(-j\\omega) \\\\\n",
        "\\end{align}\n",
        "\n",
        ">>>>> Therefore,\n",
        "\n",
        "\\begin{align}\n",
        "X(j \\omega ) = -X(-j\\omega) = -X^*(j \\omega ) \\\\\n",
        "X(j \\omega ) = -X^*(j \\omega ) \\\\\n",
        "\\end{align}\n",
        "\n",
        ">>>>> Therefore $ X(j\\omega) $ is imaginary and odd.\n",
        "\n",
        "---\n",
        "\n"
      ]
    },
    {
      "cell_type": "markdown",
      "metadata": {
        "id": "JQVgs5QfNmdK"
      },
      "source": [
        "#### Example:"
      ]
    },
    {
      "cell_type": "markdown",
      "metadata": {
        "id": "rpNd5H5dQlLP"
      },
      "source": [
        "$ x(t) = e^{-at}u(t) $\n",
        "\n",
        "---\n",
        "\n",
        "\\begin{align}\n",
        "X(j\\omega) & = \\frac{1}{a+j\\omega} \\\\\n",
        "& = \\frac{a-j\\omega}{a^2+\\omega^2} \\\\\n",
        "& = \\frac{a}{a^2+\\omega^2} - j\\frac{\\omega}{a^2+\\omega^2} \\\\ \\\\\n",
        "|X(j\\omega)| &= \\frac{1}{\\sqrt{a^2+\\omega^2}}   \\\\\n",
        "\\angle{X(j\\omega)} &= \\text{tan}^{-1} \\left( \\frac{- \\omega}{a} \\right) = -\\text{tan}^{-1} \\left( \\frac{\\omega}{a} \\right)   \\\\\n",
        "X(j\\omega) & = \\frac{1}{\\sqrt{a^2+\\omega^2}} e^{-j \\text{ tan}^{-1} \\left( \\frac{\\omega}{a} \\right)}\n",
        "\\end{align}"
      ]
    },
    {
      "cell_type": "code",
      "execution_count": null,
      "metadata": {
        "colab": {
          "base_uri": "https://localhost:8080/",
          "height": 430
        },
        "id": "IAiosdbQHxGq",
        "outputId": "bc87555e-5f97-4635-f3bf-0008b57546af"
      },
      "outputs": [
        {
          "data": {
            "image/png": "[encoded data removed]",
            "text/plain": [
              "<Figure size 640x480 with 2 Axes>"
            ]
          },
          "metadata": {},
          "output_type": "display_data"
        }
      ],
      "source": [
        "import numpy as np\n",
        "import matplotlib.pyplot as plt\n",
        "\n",
        "a = 1\n",
        "omega = np.linspace(-5,5,101)\n",
        "magnitude = 1/np.sqrt(a**2+omega**2)\n",
        "phase = -np.arctan(omega/a)\n",
        "\n",
        "fig = plt.figure()\n",
        "mag = fig.add_subplot(1,2,1)\n",
        "plt.title(\"$|X(j \\omega)|$\")\n",
        "pha = fig.add_subplot(1,2,2)\n",
        "plt.title(\"$ X(j \\omega) $\")\n",
        "\n",
        "mag.plot(omega,magnitude)\n",
        "mag.spines[\"left\"].set_position((\"data\",0))\n",
        "mag.spines[\"right\"].set_visible(False)\n",
        "mag.spines[\"bottom\"].set_position((\"data\",0))\n",
        "mag.spines[\"top\"].set_visible(False)\n",
        "mag.set_ylim([-0.1,1.1])\n",
        "mag.set_xticks([])\n",
        "mag.set_yticks([])\n",
        "\n",
        "\n",
        "pha.plot(omega,phase)\n",
        "pha.spines[\"left\"].set_position((\"data\",0))\n",
        "pha.spines[\"right\"].set_visible(False)\n",
        "pha.spines[\"bottom\"].set_position((\"data\",0))\n",
        "pha.spines[\"top\"].set_visible(False)\n",
        "pha.set_xticks([])\n",
        "pha.set_yticks([])\n",
        "\n",
        "fig.show()"
      ]
    },
    {
      "cell_type": "markdown",
      "metadata": {
        "id": "ynIFlV7kHxjg"
      },
      "source": [
        "## 3.5 Duality\n",
        "\n",
        "---"
      ]
    },
    {
      "cell_type": "markdown",
      "metadata": {
        "id": "rMBO3TOyWcXp"
      },
      "source": [
        "\\begin{align}\n",
        "\\mathcal{F}[x(t)] &= X(j\\omega) \\\\\n",
        "X(\\omega) &= \\int_{- \\infty}^{\\infty}x(t)e^{-j \\omega t} dt \\\\ \\\\\n",
        "t \\rightarrow \\omega \\text{ , } \\omega \\rightarrow t \\\\\n",
        "X(t) &= \\int_{- \\infty}^{\\infty}x(\\omega)e^{-j t \\omega} d\\omega \\\\\n",
        "X(t) &= \\int_{- \\infty}^{\\infty}x(\\omega)e^{-j \\omega t} d\\omega \\\\ \\\\\n",
        "t \\rightarrow -t \\\\\n",
        "X(-t) &= \\int_{- \\infty}^{\\infty}x(\\omega)e^{+j \\omega t} d\\omega \\\\\n",
        "\\frac{X(-t)}{2\\pi} &= \\frac{1}{2\\pi} \\int_{- \\infty}^{\\infty}x(\\omega)e^{+j \\omega t} d\\omega \\\\\n",
        "\\frac{X(-t)}{2\\pi} &= \\mathcal{F}^{-1}[x(\\omega)] \\\\\n",
        "\\mathcal{F}[X(-t)] &= 2\\pi x(\\omega) \\\\ \\\\\n",
        "t \\rightarrow -t \\\\\n",
        "\\mathcal{F}[X(t)] &= 2\\pi x(- \\omega) \\\\ \\\\\n",
        "\\rightarrow \\text{Duality Property}\n",
        "\\end{align}\n",
        "\n",
        "---"
      ]
    },
    {
      "cell_type": "markdown",
      "metadata": {
        "id": "jXFt26vrYlNK"
      },
      "source": [
        "#### Example:"
      ]
    },
    {
      "cell_type": "markdown",
      "metadata": {
        "id": "SSZkjYwmbUYU"
      },
      "source": [
        "If $ \\mathcal{F}[\\delta (t)] = 1 $ , find  $ \\mathcal{F}[1] = ? $ \n",
        "\n",
        "---\n",
        "\n",
        "Let,\n",
        "\\begin{align}\n",
        "x(t) &= \\delta(t) \\\\\n",
        "\\end{align}\n",
        "\n",
        "then,\n",
        "\\begin{align}\n",
        "X(\\omega) &= 1 \\\\\n",
        "X(t) &= 1 \\\\\n",
        "\\end{align}\n",
        "\n",
        "From duality,\n",
        "\\begin{align}\n",
        "\\mathcal{F}[X (t)] = \\mathcal{F}[1] &= 2 \\pi x(-\\omega) \\\\\n",
        "&= 2 \\pi \\delta(-\\omega) \\\\\n",
        "&= 2 \\pi \\delta(\\omega) \\\\ \\\\\n",
        "\\mathcal{F}[1] &= 2 \\pi \\delta(\\omega) \\\\\n",
        "\\end{align}\n",
        "\n",
        "---"
      ]
    },
    {
      "cell_type": "markdown",
      "metadata": {
        "id": "eCWCAEIeeZjZ"
      },
      "source": []
    },
    {
      "cell_type": "markdown",
      "metadata": {
        "id": "Wf8c4YtLemlL"
      },
      "source": [
        "\\begin{align}\n",
        "E &= \\int_{-\\infty}^\\infty |x(t)|^2 dt \\\\\n",
        "\\end{align}"
      ]
    },
    {
      "cell_type": "markdown",
      "metadata": {
        "id": "S0wzufsQHQyb"
      },
      "source": [
        "### 3.3.1 Linearity\n"
      ]
    },
    {
      "cell_type": "markdown",
      "metadata": {
        "id": "02vRJX8nHWxC"
      },
      "source": [
        "\\begin{align}\n",
        "\\mathcal{F}[x_1(t)]=X_1(jω) \\\\\n",
        "\\mathcal{F}[x_2(t)]=X_2(jω)\n",
        "\\end{align}\n",
        "\n",
        "\\begin{align}\n",
        "\\mathcal{F}[Ax_1(t)\\pm Bx_2(t)]=AX_1(jω)\\pm BX_2(jω)\n",
        "\\end{align}"
      ]
    },
    {
      "cell_type": "markdown",
      "metadata": {
        "id": "u9S6Kv8dHa4q"
      },
      "source": [
        "### 3.3.2. Time Shifting\n"
      ]
    },
    {
      "cell_type": "markdown",
      "metadata": {
        "id": "sDurT7X-HhD8"
      },
      "source": [
        "\\begin{align}\n",
        "\\mathcal{F}[x(t)]=X(jω) \n",
        "\\end{align}\n",
        "\n",
        "Using inverse fourier transform,\n",
        "\\begin{align}\n",
        "x(t)= \\frac{1} {2π} \\, \\int_{-∞}^{∞}X(jω) \\, e^{jωt} \\mathrm{d}ω\n",
        "\\end{align}\n",
        "\n",
        "Apply $t \\Rightarrow t-t_0$;\n",
        "\n",
        "\\begin{align}\n",
        "x(t-t_0)= &\\frac{1} {2π} \\, \\int_{-∞}^{∞}X(jω) \\, e^{jω(t-t_0)} \\mathrm{d}ω \\\\\n",
        "x(t-t_0)= &\\frac{1} {2π} \\, \\int_{-∞}^{∞}X(jω)\\, e^{-jωt_0}  \\, e^{jωt} \\mathrm{d}ω\n",
        "\\end{align}\n",
        "\n",
        "Let  $X'(jω)=\\mathcal{F}[x(t-t_0)]$ ,\n",
        "\n",
        "\\begin{align}\n",
        "X'(jω)=\\mathcal{F}[x(t-t_0)]=X(jω)e^{-jωt_0} \n",
        "\\end{align}\n",
        "\n",
        "\\begin{align}\n",
        "|X'(jω)|=&|X(jω)|\\\\\n",
        "\\angle{X'(jω)}=&\\angle{X(jω)}-\\angle{\\omega t_0}\n",
        "\\end{align}\n",
        "\n",
        "Therefore, time shift will not affect the magnitude spectrum.\n",
        "But, phase spectrum is affected in a linear manner where phase shift is larger in large $\\omega$ .\n"
      ]
    },
    {
      "cell_type": "code",
      "execution_count": null,
      "metadata": {
        "id": "9wk3FJZ7Tyev"
      },
      "outputs": [],
      "source": [
        "##example"
      ]
    },
    {
      "cell_type": "markdown",
      "metadata": {
        "id": "5dlVC2nET1hn"
      },
      "source": [
        "### 3.3.3 Modulation/Shifting in Frequency"
      ]
    },
    {
      "cell_type": "markdown",
      "metadata": {
        "id": "sM07Mav9WPkX"
      },
      "source": [
        "\n",
        "\\begin{align}\n",
        "X(jω) ⇒ x(t)\\\\\n",
        "X[j(ω-ω_0)] ⇒ ?\n",
        "\\end{align}\n",
        "\\\n",
        "Here we want to find what is the inverse fourier transform of $X[j(\\omega-\\omega_0)]$.\n",
        "\n",
        "\\begin{align}\n",
        "\\mathcal{F}[x(t)]=X(jω) \n",
        "\\end{align}\n",
        "\n",
        "Consider fourier transform of $x(t) e^{jω_0t}$,\n",
        "\n",
        "\\begin{align}\n",
        "\\mathcal{F}[x(t) e^{jω_0t}]= &\\int_{-∞}^{∞}x(t)\\, e^{jω_0t}  \\, e^{-jωt} \\mathrm{d}t \\\\\n",
        "=&\\int_{-∞}^{∞}x(t)\\, e^{-j(\\omega-ω_0)t} \\mathrm{d}t \\\\\n",
        "\\mathcal{F}[x(t) e^{jω_0t}]=&X[j(ω-ω_0)]\n",
        "\\end{align}\n",
        "\n",
        "Therfore,\n",
        "\n",
        "\\begin{align}\n",
        "\\mathcal{F^{-1}}[X[j(ω-\\omega_0)]= x(t) e^{jω_0t}\n",
        "\\end{align}"
      ]
    },
    {
      "cell_type": "markdown",
      "metadata": {
        "id": "tz4EW9oNjNqR"
      },
      "source": [
        "### 3.3.4 Differentiation and Integration"
      ]
    },
    {
      "cell_type": "markdown",
      "metadata": {
        "id": "S0MnW6kFja_q"
      },
      "source": [
        "#### Differentiation"
      ]
    },
    {
      "cell_type": "markdown",
      "metadata": {
        "id": "JGw88mqdji84"
      },
      "source": [
        "\\begin{align}\n",
        "x(t)=& \\frac{1} {2π} \\, \\int_{-∞}^{∞}X(jω) \\, e^{jωt} \\, \\mathrm{d}ω \\\\ \n",
        "\\\\\n",
        "x'(t)=&\\frac{\\mathrm{d} x(t)}{\\mathrm{d}t}\\\\\n",
        "=&\\frac{\\mathrm{d}}{\\mathrm{d}t}(\\frac{1} {2π} \\, \\int_{-∞}^{∞}X(jω) \\, e^{jωt} \\, \\mathrm{d}ω) \\\\\n",
        "=&\\frac{1} {2π}\\int_{-∞}^{∞}\\frac{\\mathrm{d}}{\\mathrm{d}t}[X(jω) \\, e^{jωt} ] \\,\\mathrm{d}ω \\\\\n",
        "=&\\frac{1} {2π}\\int_{-∞}^{∞}X(jω)\\frac{\\mathrm{d}}{\\mathrm{d}t}[e^{jωt} ] \\,\\mathrm{d}ω \\\\\n",
        "x'(t)=&\\frac{1} {2π}\\int_{-∞}^{∞}[(j\\omega)X(jω)]\\,e^{jωt} \\,\\mathrm{d}ω \\\\\n",
        "\\end{align}\n",
        "\n",
        "Therfore, \n",
        "\\begin{align}\n",
        "X'(jω)= (j\\omega)X(jω)\n",
        "\\end{align}\n",
        "\n",
        "Higher the $\\omega$, higher the |X'(jω)|. Therfore, differentiation is high pass process.\n",
        "\n",
        "Simillary,\n",
        "\\begin{align}\n",
        "X^{n}(jω)= (j\\omega)^{n}X(jω)\n",
        "\\end{align}"
      ]
    },
    {
      "cell_type": "markdown",
      "metadata": {
        "id": "Ij94nBjdsNxF"
      },
      "source": [
        "#### Integration"
      ]
    },
    {
      "cell_type": "markdown",
      "metadata": {
        "id": "PdC2DvUpsRoV"
      },
      "source": [
        "Fourier transform of integration of $x(t)$ is given by,\\\n",
        "\\\n",
        "\\begin{align}\n",
        "\\mathcal{F}[\\int_{-∞}^{t}x(𝝉)\\,\\mathrm{d}𝝉] = \\frac{X(j\\omega)}{j\\omega} +π\\,{X(0)}\\,δ(\\omega)\n",
        "\\end{align}\\\n",
        "where $X(0)$ is area under the curve which is given by,\\\n",
        "\\\n",
        "\\begin{align}\n",
        "X(0)=\\int_{-∞}^{∞}x(t)\\,\\mathrm{d}t\n",
        "\\end{align}\\\n",
        "\\\n",
        "Aslong as area under the curve is non zero integrated signal will generate a dc value, $π\\,{X(0)}\\,δ(\\omega)$ and it will appear as a impulse at $\\omega=0$.\\\n",
        "\\\n",
        "Integration is low pass process as integration operation will smooth the high frequency components."
      ]
    },
    {
      "cell_type": "code",
      "execution_count": null,
      "metadata": {
        "id": "6ePSVUy9aW4X"
      },
      "outputs": [],
      "source": [
        "##plot"
      ]
    },
    {
      "cell_type": "markdown",
      "metadata": {
        "id": "t5CAFYP8aYsP"
      },
      "source": [
        "We can find fourier transform of x(t) using integration and differentiation results as bellow.\\\n",
        "\\\n",
        "\\begin{align}\n",
        "\\mathcal{F}[x(t)] = \\frac{X'(j\\omega)}{j\\omega} +π\\,{X'(0)}\\,δ(\\omega)\n",
        "\\end{align}"
      ]
    },
    {
      "cell_type": "markdown",
      "metadata": {
        "id": "WVEbb-gayHbv"
      },
      "source": [
        "### 3.3.7 Uses of Properties(examples of derivations)"
      ]
    },
    {
      "cell_type": "markdown",
      "metadata": {
        "id": "RQU9ID4lcVP-"
      },
      "source": [
        " Example 1"
      ]
    },
    {
      "cell_type": "code",
      "execution_count": null,
      "metadata": {
        "id": "77O0X0dAdQBh"
      },
      "outputs": [],
      "source": [
        "#plot 1"
      ]
    },
    {
      "cell_type": "markdown",
      "metadata": {
        "id": "Xe5gzY2XdVg9"
      },
      "source": [
        "Area under the curve is not zero.\n",
        "\\begin{align}\n",
        "\\int_{-∞}^{∞}x'(t)\\,\\mathrm{d}t \\neq 0\n",
        "\\end{align}"
      ]
    },
    {
      "cell_type": "code",
      "execution_count": null,
      "metadata": {
        "id": "KbQu95qgzmxA"
      },
      "outputs": [],
      "source": [
        "#plot 2"
      ]
    },
    {
      "cell_type": "markdown",
      "metadata": {
        "id": "XlfAbO90zowf"
      },
      "source": [
        "Positive and negative area will be cancell out.\n",
        "Therfore,area under the curve is zero.\n",
        "\\begin{align}\n",
        "\\int_{-∞}^{∞}x'(t)\\,\\mathrm{d}t = 0\n",
        "\\end{align}"
      ]
    },
    {
      "cell_type": "markdown",
      "metadata": {
        "id": "EIud4t_Jz91e"
      },
      "source": [
        "If $\\int_{-∞}^{∞}x'(t)\\,\\mathrm{d}t = 0$ ,\n",
        "\\begin{align}\n",
        "\\mathcal{F}[x(t)] = \\frac{X'(j\\omega)}{j\\omega}\n",
        "\\end{align} \n"
      ]
    },
    {
      "cell_type": "markdown",
      "metadata": {
        "id": "TXSDzYrK0uZ3"
      },
      "source": [
        "Example 2"
      ]
    },
    {
      "cell_type": "code",
      "execution_count": null,
      "metadata": {
        "id": "hju8wdnS1Mr-"
      },
      "outputs": [],
      "source": [
        "#plot of x(t)"
      ]
    },
    {
      "cell_type": "code",
      "execution_count": null,
      "metadata": {
        "id": "AbZxwM8u1P1P"
      },
      "outputs": [],
      "source": [
        "#plot of x'(t)"
      ]
    },
    {
      "cell_type": "markdown",
      "metadata": {
        "id": "zKxSYLZl1Szm"
      },
      "source": [
        "\\begin{align}\n",
        "x'(t)=&\\delta(t+T_1)-\\delta(t-T_1) \\\\\n",
        "X'(j\\omega)=&1.e^{j\\omega T_1}-1.e^{-j\\omega T_1} \\\\\n",
        "\\end{align}\n",
        "Since $x(t)=\\int_{-\\infty}^{t}x(\\tau)\\,\\mathrm{d}\\tau , $\n",
        "\\begin{align}\n",
        "X(j\\omega)= &\\frac{X'(j\\omega)}{j\\omega} +π\\,{X'(0)}\\,δ(\\omega)\n",
        "\\end{align}\n",
        "\\\n",
        "Here, $X'(0)=\\int_{-∞}^{∞}x'(t)\\,\\mathrm{d}t = 0 $\n",
        "\\\n",
        "Therefore, \n",
        "\\begin{align}\n",
        "X(j\\omega)=& \\frac{X'(j\\omega)}{j\\omega} =\\frac{e^{j\\omega T_1}-e^{-j\\omega T_1}}{j\\omega}\\\\\n",
        "X(j\\omega)= &\\frac{2}{\\omega}\\frac{e^{j\\omega T_1}-e^{-j\\omega T_1}}{2j} \\\\\n",
        "X(j\\omega)=&\\frac{2}{\\omega}\\sin(\\omega T_1) \\\\\n",
        "X(j\\omega)=& 2 T_1 \\frac{\\sin[\\pi (\\frac{\\omega T_1}{\\pi})]}{\\pi (\\frac{\\omega T_1}{\\pi})} \\\\\n",
        "X(j\\omega)=& 2 T_1 \\sin(\\frac{\\omega T_1}{\\pi})\n",
        "\\end{align}\n",
        "\n",
        "\n"
      ]
    },
    {
      "cell_type": "markdown",
      "metadata": {
        "id": "d3iRdr7q-32M"
      },
      "source": [
        "Example 3\n"
      ]
    },
    {
      "cell_type": "code",
      "execution_count": null,
      "metadata": {
        "id": "gZye2ZAm-_tz"
      },
      "outputs": [],
      "source": [
        "#plot x(t)"
      ]
    },
    {
      "cell_type": "code",
      "execution_count": null,
      "metadata": {
        "id": "e7Tw91Zj_Ckr"
      },
      "outputs": [],
      "source": [
        "#plot x'(t)"
      ]
    },
    {
      "cell_type": "code",
      "execution_count": null,
      "metadata": {
        "id": "R6bHNDyw_E-O"
      },
      "outputs": [],
      "source": [
        "#plot x\"(t)"
      ]
    },
    {
      "cell_type": "markdown",
      "metadata": {
        "id": "iZ6bd_JD_LK7"
      },
      "source": [
        "Accoding to the plot of $x^{\"}(t),$\n",
        "\\begin{align}\n",
        "X^{\"}(j\\omega)=&\\frac{Ae^{j\\omega \\,T_1}}{T_1} -\\frac{2A}{T_1} +\\frac{A e^{-j\\omega T_1}}{T_1} \\\\\n",
        "=&\\frac{A}{T_1}(e^{j\\omega \\,T_1} -2 +e^{-j\\omega \\,T_1})\n",
        "\\end{align}\n",
        "\\\n",
        "Since $\\int_{-∞}^{∞}x^{\"}(t)\\,\\mathrm{d}t = 0, $\n",
        "\\begin{align}\n",
        "X'(j\\omega)=& \\frac{\\frac{A}{T_1}(e^{j\\omega \\,T_1} -2 +e^{-j\\omega \\,T_1})}{j\\omega}\n",
        "\\end{align}\n",
        "\\\n",
        "since $\\int_{-∞}^{∞}x^{'}(t)\\,\\mathrm{d}t = 0 , $\n",
        "\\begin{align}\n",
        "X(j\\omega)=& \\frac{\\frac{A}{T_1}(e^{j\\omega \\,T_1} -2 +e^{-j\\omega \\,T_1})}{(j\\omega)^2}\n",
        "\\end{align}\n"
      ]
    },
    {
      "cell_type": "markdown",
      "metadata": {
        "id": "OAljMoRlJFqC"
      },
      "source": [
        "#### $\\mathcal{F^{-1}}[δ(\\omega)]$"
      ]
    },
    {
      "cell_type": "markdown",
      "metadata": {
        "id": "qiRXqY5YLe4R"
      },
      "source": [
        "Inverse fourier transform of $\\delta(\\omega) ,$\n",
        "\\begin{align}\n",
        "x(t)=& \\frac{1} {2π} \\, \\int_{-∞}^{∞}\\delta(ω) \\, e^{jωt} \\, \\mathrm{d}ω \\\\\n",
        "=& \\frac{1} {2π} \\, \\int_{-∞}^{∞}\\delta(ω) \\, e^{j\\times 0 \\times t} \\, \\mathrm{d}ω \\\\\n",
        "=& \\frac{1} {2π} \\, \\int_{-∞}^{∞}\\delta(ω) \\mathrm{d}ω \\\\\n",
        "x(t)=& \\frac{1} {2π}\n",
        "\\end{align} \n",
        "\\\n",
        "Therefore, \n",
        "\\begin{align}\n",
        "\\mathcal{F}[1]=2\\pi \\delta(\\omega)\n",
        "\\end{align}\n",
        "\\\n",
        "Simillary,\n",
        "\\begin{align}\n",
        "\\mathcal{F}[k]=2\\pi k \\delta(\\omega)\n",
        "\\end{align}\n"
      ]
    },
    {
      "cell_type": "markdown",
      "metadata": {
        "id": "FRY0wFz8OcLa"
      },
      "source": [
        "#### F.T. of Periodic signals"
      ]
    },
    {
      "cell_type": "markdown",
      "metadata": {
        "id": "pq0P3hXQOtKI"
      },
      "source": [
        "\\begin{align}\n",
        "\\mathcal{F}[e^{j\\omega_o t}]= &\\mathcal{F}[e^{1 \\times j\\omega_o t}] \\\\\n",
        "=& 2\\pi \\delta(\\omega-\\omega_o)\n",
        "\\end{align}"
      ]
    },
    {
      "cell_type": "code",
      "execution_count": null,
      "metadata": {
        "id": "dzwOSmgVQCPA"
      },
      "outputs": [],
      "source": [
        "#plot |x|\n"
      ]
    },
    {
      "cell_type": "code",
      "execution_count": null,
      "metadata": {
        "id": "kZawOpsjQGSA"
      },
      "outputs": [],
      "source": [
        "#plot arg(X)"
      ]
    },
    {
      "cell_type": "markdown",
      "metadata": {
        "id": "iQ5p_lNLQJcA"
      },
      "source": [
        "\\begin{align}\n",
        "\\mathcal{F}[\\cos(\\omega_o t)]= &\\mathcal{F}[\\frac{e^{j\\omega_o t}+e^{-j\\omega_o t}}{2}] \\\\\n",
        "=& \\pi \\delta(\\omega-\\omega_o) +\\pi \\delta(\\omega+\\omega_o)\n",
        "\\end{align}"
      ]
    },
    {
      "cell_type": "code",
      "execution_count": null,
      "metadata": {
        "id": "2FfKjdMbRSYo"
      },
      "outputs": [],
      "source": [
        "#plot |x|"
      ]
    },
    {
      "cell_type": "code",
      "execution_count": null,
      "metadata": {
        "id": "2qMo7F-YRUs4"
      },
      "outputs": [],
      "source": [
        "#plot arg(X)"
      ]
    },
    {
      "cell_type": "markdown",
      "metadata": {
        "id": "T0tfl_R2ReBC"
      },
      "source": [
        "\\begin{align}\n",
        "\\mathcal{F}[\\sin(\\omega_o t)]= &\\mathcal{F}[\\frac{e^{j\\omega_o t}-e^{-j\\omega_o t}}{2j}] \\\\\n",
        "=& \\frac{\\pi \\delta(\\omega-\\omega_o)}{j} -\\frac{\\pi \\delta(\\omega+\\omega_o)}{j}\n",
        "\\end{align}"
      ]
    },
    {
      "cell_type": "code",
      "execution_count": null,
      "metadata": {
        "id": "YtkhEFbOSCvp"
      },
      "outputs": [],
      "source": [
        "#plot |x|"
      ]
    },
    {
      "cell_type": "code",
      "execution_count": null,
      "metadata": {
        "id": "Xdi-CnydSEMP"
      },
      "outputs": [],
      "source": [
        "#plot arg(X)"
      ]
    },
    {
      "cell_type": "markdown",
      "metadata": {
        "id": "461QODg8SFpA"
      },
      "source": [
        "Consider a periodic signal with fundamental Frequency $\\omega_o $\n",
        "\\begin{align}\n",
        "x(t)=&\\sum_{k=-∞}^∞ X_k e^{jk\\omega_o t}\\\\ \n",
        "\\\n",
        "\\mathcal{F}[x(t)]=&\\mathcal{F}[\\sum_{k=-∞}^∞ X_k e^{jk\\omega_o t}]\\\\\n",
        "=&\\sum_{k=-∞}^∞ \\mathcal{F}[ X_k e^{jk\\omega_o t}] \\\\\n",
        "=&\\sum_{k=-∞}^∞  X_k \\mathcal{F}[e^{jk\\omega_o t}] \\\\\n",
        "=&\\sum_{k=-∞}^∞  X_k \\,2\\pi \\,\\delta(\\omega-k\\omega_o) \\\\\n",
        "\\mathcal{F}[x(t)]=& 2\\pi \\,\\sum_{k=-∞}^∞  X_k \\,\\delta(\\omega-k\\omega_o)\n",
        "\\end{align}"
      ]
    },
    {
      "cell_type": "code",
      "execution_count": null,
      "metadata": {
        "id": "yUQzHfqeUqQA"
      },
      "outputs": [],
      "source": [
        "#spectrum for periodic signal"
      ]
    },
    {
      "cell_type": "markdown",
      "source": [
        "##  3.6 Energy of the signal"
      ],
      "metadata": {
        "id": "j66GudtdqzS1"
      }
    },
    {
      "cell_type": "markdown",
      "metadata": {
        "id": "dWw0yeoielEB"
      },
      "source": [
        "#### Parseval's theorem.\n",
        "\n",
        "---"
      ]
    },
    {
      "cell_type": "markdown",
      "metadata": {
        "id": "FgrDOjvBjh4O"
      },
      "source": [
        "\\begin{align}\n",
        "E &= \\int_{-\\infty}^\\infty |x(t)|^2 dt \\\\\n",
        "&= \\int_{-\\infty}^\\infty x(t)x^*(t) dt \\\\\n",
        "&= \\int_{-\\infty}^\\infty \\frac{1}{2\\pi}\\int_{-\\infty}^\\infty X(j\\omega)e^{+j \\omega t} d\\omega . x^*(t) dt \\\\\n",
        "&= \\frac{1}{2\\pi} \\int_{-\\infty}^\\infty X(j\\omega) \\int_{-\\infty}^\\infty x^*(t)e^{+j \\omega t} dt.d\\omega \\\\\n",
        "&= \\frac{1}{2\\pi} \\int_{-\\infty}^\\infty X(j\\omega) \\left[\\int_{-\\infty}^\\infty x(t)e^{-j \\omega t} dt \\right]^* d\\omega \\\\\n",
        "&= \\frac{1}{2\\pi} \\int_{-\\infty}^\\infty X(j\\omega) X^*(j\\omega) d\\omega \\\\\n",
        "&= \\frac{1}{2\\pi} \\int_{-\\infty}^\\infty |X(j\\omega)|^2 d \\omega \\\\\n",
        "\\end{align}\n",
        "\n",
        "**Energy**\n",
        "\n",
        "---\n",
        "\n",
        "> $ E = \\int_{-\\infty}^\\infty |x(t)|^2 dt $ \n",
        "\n",
        ">>> (2nd norm in time domain.)\n",
        "\n",
        "> $ E = \\frac{1}{2\\pi} \\int_{-\\infty}^\\infty |X(j\\omega)|^2 d \\omega $ \n",
        "\n",
        ">>> (2nd norm in frequency domain.)"
      ]
    },
    {
      "cell_type": "code",
      "source": [],
      "metadata": {
        "id": "xChxL8_Puw5T"
      },
      "execution_count": null,
      "outputs": []
    },
    {
      "cell_type": "markdown",
      "source": [
        "Example : "
      ],
      "metadata": {
        "id": "X0h5RpCFsdPy"
      }
    },
    {
      "cell_type": "code",
      "source": [
        "# Page 80 Plot"
      ],
      "metadata": {
        "id": "ZrCSpYKDslSg"
      },
      "execution_count": null,
      "outputs": []
    },
    {
      "cell_type": "markdown",
      "source": [
        "$E_{(j \\omega)} = \\frac{1}{2 \\pi} |X_{j \\omega}|^2$ <br>\n",
        "$E_{\\ -B \\ \\to \\ +B} = \\int _{-b}^{+b} E_{j \\omega} \\  d\\omega = \\frac{1}{2 \\pi} \\int_{-B}^{+B} |X_{j \\omega}|^2 d\\omega$ <br>\n",
        "\n"
      ],
      "metadata": {
        "id": "YRMcbKgNtAj9"
      }
    },
    {
      "cell_type": "markdown",
      "source": [
        "Example : "
      ],
      "metadata": {
        "id": "DC3gbdAlu15S"
      }
    },
    {
      "cell_type": "code",
      "source": [
        "# Page 80 Plot 2 "
      ],
      "metadata": {
        "id": "z6803uqOu3o_"
      },
      "execution_count": null,
      "outputs": []
    },
    {
      "cell_type": "markdown",
      "source": [
        "## 3.6 Modulation"
      ],
      "metadata": {
        "id": "wd1wohKuu5tF"
      }
    },
    {
      "cell_type": "markdown",
      "source": [
        "\\begin{align}\n",
        "\\mathcal{F}[x(t) \\ e^{j \\omega t}]=&X_{[j(\\omega - \\omega_{0})]} \n",
        "\\\\ \\\\\n",
        "\\mathcal{F}[x(t) \\ cos{\\omega_0 t}] =& \\mathcal{F}[x_{(t)} . \\frac{e^{j\\omega_o t} + e^{-j\\omega_{0}t}}{2} ] \\\\ \\\\\n",
        "=& \\frac{\\mathcal{F}[x(t) . e^{j\\omega_{0} t}]}{2} + \\frac{\\mathcal{F}[x(t) . e^{-j\\omega_{0} t}]}{2} \n",
        "\\\\ \\\\ \n",
        "=& \\frac{X[j(\\omega - \\omega_{0})]}{2} + \\frac{X[j(\\omega - \\omega_{0})]}{2}\n",
        "\\end{align}"
      ],
      "metadata": {
        "id": "r677Mv_zvc9I"
      }
    },
    {
      "cell_type": "code",
      "source": [
        "# Page 81 Figure set"
      ],
      "metadata": {
        "id": "Pou8jwBxx6ZM"
      },
      "execution_count": null,
      "outputs": []
    },
    {
      "cell_type": "markdown",
      "source": [
        "## 3.7 L.T.I. systems and F.T."
      ],
      "metadata": {
        "id": "GN1dGfA_yTUn"
      }
    },
    {
      "cell_type": "markdown",
      "source": [
        "### 3.7.1 Frequency response\n"
      ],
      "metadata": {
        "id": "f5GVxwzP4uIA"
      }
    },
    {
      "cell_type": "markdown",
      "source": [
        "$x(t) \\to  [ \\ h(t) \\ ] \\to  y(t)$ <br>\n",
        "\n",
        "\n"
      ],
      "metadata": {
        "id": "hpP_ZzXpyXjc"
      }
    },
    {
      "cell_type": "markdown",
      "source": [
        "\\begin{align}\n",
        "y(t) =& x(t)*h(t) \n",
        "\\\\ \\\\\n",
        " =& \\int_{-\\infty}^{+\\infty}\\ x(\\tau)\\ h(t - \\tau)  d \\tau \n",
        "\\\\ \\\\\n",
        "\\mathcal{F}[y(t)] =& \\int_{- \\infty}^{+ \\infty} \\int_{-\\infty}^{+\\infty} x(\\tau)\\ h(t - \\tau)  d \\tau . e^{-j\\omega t} dt\n",
        "\\\\ \\\\\n",
        "=& \\int_{- \\infty}^{+ \\infty} x(\\tau)\\ \\int_{-\\infty}^{+\\infty}  h(t - \\tau) . e^{-j\\omega t} dt . d \\tau \\ \\ \\  \\ \\   & \\begin{cases}\n",
        "\\int_{-\\infty}^{+\\infty}  h(t - \\tau) . e^{-j\\omega t} dt  \\implies \\mathcal{F}[h(t - \\tau)] \\  \\implies \\ H(j\\omega) . e^{-j\\omega\\tau}\n",
        "\\end{cases}\n",
        "\\\\ \\\\\n",
        "=& \\int_{- \\infty}^{+\\infty}x(\\tau).H(j\\omega).e^{-j\\omega\\tau} \\ d\\tau\n",
        "\\\\ \\\\\n",
        "=& H(j\\omega) \\int_{-\\infty}^{+\\infty}x(\\tau).e^{-j\\omega t} d\\tau   & \\begin{cases}\n",
        "\\int_{-\\infty}^{+\\infty}x(\\tau).e^{-j\\omega t} d\\tau \\end{cases}\n",
        "\\\\ \\\\\n",
        "=& H(j\\omega).X(\\ j\\omega)\n",
        "\\end{align}"
      ],
      "metadata": {
        "id": "IlAlQDxszKI1"
      }
    },
    {
      "cell_type": "markdown",
      "source": [
        "$Y(j\\omega) = X(j\\omega).H(j\\omega)$ \n",
        "\n",
        "Where;\n",
        "> 1. $Y(j\\omega)$ : Output Spectrum signal   \n",
        "> 2. $X(j\\omega)$ Input Signal Spectrum \n",
        "> 3. $H(j\\omega)$ Frequency response of the system "
      ],
      "metadata": {
        "id": "iMuluWF53BDR"
      }
    },
    {
      "cell_type": "markdown",
      "source": [
        "If a signal $x(t)$ passes through a LTI system with an impulse response of $h(t)$, the output signal $y(t)$ has the following relation ship; <br>\n",
        "The spectrum of the input signal $X(j\\omega)$ is multiplied by the frequency response of the system $H(j\\omega)$ gives the output signal spectrum $Y(j\\omega)$\n"
      ],
      "metadata": {
        "id": "hWYrOehn37To"
      }
    },
    {
      "cell_type": "markdown",
      "source": [
        "### 3.7.2 Convolution Property"
      ],
      "metadata": {
        "id": "DUJq5s4a4wrs"
      }
    },
    {
      "cell_type": "markdown",
      "source": [
        "\\begin{align}\n",
        "\\mathcal{F}[x(t)*y{t}] =\\ & X(j\\omega).Y(j\\omega) \n",
        "\\\\ \\\\\n",
        "=\\ & X(\\omega).Y(\\omega)\n",
        "\\end{align} <br>\n",
        "\n",
        "From the duality theorem ;\n",
        "\\begin{align}\n",
        "\\mathcal{F}[x(t)*y{t}] =\\ & 2\\pi x(-\\omega)*y(-\\omega) ------(1)\n",
        "\\end{align} <br>\n",
        "\n",
        "but;\n",
        "\n",
        "From the duality theorem ;\n",
        "\\begin{align}\n",
        "\\mathcal{F}[x(t)] =\\ & X(\\omega)   & and \\ \\ \\ \\ \\ \\   \\mathcal{F}[y(t)] =\\ & Y(\\omega)\n",
        "\\end{align} <br>\n",
        "\n",
        "Also from the duelity theorem ;\n",
        "\\begin{align}\n",
        "\\mathcal{F}[x(t)] =\\ & 2\\pi . X(- \\omega)   & and \\ \\ \\ \\ \\ \\ \\mathcal{F}[y(t)] =\\ &  2\\pi . Y( - \\omega)\n",
        "\\end{align} <br>\n",
        "\n",
        "Applying the relationships to the $equation \\  (1)$\n",
        "\\begin{align}\n",
        "\\mathcal{F}[x(t)*y{t}] =\\ & 2\\pi . (\\frac{\\mathcal{F}[X(t)]}{2\\pi})*(\\frac{\\mathcal{F}[Y(t)]}{2\\pi})\n",
        "\\\\ \\\\\n",
        "=\\ & \\frac{\\mathcal{F}[X(t)]*\\mathcal{F}[Y(t)]}{2\\pi}\n",
        "\\end{align} <br>\n",
        "\n",
        "Consequence of this ;\n",
        "\n",
        "\\begin{align}\n",
        "\\mathcal{F}[x(t)*y{t}] =\\ & 2\\pi . (\\frac{\\mathcal{F}[X(t)]}{2\\pi})*(\\frac{\\mathcal{F}[Y(t)]}{2\\pi})\n",
        "\\\\ \\\\\n",
        "=\\ & \\frac{X(j\\omega)*Y(j\\omega)}{2\\pi}\n",
        "\\end{align} <br>\n"
      ],
      "metadata": {
        "id": "l5XqGtyH4z4W"
      }
    },
    {
      "cell_type": "markdown",
      "source": [
        "### 3.7.3 Differentiation Property"
      ],
      "metadata": {
        "id": "nY2odz7K8Ja1"
      }
    },
    {
      "cell_type": "markdown",
      "source": [
        "\\begin{align}\n",
        "\\mathcal{F[\\frac{d\\ x(t)}{dt}]} = \\ & (j\\omega).X(j\\omega) \n",
        "\\end{align} <br>\n",
        "\n",
        "From the duality theorem ;\n",
        "\\begin{align}\n",
        "\\mathcal{F[jt.X(t)]} = \\ & 2\\pi \\frac{d \\ x(-\\omega)}{d(-\\omega)} ----- (1)\n",
        "\\end{align} <br>\n",
        "\n",
        "but;\n",
        "\\begin{align}\n",
        "\\mathcal{F[x(t)]} = \\ & X(\\omega)\n",
        "\\end{align} <br>\n",
        "then , from the duality theorem;\n",
        "\n",
        "\\begin{align}\n",
        "\\mathcal{F[x(t)]} = \\ & 2\\pi . X(-\\omega)\n",
        "\\\\ \\\\\n",
        "\\frac{d(\\mathcal{F[x(t)]})}{d\\omega} = \\ &2\\pi . \\frac{d \\ x(-\\omega)}{d\\omega}\n",
        "\\end{align} <br>\n",
        "\n",
        "Applying the above into $equation \\ (1)$\n",
        "\\begin{align}\n",
        "\\mathcal{F[jt.X(t)]} = \\ & \\frac{d(\\mathcal{F[x(t)]})}{-d\\omega}  \n",
        "\\\\ \\\\\n",
        "\\mathcal{F[t.X(t)]} = \\ & -j . \\frac{d(\\mathcal{F[x(t)]})}{-d\\omega}  \n",
        "\\\\ \\\\ \n",
        "\\mathcal{F[t.X(t)]} = \\ & j . \\frac{d(\\mathcal{F[x(t)]})}{d\\omega} ------- (2)\n",
        "\\end{align} <br>\n",
        "\n"
      ],
      "metadata": {
        "id": "GuK7_7hO8PqY"
      }
    },
    {
      "cell_type": "markdown",
      "source": [
        "**Example : $h(t) = e^{-3t} . u(t)$  and  $x(t) = e^{-t} . u(t)$**"
      ],
      "metadata": {
        "id": "Uwm5KN8o-qAb"
      }
    },
    {
      "cell_type": "markdown",
      "source": [
        "\\begin{align}\n",
        "H(j\\omega) = \\ & \\frac{1}{3 + j \\omega}  & and\\  & \\ \\ \\ \\ \\ \\  X(j\\omega) = \\frac{1}{1 + j \\omega}\n",
        "\\\\ \\\\ \n",
        "Y(j\\omega) = \\ & X(j\\omega).H(j\\omega)\n",
        "\\\\ \\\\ \n",
        "= \\ & \\frac{1}{1 + j \\omega} . \\frac{1}{3 + j \\omega} \n",
        "\\\\ \\\\ \n",
        "= \\ &  \\frac{+0.5}{1 + j \\omega} + \\frac{-0.5}{3 + j \\omega}  \n",
        "\\\\ \\\\\n",
        "y(t) = \\ & \\frac{1}{2}. (e^{-t}-e^{-3t})\\ u(t)\n",
        "\\end{align} <br>\n"
      ],
      "metadata": {
        "id": "GpeHvDN--7i7"
      }
    },
    {
      "cell_type": "markdown",
      "source": [
        "\\begin{align}\n",
        "\\mathcal{F[\\delta(t)]} = \\ & 1    & and \\  \\ \\ \\ \\  if \\ \\ \\ \\  x(t) = \\ \\delta(t)  \\ \\ \\  \\ \\ \\ \\  X(j\\omega) = 1\n",
        "\\end{align} <br>\n",
        "then\n",
        "\\begin{align}\n",
        "Y(j\\omega) = \\ & \\ H(j\\omega)\n",
        "\\\\ \\\\\n",
        "|H(j\\omega)| \\implies  \\ &  Magnitude frequency response of the LTI system \n",
        "\\\\ \\\\ \n",
        "\\angle H(j\\omega) \\implies \\ & Phase response of the LTI system\n",
        "\\end{align} <br>"
      ],
      "metadata": {
        "id": "KTgR4VHyANGE"
      }
    },
    {
      "cell_type": "code",
      "source": [
        "#Figure in page 85"
      ],
      "metadata": {
        "id": "0auncCbNBsol"
      },
      "execution_count": null,
      "outputs": []
    },
    {
      "cell_type": "markdown",
      "source": [
        "Output Spectrum is the intersection of the spectrum of the impulse response"
      ],
      "metadata": {
        "id": "qp7igFYUBu-u"
      }
    },
    {
      "cell_type": "markdown",
      "source": [
        "### 3.7.4 LTI systems by Differential Equations"
      ],
      "metadata": {
        "id": "jpgNmtP4B2Tv"
      }
    },
    {
      "cell_type": "markdown",
      "source": [
        "\\begin{align}\n",
        "a_{n} \\frac{d^{n}y(t)}{dt^{n}} + a_{n-1} \\frac{d^{n-1}y(t)}{dt^{n-1}} + ... + a_{0}y(t) = \\ & b_m \\frac{d^{m}x(t)}{dt^{m} + ... + b_{0} x(t)} \n",
        "\\end{align} <br>\n",
        "By applying the fourier transform on poth sides\n",
        "\n",
        "\\begin{align}\n",
        "a_n(j\\omega)^n\n",
        ".Y(j\\omega) + a_{n-1}(j\\omega)^{n-1}\n",
        ".Y(j\\omega) + ... + a_0Y(j\\omega) = \\ & b_m(j\\omega)^m. X(j\\omega) + ... + b_0.X(j\\omega1\n",
        "\\\\ \\\\\n",
        "\\end{align} <br>\n",
        "\n",
        "\\begin{align}\n",
        "H(j\\omega) = \\ & \\frac{Y(j\\omega)}{X(j\\omega)} = \\frac{b_m(j\\omega)^m + b_{m-1}(j\\omega)^{m-1}+...+ b_0}{a_n(j\\omega)^n + a_{n-1}(j\\omega)^{n-1}}\n",
        "\\end{align} <br>\n",
        "\n"
      ],
      "metadata": {
        "id": "SnH3Lp-MCB6s"
      }
    },
    {
      "cell_type": "markdown",
      "source": [
        "**Example :**"
      ],
      "metadata": {
        "id": "ov90fb_0D-Kw"
      }
    },
    {
      "cell_type": "markdown",
      "source": [
        "\\begin{align}\n",
        "\\frac{d^2y(t)}{dt^2} + 4.\\frac{dy(t)}{dt} + 3y(t) = \\ & \\frac{dx(t)}{dt} + 2x(t)\n",
        "\\\\ \\\\ \n",
        "H(j\\omega) = \\ & \\frac{(j\\omega) + 2}{(j\\omega)^2 + 4(j\\omega) + 3}\n",
        "\\\\ \\\\ \n",
        "= \\ & \\frac{(j\\omega) + 2 }{(j\\omega + 3)(j\\omega + 1)}\n",
        "\\\\ \\\\ \n",
        "= \\ &  \\frac{0.5}{j\\omega + 3} + \\frac{0.5}{j\\omega + 1}\n",
        "\\\\  \\\\\n",
        "h(t) \\ = \\ & \\frac{1}{2} . (e^{-3t} + e^{-t}).u(t)\n",
        "\\end{align} <br>\n"
      ],
      "metadata": {
        "id": "2AiNhrH-EC3Z"
      }
    }
  ],
  "metadata": {
    "colab": {
      "collapsed_sections": [
        "2L4zQFHK4ZJn",
        "m_9KyI9B4UNo",
        "KS8lPsht43XK",
        "ea4TIOz3wzvv",
        "-QXTnDHmsC8T",
        "VVZeuu2Keuht",
        "kut8JvO9CY8i",
        "B9d1PKHS4e7z",
        "8GE27FheOtl-",
        "OjnDrx4tSBHV",
        "ynIFlV7kHxjg",
        "eCWCAEIeeZjZ"
      ],
      "provenance": [],
      "include_colab_link": true
    },
    "kernelspec": {
      "display_name": "Python 3",
      "name": "python3"
    },
    "language_info": {
      "name": "python"
    }
  },
  "nbformat": 4,
  "nbformat_minor": 0
}
