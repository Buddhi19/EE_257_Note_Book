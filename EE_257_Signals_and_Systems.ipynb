{
  "nbformat": 4,
  "nbformat_minor": 0,
  "metadata": {
    "colab": {
      "provenance": [],
      "collapsed_sections": [
        "2L4zQFHK4ZJn",
        "m_9KyI9B4UNo",
        "KS8lPsht43XK",
        "ea4TIOz3wzvv",
        "-QXTnDHmsC8T",
        "VVZeuu2Keuht",
        "kut8JvO9CY8i",
        "B9d1PKHS4e7z",
        "8GE27FheOtl-",
        "OjnDrx4tSBHV",
        "ynIFlV7kHxjg",
        "eCWCAEIeeZjZ"
      ],
      "include_colab_link": true
    },
    "kernelspec": {
      "name": "python3",
      "display_name": "Python 3"
    },
    "language_info": {
      "name": "python"
    }
  },
  "cells": [
    {
      "cell_type": "markdown",
      "metadata": {
        "id": "view-in-github",
        "colab_type": "text"
      },
      "source": [
        "<a href=\"https://colab.research.google.com/github/ThimiH/EE_257_Note_Book/blob/main/EE_257_Signals_and_Systems.ipynb\" target=\"_parent\"><img src=\"https://colab.research.google.com/assets/colab-badge.svg\" alt=\"Open In Colab\"/></a>"
      ]
    },
    {
      "cell_type": "markdown",
      "source": [
        "#Content"
      ],
      "metadata": {
        "id": "Rs_poxGowMlE"
      }
    },
    {
      "cell_type": "markdown",
      "source": [
        "## Signals"
      ],
      "metadata": {
        "id": "mV_buCRO0Ntf"
      }
    },
    {
      "cell_type": "markdown",
      "source": [
        "###1.0 Introduction"
      ],
      "metadata": {
        "id": "2L4zQFHK4ZJn"
      }
    },
    {
      "cell_type": "markdown",
      "source": [
        "\n",
        "  1.1 Classification of Signals\n",
        "\n",
        "\n",
        "*  Continuous and Descrete time signals\n",
        "*   Continuos and Descrete valued signals\n",
        "* Deterministic and Random Signals\n",
        "* Energy and Power signals\n",
        "*Odd and Even signals\n",
        "*Periodic and Aperiodic Signals\n",
        "\n",
        "1.2 Special Signals\n",
        "\n",
        "\n",
        "*   Complex Exponential Signals\n",
        "*   Impulse\n",
        "*Unit Step\n",
        "\n",
        "1.3 Continuous and Descerete time Systems\n",
        "\n",
        "> 1.3.1 Inter Connections Between Systems\n",
        "\n",
        "   \n",
        "*   Cascaded\n",
        "* Parallel\n",
        "*Series - Parallel\n",
        "*Feedback\n",
        "\n",
        "\n",
        "\n",
        "> 1.3.2 System Properties\n",
        "\n",
        "\n",
        "\n",
        "*   System with or without memory\n",
        "*   Inverse Systems\n",
        "*Time Invariance\n",
        "*Linearity\n",
        "*Causility\n",
        "\n",
        "1.4 Operations On signals\n",
        "\n",
        "\n",
        "*   Time Delay\n",
        "*   Time Scaling\n",
        "*Negation\n",
        "\n",
        "1.5 Linear Time Invarient Systems\n",
        "\n",
        "\n",
        "> 1.5.1 Convolution For Descrete LTI system\n",
        "\n",
        "> 1.5.2 Convolution For Continous LTI system\n",
        "\n",
        "1.6 Properties of Convolution\n",
        "\n",
        "\n",
        "\n",
        "*   $x(t) * \\delta(t) = x(t)$\n",
        "*   $x(t) * \\delta(t-T) = x(t-T)$\n",
        "*Commutativity\n",
        "*Distributivity\n",
        "*Condition for Inverse\n",
        "* Laplace Transform of Convolution\n",
        "\n",
        "\n",
        "\n",
        "\n",
        "\n",
        "\n",
        "\n",
        "\n"
      ],
      "metadata": {
        "id": "zft0FnwG0HN9"
      }
    },
    {
      "cell_type": "markdown",
      "source": [
        "### 2.0 Fourier Series"
      ],
      "metadata": {
        "id": "m_9KyI9B4UNo"
      }
    },
    {
      "cell_type": "markdown",
      "source": [
        "\n",
        "2.1 Introduction\n",
        "\n",
        "> 2.1.1 Inter-domain Analysis\n",
        "\n",
        "> 2.1.2 Periodic Signals\n",
        "\n",
        "> 2.1.3 Vector Space \n",
        "\n",
        "2.2 Fourier Series\n",
        ">2.2.1 Introduction\n",
        "\n",
        ">2.2.2 Coefficients of Fourier Series\n",
        "\n",
        "2.3 Properties of Fourier Series\n",
        "> 2.3.1 Linearity\n",
        "\n",
        "> 2.3.2 Time shifting\n",
        "\n",
        "> 2.3.3 Time Reverse\n",
        "\n",
        "> 2.3.4 Time Scaling\n",
        "\n",
        "> 2.3.5 Properties For Real Signals\n",
        ">> * Real and Even\n",
        ">> * Real and Odd\n",
        "\n",
        "> 2.3.6 Differentiation and Integration\n",
        "\n",
        ">2.3.7 Fourier Series of an Impulse \n",
        "\n",
        "2.4 Trignometric Fourier Series\n",
        "\n",
        "2.5 Power of a periodic signal\n",
        "\n",
        "\n",
        "*   Parseval's Theorem\n",
        "2.6 Periodic Signal through LTI system\n",
        "\n"
      ],
      "metadata": {
        "id": "rw9gMu8W2btd"
      }
    },
    {
      "cell_type": "markdown",
      "source": [
        "### 3.0 Fourier Transform"
      ],
      "metadata": {
        "id": "KS8lPsht43XK"
      }
    },
    {
      "cell_type": "markdown",
      "source": [
        "3.1 Introduction\n",
        "\n",
        "\n",
        "> 3.1.1 Complex Valued Functions\n",
        "\n",
        "> 3.1.2 From F.S. to F.T.\n",
        "\n",
        "> 3.1.3 Fouries Transform and Inverse F.T.\n",
        "\n",
        "> 3.1.4 F.T. and L.T.\n",
        "\n",
        "3.2 Fouries Transforms of Signals\n",
        ">3.2.1 $x(t) = e^{-at}u(t)$ and $x(t) = e^{-|a|t}$\n",
        "\n",
        ">3.2.2 Delta Function $δ(t)$\n",
        "\n",
        ">3.2.3 Square Pulse\n",
        "\n",
        ">3.2.4 Unit Step Function $u(t)$\n",
        "\n",
        "3.3 Properties of F.T.\n",
        ">3.3.1 Linearity\n",
        "\n",
        ">3.3.2 Time Shifting\n",
        "\n",
        ">3.3.3 Modulation / Shifting in Frequency\n",
        "\n",
        "> 3.3.4 Differentiation and Integratino\n",
        "\n",
        ">3.3.5 Time Scaling\n",
        "\n",
        ">3.3.6 Time Reversal\n",
        "\n",
        ">3.3.7 Uses of Properties (examples of derivations)\n",
        "\n",
        "\n",
        "\n",
        ">*   $\\mathcal{F}^{-1}[δ(ω))]$\n",
        ">*   F.T. of Periodic Signals\n",
        "\n",
        ">* $\\mathcal{F}[u(t)]$\n",
        "\n",
        "3.4 F.T. properties of real signals\n",
        "\n",
        "\n",
        "*   Real signals\n",
        "*   Real even signals\n",
        "* Real Odd signals\n",
        "\n",
        "3.5 Duality\n",
        "\n",
        "3.6 Energy of the signal\n",
        "*   Parseval's Theorem\n",
        "\n",
        "3.6 Modulation\n",
        "\n",
        "3.7 L.T.I. systems and F.T.\n",
        ">3.7.1 Frequency response\n",
        "\n",
        ">3.7.2 Convolution Property\n",
        "\n",
        ">3.7.3 Differentiation Property\n",
        "\n",
        "\n",
        "\n",
        "\n",
        "\n",
        "\n",
        "\n",
        "\n",
        "\n"
      ],
      "metadata": {
        "id": "2n5aCeEH47XL"
      }
    },
    {
      "cell_type": "markdown",
      "source": [
        "# Libraries"
      ],
      "metadata": {
        "id": "ea4TIOz3wzvv"
      }
    },
    {
      "cell_type": "code",
      "source": [
        "####################### include the libraries that are used ######################\n",
        "import numpy as np\n",
        "import matplotlib.pyplot as plt\n",
        "from sympy import *\n",
        "from scipy import signal\n",
        "from matplotlib import style"
      ],
      "metadata": {
        "id": "RUCRY3hq4m7Z"
      },
      "execution_count": null,
      "outputs": []
    },
    {
      "cell_type": "code",
      "source": [
        "class Waves:\n",
        "  def square_pulse(self,periodic_time,title,x_axis_label,y_axis_label,horizontal_shift,pulse_height):\n",
        "    t = np.linspace(-3.9, 3.9, 1000, endpoint=True)\n",
        "    arr=[((1+num)//2)*pulse_height for num in signal.square(periodic_time/4 * np.pi * 1 * (t-horizontal_shift))]\n",
        "    plt.style.context('fast')\n",
        "    plt.figure(figsize=(10, 3))\n",
        "    plt.grid(color = 'black', linestyle = '--', linewidth = 0.1)\n",
        "    plt.plot(t, arr)\n",
        "    plt.title(f'{title}')\n",
        "    plt.xlabel(x_axis_label)\n",
        "    plt.ylabel(y_axis_label)\n",
        "    plt.axhline(y=0, color='black',linewidth = 0.5)\n",
        "    plt.axvline(x=0, color='black',linewidth = 0.5)\n",
        "    plt.ylim(-0.4,pulse_height+0.4)\n",
        "    plt.xlim(-4,4)\n",
        "    plt.show()\n",
        "\n",
        "    \"\"\"To form a square pulse\"\"\"\n",
        "\n",
        "    #   wave=Waves()\n",
        "    #   wave.square_pulse(Enter periodic time,Enter Title,Enter X axis label,Enter Y axis label,Enter horizontal shift,Enter pulse height)"
      ],
      "metadata": {
        "id": "EzpJ1Gh8DmC-"
      },
      "execution_count": null,
      "outputs": []
    },
    {
      "cell_type": "markdown",
      "source": [
        "#1.0 Introduction"
      ],
      "metadata": {
        "id": "nJUBF99ViX2i"
      }
    },
    {
      "cell_type": "markdown",
      "source": [],
      "metadata": {
        "id": "2M0SosMCidNx"
      }
    },
    {
      "cell_type": "markdown",
      "source": [
        "# 2.0 Fourier Series"
      ],
      "metadata": {
        "id": "0cgU_5SQrl7m"
      }
    },
    {
      "cell_type": "markdown",
      "source": [
        "## 2.2 Fourier Series"
      ],
      "metadata": {
        "id": "-QXTnDHmsC8T"
      }
    },
    {
      "cell_type": "markdown",
      "source": [
        "Consider,\n",
        "\\begin{align}\n",
        "x(t)=11+4sin(5t)+\\frac{4}{3}sin(15t)\n",
        "\\end{align}"
      ],
      "metadata": {
        "id": "0HqqXG0lsIGt"
      }
    },
    {
      "cell_type": "code",
      "source": [
        "## Example"
      ],
      "metadata": {
        "id": "pUt_DCfcsXFp"
      },
      "execution_count": null,
      "outputs": []
    },
    {
      "cell_type": "markdown",
      "source": [
        "\n",
        "<p>Fundermental frequency = frequency of the lowest frequency component</p>\n",
        "Thus,\n",
        "\\begin{align}\n",
        "\\omega_0&=5\\\\\n",
        "T=\\frac{2\\pi}{5} \\:\\:&and\\:\\: f_0=\\frac{5}{2\\pi}\\\\\n",
        "e^{j\\theta}=cos\\theta &+j sin\\theta\\\\\n",
        "\\end{align}\n",
        "This gives,\n",
        "\\begin{align}\n",
        "sin\\theta = \\frac{e^{j\\theta}-e^{-j\\theta}}{2j}\\:\\:\\: and \\:\\:\\: cos\\theta = \\frac{e^{j\\theta}+e^{-j\\theta}}{2}\n",
        "\\end{align}\n",
        "\n",
        "\n",
        "By substituting to $x(t)$,\n",
        "\\begin{align}\n",
        "x(t)&=11+4(\\frac{e^{5jt}-e^{-5jt}}{2j})+\\frac{4}{3}(\\frac{e^{15j}-e^{-15j}}{2j})\\\\\n",
        "x(t)&=[\\frac{2}{3}e^{j\\frac{\\pi}{2}}]e^{(-3)5jt}+[2e^{j\\frac{\\pi}{2}}]e^{(-1)5jt}+[11]e^{(0)5jt}+[2e^{-j\\frac{\\pi}{2}}]e^{(+1)5jt}+[\\frac{2}{3}e^{-j\\frac{\\pi}{2}}]e^{(+3)5jt}\n",
        "\\end{align}\n",
        "This is the Forier Series of $x(t)$"
      ],
      "metadata": {
        "id": "TOIIkLghsZHD"
      }
    },
    {
      "cell_type": "markdown",
      "source": [
        "Here,\\\n",
        "$[\\frac{2}{3}e^{j\\frac{\\pi}{2}}],[2e^{j\\frac{\\pi}{2}}],[11],[2e^{-j\\frac{\\pi}{2}}],[\\frac{2}{3}e^{-j\\frac{\\pi}{2}}]$ are known as **Fourier Coefficients of $x(t)$**.\n",
        "\n",
        "Thus the Fourier Series Expression can be written as,\n",
        "\n",
        "\\begin{align}\n",
        "x(t)=\\sum_{k=-\\infty}^{\\infty} X_k\\:e^{jk\\omega_0t}\\:\\:\\: ; X_k \\in \\mathbb{C}\n",
        "\\end{align}\n",
        "\n",
        "\\begin{align}\n",
        "X_k&=Re[X_k]+jIm[X_k]\\\\\n",
        "\\\\\n",
        "X_k&=|X_k|e^{j.Arg[X_k]}\n",
        "\\end{align}\n"
      ],
      "metadata": {
        "id": "XsnQI7gWxwg7"
      }
    },
    {
      "cell_type": "code",
      "source": [
        "#Plots"
      ],
      "metadata": {
        "id": "njdBNabUzziD"
      },
      "execution_count": null,
      "outputs": []
    },
    {
      "cell_type": "markdown",
      "source": [
        "* Discontinuous signals can be expressed as a collection of continuous signals using fourier series.\n",
        "\n"
      ],
      "metadata": {
        "id": "9pdh_z2hyf9E"
      }
    },
    {
      "cell_type": "markdown",
      "source": [
        "\\begin{align}\n",
        "x(t)&=\\sum_{m} X_me^{jm\\omega_0t}\\\\\n",
        "x(t)&=...+X_{-2}e^{j(-2)\\omega_0t}+X_{-1}e^{j(-1)\\omega_0t}+X_{0}+X_{1}e^{j(1)\\omega_0t}+X_{2}e^{j(2)\\omega_0t}+...\\\\\n",
        "\\end{align}\n",
        "\\\n",
        "Appling Fourier Transform to L.H.S and $m^{th}$ term of R.H.S\n",
        "\\begin{align}\n",
        "\\frac{1}{T_0}\\int_{T_0}x(t)e^{-jk\\omega_0t}dt&=\\frac{1}{T_0}\\int_{T_0}X_me^{jm\\omega_0t}e^{-jk\\omega_0t}\n",
        "\\end{align}"
      ],
      "metadata": {
        "id": "0OHf-Bw9pujl"
      }
    },
    {
      "cell_type": "markdown",
      "source": [
        "\n"
      ],
      "metadata": {
        "id": "XVvUb8yHr8AY"
      }
    },
    {
      "cell_type": "markdown",
      "source": [
        "## 2.3 Properties of Fourier Series\n"
      ],
      "metadata": {
        "id": "VVZeuu2Keuht"
      }
    },
    {
      "cell_type": "markdown",
      "source": [
        "### 2.3.1 Linearity"
      ],
      "metadata": {
        "id": "AwDrJLkjhivx"
      }
    },
    {
      "cell_type": "markdown",
      "source": [
        "\n",
        "\n",
        "Consider a periodic signal $x(t)$ with a fundermental frequency $\\omega_0$ and $k^{th}$ Fourier series coefficient is given by $X_k$.\\\n",
        "Consider another periodic signal $y(t)$ with $\\textbf{the same fundermental frequency $\\omega_0$}$ and $k^{th}$ Fourier Series coefficient is given by $Y_k$.\\\n",
        "\\\n",
        "\\begin{align}\n",
        "x(t)&⟶ X_k\\\\\n",
        "y(t)&⟶ Y_k\\\\\n",
        "Ax(t)+By(t)&⟶AX_k + BY_k\\\\\n",
        "\\end{align}\n"
      ],
      "metadata": {
        "id": "5wvjDek9JiO_"
      }
    },
    {
      "cell_type": "code",
      "source": [
        "##Example"
      ],
      "metadata": {
        "id": "PCFcg5Iravk4"
      },
      "execution_count": null,
      "outputs": []
    },
    {
      "cell_type": "markdown",
      "source": [
        "### 2.3.2 Time Shifting"
      ],
      "metadata": {
        "id": "B0Q3HLokhpcg"
      }
    },
    {
      "cell_type": "markdown",
      "source": [
        "\n",
        "\n",
        "\n",
        "If Fourier Series coefficient of the periodic signal $x(t)$ is $X_k$.\n",
        "\\\n",
        "\\begin{align}\n",
        "x(t)&⟶X_k\\\\\n",
        "x(t)&=\\sum_{k}X_ke^{jk\\omega_0t}\\\\\n",
        "\\end{align}\n",
        "\n",
        "Apply $t \\Rightarrow t-t_0$;\n",
        "\n",
        "\\begin{align}\n",
        "x(t-t_0)&=\\sum_{k}X_ke^{jk\\omega_0(t-t_0)}\\\\\n",
        "x(t-t_0)&=\\sum_{k}(X_ke^{-jkw_0t_0})e^{jk\\omega_0t}\\\\\n",
        "\\end{align}\n",
        "\\\n",
        "Let $X'_k=X_ke^{-jkw_0t_0}$\n",
        "\n",
        "\\begin{align}\n",
        "|X'_k|&=|X_k|\\\\\n",
        "\\angle{X'_k}&=\\angle{X_k}-\\angle{k\\omega_0t_0}\n",
        "\\end{align}\n",
        "\\\n",
        "Degree of change of phase angle of higher harmonics is higher.\n"
      ],
      "metadata": {
        "id": "vCAVEmk_atjg"
      }
    },
    {
      "cell_type": "code",
      "source": [
        "wave=Waves()\n",
        "wave.square_pulse(2,\"a(t)\",\"t\",\"\",-1,1)"
      ],
      "metadata": {
        "id": "RNpTbdpPSS0P",
        "colab": {
          "base_uri": "https://localhost:8080/",
          "height": 331
        },
        "outputId": "eca1a43a-7f48-4654-8586-edb13c8919b5"
      },
      "execution_count": null,
      "outputs": [
        {
          "output_type": "display_data",
          "data": {
            "text/plain": [
              "<Figure size 1000x300 with 1 Axes>"
            ],
            "image/png": "[encoded data removed]"
          },
          "metadata": {}
        }
      ]
    },
    {
      "cell_type": "markdown",
      "source": [
        "Using,\n",
        "\\begin{align}\n",
        "X_k=\\frac{1}{k\\pi}sin(k\\omega_0T_1)\n",
        "\\end{align}\n",
        "Where $T_1=1$\n",
        "\\begin{align}\n",
        "\\omega_0=\\frac{2\\pi}{T_0}=\\frac{2\\pi}{4}=\\frac{\\pi}{2}\n",
        "\\end{align}\n",
        "Thus,\n",
        "\\begin{align}\n",
        "a_k=\\frac{1}{k\\pi}sin(k\\frac{\\pi}{2})\n",
        "\\end{align}\n",
        "\n",
        "\n"
      ],
      "metadata": {
        "id": "V2bHPuqiWN6_"
      }
    },
    {
      "cell_type": "code",
      "source": [
        "wave.square_pulse(2,\"y(t)\",\"t\",\"\",0,1)"
      ],
      "metadata": {
        "id": "doiy1zWfZfcx",
        "outputId": "207681ce-ac72-49fe-a059-9ba1515c4da7",
        "colab": {
          "base_uri": "https://localhost:8080/",
          "height": 331
        }
      },
      "execution_count": null,
      "outputs": [
        {
          "output_type": "display_data",
          "data": {
            "text/plain": [
              "<Figure size 1000x300 with 1 Axes>"
            ],
            "image/png": "[encoded data removed]"
          },
          "metadata": {}
        }
      ]
    },
    {
      "cell_type": "markdown",
      "source": [
        "In the light of above graph,\n",
        "\\begin{align}\n",
        "y(t)&=a(t-1)\\\\\n",
        "Y_k&=a_ke^{-jk\\omega_0t_0}\\\\\n",
        "Y_k&=a_ke^{-jk\\frac{\\pi}{2}}\\\\\n",
        "Y_k&=[\\frac{1}{k\\pi}sin{(k\\frac{\\pi}{2})}]e^{-jk\\frac{\\pi}{2}}\\\\\n",
        "\\end{align}"
      ],
      "metadata": {
        "id": "jASeBseVaHx2"
      }
    },
    {
      "cell_type": "markdown",
      "source": [
        "### 2.3.3 Time Reverse"
      ],
      "metadata": {
        "id": "VN7Lzsq7hscg"
      }
    },
    {
      "cell_type": "markdown",
      "source": [
        "\n",
        "If Fourier Series coefficient of the periodic signal $x(t)$ is $X_k$.\n",
        "\\\n",
        "\\begin{align}\n",
        "x(t)&⟶X_k\\\\\n",
        "x(-t)&⟶X'_k\\\\\n",
        "x(t)&=\\sum_{k}X_ke^{jk\\omega_0t}\\\\\n",
        "\\end{align}\n",
        "Apply $t⇒-t$\n",
        "\\begin{align}\n",
        "x(-t)&=\\sum_{k}X_ke^{-jk\\omega_0t}\\\\\n",
        "\\end{align}\n",
        "\\\n",
        "Inoder to obtain a simillar equation like in Fourier Series,\\\n",
        "\\\n",
        "Apply $k⇒-k$\n",
        "\\begin{align}\n",
        "x(-t)&=\\sum_{k}X_{-k}e^{jk\\omega_0t}\\\\\n",
        "\\end{align}\n",
        "Thus,\n",
        "\\begin{align}\n",
        "X'_k&=X_{-k}\n",
        "\\end{align}\n"
      ],
      "metadata": {
        "id": "9qVsS1G0SVsL"
      }
    },
    {
      "cell_type": "code",
      "source": [
        "##Example"
      ],
      "metadata": {
        "id": "i_5S6uxta4Zm"
      },
      "execution_count": null,
      "outputs": []
    },
    {
      "cell_type": "markdown",
      "source": [
        "### 2.3.4 Time Scaling"
      ],
      "metadata": {
        "id": "8DAy7d2LhyKA"
      }
    },
    {
      "cell_type": "markdown",
      "source": [
        "\n",
        "\n",
        "\n",
        "If Fourier Series coefficient of the periodic signal $x(t)$ is $X_k$.\n",
        "\\\n",
        "\\begin{align}\n",
        "x(t)&⟶X_k\\\\\n",
        "x(t)&=\\sum_{k}X_ke^{jk\\omega_0t}\\\\\n",
        "\\end{align}\n",
        "Let $t⇒\\alpha t$\n",
        "\\begin{align}\n",
        "x(\\alpha t)&=\\sum_{k}X_ke^{jk\\omega_0\\alpha t}\n",
        "\\end{align}\n",
        "New fundermental frequency  $\\omega'_0=\\alpha \\omega_0$"
      ],
      "metadata": {
        "id": "Voa72O58a1g9"
      }
    },
    {
      "cell_type": "code",
      "source": [
        "# If alpha>1,\n",
        "## 4graphs"
      ],
      "metadata": {
        "id": "x_uQsgrjU7BK"
      },
      "execution_count": null,
      "outputs": []
    },
    {
      "cell_type": "code",
      "source": [],
      "metadata": {
        "id": "HgG89qfyh9Ti"
      },
      "execution_count": null,
      "outputs": []
    },
    {
      "cell_type": "markdown",
      "source": [
        "### 2.3.5 Properties For Real Signals"
      ],
      "metadata": {
        "id": "uOuM0wmfiBbT"
      }
    },
    {
      "cell_type": "markdown",
      "source": [
        "\n",
        "\\begin{align}\n",
        "x(t)&=\\sum_{k}X_ke^{jk\\omega_0t}\\\\\n",
        "x^{*}(t)&=\\sum_{k}X_k^{*}e^{-jk\\omega_0t}\\\\\n",
        "\\end{align}\n",
        "Apply $k⇒-k$,\n",
        "\\begin{align}\n",
        "x^{*}(t)&=\\sum_{k}X_{-k}^{*}e^{jk\\omega_0t}\\\\\n",
        "\\end{align}\n",
        "Since $x(t)=x^{*}(t)$,\n",
        "\\begin{align}\n",
        "\\sum_{k}X_ke^{jk\\omega_0t}&=\\sum_{k}X_{-k}^{*}e^{jk\\omega_0t}\\\\\n",
        "\\end{align}\n",
        "\\\n",
        "Therefore,\n",
        "\\begin{align}\n",
        "X_k&=X^{*}_{-k}\\\\\n",
        "X_{-k}&=X^{*}_{k}\n",
        "\\end{align}\n",
        "This is known as Conjugate Symmetry.\\\n",
        "Consequence of this,\n",
        "\\begin{align}\n",
        "|X_k|&=|X_{-k}|\\\\\n",
        "\\angle X_k&=-\\angle X_{-k}\\\\\n",
        "\\end{align}\n",
        "\n",
        "#### Real and Even Signals\n",
        "As $x(t)$ is real,\n",
        "\\begin{align}\n",
        "X_k&=X^{*}_{-k}\\\\\n",
        "\\end{align}\n",
        "However, as x(t) is even,\n",
        "\\begin{align}\n",
        "x(t)&=x(-t)\n",
        "\\end{align}\n",
        "Therefore from the time reversal property,\n",
        "\\begin{align}\n",
        "X_k&=X_{-k}\\\\\n",
        "\\end{align}\n",
        "Then,\n",
        "\\begin{align}\n",
        "X_k=X_{-k}=X^{*}_k\\\\\n",
        "\\end{align}\n",
        "Thus,\n",
        "\\begin{align}\n",
        "X_k=X^{*}_k\\\\\n",
        "\\end{align}\n",
        "Therefore, if $x(t)$ is real and even, $X_k$ is real and even.\n"
      ],
      "metadata": {
        "id": "dHVTsCzpVE6m"
      }
    },
    {
      "cell_type": "code",
      "source": [
        "##Example"
      ],
      "metadata": {
        "id": "J9HsoYrZbC6S"
      },
      "execution_count": null,
      "outputs": []
    },
    {
      "cell_type": "markdown",
      "source": [
        "\n",
        "#### Real and Odd\n",
        "\n",
        "As $x(t)$ is real,\n",
        "\\begin{align}\n",
        "X_k=X^{*}_{-k}\\\\\n",
        "\\end{align}\n",
        "However, as $x(t)$ is odd,\n",
        "\\begin{align}\n",
        "x(t)&=-x(-t)\n",
        "\\end{align}\n",
        "Therefore, from time reversal property,\n",
        "\\begin{align}\n",
        "X_k&=-X_{-k}\\\\\n",
        "\\end{align}\n",
        "This yeilds,\n",
        "\\begin{align}\n",
        "X_k=-X_{-k}=-X^{*}_k\\\\\n",
        "\\end{align}\n",
        "\\begin{align}\n",
        "X_k=-X^{*}_k\n",
        "\\end{align}\n",
        "Therefore, if $x(t)$ is real and odd, $X_k$ is imaginary and odd.\n"
      ],
      "metadata": {
        "id": "eKaP-jPMbBUF"
      }
    },
    {
      "cell_type": "code",
      "source": [
        "##Example"
      ],
      "metadata": {
        "id": "Wm-ZPBA-bIWV"
      },
      "execution_count": null,
      "outputs": []
    },
    {
      "cell_type": "markdown",
      "source": [
        "### 2.3.6 Differentiation and Integration"
      ],
      "metadata": {
        "id": "EomhIfTYiGQr"
      }
    },
    {
      "cell_type": "markdown",
      "source": [
        "\n",
        "\n",
        "\n",
        "#### Differentiation\n",
        "\\begin{align}\n",
        "x(t)=X_0 + \\sum_{\\forall k\\neq 0}X_ke^{jk\\omega_0t}\\\\\n",
        "x'(t)=\\frac{dx(t)}{dt}=\\sum_{\\forall k\\neq 0}(X_kjk\\omega_0)e^{jk\\omega_0t}\n",
        "\\end{align}\n",
        "\\\n",
        "\\begin{align}\n",
        "X'_k=jk\\omega_0X_k \\:\\:\\:\\:\\: ;k\\neq 0\n",
        "\\end{align}\n",
        "\\\n",
        "Differentiation is a high pass process / sharpning process.\n",
        "\n",
        "\\begin{align}\n",
        "X_k=\\frac{X'_k}{jk\\omega_0}\\:\\:\\:\\:\\: ;k\\neq 0\n",
        "\\end{align}\n",
        "#### Integration\n",
        "\\begin{align}\n",
        "x(t)=X_0 + \\sum_{\\forall k\\neq 0}X_ke^{jk\\omega_0t}\\\\\n",
        "x'(t)=\\int x(t)dt=\\sum_{\\forall k\\neq 0}\\:\\:\\frac{X_k}{jk\\omega_0}\\:e^{jk\\omega_0t}\n",
        "\\end{align}\n",
        "\\\n",
        "\\\n",
        "\\begin{align}\n",
        "X'_k=\\frac{X_k}{jk\\omega_0}\\:\\:\\:\\:\\: ;k\\neq 0\n",
        "\\end{align}\n",
        "Integration is a low pass process / smoothing process.\n",
        "\\begin{align}\n",
        "X_k=jk\\omega_0X'_k \\:\\:\\:\\:\\: ;k\\neq 0\n",
        "\\end{align}"
      ],
      "metadata": {
        "id": "1eu25sg_bGqu"
      }
    },
    {
      "cell_type": "code",
      "source": [
        "##Example"
      ],
      "metadata": {
        "id": "jo91UMn4bLSR"
      },
      "execution_count": null,
      "outputs": []
    },
    {
      "cell_type": "markdown",
      "source": [
        "### 2.3.7 Fourier Series of an Impulse"
      ],
      "metadata": {
        "id": "IgG1LX0gm2tP"
      }
    },
    {
      "cell_type": "markdown",
      "source": [
        "\\begin{align}\n",
        "x(t)&=\\sum_{k=-∞}^{∞} \\delta(t-kT_0)\\\\\n",
        "X_0&=\\frac{1}{T_0}\\int_{T_0}x(t)dt\\\\\n",
        "&=\\frac{1}{T_0}\\int_{\\frac{-T_0}{2}}^{\\frac{T_0}{2}}\\delta(t)dt\\\\\n",
        "&=\\frac{1}{T_0}\n",
        "\\\\\n",
        "X_k&=\\frac{1}{T_0} \\int_{T_0}e^{-jk\\omega_0t}dt\\\\\n",
        "&=\\frac{1}{T_0}\\int_{\\frac{-T_0}{2}}^{\\frac{T_0}{2}} \\delta (t) e^{-jk\\omega_0t}dt\n",
        "\\end{align}"
      ],
      "metadata": {
        "id": "Os6wJjZWnyME"
      }
    },
    {
      "cell_type": "code",
      "source": [
        "#Example"
      ],
      "metadata": {
        "id": "tlmWsaXL6OV-"
      },
      "execution_count": null,
      "outputs": []
    },
    {
      "cell_type": "markdown",
      "source": [
        "\\begin{align}\n",
        "X_k&=\\frac{1}{T_0}\\int_{-\\frac{T_0}{2}}^{\\frac{T_0}{2}}\\delta (t)e^{-jk\\omega_0 \\times 0}dt\\\\\n",
        "&=\\frac{1}{T_0}\n",
        "\\end{align}\n",
        "This yeilds,\n",
        "\\begin{align}\n",
        "x(t)=\\sum_{\\forall k}\\delta (t-kT_0)=\\sum_{\\forall k}\\frac{1}{T_0}e^{jk\\omega_0t}\n",
        "\\end{align}"
      ],
      "metadata": {
        "id": "Tf9tQnbS6XMo"
      }
    },
    {
      "cell_type": "code",
      "source": [
        "#Example"
      ],
      "metadata": {
        "id": "WvP0GK8o7l4m"
      },
      "execution_count": null,
      "outputs": []
    },
    {
      "cell_type": "markdown",
      "source": [
        "# 3.0 Fourier Transform"
      ],
      "metadata": {
        "id": "OvHrCgJ_ihEF"
      }
    },
    {
      "cell_type": "markdown",
      "source": [
        "### 3.2.4 Fourier transform of unit step function"
      ],
      "metadata": {
        "id": "kut8JvO9CY8i"
      }
    },
    {
      "cell_type": "markdown",
      "source": [
        "![utdt.png](data:image/png;base64,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)"
      ],
      "metadata": {
        "id": "oEK2L3pA-wr1"
      }
    },
    {
      "cell_type": "markdown",
      "source": [
        "\\begin{align}\n",
        "\\mathcal{F}  \\left[ \\delta(t) \\right] &= 1 \\\\\n",
        "\\mathcal{F} \\left[ \\frac{d}{dt}  u(t) \\right] &= 1\\\\\n",
        "\\text{also}  \\int_{-\\infty}^\\infty \\left[ \\frac{d}{dt}  u(t) \\right] &= 1\\\\\n",
        "\\therefore \\mathcal{F} \\left[ u(t) \\right] &= \\frac{1}{j \\omega} + \\pi \\times 1 \\times \\delta(\\omega)  \\\\\n",
        "\\end{align}"
      ],
      "metadata": {
        "id": "siaCNsOA4fGd"
      }
    },
    {
      "cell_type": "markdown",
      "source": [
        "### 3.3.5 Time Scaling\n",
        "\n",
        "---"
      ],
      "metadata": {
        "id": "B9d1PKHS4e7z"
      }
    },
    {
      "cell_type": "markdown",
      "source": [
        "\\begin{align}\n",
        "\\mathcal{F}  \\left[ x(t) \\right] &= X(j\\omega) \\\\\n",
        "\\end{align}\n",
        "\n",
        "\n",
        "*   Consider $a>0$ case, \n",
        "\n",
        "\\begin{align}\n",
        "\\mathcal{F}  \\left[ x(at) \\right] &= \\int_{-\\infty}^\\infty x(at) e^{-j \\omega t} dt \\\\\n",
        "\\end{align}\n",
        "\n",
        ">>>>>> Let $at = \\lambda$ ,\n",
        "\n",
        "\\begin{align}\n",
        "&= \\int_{-\\infty}^\\infty \\frac{x(\\lambda) e^{-j \\frac{\\omega}{a} \\lambda}}{a} d\\lambda \\\\\n",
        "&= \\frac{1}{a} \\int_{-\\infty}^\\infty x(\\lambda) e^{-j \\frac{\\omega}{a} \\lambda} d\\lambda \\\\\n",
        "&= \\frac{1}{a}X \\left( j \\frac{\\omega}{a} \\right) ; a>0 \\\\ \\\\\n",
        "\\end{align}\n",
        "\n",
        "\n",
        "\n",
        "---\n",
        "\n",
        "\n",
        "*   Consider $a<0$ case,\n",
        "\n",
        "\\begin{align}\n",
        "a &= -|a| \\\\ \\\\\n",
        "\\mathcal{F}  \\left[ x(at) \\right] &= \\int_{-\\infty}^\\infty x(at) e^{-j \\omega t} dt \\\\\n",
        "\\end{align}\n",
        "\n",
        ">>>>>> Let $-|a|t = \\lambda$ ,\n",
        "\n",
        "When,  \n",
        "\\begin{align} t → + \\infty , \\lambda → - \\infty \\\\       \n",
        "t → - \\infty , \\lambda → + \\infty \\\\ \\\\\n",
        "\\end{align}\n",
        "\n",
        "\\begin{align}\n",
        "\\mathcal{F}  \\left[ x(at) \\right] &= \\int_{\\infty}^{-\\infty} \\frac{x(\\lambda) e^{-j \\frac{- \\omega}{|a|} \\lambda}}{-|a|} d\\lambda \\\\\n",
        "&= \\frac{1}{|a|} \\int_{-\\infty}^\\infty x(\\lambda) e^{-j \\left( - \\frac{\\omega}{|a|} \\right) \\lambda} d\\lambda \\\\\n",
        "&= \\frac{1}{|a|}X \\left( j \\frac{\\omega}{-|a|} \\right) \\\\\n",
        "&= \\frac{1}{|a|}X \\left( j \\frac{\\omega}{a} \\right) \\\\ \\\\\n",
        "\\mathcal{F}  \\left[ x(at) \\right] &= \\frac{1}{|a|}X \\left( j \\frac{\\omega}{a} \\right) ; a<0 \\\\ \\\\\n",
        "\\end{align}\n",
        "\n",
        "---"
      ],
      "metadata": {
        "id": "0i1I_TUqGcAy"
      }
    },
    {
      "cell_type": "markdown",
      "source": [
        "### 3.3.6 Time Reversal\n",
        "---"
      ],
      "metadata": {
        "id": "8GE27FheOtl-"
      }
    },
    {
      "cell_type": "markdown",
      "source": [
        "When $ a=-1 $ ,\n",
        "\n",
        "\\begin{align}\n",
        "\\mathcal{F}  \\left[ x(-t) \\right] &= X \\left( -j \\omega \\right) \\\\ \\\\\n",
        "\\end{align}\n",
        "\n",
        "---"
      ],
      "metadata": {
        "id": "5q9dTw2bTYNu"
      }
    },
    {
      "cell_type": "markdown",
      "source": [
        "#### Example:"
      ],
      "metadata": {
        "id": "1HrQAlZDCyJb"
      }
    },
    {
      "cell_type": "code",
      "source": [
        "from IPython.display import IFrame\n",
        "IFrame(src=\"https://www.desmos.com/calculator/bzxbwup3ne\", width=700, height=375)"
      ],
      "metadata": {
        "id": "FsMjeHPdVPEe",
        "colab": {
          "base_uri": "https://localhost:8080/",
          "height": 397
        },
        "outputId": "42658805-cad2-4867-c7ea-22496a96685d"
      },
      "execution_count": 4,
      "outputs": [
        {
          "output_type": "execute_result",
          "data": {
            "text/plain": [
              "<IPython.lib.display.IFrame at 0x7f4c4c208e20>"
            ],
            "text/html": [
              "\n",
              "        <iframe\n",
              "            width=\"700\"\n",
              "            height=\"375\"\n",
              "            src=\"https://www.desmos.com/calculator/bzxbwup3ne\"\n",
              "            frameborder=\"0\"\n",
              "            allowfullscreen\n",
              "            \n",
              "        ></iframe>\n",
              "        "
            ]
          },
          "metadata": {},
          "execution_count": 4
        }
      ]
    },
    {
      "cell_type": "markdown",
      "source": [
        "* x(t) is in red colour and its Fourier transform(sinc function) is in purple colour.\n",
        "* Change \"a\" (factor of time scaling) and observe the variation.\n",
        "* Signals that are fluctuating rapidly have more high frequency components."
      ],
      "metadata": {
        "id": "NMtPuX0IU86u"
      }
    },
    {
      "cell_type": "markdown",
      "source": [
        "## 3.4 The Fourier Transform Properties of Real Signals\n",
        "---"
      ],
      "metadata": {
        "id": "OjnDrx4tSBHV"
      }
    },
    {
      "cell_type": "markdown",
      "source": [
        "Since the siglan is real,\n",
        "\n",
        "\\begin{align}\n",
        "x(t) &= x^*(t) \\\\\n",
        "X(j \\omega ) &= \\int_{-\\infty}^\\infty x(t) e^{-j \\omega t} dt \\\\\n",
        "X^*(j \\omega ) &= \\int_{-\\infty}^\\infty x^*(t) e^{+j \\omega t} dt \\\\ \\\\\n",
        "\\text{Since, } x(t) &=x^*(t) \\\\\n",
        "&= \\int_{-\\infty}^\\infty x(t) e^{+j \\omega t} dt \\\\ \\\\\n",
        "\\omega &\\rightarrow -\\omega \\\\ \\\\\n",
        "X^*(-j \\omega ) &= \\int_{-\\infty}^\\infty x(t) e^{-j \\omega t} dt \\\\\n",
        "X^*(-j \\omega ) &= X(j\\omega) \\\\\n",
        "\\left[ X^*(-j \\omega ) \\right]^* &= \\left[ X(j\\omega) \\right]^* \\\\\n",
        "X(-j \\omega ) &= X^*(j\\omega) \\\\ \\\\\n",
        "X^*(j \\omega ) &= X(-j\\omega) \\leftarrow \\text{conjugate symmetry.} \\\\ \\\\\n",
        "\\end{align}\n",
        "\n",
        "---\n",
        "\n",
        "\\begin{align}\n",
        "\\text{ Consequence of this ,} & \\\\ \\\\\n",
        "|X(-j \\omega)| &= |X^*(j \\omega)| = |X(j \\omega)| \\\\\n",
        "|X(-j \\omega)| &= |X(j \\omega)| \\\\\n",
        "&\\text{* Magnitude spectrum is even symmetric.} \\\\ \\\\\n",
        "\\angle{X(-j \\omega)} &= \\angle X^*(j \\omega) \\\\\n",
        "\\angle X(-j \\omega) &= - \\angle X(j \\omega) \\\\\n",
        "&\\text{* Phase spectrum is odd symmetric.}\n",
        "\\end{align}\n",
        "\n",
        "---"
      ],
      "metadata": {
        "id": "Y8dZza6mSNIB"
      }
    },
    {
      "cell_type": "markdown",
      "source": [
        "*   **If x(t) is real and even,**\n",
        "\n",
        ">>>>> As x(t) is real,\n",
        "\n",
        "\\begin{align}\n",
        "x(t) &= x^*(t) \\\\\n",
        "X^*(j \\omega ) &= X(-j\\omega) \\\\\n",
        "\\end{align}\n",
        "\n",
        ">>>>> However, as x(t) is even,\n",
        "\n",
        "\\begin{align}\n",
        "x(t) &= x(-t) \\\\\n",
        "X(j \\omega ) &= X(-j\\omega) \\\\\n",
        "\\end{align}\n",
        "\n",
        ">>>>> Therefore,\n",
        "\n",
        "\\begin{align}\n",
        "X(j \\omega ) = X(-j\\omega) = X^*(j \\omega ) \\\\\n",
        "X(j \\omega ) = X^*(j \\omega ) \\\\\n",
        "\\end{align}\n",
        "\n",
        ">>>>> Therefore $ X(j\\omega) $ is real and even.\n",
        "\n",
        "---\n",
        "\n",
        "\n",
        "*   **If x(t) is real and odd,**\n",
        "\n",
        ">>>>> As x(t) is real,\n",
        "\n",
        "\\begin{align}\n",
        "x(t) &= x^*(t) \\\\\n",
        "X^*(j \\omega ) &= X(-j\\omega) \\\\\n",
        "\\end{align}\n",
        "\n",
        ">>>>> However, as x(t) is odd,\n",
        "\n",
        "\\begin{align}\n",
        "x(t) &= -x(-t) \\\\\n",
        "X(j \\omega ) &= -X(-j\\omega) \\\\\n",
        "\\end{align}\n",
        "\n",
        ">>>>> Therefore,\n",
        "\n",
        "\\begin{align}\n",
        "X(j \\omega ) = -X(-j\\omega) = -X^*(j \\omega ) \\\\\n",
        "X(j \\omega ) = -X^*(j \\omega ) \\\\\n",
        "\\end{align}\n",
        "\n",
        ">>>>> Therefore $ X(j\\omega) $ is imaginary and odd.\n",
        "\n",
        "---\n",
        "\n"
      ],
      "metadata": {
        "id": "UW1zxGSKLSCy"
      }
    },
    {
      "cell_type": "markdown",
      "source": [
        "#### Example:"
      ],
      "metadata": {
        "id": "JQVgs5QfNmdK"
      }
    },
    {
      "cell_type": "markdown",
      "source": [
        "$ x(t) = e^{-at}u(t) $\n",
        "\n",
        "---\n",
        "\n",
        "\\begin{align}\n",
        "X(j\\omega) & = \\frac{1}{a+j\\omega} \\\\\n",
        "& = \\frac{a-j\\omega}{a^2+\\omega^2} \\\\\n",
        "& = \\frac{a}{a^2+\\omega^2} - j\\frac{\\omega}{a^2+\\omega^2} \\\\ \\\\\n",
        "|X(j\\omega)| &= \\frac{1}{\\sqrt{a^2+\\omega^2}}   \\\\\n",
        "\\angle{X(j\\omega)} &= \\text{tan}^{-1} \\left( \\frac{- \\omega}{a} \\right) = -\\text{tan}^{-1} \\left( \\frac{\\omega}{a} \\right)   \\\\\n",
        "X(j\\omega) & = \\frac{1}{\\sqrt{a^2+\\omega^2}} e^{-j \\text{ tan}^{-1} \\left( \\frac{\\omega}{a} \\right)}\n",
        "\\end{align}"
      ],
      "metadata": {
        "id": "rpNd5H5dQlLP"
      }
    },
    {
      "cell_type": "code",
      "source": [
        "import numpy as np\n",
        "import matplotlib.pyplot as plt\n",
        "\n",
        "a = 1\n",
        "omega = np.linspace(-5,5,101)\n",
        "magnitude = 1/np.sqrt(a**2+omega**2)\n",
        "phase = -np.arctan(omega/a)\n",
        "\n",
        "fig = plt.figure()\n",
        "mag = fig.add_subplot(1,2,1)\n",
        "plt.title(\"$|X(j \\omega)|$\")\n",
        "pha = fig.add_subplot(1,2,2)\n",
        "plt.title(\"$ X(j \\omega) $\")\n",
        "\n",
        "mag.plot(omega,magnitude)\n",
        "mag.spines[\"left\"].set_position((\"data\",0))\n",
        "mag.spines[\"right\"].set_visible(False)\n",
        "mag.spines[\"bottom\"].set_position((\"data\",0))\n",
        "mag.spines[\"top\"].set_visible(False)\n",
        "mag.set_ylim([-0.1,1.1])\n",
        "mag.set_xticks([])\n",
        "mag.set_yticks([])\n",
        "\n",
        "\n",
        "pha.plot(omega,phase)\n",
        "pha.spines[\"left\"].set_position((\"data\",0))\n",
        "pha.spines[\"right\"].set_visible(False)\n",
        "pha.spines[\"bottom\"].set_position((\"data\",0))\n",
        "pha.spines[\"top\"].set_visible(False)\n",
        "pha.set_xticks([])\n",
        "pha.set_yticks([])\n",
        "\n",
        "fig.show()"
      ],
      "metadata": {
        "colab": {
          "base_uri": "https://localhost:8080/",
          "height": 430
        },
        "id": "IAiosdbQHxGq",
        "outputId": "bc87555e-5f97-4635-f3bf-0008b57546af"
      },
      "execution_count": null,
      "outputs": [
        {
          "output_type": "display_data",
          "data": {
            "text/plain": [
              "<Figure size 640x480 with 2 Axes>"
            ],
            "image/png": "[encoded data removed]"
          },
          "metadata": {}
        }
      ]
    },
    {
      "cell_type": "markdown",
      "source": [
        "## 3.5 Duality\n",
        "\n",
        "---"
      ],
      "metadata": {
        "id": "ynIFlV7kHxjg"
      }
    },
    {
      "cell_type": "markdown",
      "source": [
        "\\begin{align}\n",
        "\\mathcal{F}[x(t)] &= X(j\\omega) \\\\\n",
        "X(\\omega) &= \\int_{- \\infty}^{\\infty}x(t)e^{-j \\omega t} dt \\\\ \\\\\n",
        "t \\rightarrow \\omega \\text{ , } \\omega \\rightarrow t \\\\\n",
        "X(t) &= \\int_{- \\infty}^{\\infty}x(\\omega)e^{-j t \\omega} d\\omega \\\\\n",
        "X(t) &= \\int_{- \\infty}^{\\infty}x(\\omega)e^{-j \\omega t} d\\omega \\\\ \\\\\n",
        "t \\rightarrow -t \\\\\n",
        "X(-t) &= \\int_{- \\infty}^{\\infty}x(\\omega)e^{+j \\omega t} d\\omega \\\\\n",
        "\\frac{X(-t)}{2\\pi} &= \\frac{1}{2\\pi} \\int_{- \\infty}^{\\infty}x(\\omega)e^{+j \\omega t} d\\omega \\\\\n",
        "\\frac{X(-t)}{2\\pi} &= \\mathcal{F}^{-1}[x(\\omega)] \\\\\n",
        "\\mathcal{F}[X(-t)] &= 2\\pi x(\\omega) \\\\ \\\\\n",
        "t \\rightarrow -t \\\\\n",
        "\\mathcal{F}[X(t)] &= 2\\pi x(- \\omega) \\\\ \\\\\n",
        "\\rightarrow \\text{Duality Property}\n",
        "\\end{align}\n",
        "\n",
        "---"
      ],
      "metadata": {
        "id": "rMBO3TOyWcXp"
      }
    },
    {
      "cell_type": "markdown",
      "source": [
        "#### Example:"
      ],
      "metadata": {
        "id": "jXFt26vrYlNK"
      }
    },
    {
      "cell_type": "markdown",
      "source": [
        "If $ \\mathcal{F}[\\delta (t)] = 1 $ , find  $ \\mathcal{F}[1] = ? $ \n",
        "\n",
        "---\n",
        "\n",
        "Let,\n",
        "\\begin{align}\n",
        "x(t) &= \\delta(t) \\\\\n",
        "\\end{align}\n",
        "\n",
        "then,\n",
        "\\begin{align}\n",
        "X(\\omega) &= 1 \\\\\n",
        "X(t) &= 1 \\\\\n",
        "\\end{align}\n",
        "\n",
        "From duality,\n",
        "\\begin{align}\n",
        "\\mathcal{F}[X (t)] = \\mathcal{F}[1] &= 2 \\pi x(-\\omega) \\\\\n",
        "&= 2 \\pi \\delta(-\\omega) \\\\\n",
        "&= 2 \\pi \\delta(\\omega) \\\\ \\\\\n",
        "\\mathcal{F}[1] &= 2 \\pi \\delta(\\omega) \\\\\n",
        "\\end{align}\n",
        "\n",
        "---"
      ],
      "metadata": {
        "id": "SSZkjYwmbUYU"
      }
    },
    {
      "cell_type": "markdown",
      "source": [
        "## 3.6 Energy of the Signal\n",
        "\n",
        "---"
      ],
      "metadata": {
        "id": "eCWCAEIeeZjZ"
      }
    },
    {
      "cell_type": "markdown",
      "source": [
        "\\begin{align}\n",
        "E &= \\int_{-\\infty}^\\infty |x(t)|^2 dt \\\\\n",
        "\\end{align}"
      ],
      "metadata": {
        "id": "Wf8c4YtLemlL"
      }
    },
    {
      "cell_type": "markdown",
      "source": [
        "#### Parseval's theorem.\n",
        "\n",
        "---"
      ],
      "metadata": {
        "id": "dWw0yeoielEB"
      }
    },
    {
      "cell_type": "markdown",
      "source": [
        "\\begin{align}\n",
        "E &= \\int_{-\\infty}^\\infty |x(t)|^2 dt \\\\\n",
        "&= \\int_{-\\infty}^\\infty x(t)x^*(t) dt \\\\\n",
        "&= \\int_{-\\infty}^\\infty \\frac{1}{2\\pi}\\int_{-\\infty}^\\infty X(j\\omega)e^{+j \\omega t} d\\omega . x^*(t) dt \\\\\n",
        "&= \\frac{1}{2\\pi} \\int_{-\\infty}^\\infty X(j\\omega) \\int_{-\\infty}^\\infty x^*(t)e^{+j \\omega t} dt.d\\omega \\\\\n",
        "&= \\frac{1}{2\\pi} \\int_{-\\infty}^\\infty X(j\\omega) \\left[\\int_{-\\infty}^\\infty x(t)e^{-j \\omega t} dt \\right]^* d\\omega \\\\\n",
        "&= \\frac{1}{2\\pi} \\int_{-\\infty}^\\infty X(j\\omega) X^*(j\\omega) d\\omega \\\\\n",
        "&= \\frac{1}{2\\pi} \\int_{-\\infty}^\\infty |X(j\\omega)|^2 d \\omega \\\\\n",
        "\\end{align}\n",
        "\n",
        "**Energy**\n",
        "\n",
        "---\n",
        "\n",
        "> $ E = \\int_{-\\infty}^\\infty |x(t)|^2 dt $ \n",
        "\n",
        ">>> (2nd norm in time domain.)\n",
        "\n",
        "> $ E = \\frac{1}{2\\pi} \\int_{-\\infty}^\\infty |X(j\\omega)|^2 d \\omega $ \n",
        "\n",
        ">>> (2nd norm in frequency domain.)"
      ],
      "metadata": {
        "id": "FgrDOjvBjh4O"
      }
    }
  ]
}